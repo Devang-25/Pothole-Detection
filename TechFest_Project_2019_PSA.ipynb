{
 "cells": [
  {
   "cell_type": "markdown",
   "metadata": {
    "colab_type": "text",
    "id": "view-in-github"
   },
   "source": [
    "<a href=\"https://colab.research.google.com/github/Prady96/Pothole-Detection/blob/develop/TechFest_Project_2019_PSA.ipynb\" target=\"_parent\"><img src=\"https://colab.research.google.com/assets/colab-badge.svg\" alt=\"Open In Colab\"/></a>"
   ]
  },
  {
   "cell_type": "code",
   "execution_count": 1,
   "metadata": {
    "colab": {
     "base_uri": "https://localhost:8080/",
     "height": 122
    },
    "colab_type": "code",
    "id": "8hMrfhC9z0y0",
    "outputId": "19be8377-a6f6-49d5-f241-896fcc066fe6"
   },
   "outputs": [
    {
     "ename": "ModuleNotFoundError",
     "evalue": "No module named 'google.colab'",
     "output_type": "error",
     "traceback": [
      "\u001b[0;31m---------------------------------------------------------------------------\u001b[0m",
      "\u001b[0;31mModuleNotFoundError\u001b[0m                       Traceback (most recent call last)",
      "\u001b[0;32m<ipython-input-1-9a159a1055f3>\u001b[0m in \u001b[0;36m<module>\u001b[0;34m\u001b[0m\n\u001b[1;32m      1\u001b[0m \u001b[0;31m# Load the Drive helper and mount\u001b[0m\u001b[0;34m\u001b[0m\u001b[0;34m\u001b[0m\u001b[0;34m\u001b[0m\u001b[0m\n\u001b[0;32m----> 2\u001b[0;31m \u001b[0;32mfrom\u001b[0m \u001b[0mgoogle\u001b[0m\u001b[0;34m.\u001b[0m\u001b[0mcolab\u001b[0m \u001b[0;32mimport\u001b[0m \u001b[0mdrive\u001b[0m\u001b[0;34m\u001b[0m\u001b[0;34m\u001b[0m\u001b[0m\n\u001b[0m\u001b[1;32m      3\u001b[0m \u001b[0;34m\u001b[0m\u001b[0m\n\u001b[1;32m      4\u001b[0m \u001b[0;31m# This will prompt for authorization.\u001b[0m\u001b[0;34m\u001b[0m\u001b[0;34m\u001b[0m\u001b[0;34m\u001b[0m\u001b[0m\n\u001b[1;32m      5\u001b[0m \u001b[0mdrive\u001b[0m\u001b[0;34m.\u001b[0m\u001b[0mmount\u001b[0m\u001b[0;34m(\u001b[0m\u001b[0;34m\"/content/drive\"\u001b[0m\u001b[0;34m,\u001b[0m \u001b[0mforce_remount\u001b[0m\u001b[0;34m=\u001b[0m\u001b[0;32mTrue\u001b[0m\u001b[0;34m)\u001b[0m\u001b[0;34m\u001b[0m\u001b[0;34m\u001b[0m\u001b[0m\n",
      "\u001b[0;31mModuleNotFoundError\u001b[0m: No module named 'google.colab'"
     ]
    }
   ],
   "source": [
    "# Load the Drive helper and mount\n",
    "from google.colab import drive\n",
    "\n",
    "# This will prompt for authorization.\n",
    "drive.mount(\"/content/drive\", force_remount=True)"
   ]
  },
  {
   "cell_type": "code",
   "execution_count": 0,
   "metadata": {
    "colab": {
     "base_uri": "https://localhost:8080/",
     "height": 34
    },
    "colab_type": "code",
    "id": "qc8_xZys0aR6",
    "outputId": "66dbeb68-54da-4c6b-b4d6-f19559815480"
   },
   "outputs": [
    {
     "name": "stdout",
     "output_type": "stream",
     "text": [
      "main_DataSETS_TRAIN.zip  main_DATASET_VAL.zip\n"
     ]
    }
   ],
   "source": [
    "#lists the content of your google drive\n",
    "!ls \"/content/drive/My Drive/Potholes_tataInnoverse/mainFile/train_val_22ndFeb/\""
   ]
  },
  {
   "cell_type": "code",
   "execution_count": 0,
   "metadata": {
    "colab": {
     "base_uri": "https://localhost:8080/",
     "height": 34
    },
    "colab_type": "code",
    "id": "uPeNUHsq09-7",
    "outputId": "a1d1233c-89fe-4c1f-9cc2-46883fd0e604"
   },
   "outputs": [
    {
     "data": {
      "text/plain": [
       "'/content/val.zip'"
      ]
     },
     "execution_count": 6,
     "metadata": {
      "tags": []
     },
     "output_type": "execute_result"
    }
   ],
   "source": [
    "import shutil\n",
    "shutil.copy('/content/drive/My Drive/Potholes_tataInnoverse/mainFile/train_val_22ndFeb/main_DATASET_VAL.zip', '/content/val.zip')"
   ]
  },
  {
   "cell_type": "code",
   "execution_count": 0,
   "metadata": {
    "colab": {
     "base_uri": "https://localhost:8080/",
     "height": 34
    },
    "colab_type": "code",
    "id": "ddhHxneE1B7S",
    "outputId": "3d7d699e-63b6-4073-b0b1-7e57749a0fd6"
   },
   "outputs": [
    {
     "data": {
      "text/plain": [
       "'/content/train.zip'"
      ]
     },
     "execution_count": 7,
     "metadata": {
      "tags": []
     },
     "output_type": "execute_result"
    }
   ],
   "source": [
    "import shutil\n",
    "shutil.copy('/content/drive/My Drive/Potholes_tataInnoverse/mainFile/train_val_22ndFeb/main_DataSETS_TRAIN.zip', '/content/train.zip')"
   ]
  },
  {
   "cell_type": "code",
   "execution_count": 0,
   "metadata": {
    "colab": {},
    "colab_type": "code",
    "id": "uJTn8nXR1Dm5"
   },
   "outputs": [],
   "source": [
    "!mkdir customImages"
   ]
  },
  {
   "cell_type": "code",
   "execution_count": 0,
   "metadata": {
    "colab": {},
    "colab_type": "code",
    "id": "ZdCbaoTy1FbK"
   },
   "outputs": [],
   "source": [
    "!mv train.zip customImages/"
   ]
  },
  {
   "cell_type": "code",
   "execution_count": 0,
   "metadata": {
    "colab": {},
    "colab_type": "code",
    "id": "c0Y0exfi1Gpa"
   },
   "outputs": [],
   "source": [
    "!mv val.zip customImages/"
   ]
  },
  {
   "cell_type": "code",
   "execution_count": 0,
   "metadata": {
    "colab": {
     "base_uri": "https://localhost:8080/",
     "height": 34
    },
    "colab_type": "code",
    "id": "__DOX3_j1H0q",
    "outputId": "3c519fe8-d076-42d5-aba4-0a2923fb3259"
   },
   "outputs": [
    {
     "name": "stdout",
     "output_type": "stream",
     "text": [
      "/content/customImages\n"
     ]
    }
   ],
   "source": [
    "%cd customImages/"
   ]
  },
  {
   "cell_type": "code",
   "execution_count": null,
   "metadata": {
    "colab": {
     "base_uri": "https://localhost:8080/",
     "height": 397477
    },
    "colab_type": "code",
    "id": "kGE0S45D1Jn6",
    "outputId": "bc745e3c-b822-4ff5-81b2-076cee855a6c"
   },
   "outputs": [],
   "source": [
    "!unzip train.zip"
   ]
  },
  {
   "cell_type": "code",
   "execution_count": null,
   "metadata": {
    "colab": {
     "base_uri": "https://localhost:8080/",
     "height": 70771
    },
    "colab_type": "code",
    "id": "0WSxrwzX1LQJ",
    "outputId": "3c6ded7a-b1ef-4013-a974-74866d717e00"
   },
   "outputs": [],
   "source": [
    "!unzip val.zip"
   ]
  },
  {
   "cell_type": "code",
   "execution_count": 0,
   "metadata": {
    "colab": {},
    "colab_type": "code",
    "id": "x0pQ834t1NL6"
   },
   "outputs": [],
   "source": [
    "!rm -rf __MACOSX"
   ]
  },
  {
   "cell_type": "code",
   "execution_count": 0,
   "metadata": {
    "colab": {
     "base_uri": "https://localhost:8080/",
     "height": 34
    },
    "colab_type": "code",
    "id": "YwZrDqpeEE5k",
    "outputId": "56a25e92-0bdf-4f65-e440-d37abbc94cd2"
   },
   "outputs": [
    {
     "name": "stdout",
     "output_type": "stream",
     "text": [
      "train  val\n"
     ]
    }
   ],
   "source": [
    "!ls"
   ]
  },
  {
   "cell_type": "code",
   "execution_count": 0,
   "metadata": {
    "colab": {},
    "colab_type": "code",
    "id": "Xl0MP82j1PUC"
   },
   "outputs": [],
   "source": [
    "!mv main_DataSETS_TRAIN/ train"
   ]
  },
  {
   "cell_type": "code",
   "execution_count": 0,
   "metadata": {
    "colab": {},
    "colab_type": "code",
    "id": "MFmvnXzh1RR4"
   },
   "outputs": [],
   "source": [
    "!mv main_DATASET_VAL/ val"
   ]
  },
  {
   "cell_type": "code",
   "execution_count": 0,
   "metadata": {
    "colab": {},
    "colab_type": "code",
    "id": "XTu-BzXG1SnQ"
   },
   "outputs": [],
   "source": [
    "!rm -rf train.zip"
   ]
  },
  {
   "cell_type": "code",
   "execution_count": 0,
   "metadata": {
    "colab": {},
    "colab_type": "code",
    "id": "s3M2DmbW1Tq4"
   },
   "outputs": [],
   "source": [
    "!rm -rf val.zip"
   ]
  },
  {
   "cell_type": "code",
   "execution_count": 0,
   "metadata": {
    "colab": {
     "base_uri": "https://localhost:8080/",
     "height": 34
    },
    "colab_type": "code",
    "id": "bMz2tYbB1UmP",
    "outputId": "eee0d6be-e05f-4032-cdc5-7d0d7e1bb734"
   },
   "outputs": [
    {
     "name": "stdout",
     "output_type": "stream",
     "text": [
      "train  val\n"
     ]
    }
   ],
   "source": [
    "!ls"
   ]
  },
  {
   "cell_type": "code",
   "execution_count": 0,
   "metadata": {
    "colab": {},
    "colab_type": "code",
    "id": "olp_AHcE1lQ0"
   },
   "outputs": [],
   "source": [
    "!rm -rf __MACOSX"
   ]
  },
  {
   "cell_type": "code",
   "execution_count": 0,
   "metadata": {
    "colab": {
     "base_uri": "https://localhost:8080/",
     "height": 34
    },
    "colab_type": "code",
    "id": "qeEDTIFm1dXA",
    "outputId": "a86db49d-409f-41a7-b7a9-853a117806a5"
   },
   "outputs": [
    {
     "name": "stdout",
     "output_type": "stream",
     "text": [
      "/content\n"
     ]
    }
   ],
   "source": [
    "%cd .."
   ]
  },
  {
   "cell_type": "code",
   "execution_count": 0,
   "metadata": {
    "colab": {
     "base_uri": "https://localhost:8080/",
     "height": 34
    },
    "colab_type": "code",
    "id": "5Kie9w5M1nze",
    "outputId": "29e9fb96-5d5f-4c6f-c6ba-c32d52a6743d"
   },
   "outputs": [
    {
     "name": "stdout",
     "output_type": "stream",
     "text": [
      "train  val\n"
     ]
    }
   ],
   "source": [
    "!ls customImages"
   ]
  },
  {
   "cell_type": "code",
   "execution_count": 0,
   "metadata": {
    "colab": {
     "base_uri": "https://localhost:8080/",
     "height": 102
    },
    "colab_type": "code",
    "id": "qsyBuFtZ1qyG",
    "outputId": "ecdeeb6d-2ee0-42ea-d7cc-e38d0d6265c9"
   },
   "outputs": [
    {
     "name": "stdout",
     "output_type": "stream",
     "text": [
      "Cloning into 'Mask_RCNN'...\n",
      "remote: Enumerating objects: 956, done.\u001b[K\n",
      "remote: Total 956 (delta 0), reused 0 (delta 0), pack-reused 956\u001b[K\n",
      "Receiving objects: 100% (956/956), 119.72 MiB | 24.36 MiB/s, done.\n",
      "Resolving deltas: 100% (549/549), done.\n"
     ]
    }
   ],
   "source": [
    "!git clone https://github.com/matterport/Mask_RCNN.git"
   ]
  },
  {
   "cell_type": "code",
   "execution_count": 0,
   "metadata": {
    "colab": {},
    "colab_type": "code",
    "id": "6mG8l5mo1xw1"
   },
   "outputs": [],
   "source": [
    "!mv customImages Mask_RCNN/"
   ]
  },
  {
   "cell_type": "code",
   "execution_count": 0,
   "metadata": {
    "colab": {
     "base_uri": "https://localhost:8080/",
     "height": 34
    },
    "colab_type": "code",
    "id": "bvef7cFw1z_G",
    "outputId": "188d6d7f-e4fa-464d-d434-8547f6fffc9b"
   },
   "outputs": [
    {
     "name": "stdout",
     "output_type": "stream",
     "text": [
      "/content/Mask_RCNN\n"
     ]
    }
   ],
   "source": [
    "%cd Mask_RCNN/"
   ]
  },
  {
   "cell_type": "code",
   "execution_count": null,
   "metadata": {
    "colab": {
     "base_uri": "https://localhost:8080/",
     "height": 1635
    },
    "colab_type": "code",
    "id": "c6nZhRBj11WM",
    "outputId": "bab1c886-2734-496e-c1ce-bfc266da163e"
   },
   "outputs": [],
   "source": [
    "!pip install -r requirements.txt"
   ]
  },
  {
   "cell_type": "code",
   "execution_count": null,
   "metadata": {
    "colab": {
     "base_uri": "https://localhost:8080/",
     "height": 935
    },
    "colab_type": "code",
    "id": "NSjJmWPv18Ay",
    "outputId": "12000e7c-435c-4ad6-9e19-dced2a6eb951"
   },
   "outputs": [],
   "source": [
    "# python setup install\n",
    "%run setup.py install"
   ]
  },
  {
   "cell_type": "code",
   "execution_count": 0,
   "metadata": {
    "colab": {
     "base_uri": "https://localhost:8080/",
     "height": 68
    },
    "colab_type": "code",
    "id": "Y6nksAQf18sF",
    "outputId": "b1e0d048-4b9d-496f-ef18-66c630126099"
   },
   "outputs": [
    {
     "name": "stdout",
     "output_type": "stream",
     "text": [
      "assets\t      dist     MANIFEST.in\t   README.md\t     setup.cfg\n",
      "build\t      images   mask_rcnn.egg-info  requirements.txt  setup.py\n",
      "customImages  LICENSE  mrcnn\t\t   samples\n"
     ]
    }
   ],
   "source": [
    "!ls"
   ]
  },
  {
   "cell_type": "code",
   "execution_count": 0,
   "metadata": {
    "colab": {
     "base_uri": "https://localhost:8080/",
     "height": 204
    },
    "colab_type": "code",
    "id": "yHX311Vu1-88",
    "outputId": "8ff96b99-77c3-4a75-fb74-16225b187a31"
   },
   "outputs": [
    {
     "name": "stdout",
     "output_type": "stream",
     "text": [
      "--2019-04-14 18:24:39--  https://raw.githubusercontent.com/priya-dwivedi/Deep-Learning/master/mask_rcnn_damage_detection/custom.py\n",
      "Resolving raw.githubusercontent.com (raw.githubusercontent.com)... 151.101.0.133, 151.101.64.133, 151.101.128.133, ...\n",
      "Connecting to raw.githubusercontent.com (raw.githubusercontent.com)|151.101.0.133|:443... connected.\n",
      "HTTP request sent, awaiting response... 200 OK\n",
      "Length: 13885 (14K) [text/plain]\n",
      "Saving to: ‘custom.py’\n",
      "\n",
      "\r",
      "custom.py             0%[                    ]       0  --.-KB/s               \r",
      "custom.py           100%[===================>]  13.56K  --.-KB/s    in 0.005s  \n",
      "\n",
      "2019-04-14 18:24:39 (2.78 MB/s) - ‘custom.py’ saved [13885/13885]\n",
      "\n"
     ]
    }
   ],
   "source": [
    "!wget https://raw.githubusercontent.com/priya-dwivedi/Deep-Learning/master/mask_rcnn_damage_detection/custom.py"
   ]
  },
  {
   "cell_type": "code",
   "execution_count": 0,
   "metadata": {
    "colab": {},
    "colab_type": "code",
    "id": "b9y2BKXY2Cbc"
   },
   "outputs": [],
   "source": [
    "!mkdir logs"
   ]
  },
  {
   "cell_type": "code",
   "execution_count": 0,
   "metadata": {
    "colab": {
     "base_uri": "https://localhost:8080/",
     "height": 85
    },
    "colab_type": "code",
    "id": "wZIZUHXJ2lPW",
    "outputId": "c088b21b-ff7f-4023-8c11-33dd3aa49047"
   },
   "outputs": [
    {
     "name": "stdout",
     "output_type": "stream",
     "text": [
      "assets\t      dist     MANIFEST.in\t   requirements.txt\n",
      "build\t      images   mask_rcnn.egg-info  samples\n",
      "customImages  LICENSE  mrcnn\t\t   setup.cfg\n",
      "custom.py     logs     README.md\t   setup.py\n"
     ]
    }
   ],
   "source": [
    "!ls"
   ]
  },
  {
   "cell_type": "code",
   "execution_count": 0,
   "metadata": {
    "colab": {
     "base_uri": "https://localhost:8080/",
     "height": 34
    },
    "colab_type": "code",
    "id": "IDTrbYCH2mkv",
    "outputId": "a13a97cd-10c7-4cbb-fb5b-870f788e06a1"
   },
   "outputs": [
    {
     "name": "stderr",
     "output_type": "stream",
     "text": [
      "Using TensorFlow backend.\n"
     ]
    }
   ],
   "source": [
    "import os\n",
    "import sys\n",
    "import itertools\n",
    "import math\n",
    "import logging\n",
    "import json\n",
    "import re\n",
    "import random\n",
    "from collections import OrderedDict\n",
    "import numpy as np\n",
    "import matplotlib\n",
    "import matplotlib.pyplot as plt\n",
    "import matplotlib.patches as patches\n",
    "import matplotlib.lines as lines\n",
    "from matplotlib.patches import Polygon\n",
    "\n",
    "# Root directory of the project\n",
    "ROOT_DIR = os.getcwd()\n",
    "\n",
    "# Import Mask RCNN\n",
    "sys.path.append(ROOT_DIR)  # To find local version of the library\n",
    "from mrcnn import utils\n",
    "from mrcnn import visualize\n",
    "from mrcnn.visualize import display_images\n",
    "import mrcnn.model as modellib\n",
    "from mrcnn.model import log\n",
    "\n",
    "MODEL_DIR = os.path.join(ROOT_DIR, \"logs\")\n",
    "\n",
    "import custom\n",
    "\n",
    "%matplotlib inline"
   ]
  },
  {
   "cell_type": "code",
   "execution_count": 0,
   "metadata": {
    "colab": {
     "base_uri": "https://localhost:8080/",
     "height": 34
    },
    "colab_type": "code",
    "id": "-v-bMZaP2pL2",
    "outputId": "fbfd1318-4535-4d0b-9b9c-d8de5eb72160"
   },
   "outputs": [
    {
     "name": "stdout",
     "output_type": "stream",
     "text": [
      "/content/Mask_RCNN/customImages\n"
     ]
    }
   ],
   "source": [
    "config = custom.CustomConfig()\n",
    "CUSTOM_DIR = os.path.join(ROOT_DIR, \"customImages\")\n",
    "print(CUSTOM_DIR)"
   ]
  },
  {
   "cell_type": "code",
   "execution_count": 0,
   "metadata": {
    "colab": {
     "base_uri": "https://localhost:8080/",
     "height": 85
    },
    "colab_type": "code",
    "id": "bOFXAxgk2q5G",
    "outputId": "a542b913-ca7d-41d6-e448-c5a87078d744"
   },
   "outputs": [
    {
     "name": "stdout",
     "output_type": "stream",
     "text": [
      "Image Count: 1457\n",
      "Class Count: 2\n",
      "  0. BG                                                \n",
      "  1. damage                                            \n"
     ]
    }
   ],
   "source": [
    "# Load dataset\n",
    "# Get the dataset from the releases page\n",
    "# https://github.com/matterport/Mask_RCNN/releases\n",
    "dataset = custom.CustomDataset()\n",
    "dataset.load_custom(CUSTOM_DIR, \"train\")\n",
    "\n",
    "# Must call before using the dataset\n",
    "dataset.prepare()\n",
    "\n",
    "print(\"Image Count: {}\".format(len(dataset.image_ids)))\n",
    "print(\"Class Count: {}\".format(dataset.num_classes))\n",
    "for i, info in enumerate(dataset.class_info):\n",
    "    print(\"{:3}. {:50}\".format(i, info['name']))"
   ]
  },
  {
   "cell_type": "code",
   "execution_count": 0,
   "metadata": {
    "colab": {
     "base_uri": "https://localhost:8080/",
     "height": 921
    },
    "colab_type": "code",
    "id": "3tKLWt0i2uA2",
    "outputId": "724ee83a-cadc-421e-b921-ec526a0172ed"
   },
   "outputs": [
    {
     "name": "stdout",
     "output_type": "stream",
     "text": [
      "\n",
      "Configurations:\n",
      "BACKBONE                       resnet101\n",
      "BACKBONE_STRIDES               [4, 8, 16, 32, 64]\n",
      "BATCH_SIZE                     1\n",
      "BBOX_STD_DEV                   [0.1 0.1 0.2 0.2]\n",
      "COMPUTE_BACKBONE_SHAPE         None\n",
      "DETECTION_MAX_INSTANCES        100\n",
      "DETECTION_MIN_CONFIDENCE       0.9\n",
      "DETECTION_NMS_THRESHOLD        0.3\n",
      "FPN_CLASSIF_FC_LAYERS_SIZE     1024\n",
      "GPU_COUNT                      1\n",
      "GRADIENT_CLIP_NORM             5.0\n",
      "IMAGES_PER_GPU                 1\n",
      "IMAGE_CHANNEL_COUNT            3\n",
      "IMAGE_MAX_DIM                  1024\n",
      "IMAGE_META_SIZE                14\n",
      "IMAGE_MIN_DIM                  800\n",
      "IMAGE_MIN_SCALE                0\n",
      "IMAGE_RESIZE_MODE              square\n",
      "IMAGE_SHAPE                    [1024 1024    3]\n",
      "LEARNING_MOMENTUM              0.9\n",
      "LEARNING_RATE                  0.001\n",
      "LOSS_WEIGHTS                   {'rpn_class_loss': 1.0, 'rpn_bbox_loss': 1.0, 'mrcnn_class_loss': 1.0, 'mrcnn_bbox_loss': 1.0, 'mrcnn_mask_loss': 1.0}\n",
      "MASK_POOL_SIZE                 14\n",
      "MASK_SHAPE                     [28, 28]\n",
      "MAX_GT_INSTANCES               100\n",
      "MEAN_PIXEL                     [123.7 116.8 103.9]\n",
      "MINI_MASK_SHAPE                (56, 56)\n",
      "NAME                           damage\n",
      "NUM_CLASSES                    2\n",
      "POOL_SIZE                      7\n",
      "POST_NMS_ROIS_INFERENCE        1000\n",
      "POST_NMS_ROIS_TRAINING         2000\n",
      "PRE_NMS_LIMIT                  6000\n",
      "ROI_POSITIVE_RATIO             0.33\n",
      "RPN_ANCHOR_RATIOS              [0.5, 1, 2]\n",
      "RPN_ANCHOR_SCALES              (32, 64, 128, 256, 512)\n",
      "RPN_ANCHOR_STRIDE              1\n",
      "RPN_BBOX_STD_DEV               [0.1 0.1 0.2 0.2]\n",
      "RPN_NMS_THRESHOLD              0.7\n",
      "RPN_TRAIN_ANCHORS_PER_IMAGE    256\n",
      "STEPS_PER_EPOCH                100\n",
      "TOP_DOWN_PYRAMID_SIZE          256\n",
      "TRAIN_BN                       False\n",
      "TRAIN_ROIS_PER_IMAGE           200\n",
      "USE_MINI_MASK                  True\n",
      "USE_RPN_ROIS                   True\n",
      "VALIDATION_STEPS               50\n",
      "WEIGHT_DECAY                   0.0001\n",
      "\n",
      "\n"
     ]
    }
   ],
   "source": [
    "class InferenceConfig(custom.CustomConfig):\n",
    "    # Set batch size to 1 since we'll be running inference on\n",
    "    # one image at a time. Batch size = GPU_COUNT * IMAGES_PER_GPU\n",
    "    GPU_COUNT = 1\n",
    "    IMAGES_PER_GPU = 1\n",
    "\n",
    "config = InferenceConfig()\n",
    "config.display()"
   ]
  },
  {
   "cell_type": "code",
   "execution_count": 0,
   "metadata": {
    "colab": {
     "base_uri": "https://localhost:8080/",
     "height": 34
    },
    "colab_type": "code",
    "id": "NLEPCnHo2yBY",
    "outputId": "69b0d414-b7de-4f4d-b430-1ba246f8950d"
   },
   "outputs": [
    {
     "name": "stdout",
     "output_type": "stream",
     "text": [
      "mask_rcnn_damage_0010.h5\n"
     ]
    }
   ],
   "source": [
    "#lists the content of your google drive\n",
    "# !ls \"/content/drive/My Drive/Potholes_tataInnoverse/30\""
   ]
  },
  {
   "cell_type": "code",
   "execution_count": 0,
   "metadata": {
    "colab": {
     "base_uri": "https://localhost:8080/",
     "height": 34
    },
    "colab_type": "code",
    "id": "iVzzkk3e2vak",
    "outputId": "eea26b0e-438f-4697-ed84-911a8345d60c"
   },
   "outputs": [
    {
     "data": {
      "text/plain": [
       "'/content/mask_rcnn_damage_0594'"
      ]
     },
     "execution_count": 44,
     "metadata": {
      "tags": []
     },
     "output_type": "execute_result"
    }
   ],
   "source": [
    "import shutil\n",
    "shutil.copy('/content/drive/My Drive/Potholes_tataInnoverse/model_maskRCNN/mask_rcnn_damage_0594.h5', '/content/mask_rcnn_damage_0594')"
   ]
  },
  {
   "cell_type": "code",
   "execution_count": 0,
   "metadata": {
    "colab": {},
    "colab_type": "code",
    "id": "c0fll8CIHE0S"
   },
   "outputs": [],
   "source": [
    "!mv /content/mask_rcnn_damage_0594.h5 /content/Mask_RCNN/logs/"
   ]
  },
  {
   "cell_type": "code",
   "execution_count": 0,
   "metadata": {
    "colab": {
     "base_uri": "https://localhost:8080/",
     "height": 34
    },
    "colab_type": "code",
    "id": "NWyHrgb5HIHp",
    "outputId": "dec4c509-3140-4aa6-972b-02a397b468af"
   },
   "outputs": [
    {
     "name": "stdout",
     "output_type": "stream",
     "text": [
      "/content/Mask_RCNN\n"
     ]
    }
   ],
   "source": [
    "!pwd"
   ]
  },
  {
   "cell_type": "code",
   "execution_count": 0,
   "metadata": {
    "colab": {
     "base_uri": "https://localhost:8080/",
     "height": 34
    },
    "colab_type": "code",
    "id": "A9iyj43LHQGY",
    "outputId": "7eb98bb7-47f3-48d4-cb06-e137d0e06617"
   },
   "outputs": [
    {
     "name": "stdout",
     "output_type": "stream",
     "text": [
      "mask_rcnn_damage_0594.h5\n"
     ]
    }
   ],
   "source": [
    "!ls logs"
   ]
  },
  {
   "cell_type": "code",
   "execution_count": 0,
   "metadata": {
    "colab": {},
    "colab_type": "code",
    "id": "FQZScwkK3Tmg"
   },
   "outputs": [],
   "source": [
    "# Create model object in inference mode.\n",
    "model = modellib.MaskRCNN(mode=\"inference\", model_dir=MODEL_DIR, config=config)\n",
    "\n",
    "# Load weights trained on MS-COCO\n",
    "model.load_weights(\"logs/mask_rcnn_damage_0594.h5\", by_name=True)"
   ]
  },
  {
   "cell_type": "code",
   "execution_count": 0,
   "metadata": {
    "colab": {},
    "colab_type": "code",
    "id": "6CDWTAz93bqP"
   },
   "outputs": [],
   "source": [
    "class_names = ['BG', 'damage']"
   ]
  },
  {
   "cell_type": "code",
   "execution_count": 0,
   "metadata": {
    "colab": {
     "base_uri": "https://localhost:8080/",
     "height": 105
    },
    "colab_type": "code",
    "id": "wT5JTqeA3ibb",
    "outputId": "4605b54e-8659-4937-ec30-dd60e0add10b"
   },
   "outputs": [
    {
     "name": "stdout",
     "output_type": "stream",
     "text": [
      "Collecting utils\n",
      "  Downloading https://files.pythonhosted.org/packages/9b/de/9ffaf89be661b32d1e0cff05e1af5e4fc2d608c47498975e94aca219aed4/utils-0.9.0-py2.py3-none-any.whl\n",
      "Installing collected packages: utils\n",
      "Successfully installed utils-0.9.0\n"
     ]
    }
   ],
   "source": [
    "!pip install utils"
   ]
  },
  {
   "cell_type": "code",
   "execution_count": 0,
   "metadata": {
    "colab": {},
    "colab_type": "code",
    "id": "U_Qbcc103fem"
   },
   "outputs": [],
   "source": [
    "import os\n",
    "import sys\n",
    "import custom\n",
    "import utils"
   ]
  },
  {
   "cell_type": "code",
   "execution_count": 0,
   "metadata": {
    "colab": {
     "base_uri": "https://localhost:8080/",
     "height": 34
    },
    "colab_type": "code",
    "id": "LECDso3y3g3P",
    "outputId": "6c9005e7-9cbf-4561-bba3-6066f8bb94e4"
   },
   "outputs": [
    {
     "name": "stdout",
     "output_type": "stream",
     "text": [
      "/content/Mask_RCNN/mrcnn\n"
     ]
    }
   ],
   "source": [
    "%cd mrcnn"
   ]
  },
  {
   "cell_type": "code",
   "execution_count": 0,
   "metadata": {
    "colab": {},
    "colab_type": "code",
    "id": "AoxG4eTN3oEG"
   },
   "outputs": [],
   "source": [
    "import model as modellib"
   ]
  },
  {
   "cell_type": "code",
   "execution_count": 0,
   "metadata": {
    "colab": {
     "base_uri": "https://localhost:8080/",
     "height": 34
    },
    "colab_type": "code",
    "id": "eIBiOOJL3pX9",
    "outputId": "08315189-8df0-4516-886d-f488db60fd49"
   },
   "outputs": [
    {
     "name": "stdout",
     "output_type": "stream",
     "text": [
      "/content/Mask_RCNN\n"
     ]
    }
   ],
   "source": [
    "%cd .."
   ]
  },
  {
   "cell_type": "code",
   "execution_count": 0,
   "metadata": {
    "colab": {},
    "colab_type": "code",
    "id": "3LyqChWD3qRm"
   },
   "outputs": [],
   "source": [
    "import cv2\n",
    "import numpy as np"
   ]
  },
  {
   "cell_type": "code",
   "execution_count": 0,
   "metadata": {
    "colab": {},
    "colab_type": "code",
    "id": "A9oddVsZ3rjd"
   },
   "outputs": [],
   "source": [
    "## Testing\n",
    "from PIL import Image, ImageDraw, ImageFont"
   ]
  },
  {
   "cell_type": "markdown",
   "metadata": {
    "colab_type": "text",
    "id": "JdF0Vs1t7iLO"
   },
   "source": [
    "#### MoveOver for Getting Testing Images Similar to S3 Bucket"
   ]
  },
  {
   "cell_type": "code",
   "execution_count": 0,
   "metadata": {
    "colab": {
     "base_uri": "https://localhost:8080/",
     "height": 204
    },
    "colab_type": "code",
    "id": "DrvYh7qh3s_N",
    "outputId": "041c15ac-15fa-4fd7-ae13-c9338417ab7f"
   },
   "outputs": [
    {
     "name": "stdout",
     "output_type": "stream",
     "text": [
      "--2019-04-14 18:32:42--  https://pradyumgupta.me/Downloads/images.zip\n",
      "Resolving pradyumgupta.me (pradyumgupta.me)... 93.188.165.63\n",
      "Connecting to pradyumgupta.me (pradyumgupta.me)|93.188.165.63|:443... connected.\n",
      "HTTP request sent, awaiting response... 200 OK\n",
      "Length: 14191122 (14M) [application/zip]\n",
      "Saving to: ‘images.zip’\n",
      "\n",
      "images.zip          100%[===================>]  13.53M  3.38MB/s    in 4.0s    \n",
      "\n",
      "2019-04-14 18:32:46 (3.38 MB/s) - ‘images.zip’ saved [14191122/14191122]\n",
      "\n"
     ]
    }
   ],
   "source": [
    "#start\n",
    "## Folder for the S3 Bucket\n",
    "#lists the content of your google drive\n",
    "# !ls \"/content/drive/My Drive/Potholes_tataInnoverse/S3/\"\n",
    "!wget https://pradyumgupta.me/Downloads/images.zip"
   ]
  },
  {
   "cell_type": "code",
   "execution_count": 0,
   "metadata": {
    "colab": {
     "base_uri": "https://localhost:8080/",
     "height": 85
    },
    "colab_type": "code",
    "id": "qZLW3u2jH9Sg",
    "outputId": "0f34bd67-5e47-4eac-8404-d99934a66dd2"
   },
   "outputs": [
    {
     "name": "stdout",
     "output_type": "stream",
     "text": [
      "assets\t      dist\t  logs\t\t      __pycache__\tsetup.cfg\n",
      "build\t      images\t  MANIFEST.in\t      README.md\t\tsetup.py\n",
      "customImages  images.zip  mask_rcnn.egg-info  requirements.txt\n",
      "custom.py     LICENSE\t  mrcnn\t\t      samples\n"
     ]
    }
   ],
   "source": [
    "!ls"
   ]
  },
  {
   "cell_type": "code",
   "execution_count": 0,
   "metadata": {
    "colab": {},
    "colab_type": "code",
    "id": "3fOD0cD05Svp"
   },
   "outputs": [],
   "source": [
    "!mkdir S3_Images"
   ]
  },
  {
   "cell_type": "code",
   "execution_count": 0,
   "metadata": {
    "colab": {},
    "colab_type": "code",
    "id": "PHe_H50T5A_P"
   },
   "outputs": [],
   "source": [
    "!mv images.zip S3_Images/"
   ]
  },
  {
   "cell_type": "code",
   "execution_count": 0,
   "metadata": {
    "colab": {
     "base_uri": "https://localhost:8080/",
     "height": 34
    },
    "colab_type": "code",
    "id": "nUIbLDsS5dME",
    "outputId": "65142464-43a6-4daf-988a-1a7524811861"
   },
   "outputs": [
    {
     "name": "stdout",
     "output_type": "stream",
     "text": [
      "/content/Mask_RCNN/S3_Images\n"
     ]
    }
   ],
   "source": [
    "%cd S3_Images/"
   ]
  },
  {
   "cell_type": "code",
   "execution_count": 0,
   "metadata": {
    "colab": {
     "base_uri": "https://localhost:8080/",
     "height": 187
    },
    "colab_type": "code",
    "id": "Y3kC3L116MCa",
    "outputId": "4dea4d3c-da79-4d1a-872c-9ba7e19cb593"
   },
   "outputs": [
    {
     "name": "stdout",
     "output_type": "stream",
     "text": [
      "Archive:  images.zip\n",
      "  inflating: IMG_4991.JPG            \n",
      "   creating: __MACOSX/\n",
      "  inflating: __MACOSX/._IMG_4991.JPG  \n",
      "  inflating: IMG_6746.JPG            \n",
      "  inflating: __MACOSX/._IMG_6746.JPG  \n",
      "  inflating: IMG_9567.JPG            \n",
      "  inflating: __MACOSX/._IMG_9567.JPG  \n",
      "  inflating: IMG_4453.JPG            \n",
      "  inflating: __MACOSX/._IMG_4453.JPG  \n"
     ]
    }
   ],
   "source": [
    "!unzip images.zip"
   ]
  },
  {
   "cell_type": "code",
   "execution_count": 0,
   "metadata": {
    "colab": {},
    "colab_type": "code",
    "id": "iuO17URuIRGa"
   },
   "outputs": [],
   "source": [
    "!rm -rf __MACOSX"
   ]
  },
  {
   "cell_type": "code",
   "execution_count": 0,
   "metadata": {
    "colab": {
     "base_uri": "https://localhost:8080/",
     "height": 34
    },
    "colab_type": "code",
    "id": "1uUJ4N_N6SlR",
    "outputId": "d09f4892-b5a1-48d1-9663-8bbef582f0ef"
   },
   "outputs": [
    {
     "name": "stdout",
     "output_type": "stream",
     "text": [
      "images.zip  IMG_4453.JPG  IMG_4991.JPG\tIMG_6746.JPG  IMG_9567.JPG\n"
     ]
    }
   ],
   "source": [
    "!ls"
   ]
  },
  {
   "cell_type": "code",
   "execution_count": 0,
   "metadata": {
    "colab": {},
    "colab_type": "code",
    "id": "K2UelXYZ6VfA"
   },
   "outputs": [],
   "source": [
    "!rm -rf images.zip"
   ]
  },
  {
   "cell_type": "code",
   "execution_count": 0,
   "metadata": {
    "colab": {
     "base_uri": "https://localhost:8080/",
     "height": 34
    },
    "colab_type": "code",
    "id": "3q7LH3SuIhqv",
    "outputId": "14aca95d-4c1e-492e-80ec-e9446fdb6e42"
   },
   "outputs": [
    {
     "name": "stdout",
     "output_type": "stream",
     "text": [
      "/content/Mask_RCNN/S3_Images\n"
     ]
    }
   ],
   "source": [
    "!pwd"
   ]
  },
  {
   "cell_type": "code",
   "execution_count": 0,
   "metadata": {
    "colab": {
     "base_uri": "https://localhost:8080/",
     "height": 34
    },
    "colab_type": "code",
    "id": "7048oUalIjSx",
    "outputId": "d87334c7-258e-4f2f-9121-2a145aed2bc4"
   },
   "outputs": [
    {
     "name": "stdout",
     "output_type": "stream",
     "text": [
      "/content/Mask_RCNN\n"
     ]
    }
   ],
   "source": [
    "%cd .."
   ]
  },
  {
   "cell_type": "code",
   "execution_count": 0,
   "metadata": {
    "colab": {
     "base_uri": "https://localhost:8080/",
     "height": 34
    },
    "colab_type": "code",
    "id": "-PXrwM5f61OB",
    "outputId": "c9c42f97-e0f2-446c-e106-2827bf04defa"
   },
   "outputs": [
    {
     "name": "stdout",
     "output_type": "stream",
     "text": [
      "/content/Mask_RCNN\n"
     ]
    }
   ],
   "source": [
    "#end\n",
    "%cd /content/Mask_RCNN/"
   ]
  },
  {
   "cell_type": "code",
   "execution_count": 0,
   "metadata": {
    "colab": {
     "base_uri": "https://localhost:8080/",
     "height": 85
    },
    "colab_type": "code",
    "id": "Oov5XIGI7LEU",
    "outputId": "669ce085-02e9-4db1-bd29-674fcd1da001"
   },
   "outputs": [
    {
     "name": "stdout",
     "output_type": "stream",
     "text": [
      "assets\t      dist     MANIFEST.in\t   README.md\t     setup.cfg\n",
      "build\t      images   mask_rcnn.egg-info  requirements.txt  setup.py\n",
      "customImages  LICENSE  mrcnn\t\t   S3_Images\n",
      "custom.py     logs     __pycache__\t   samples\n"
     ]
    }
   ],
   "source": [
    "!ls"
   ]
  },
  {
   "cell_type": "code",
   "execution_count": 0,
   "metadata": {
    "colab": {
     "base_uri": "https://localhost:8080/",
     "height": 34
    },
    "colab_type": "code",
    "id": "e4s_BG267MLY",
    "outputId": "20a2c698-3095-4467-fda3-0b41d8a56bdd"
   },
   "outputs": [
    {
     "name": "stdout",
     "output_type": "stream",
     "text": [
      "/content/Mask_RCNN/S3_Images\n"
     ]
    }
   ],
   "source": [
    "%cd S3_Images"
   ]
  },
  {
   "cell_type": "code",
   "execution_count": 0,
   "metadata": {
    "colab": {
     "base_uri": "https://localhost:8080/",
     "height": 156
    },
    "colab_type": "code",
    "id": "vpC9qedd7tWQ",
    "outputId": "4eb3ab31-19e1-45aa-aeab-0647db53c45d"
   },
   "outputs": [
    {
     "name": "stdout",
     "output_type": "stream",
     "text": [
      "Requirement already satisfied: python-resize-image in /usr/local/lib/python3.6/dist-packages (1.1.18)\n",
      "Requirement already satisfied: Pillow>=5.1.0 in /usr/local/lib/python3.6/dist-packages (from python-resize-image) (6.0.0)\n",
      "Requirement already satisfied: requests>=2.19.1 in /usr/local/lib/python3.6/dist-packages (from python-resize-image) (2.21.0)\n",
      "Requirement already satisfied: urllib3<1.25,>=1.21.1 in /usr/local/lib/python3.6/dist-packages (from requests>=2.19.1->python-resize-image) (1.22)\n",
      "Requirement already satisfied: idna<2.9,>=2.5 in /usr/local/lib/python3.6/dist-packages (from requests>=2.19.1->python-resize-image) (2.6)\n",
      "Requirement already satisfied: chardet<3.1.0,>=3.0.2 in /usr/local/lib/python3.6/dist-packages (from requests>=2.19.1->python-resize-image) (3.0.4)\n",
      "Requirement already satisfied: certifi>=2017.4.17 in /usr/local/lib/python3.6/dist-packages (from requests>=2.19.1->python-resize-image) (2019.3.9)\n"
     ]
    }
   ],
   "source": [
    "!pip install python-resize-image"
   ]
  },
  {
   "cell_type": "code",
   "execution_count": 0,
   "metadata": {
    "colab": {
     "base_uri": "https://localhost:8080/",
     "height": 85
    },
    "colab_type": "code",
    "id": "XDaoNkf27u39",
    "outputId": "b980b5b3-75b2-4bf0-da9b-0e3dac4d16eb"
   },
   "outputs": [
    {
     "name": "stdout",
     "output_type": "stream",
     "text": [
      "1\n",
      "2\n",
      "3\n",
      "4\n"
     ]
    }
   ],
   "source": [
    "from PIL import Image\n",
    "import os\n",
    "from resizeimage import resizeimage\n",
    "\n",
    "count = 0\n",
    "\n",
    "for f in os.listdir(os.getcwd()):\n",
    "    f_name, f_ext = os.path.splitext(f)\n",
    "#     f_random, f_lat_name,f_lat_val,f_long_name,f_long_val = f_name.split('-')\n",
    "#     f_lat_val = f_lat_val.strip() ##removing the white Space\n",
    "#     f_long_val = f_long_val.strip()\n",
    "#     new_name = '{}-{}-{}.jpg'.format(f_lat_val,f_long_val,count)\n",
    "    try:\n",
    "        with Image.open(f) as image:\n",
    "            count +=1\n",
    "            cover = resizeimage.resize_cover(image, [600,600])\n",
    "            cover.save('{}{}'.format(f_name,f_ext),image.format)\n",
    "            #os.remove(f)\n",
    "            print(count)\n",
    "    except(OSError) as e:\n",
    "        print('Bad Image {}{}'.format(f,count))"
   ]
  },
  {
   "cell_type": "code",
   "execution_count": 0,
   "metadata": {
    "colab": {
     "base_uri": "https://localhost:8080/",
     "height": 34
    },
    "colab_type": "code",
    "id": "xd45YnP67x8a",
    "outputId": "25419018-ae8f-41d0-f630-2694712a554e"
   },
   "outputs": [
    {
     "name": "stdout",
     "output_type": "stream",
     "text": [
      "/content/Mask_RCNN\n"
     ]
    }
   ],
   "source": [
    "%cd /content/Mask_RCNN/"
   ]
  },
  {
   "cell_type": "code",
   "execution_count": 0,
   "metadata": {
    "colab": {
     "base_uri": "https://localhost:8080/",
     "height": 377
    },
    "colab_type": "code",
    "id": "GGSnxX5RD-a7",
    "outputId": "026296fd-55c8-4afe-86b3-6b0d2fc06c1c"
   },
   "outputs": [
    {
     "name": "stdout",
     "output_type": "stream",
     "text": [
      "--2019-04-14 18:37:49--  https://github.com/Prady96/IITM_PythonTraining/blob/master/ImageWorking_add_textInImage/fonts_Dir/OpenSans-Bold.ttf?raw=true\n",
      "Resolving github.com (github.com)... 192.30.253.113, 192.30.253.112\n",
      "Connecting to github.com (github.com)|192.30.253.113|:443... connected.\n",
      "HTTP request sent, awaiting response... 302 Found\n",
      "Location: https://github.com/Prady96/IITM_PythonTraining/raw/master/ImageWorking_add_textInImage/fonts_Dir/OpenSans-Bold.ttf [following]\n",
      "--2019-04-14 18:37:50--  https://github.com/Prady96/IITM_PythonTraining/raw/master/ImageWorking_add_textInImage/fonts_Dir/OpenSans-Bold.ttf\n",
      "Reusing existing connection to github.com:443.\n",
      "HTTP request sent, awaiting response... 302 Found\n",
      "Location: https://raw.githubusercontent.com/Prady96/IITM_PythonTraining/master/ImageWorking_add_textInImage/fonts_Dir/OpenSans-Bold.ttf [following]\n",
      "--2019-04-14 18:37:50--  https://raw.githubusercontent.com/Prady96/IITM_PythonTraining/master/ImageWorking_add_textInImage/fonts_Dir/OpenSans-Bold.ttf\n",
      "Resolving raw.githubusercontent.com (raw.githubusercontent.com)... 151.101.0.133, 151.101.64.133, 151.101.128.133, ...\n",
      "Connecting to raw.githubusercontent.com (raw.githubusercontent.com)|151.101.0.133|:443... connected.\n",
      "HTTP request sent, awaiting response... 200 OK\n",
      "Length: 224592 (219K) [application/octet-stream]\n",
      "Saving to: ‘OpenSans-Bold.ttf?raw=true’\n",
      "\n",
      "\r",
      "          OpenSans-   0%[                    ]       0  --.-KB/s               \r",
      "OpenSans-Bold.ttf?r 100%[===================>] 219.33K  --.-KB/s    in 0.02s   \n",
      "\n",
      "2019-04-14 18:37:50 (10.8 MB/s) - ‘OpenSans-Bold.ttf?raw=true’ saved [224592/224592]\n",
      "\n"
     ]
    }
   ],
   "source": [
    "!wget https://github.com/Prady96/IITM_PythonTraining/blob/master/ImageWorking_add_textInImage/fonts_Dir/OpenSans-Bold.ttf?raw=true"
   ]
  },
  {
   "cell_type": "code",
   "execution_count": 0,
   "metadata": {
    "colab": {},
    "colab_type": "code",
    "id": "yOJngNydECb4"
   },
   "outputs": [],
   "source": [
    "!mv OpenSans-Bold.ttf?raw=true OpenSans-Bold.ttf"
   ]
  },
  {
   "cell_type": "code",
   "execution_count": 0,
   "metadata": {
    "colab": {
     "base_uri": "https://localhost:8080/",
     "height": 85
    },
    "colab_type": "code",
    "id": "a9JAjqyeEpbM",
    "outputId": "58da471d-6fdb-4281-bd2d-d92091459574"
   },
   "outputs": [
    {
     "name": "stdout",
     "output_type": "stream",
     "text": [
      "assets\t      dist     MANIFEST.in\t   __pycache__\t     samples\n",
      "build\t      images   mask_rcnn.egg-info  README.md\t     setup.cfg\n",
      "customImages  LICENSE  mrcnn\t\t   requirements.txt  setup.py\n",
      "custom.py     logs     OpenSans-Bold.ttf   S3_Images\n"
     ]
    }
   ],
   "source": [
    "!ls"
   ]
  },
  {
   "cell_type": "code",
   "execution_count": 0,
   "metadata": {
    "colab": {
     "base_uri": "https://localhost:8080/",
     "height": 1924
    },
    "colab_type": "code",
    "id": "Alkluh9k8ca1",
    "outputId": "2fa4f6f7-0777-4496-894e-b14aec45b877"
   },
   "outputs": [
    {
     "name": "stdout",
     "output_type": "stream",
     "text": [
      "\n",
      "Configurations:\n",
      "BACKBONE                       resnet101\n",
      "BACKBONE_STRIDES               [4, 8, 16, 32, 64]\n",
      "BATCH_SIZE                     3\n",
      "BBOX_STD_DEV                   [0.1 0.1 0.2 0.2]\n",
      "COMPUTE_BACKBONE_SHAPE         None\n",
      "DETECTION_MAX_INSTANCES        100\n",
      "DETECTION_MIN_CONFIDENCE       0.9\n",
      "DETECTION_NMS_THRESHOLD        0.3\n",
      "FPN_CLASSIF_FC_LAYERS_SIZE     1024\n",
      "GPU_COUNT                      1\n",
      "GRADIENT_CLIP_NORM             5.0\n",
      "IMAGES_PER_GPU                 3\n",
      "IMAGE_CHANNEL_COUNT            3\n",
      "IMAGE_MAX_DIM                  1024\n",
      "IMAGE_META_SIZE                14\n",
      "IMAGE_MIN_DIM                  800\n",
      "IMAGE_MIN_SCALE                0\n",
      "IMAGE_RESIZE_MODE              square\n",
      "IMAGE_SHAPE                    [1024 1024    3]\n",
      "LEARNING_MOMENTUM              0.9\n",
      "LEARNING_RATE                  0.001\n",
      "LOSS_WEIGHTS                   {'rpn_class_loss': 1.0, 'rpn_bbox_loss': 1.0, 'mrcnn_class_loss': 1.0, 'mrcnn_bbox_loss': 1.0, 'mrcnn_mask_loss': 1.0}\n",
      "MASK_POOL_SIZE                 14\n",
      "MASK_SHAPE                     [28, 28]\n",
      "MAX_GT_INSTANCES               100\n",
      "MEAN_PIXEL                     [123.7 116.8 103.9]\n",
      "MINI_MASK_SHAPE                (56, 56)\n",
      "NAME                           damage\n",
      "NUM_CLASSES                    2\n",
      "POOL_SIZE                      7\n",
      "POST_NMS_ROIS_INFERENCE        1000\n",
      "POST_NMS_ROIS_TRAINING         2000\n",
      "PRE_NMS_LIMIT                  6000\n",
      "ROI_POSITIVE_RATIO             0.33\n",
      "RPN_ANCHOR_RATIOS              [0.5, 1, 2]\n",
      "RPN_ANCHOR_SCALES              (32, 64, 128, 256, 512)\n",
      "RPN_ANCHOR_STRIDE              1\n",
      "RPN_BBOX_STD_DEV               [0.1 0.1 0.2 0.2]\n",
      "RPN_NMS_THRESHOLD              0.7\n",
      "RPN_TRAIN_ANCHORS_PER_IMAGE    256\n",
      "STEPS_PER_EPOCH                100\n",
      "TOP_DOWN_PYRAMID_SIZE          256\n",
      "TRAIN_BN                       False\n",
      "TRAIN_ROIS_PER_IMAGE           200\n",
      "USE_MINI_MASK                  True\n",
      "USE_RPN_ROIS                   True\n",
      "VALIDATION_STEPS               50\n",
      "WEIGHT_DECAY                   0.0001\n",
      "\n",
      "\n",
      "frame_count :1\n",
      "frame_count :2\n",
      "frame_count :3\n",
      "Predicted\n",
      "writing to file:/content/Mask_RCNN/videos/save/IMG_9567.JPG\n",
      "class_id value is 1\n",
      "counter for the class ID 1\n",
      "area is 2782\n",
      "class_id value is 1\n",
      "counter for the class ID 2\n",
      "area is 9405\n",
      "class_id value is 1\n",
      "counter for the class ID 3\n",
      "area is 76320\n",
      "[1 1 1] [0.99957734 0.9612283  0.9464372 ]\n",
      "[2782, 9405, 76320]\n",
      "image_name is /content/Mask_RCNN/videos/save/IMG_9567.JPG\n",
      "image name is IMG_9567.JPG\n",
      "avi96 [2782, 9405, 76320]\n",
      "New Name file is [2782, 9405, 76320]-[0.99957734 0.9612283  0.9464372 ].jpg\n",
      "save_dir is /content/Mask_RCNN/videos/save\n",
      "file Saved [2782, 9405, 76320]-[0.99957734 0.9612283  0.9464372 ].jpg\n",
      "writing to file:/content/Mask_RCNN/videos/save/IMG_9567.JPG\n",
      "class_id value is 1\n",
      "counter for the class ID 1\n",
      "area is 2525\n",
      "class_id value is 1\n",
      "counter for the class ID 2\n",
      "area is 16065\n",
      "class_id value is 1\n",
      "counter for the class ID 3\n",
      "area is 3645\n",
      "class_id value is 1\n",
      "counter for the class ID 4\n",
      "area is 81225\n",
      "[1 1 1 1] [0.9988669 0.9618613 0.9497516 0.9385592]\n",
      "[2525, 16065, 3645, 81225]\n",
      "image_name is /content/Mask_RCNN/videos/save/IMG_9567.JPG\n",
      "image name is IMG_9567.JPG\n",
      "avi96 [2525, 16065, 3645, 81225]\n",
      "New Name file is [2525, 16065, 3645, 81225]-[0.9988669 0.9618613 0.9497516 0.9385592].jpg\n",
      "save_dir is /content/Mask_RCNN/videos/save\n",
      "file Saved [2525, 16065, 3645, 81225]-[0.9988669 0.9618613 0.9497516 0.9385592].jpg\n",
      "writing to file:/content/Mask_RCNN/videos/save/IMG_9567.JPG\n",
      "class_id value is 1\n",
      "counter for the class ID 1\n",
      "area is 4716\n",
      "[1] [0.99962175]\n",
      "[4716]\n",
      "image_name is /content/Mask_RCNN/videos/save/IMG_9567.JPG\n",
      "image name is IMG_9567.JPG\n",
      "avi96 [4716]\n",
      "New Name file is [4716]-[0.99962175].jpg\n",
      "save_dir is /content/Mask_RCNN/videos/save\n",
      "file Saved [4716]-[0.99962175].jpg\n",
      "clear\n",
      "frame_count :4\n",
      "Success, check the folder\n"
     ]
    },
    {
     "data": {
      "text/plain": [
       "\"\\n    ## Code for the video section\\n    frames = []\\n    frame_count = 0\\n    # these 2 lines can be removed if you dont have a 1080p camera.\\n    capture.set(cv2.CAP_PROP_FRAME_WIDTH, 1920)\\n    capture.set(cv2.CAP_PROP_FRAME_HEIGHT, 1080)\\n\\n\\n    while True:\\n        ret, frame = capture.read()\\n        # Bail out when the video file ends\\n        if not ret:\\n            break\\n\\n        # Save each frame of the video to a list\\n        frame_count += 1\\n        frames.append(frame)\\n        print('frame_count :{0}'.format(frame_count))\\n        if len(frames) == batch_size:\\n            results = model.detect(frames, verbose=0)\\n            print('Predicted')\\n            for i, item in enumerate(zip(frames, results)):\\n                frame = item[0]\\n                r = item[1]\\n                frame = display_instances(\\n                    frame, r['rois'], r['masks'], r['class_ids'], class_names, r['scores']\\n                )\\n#                 name = '{0}.jpg'.format(frame_count + i - batch_size)\\n#                 name = os.path.join(VIDEO_SAVE_DIR, name)\\n#                 cv2.imwrite(name, frame)\\n#                 print('writing to file:{0}'.format(name))\\n                ## add visualise files\\n#                 visualize.display_instances(image, r['rois'], r['masks'], r['class_ids'],\\n#                             class_names, r['scores'])\\n                save_image(image, name, r['rois'], r['masks'], r['class_ids'],\\n                                     r['scores'],class_names, save_dir=VIDEO_SAVE_DIR, mode=0)\\n#                 print(r['class_ids'], r['scores'])\\n\\n            # Clear the frames array to start the next batch\\n            frames = []\\n\\n    capture.release()\\n\""
      ]
     },
     "execution_count": 86,
     "metadata": {
      "tags": []
     },
     "output_type": "execute_result"
    }
   ],
   "source": [
    "# Main file for the file iteration\n",
    "import cv2\n",
    "import numpy as np\n",
    "from PIL import Image, ImageDraw, ImageFont\n",
    "myList = [] ## area list\n",
    "classList = [] ##class Id List\n",
    "\n",
    "def random_colors(N):\n",
    "    np.random.seed(1)\n",
    "    colors = [tuple(255 * np.random.rand(3)) for _ in range(N)]\n",
    "    return colors\n",
    "\n",
    "\n",
    "def apply_mask(image, mask, color, alpha=0.5):\n",
    "    \"\"\"apply mask to image\"\"\"\n",
    "    for n, c in enumerate(color):\n",
    "        image[:, :, n] = np.where(\n",
    "            mask == 1,\n",
    "            image[:, :, n] * (1 - alpha) + alpha * c,\n",
    "            image[:, :, n]\n",
    "        )\n",
    "    return image\n",
    "\n",
    "\n",
    "def display_instances(image, boxes, masks, ids, names, scores):\n",
    "    \"\"\"\n",
    "        take the image and results and apply the mask, box, and Label\n",
    "    \"\"\"\n",
    "    n_instances = boxes.shape[0]\n",
    "    colors = random_colors(n_instances)\n",
    "\n",
    "    if not n_instances:\n",
    "        print('NO INSTANCES TO DISPLAY')\n",
    "    else:\n",
    "        assert boxes.shape[0] == masks.shape[-1] == ids.shape[0]\n",
    "\n",
    "    for i, color in enumerate(colors):\n",
    "        if not np.any(boxes[i]):\n",
    "            continue\n",
    "\n",
    "        y1, x1, y2, x2 = boxes[i]\n",
    "        label = names[ids[i]]\n",
    "        score = scores[i] if scores is not None else None\n",
    "        caption = '{} {:.2f}'.format(label, score) if score else label\n",
    "        mask = masks[:, :, i]\n",
    "\n",
    "        image = apply_mask(image, mask, color)\n",
    "        image = cv2.rectangle(image, (x1, y1), (x2, y2), color, 2)\n",
    "        image = cv2.putText(\n",
    "            image, caption, (x1, y1), cv2.FONT_HERSHEY_COMPLEX, 0.7, color, 2\n",
    "        )\n",
    "\n",
    "    return image\n",
    "\n",
    "\n",
    "def save_image(image, image_name, boxes, masks, class_ids, scores, class_names, filter_classs_names=None,\n",
    "               scores_thresh=0.1, save_dir=None, mode=0):\n",
    "    \"\"\"\n",
    "        image: image array\n",
    "        image_name: image name\n",
    "        boxes: [num_instance, (y1, x1, y2, x2, class_id)] in image coordinates.\n",
    "        masks: [num_instances, height, width]\n",
    "        class_ids: [num_instances]\n",
    "        scores: confidence scores for each box\n",
    "        class_names: list of class names of the dataset\n",
    "        filter_classs_names: (optional) list of class names we want to draw\n",
    "        scores_thresh: (optional) threshold of confidence scores\n",
    "        save_dir: (optional) the path to store image\n",
    "        mode: (optional) select the result which you want\n",
    "                mode = 0 , save image with bbox,class_name,score and mask;\n",
    "                mode = 1 , save image with bbox,class_name and score;\n",
    "                mode = 2 , save image with class_name,score and mask;\n",
    "                mode = 3 , save mask with black background;\n",
    "    \"\"\"\n",
    "    mode_list = [0, 1, 2, 3]\n",
    "    assert mode in mode_list, \"mode's value should in mode_list %s\" % str(mode_list)\n",
    "\n",
    "    if save_dir is None:\n",
    "        save_dir = os.path.join(os.getcwd(), \"output\")\n",
    "        if not os.path.exists(save_dir):\n",
    "            os.makedirs(save_dir)\n",
    "\n",
    "    useful_mask_indices = []\n",
    "\n",
    "    N = boxes.shape[0]\n",
    "    if not N:\n",
    "        print(\"\\n*** No instances in image %s to draw *** \\n\" % (image_name))\n",
    "        return\n",
    "    else:\n",
    "        assert boxes.shape[0] == masks.shape[-1] == class_ids.shape[0]\n",
    "\n",
    "    for i in range(N):\n",
    "        # filter\n",
    "        class_id = class_ids[i]\n",
    "        score = scores[i] if scores is not None else None\n",
    "        if score is None or score < scores_thresh:\n",
    "            continue\n",
    "\n",
    "        label = class_names[class_id]\n",
    "        if (filter_classs_names is not None) and (label not in filter_classs_names):\n",
    "            continue\n",
    "\n",
    "        if not np.any(boxes[i]):\n",
    "            # Skip this instance. Has no bbox. Likely lost in image cropping.\n",
    "            continue\n",
    "\n",
    "        useful_mask_indices.append(i)\n",
    "\n",
    "    if len(useful_mask_indices) == 0:\n",
    "        print(\"\\n*** No instances in image %s to draw *** \\n\" % (image_name))\n",
    "        return\n",
    "\n",
    "    colors = random_colors(len(useful_mask_indices))\n",
    "\n",
    "    if mode != 3:\n",
    "        masked_image = image.astype(np.uint8).copy()\n",
    "    else:\n",
    "        masked_image = np.zeros(image.shape).astype(np.uint8)\n",
    "\n",
    "    if mode != 1:\n",
    "        for index, value in enumerate(useful_mask_indices):\n",
    "            masked_image = apply_mask(masked_image, masks[:, :, value], colors[index])\n",
    "\n",
    "    masked_image = Image.fromarray(masked_image)\n",
    "\n",
    "    if mode == 3:\n",
    "        masked_image.save(os.path.join(save_dir, '%s.jpg' % (image_name)))\n",
    "        return\n",
    "\n",
    "    draw = ImageDraw.Draw(masked_image)\n",
    "    colors = np.array(colors).astype(int) * 255\n",
    "\n",
    "    myList = []\n",
    "    countClassIds = 0\n",
    "    \n",
    "    for index, value in enumerate(useful_mask_indices):\n",
    "        class_id = class_ids[value]\n",
    "        print('class_id value is {}'.format(class_id))\n",
    "        if class_id == 1:\n",
    "          countClassIds += 1\n",
    "        print('counter for the class ID {}'.format(countClassIds))\n",
    "        \n",
    "        \n",
    "        score = scores[value]\n",
    "        label = class_names[class_id]\n",
    "\n",
    "        y1, x1, y2, x2 = boxes[value]\n",
    "        \n",
    "#         myList = []\n",
    "        \n",
    "        ## area of the rectangle\n",
    "        yVal = y2 - y1\n",
    "        xVal = x2 - x1\n",
    "        area = xVal * yVal\n",
    "        print('area is {}'.format(area))\n",
    "        myList.append(area)\n",
    "        \n",
    "        if mode != 2:\n",
    "            color = tuple(colors[index])\n",
    "            draw.rectangle((x1, y1, x2, y2), outline=color)\n",
    "\n",
    "        # Label\n",
    "#         font = ImageFont.load('/usr/share/fonts/truetype/ttf-bitstream-vera/Vera.ttf')\n",
    "        font = ImageFont.truetype('OpenSans-Bold.ttf', 15)\n",
    "        draw.text((x1, y1), \"%s %f\" % (label, score), (255, 255, 255), font)\n",
    "\n",
    "    print(r['class_ids'], r['scores'])\n",
    "    print(myList)\n",
    "#     print('value of r is {}'.format(r))\n",
    "    print('image_name is {}'.format(image_name))\n",
    "\n",
    "    image_name = os.path.basename(image_name)\n",
    "    print('image name is {}'.format(image_name))\n",
    "\n",
    "    f_name, f_ext = os.path.splitext(image_name)\n",
    "    #f_lat_val,f_long_val,f_count = f_name.split('-')\n",
    "\n",
    "    #f_lat_val = f_lat_val.strip() ##removing the white Space\n",
    "    #f_long_val = f_long_val.strip()\n",
    "\n",
    "#     new_name = '{}-{}-{}.jpg'.format(f_lat_val,f_long_val,count)\n",
    "#     print([area for area in myList if ])\n",
    "#       print([i for i in range(countClassIds) ])\n",
    "      \n",
    "    print(\"avi96 {}\".format(myList[:countClassIds]))\n",
    "#     myList.pop(countClassIds - 1)\n",
    "    \n",
    "    new_name = '{}-{}.jpg'.format(myList, r['scores'])\n",
    "#     masked_image.save(os.path.join(save_dir, '%s.jpg' % (image_name)))\n",
    "    print(\"New Name file is {}\".format(new_name))\n",
    "    print('save_dir is {}'.format(save_dir))\n",
    "    masked_image.save(os.path.join(save_dir, '%s' % (new_name)))\n",
    "    print('file Saved {}'.format(new_name))\n",
    "#     os.rename(image_name, new_name)\n",
    "\n",
    "\n",
    "\n",
    "if __name__ == '__main__':\n",
    "    \"\"\"\n",
    "        test everything\n",
    "    \"\"\"\n",
    "    import os\n",
    "    import sys\n",
    "    import custom\n",
    "    import utils\n",
    "    import model as modellib\n",
    "    #import visualize\n",
    "\n",
    "    # We use a K80 GPU with 24GB memory, which can fit 3 images.\n",
    "    batch_size = 3\n",
    "\n",
    "    ROOT_DIR = os.getcwd()\n",
    "    MODEL_DIR = os.path.join(ROOT_DIR, \"logs\")\n",
    "    VIDEO_DIR = os.path.join(ROOT_DIR, \"videos\")\n",
    "    VIDEO_SAVE_DIR = os.path.join(VIDEO_DIR, \"save\")\n",
    "#     COCO_MODEL_PATH = os.path.join(ROOT_DIR, \"mask_rcnn_damage_0010.h5\")\n",
    "#     if not os.path.exists(COCO_MODEL_PATH):\n",
    "#         utils.download_trained_weights(COCO_MODEL_PATH)\n",
    "\n",
    "    class InferenceConfig(custom.CustomConfig):\n",
    "        GPU_COUNT = 1\n",
    "        IMAGES_PER_GPU = batch_size\n",
    "\n",
    "    config = InferenceConfig()\n",
    "    config.display()\n",
    "\n",
    "    model = modellib.MaskRCNN(\n",
    "        mode=\"inference\", model_dir=MODEL_DIR, config=config\n",
    "    )\n",
    "    model.load_weights(\"logs/mask_rcnn_damage_0594.h5\", by_name=True)\n",
    "    class_names = [\n",
    "        'BG', 'damage'\n",
    "    ]\n",
    "\n",
    "#     capture = cv2.VideoCapture(os.path.join(VIDEO_DIR, 'trailer1.mp4'))\n",
    "    try:\n",
    "        if not os.path.exists(VIDEO_SAVE_DIR):\n",
    "            os.makedirs(VIDEO_SAVE_DIR)\n",
    "    except OSError:\n",
    "        print ('Error: Creating directory of data')\n",
    "\n",
    "    # points to be done before final coding\n",
    "    \"\"\"\n",
    "    path_for_image_dir\n",
    "    list for the image array\n",
    "    resolve for naming convention for location basis\n",
    "    passing image in model\n",
    "    \"\"\"\n",
    "\n",
    "    # path for the data files\n",
    "    data_path = '/content/Mask_RCNN/S3_Images/'\n",
    "    onlyfiles = [f for f in os.listdir(data_path) if os.path.isfile(os.path.join(data_path, f))]\n",
    "\n",
    "    # empty list for the training data\n",
    "    frames = []\n",
    "    frame_count = 0\n",
    "    batch_count = 1\n",
    "\n",
    "    # enumerate the iteration with number of files\n",
    "    for j, files in enumerate(onlyfiles):\n",
    "        image_path = data_path + onlyfiles[j]\n",
    "#         print(\"image Path {}\".format(image_path))\n",
    "#         print(\"Only Files {}\".format(onlyfiles[j]))\n",
    "#         print('j is {}'.format(j))\n",
    "#         print('files is {}'.format(files))\n",
    "        try:\n",
    "            images = cv2.imread(image_path).astype(np.uint8)\n",
    "#             print(\"images {}\".format(images))\n",
    "            frames.append(np.asarray(images, dtype=np.uint8))\n",
    "  #         frames.append(images)\n",
    "            frame_count += 1\n",
    "            print('frame_count :{0}'.format(frame_count))\n",
    "            if len(frames) == batch_size:\n",
    "                results = model.detect(frames, verbose=0)\n",
    "                print('Predicted')\n",
    "                for i, item in enumerate(zip(frames, results)):\n",
    "#                     print('i is {}'.format(i))\n",
    "#                     print('item is {}'.format(item))\n",
    "                    frame = item[0]\n",
    "                    r = item[1]\n",
    "                    frame = display_instances(\n",
    "                      frame, r['rois'], r['masks'], r['class_ids'], class_names, r['scores']\n",
    "                    )\n",
    "                    name = '{}'.format(files)\n",
    "                    name = os.path.join(VIDEO_SAVE_DIR, name)\n",
    "#                     name = '{0}.jpg'.format(frame_count + i - batch_size)\n",
    "#                     name = os.path.join(VIDEO_SAVE_DIR, name)\n",
    "#                   cv2.imwrite(name, frame)\n",
    "#                     print(name)\n",
    "                    print('writing to file:{0}'.format(name))\n",
    "#                     print(name)\n",
    "                    save_image(images, name, r['rois'], r['masks'], r['class_ids'],\n",
    "                             r['scores'], class_names, save_dir=VIDEO_SAVE_DIR, mode=0)\n",
    "                frames = []\n",
    "                print('clear')\n",
    "              # clear the frames here\n",
    "\n",
    "        except(AttributeError) as e:\n",
    "            print('Bad Image {}'.format(image_path))\n",
    "\n",
    "    print(\"Success, check the folder\")\n",
    "\n",
    "\n",
    "\"\"\"\n",
    "    ## Code for the video section\n",
    "    frames = []\n",
    "    frame_count = 0\n",
    "    # these 2 lines can be removed if you dont have a 1080p camera.\n",
    "    capture.set(cv2.CAP_PROP_FRAME_WIDTH, 1920)\n",
    "    capture.set(cv2.CAP_PROP_FRAME_HEIGHT, 1080)\n",
    "\n",
    "\n",
    "    while True:\n",
    "        ret, frame = capture.read()\n",
    "        # Bail out when the video file ends\n",
    "        if not ret:\n",
    "            break\n",
    "\n",
    "        # Save each frame of the video to a list\n",
    "        frame_count += 1\n",
    "        frames.append(frame)\n",
    "        print('frame_count :{0}'.format(frame_count))\n",
    "        if len(frames) == batch_size:\n",
    "            results = model.detect(frames, verbose=0)\n",
    "            print('Predicted')\n",
    "            for i, item in enumerate(zip(frames, results)):\n",
    "                frame = item[0]\n",
    "                r = item[1]\n",
    "                frame = display_instances(\n",
    "                    frame, r['rois'], r['masks'], r['class_ids'], class_names, r['scores']\n",
    "                )\n",
    "#                 name = '{0}.jpg'.format(frame_count + i - batch_size)\n",
    "#                 name = os.path.join(VIDEO_SAVE_DIR, name)\n",
    "#                 cv2.imwrite(name, frame)\n",
    "#                 print('writing to file:{0}'.format(name))\n",
    "                ## add visualise files\n",
    "#                 visualize.display_instances(image, r['rois'], r['masks'], r['class_ids'],\n",
    "#                             class_names, r['scores'])\n",
    "                save_image(image, name, r['rois'], r['masks'], r['class_ids'],\n",
    "                                     r['scores'],class_names, save_dir=VIDEO_SAVE_DIR, mode=0)\n",
    "#                 print(r['class_ids'], r['scores'])\n",
    "\n",
    "            # Clear the frames array to start the next batch\n",
    "            frames = []\n",
    "\n",
    "    capture.release()\n",
    "\"\"\"\n"
   ]
  },
  {
   "cell_type": "code",
   "execution_count": 0,
   "metadata": {
    "colab": {
     "base_uri": "https://localhost:8080/",
     "height": 85
    },
    "colab_type": "code",
    "id": "85-4lWjl8kAd",
    "outputId": "75d8d1ff-999a-44a6-e77a-fdfde3b72e9c"
   },
   "outputs": [
    {
     "name": "stdout",
     "output_type": "stream",
     "text": [
      "assets\t      dist     MANIFEST.in\t   __pycache__\t     samples\n",
      "build\t      images   mask_rcnn.egg-info  README.md\t     setup.cfg\n",
      "customImages  LICENSE  mrcnn\t\t   requirements.txt  setup.py\n",
      "custom.py     logs     OpenSans-Bold.ttf   S3_Images\t     videos\n"
     ]
    }
   ],
   "source": [
    "!ls"
   ]
  },
  {
   "cell_type": "code",
   "execution_count": 0,
   "metadata": {
    "colab": {
     "base_uri": "https://localhost:8080/",
     "height": 68
    },
    "colab_type": "code",
    "id": "F8MRF4Bx8meE",
    "outputId": "29d3e023-1884-4e7a-ca35-ea816fd60f09"
   },
   "outputs": [
    {
     "name": "stdout",
     "output_type": "stream",
     "text": [
      "'[2525, 16065, 3645, 81225]-[0.9988669 0.9618613 0.9497516 0.9385592].jpg'\n",
      "'[2782, 9405, 76320]-[0.99957734 0.9612283  0.9464372 ].jpg'\n",
      "'[4716]-[0.99962175].jpg'\n"
     ]
    }
   ],
   "source": [
    "!ls /content/Mask_RCNN/videos/save/"
   ]
  },
  {
   "cell_type": "code",
   "execution_count": 0,
   "metadata": {
    "colab": {
     "base_uri": "https://localhost:8080/",
     "height": 85
    },
    "colab_type": "code",
    "id": "EZh7pPxb_Kl_",
    "outputId": "f04fd400-5d03-4161-c7aa-134dfa6359aa"
   },
   "outputs": [
    {
     "name": "stdout",
     "output_type": "stream",
     "text": [
      "  adding: content/Mask_RCNN/videos/save/ (stored 0%)\n",
      "  adding: content/Mask_RCNN/videos/save/[2525, 16065, 3645, 81225]-[0.9988669 0.9618613 0.9497516 0.9385592].jpg (deflated 0%)\n",
      "  adding: content/Mask_RCNN/videos/save/[4716]-[0.99962175].jpg (deflated 0%)\n",
      "  adding: content/Mask_RCNN/videos/save/[2782, 9405, 76320]-[0.99957734 0.9612283  0.9464372 ].jpg (deflated 0%)\n"
     ]
    }
   ],
   "source": [
    "!zip -r save.zip /content/Mask_RCNN/videos/save/"
   ]
  },
  {
   "cell_type": "code",
   "execution_count": 0,
   "metadata": {
    "colab": {},
    "colab_type": "code",
    "id": "acdqgs2tJ3u7"
   },
   "outputs": [],
   "source": []
  }
 ],
 "metadata": {
  "accelerator": "GPU",
  "colab": {
   "include_colab_link": true,
   "name": "TechFest Project 2019 PSA.ipynb",
   "provenance": [],
   "version": "0.3.2"
  },
  "kernelspec": {
   "display_name": "Python 3",
   "language": "python",
   "name": "python3"
  },
  "language_info": {
   "codemirror_mode": {
    "name": "ipython",
    "version": 3
   },
   "file_extension": ".py",
   "mimetype": "text/x-python",
   "name": "python",
   "nbconvert_exporter": "python",
   "pygments_lexer": "ipython3",
   "version": "3.5.2"
  }
 },
 "nbformat": 4,
 "nbformat_minor": 1
}
