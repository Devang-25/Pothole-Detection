{
 "cells": [
  {
   "cell_type": "markdown",
   "metadata": {
    "colab_type": "text",
    "id": "view-in-github"
   },
   "source": [
    "<a href=\"https://colab.research.google.com/github/Prady96/Pothole-Detection/blob/master/PrelimearyModelBuildingGPU.ipynb\" target=\"_parent\"><img src=\"https://colab.research.google.com/assets/colab-badge.svg\" alt=\"Open In Colab\"/></a>"
   ]
  },
  {
   "cell_type": "code",
   "execution_count": 1,
   "metadata": {
    "colab": {
     "base_uri": "https://localhost:8080/",
     "height": 238
    },
    "colab_type": "code",
    "id": "byHonk_eWIhe",
    "outputId": "c02426ed-1b25-48a4-b933-41e536f9a1a3"
   },
   "outputs": [
    {
     "name": "stdout",
     "output_type": "stream",
     "text": [
      "--2018-10-31 08:59:41--  https://www.formpicture.com/pothole/pothole_img250.zip\n",
      "Resolving www.formpicture.com (www.formpicture.com)... 93.188.165.63\n",
      "Connecting to www.formpicture.com (www.formpicture.com)|93.188.165.63|:443... connected.\n",
      "WARNING: cannot verify www.formpicture.com's certificate, issued by ‘CN=Let's Encrypt Authority X3,O=Let's Encrypt,C=US’:\n",
      "  Unable to locally verify the issuer's authority.\n",
      "HTTP request sent, awaiting response... 200 OK\n",
      "Length: 99579526 (95M) [application/zip]\n",
      "Saving to: ‘pothole_img250.zip’\n",
      "\n",
      "pothole_img250.zip  100%[===================>]  94.97M  3.60MB/s    in 19s     \n",
      "\n",
      "2018-10-31 09:00:01 (4.89 MB/s) - ‘pothole_img250.zip’ saved [99579526/99579526]\n",
      "\n"
     ]
    }
   ],
   "source": [
    "!wget https://www.formpicture.com/pothole/pothole_img250.zip --no-check-certificate"
   ]
  },
  {
   "cell_type": "code",
   "execution_count": 2,
   "metadata": {
    "colab": {
     "base_uri": "https://localhost:8080/",
     "height": 238
    },
    "colab_type": "code",
    "id": "-YrLoO_HWWTa",
    "outputId": "90628d11-fe17-4099-c436-115cb1c30c66"
   },
   "outputs": [
    {
     "name": "stdout",
     "output_type": "stream",
     "text": [
      "--2018-10-31 09:00:04--  https://www.formpicture.com/pothole/val.zip\n",
      "Resolving www.formpicture.com (www.formpicture.com)... 93.188.165.63\n",
      "Connecting to www.formpicture.com (www.formpicture.com)|93.188.165.63|:443... connected.\n",
      "WARNING: cannot verify www.formpicture.com's certificate, issued by ‘CN=Let's Encrypt Authority X3,O=Let's Encrypt,C=US’:\n",
      "  Unable to locally verify the issuer's authority.\n",
      "HTTP request sent, awaiting response... 200 OK\n",
      "Length: 13623029 (13M) [application/zip]\n",
      "Saving to: ‘val.zip’\n",
      "\n",
      "val.zip             100%[===================>]  12.99M  7.74MB/s    in 1.7s    \n",
      "\n",
      "2018-10-31 09:00:05 (7.74 MB/s) - ‘val.zip’ saved [13623029/13623029]\n",
      "\n"
     ]
    }
   ],
   "source": [
    "!wget https://www.formpicture.com/pothole/val.zip --no-check-certificate"
   ]
  },
  {
   "cell_type": "code",
   "execution_count": 0,
   "metadata": {
    "colab": {},
    "colab_type": "code",
    "id": "S7NexOO9Wb4d"
   },
   "outputs": [],
   "source": [
    "!mkdir customImages"
   ]
  },
  {
   "cell_type": "code",
   "execution_count": 4,
   "metadata": {
    "colab": {
     "base_uri": "https://localhost:8080/",
     "height": 4335
    },
    "colab_type": "code",
    "id": "wzTR5xORWgj_",
    "outputId": "a4ea0953-cb84-4136-f7b1-af267c57e7d7"
   },
   "outputs": [
    {
     "name": "stdout",
     "output_type": "stream",
     "text": [
      "Archive:  pothole_img250.zip\n",
      "   creating: pothole_img250/\n",
      "  inflating: pothole_img250/Output\\frame29.jpg  \n",
      "  inflating: pothole_img250/Output\\frame5.jpg  \n",
      "  inflating: pothole_img250/Output\\frame117.jpg  \n",
      "  inflating: pothole_img250/Output\\frame91.jpg  \n",
      "  inflating: pothole_img250/Output\\frame104.jpg  \n",
      "  inflating: pothole_img250/Output\\frame219.jpg  \n",
      "  inflating: pothole_img250/Output\\frame127.jpg  \n",
      "  inflating: pothole_img250/Output\\frame125.jpg  \n",
      "  inflating: pothole_img250/Output\\frame66.jpg  \n",
      "  inflating: pothole_img250/Output\\frame23.jpg  \n",
      "  inflating: pothole_img250/Output\\frame193.jpg  \n",
      "  inflating: pothole_img250/Output\\frame67.jpg  \n",
      "  inflating: pothole_img250/Output\\frame208.jpg  \n",
      "  inflating: pothole_img250/Output\\frame3.jpg  \n",
      "  inflating: pothole_img250/Output\\frame101.jpg  \n",
      "  inflating: pothole_img250/Output\\frame163.jpg  \n",
      "  inflating: pothole_img250/Output\\frame180.jpg  \n",
      "  inflating: pothole_img250/Output\\frame186.jpg  \n",
      "  inflating: pothole_img250/Output\\frame138.jpg  \n",
      "  inflating: pothole_img250/Output\\frame143.jpg  \n",
      "  inflating: pothole_img250/Output\\frame204.jpg  \n",
      "  inflating: pothole_img250/Output\\frame152.jpg  \n",
      "  inflating: pothole_img250/Output\\frame8.jpg  \n",
      "  inflating: pothole_img250/Output\\frame165.jpg  \n",
      "  inflating: pothole_img250/Output\\frame207.jpg  \n",
      "  inflating: pothole_img250/Output\\frame178.jpg  \n",
      "  inflating: pothole_img250/Output\\frame221.jpg  \n",
      "  inflating: pothole_img250/Output\\frame205.jpg  \n",
      "  inflating: pothole_img250/Output\\frame64.jpg  \n",
      "  inflating: pothole_img250/Output\\frame230.jpg  \n",
      "  inflating: pothole_img250/Output\\frame52.jpg  \n",
      "  inflating: pothole_img250/Output\\frame175.jpg  \n",
      "  inflating: pothole_img250/Output\\frame56.jpg  \n",
      "  inflating: pothole_img250/Output\\frame146.jpg  \n",
      "  inflating: pothole_img250/Output\\frame31.jpg  \n",
      "  inflating: pothole_img250/Output\\frame73.jpg  \n",
      "  inflating: pothole_img250/Output\\frame50.jpg  \n",
      "  inflating: pothole_img250/Output\\frame144.jpg  \n",
      "  inflating: pothole_img250/Output\\frame114.jpg  \n",
      "  inflating: pothole_img250/Output\\frame18.jpg  \n",
      "  inflating: pothole_img250/Output\\frame90.jpg  \n",
      "  inflating: pothole_img250/Output\\frame77.jpg  \n",
      "  inflating: pothole_img250/Output\\frame28.jpg  \n",
      "  inflating: pothole_img250/Output\\frame203.jpg  \n",
      "  inflating: pothole_img250/Output\\frame36.jpg  \n",
      "  inflating: pothole_img250/Output\\frame243.jpg  \n",
      "  inflating: pothole_img250/Output\\frame38.jpg  \n",
      "  inflating: pothole_img250/Output\\frame122.jpg  \n",
      "  inflating: pothole_img250/Output\\frame39.jpg  \n",
      "  inflating: pothole_img250/Output\\frame239.jpg  \n",
      "  inflating: pothole_img250/Output\\frame86.jpg  \n",
      "  inflating: pothole_img250/Output\\frame227.jpg  \n",
      "  inflating: pothole_img250/Output\\frame47.jpg  \n",
      "  inflating: pothole_img250/Output\\frame78.jpg  \n",
      "  inflating: pothole_img250/Output\\frame172.jpg  \n",
      "  inflating: pothole_img250/Output\\frame94.jpg  \n",
      "  inflating: pothole_img250/Output\\frame226.jpg  \n",
      "  inflating: pothole_img250/Output\\frame13.jpg  \n",
      "  inflating: pothole_img250/Output\\frame7.jpg  \n",
      "  inflating: pothole_img250/Output\\frame71.jpg  \n",
      "  inflating: pothole_img250/Output\\frame168.jpg  \n",
      "  inflating: pothole_img250/Output\\frame220.jpg  \n",
      "  inflating: pothole_img250/Output\\frame140.jpg  \n",
      "  inflating: pothole_img250/Output\\frame53.jpg  \n",
      "  inflating: pothole_img250/Output\\frame120.jpg  \n",
      "  inflating: pothole_img250/Output\\frame170.jpg  \n",
      "  inflating: pothole_img250/Output\\frame15.jpg  \n",
      "  inflating: pothole_img250/Output\\frame81.jpg  \n",
      "  inflating: pothole_img250/Output\\frame121.jpg  \n",
      "  inflating: pothole_img250/Output\\frame224.jpg  \n",
      "  inflating: pothole_img250/Output\\frame19.jpg  \n",
      "  inflating: pothole_img250/Output\\frame142.jpg  \n",
      "  inflating: pothole_img250/Output\\frame134.jpg  \n",
      "  inflating: pothole_img250/Output\\frame68.jpg  \n",
      "  inflating: pothole_img250/Output\\frame197.jpg  \n",
      "  inflating: pothole_img250/Output\\frame192.jpg  \n",
      "  inflating: pothole_img250/Output\\frame40.jpg  \n",
      "  inflating: pothole_img250/Output\\frame58.jpg  \n",
      "  inflating: pothole_img250/Output\\frame105.jpg  \n",
      "  inflating: pothole_img250/Output\\frame232.jpg  \n",
      "  inflating: pothole_img250/Output\\frame250.jpg  \n",
      "  inflating: pothole_img250/Output\\frame55.jpg  \n",
      "  inflating: pothole_img250/Output\\frame34.jpg  \n",
      "  inflating: pothole_img250/Output\\frame112.jpg  \n",
      "  inflating: pothole_img250/Output\\frame132.jpg  \n",
      "  inflating: pothole_img250/Output\\frame43.jpg  \n",
      "  inflating: pothole_img250/Output\\frame200.jpg  \n",
      "  inflating: pothole_img250/Output\\frame51.jpg  \n",
      "  inflating: pothole_img250/Output\\frame88.jpg  \n",
      "  inflating: pothole_img250/Output\\frame33.jpg  \n",
      "  inflating: pothole_img250/Output\\frame145.jpg  \n",
      "  inflating: pothole_img250/Output\\frame169.jpg  \n",
      "  inflating: pothole_img250/Output\\frame194.jpg  \n",
      "  inflating: pothole_img250/Output\\frame150.jpg  \n",
      "  inflating: pothole_img250/Output\\frame199.jpg  \n",
      "  inflating: pothole_img250/Output\\frame249.jpg  \n",
      "  inflating: pothole_img250/Output\\frame244.jpg  \n",
      "  inflating: pothole_img250/Output\\frame1.jpg  \n",
      "  inflating: pothole_img250/Output\\frame30.jpg  \n",
      "  inflating: pothole_img250/Output\\frame190.jpg  \n",
      "  inflating: pothole_img250/Output\\frame162.jpg  \n",
      "  inflating: pothole_img250/Output\\frame45.jpg  \n",
      "  inflating: pothole_img250/Output\\frame124.jpg  \n",
      "  inflating: pothole_img250/Output\\frame107.jpg  \n",
      "  inflating: pothole_img250/Output\\frame183.jpg  \n",
      "  inflating: pothole_img250/Output\\frame63.jpg  \n",
      "  inflating: pothole_img250/Output\\frame79.jpg  \n",
      "  inflating: pothole_img250/Output\\frame240.jpg  \n",
      "  inflating: pothole_img250/Output\\frame202.jpg  \n",
      "  inflating: pothole_img250/Output\\frame70.jpg  \n",
      "  inflating: pothole_img250/Output\\frame189.jpg  \n",
      "  inflating: pothole_img250/Output\\frame156.jpg  \n",
      "  inflating: pothole_img250/Output\\frame126.jpg  \n",
      "  inflating: pothole_img250/Output\\frame217.jpg  \n",
      "  inflating: pothole_img250/Output\\frame98.jpg  \n",
      "  inflating: pothole_img250/Output\\frame241.jpg  \n",
      "  inflating: pothole_img250/Output\\frame229.jpg  \n",
      "  inflating: pothole_img250/Output\\frame106.jpg  \n",
      "  inflating: pothole_img250/Output\\frame115.jpg  \n",
      "  inflating: pothole_img250/Output\\frame185.jpg  \n",
      "  inflating: pothole_img250/Output\\frame76.jpg  \n",
      "  inflating: pothole_img250/Output\\frame236.jpg  \n",
      "  inflating: pothole_img250/Output\\frame54.jpg  \n",
      "  inflating: pothole_img250/Output\\frame59.jpg  \n",
      "  inflating: pothole_img250/Output\\frame233.jpg  \n",
      "  inflating: pothole_img250/Output\\frame95.jpg  \n",
      "  inflating: pothole_img250/Output\\frame223.jpg  \n",
      "  inflating: pothole_img250/Output\\frame158.jpg  \n",
      "  inflating: pothole_img250/Output\\frame216.jpg  \n",
      "  inflating: pothole_img250/Output\\frame61.jpg  \n",
      "  inflating: pothole_img250/Output\\frame93.jpg  \n",
      "  inflating: pothole_img250/Output\\frame191.jpg  \n",
      "  inflating: pothole_img250/Output\\frame247.jpg  \n",
      "  inflating: pothole_img250/Output\\frame37.jpg  \n",
      "  inflating: pothole_img250/Output\\frame32.jpg  \n",
      "  inflating: pothole_img250/Output\\frame212.jpg  \n",
      "  inflating: pothole_img250/Output\\frame147.jpg  \n",
      "  inflating: pothole_img250/Output\\frame74.jpg  \n",
      "  inflating: pothole_img250/Output\\frame25.jpg  \n",
      "  inflating: pothole_img250/Output\\frame80.jpg  \n",
      "  inflating: pothole_img250/Output\\frame130.jpg  \n",
      "  inflating: pothole_img250/Output\\frame48.jpg  \n",
      "  inflating: pothole_img250/Output\\frame188.jpg  \n",
      "  inflating: pothole_img250/Output\\frame211.jpg  \n",
      "  inflating: pothole_img250/Output\\frame116.jpg  \n",
      "  inflating: pothole_img250/Output\\frame26.jpg  \n",
      "  inflating: pothole_img250/Output\\frame237.jpg  \n",
      "  inflating: pothole_img250/Output\\frame187.jpg  \n",
      "  inflating: pothole_img250/Output\\frame14.jpg  \n",
      "  inflating: pothole_img250/Output\\frame214.jpg  \n",
      "  inflating: pothole_img250/Output\\frame218.jpg  \n",
      "  inflating: pothole_img250/Output\\frame96.jpg  \n",
      "  inflating: pothole_img250/Output\\frame113.jpg  \n",
      "  inflating: pothole_img250/Output\\frame60.jpg  \n",
      "  inflating: pothole_img250/Output\\frame157.jpg  \n",
      "  inflating: pothole_img250/Output\\frame198.jpg  \n",
      "  inflating: pothole_img250/Output\\frame108.jpg  \n",
      "  inflating: pothole_img250/Output\\frame89.jpg  \n",
      "  inflating: pothole_img250/Output\\frame128.jpg  \n",
      "  inflating: pothole_img250/Output\\frame196.jpg  \n",
      "  inflating: pothole_img250/Output\\frame137.jpg  \n",
      "  inflating: pothole_img250/Output\\frame133.jpg  \n",
      "  inflating: pothole_img250/Output\\frame22.jpg  \n",
      "  inflating: pothole_img250/Output\\frame41.jpg  \n",
      "  inflating: pothole_img250/Output\\frame238.jpg  \n",
      "  inflating: pothole_img250/Output\\frame20.jpg  \n",
      "  inflating: pothole_img250/Output\\frame119.jpg  \n",
      "  inflating: pothole_img250/Output\\frame102.jpg  \n",
      "  inflating: pothole_img250/Output\\frame35.jpg  \n",
      "  inflating: pothole_img250/Output\\frame103.jpg  \n",
      "  inflating: pothole_img250/Output\\frame179.jpg  \n",
      "  inflating: pothole_img250/Output\\frame234.jpg  \n",
      "  inflating: pothole_img250/Output\\frame246.jpg  \n",
      "  inflating: pothole_img250/Output\\frame201.jpg  \n",
      "  inflating: pothole_img250/Output\\frame44.jpg  \n",
      "  inflating: pothole_img250/Output\\frame12.jpg  \n",
      "  inflating: pothole_img250/Output\\frame206.jpg  \n",
      "  inflating: pothole_img250/Output\\frame87.jpg  \n",
      "  inflating: pothole_img250/Output\\frame182.jpg  \n",
      "  inflating: pothole_img250/Output\\frame27.jpg  \n",
      "  inflating: pothole_img250/Output\\frame4.jpg  \n",
      "  inflating: pothole_img250/via_region_data_img250.json  \n",
      "  inflating: pothole_img250/Output\\frame184.jpg  \n",
      "  inflating: pothole_img250/Output\\frame84.jpg  \n",
      "  inflating: pothole_img250/Output\\frame161.jpg  \n",
      "  inflating: pothole_img250/Output\\frame171.jpg  \n",
      "  inflating: pothole_img250/Output\\frame195.jpg  \n",
      "  inflating: pothole_img250/Output\\frame109.jpg  \n",
      "  inflating: pothole_img250/Output\\frame42.jpg  \n",
      "  inflating: pothole_img250/Output\\frame129.jpg  \n",
      "  inflating: pothole_img250/Output\\frame222.jpg  \n",
      "  inflating: pothole_img250/Output\\frame49.jpg  \n",
      "  inflating: pothole_img250/Output\\frame225.jpg  \n",
      "  inflating: pothole_img250/Output\\frame75.jpg  \n",
      "  inflating: pothole_img250/Output\\frame136.jpg  \n",
      "  inflating: pothole_img250/Output\\frame72.jpg  \n",
      "  inflating: pothole_img250/Output\\frame0.jpg  \n",
      "  inflating: pothole_img250/Output\\frame135.jpg  \n",
      "  inflating: pothole_img250/Output\\frame248.jpg  \n",
      "  inflating: pothole_img250/Output\\frame65.jpg  \n",
      "  inflating: pothole_img250/Output\\frame167.jpg  \n",
      "  inflating: pothole_img250/Output\\frame57.jpg  \n",
      "  inflating: pothole_img250/Output\\frame82.jpg  \n",
      "  inflating: pothole_img250/Output\\frame176.jpg  \n",
      "  inflating: pothole_img250/Output\\frame110.jpg  \n",
      "  inflating: pothole_img250/Output\\frame123.jpg  \n",
      "  inflating: pothole_img250/Output\\frame17.jpg  \n",
      "  inflating: pothole_img250/Output\\frame159.jpg  \n",
      "  inflating: pothole_img250/Output\\frame213.jpg  \n",
      "  inflating: pothole_img250/Output\\frame235.jpg  \n",
      "  inflating: pothole_img250/Output\\frame92.jpg  \n",
      "  inflating: pothole_img250/Output\\frame118.jpg  \n",
      "  inflating: pothole_img250/Output\\frame245.jpg  \n",
      "  inflating: pothole_img250/Output\\frame155.jpg  \n",
      "  inflating: pothole_img250/Output\\frame24.jpg  \n",
      "  inflating: pothole_img250/Output\\frame6.jpg  \n",
      "  inflating: pothole_img250/Output\\frame141.jpg  \n",
      "  inflating: pothole_img250/Output\\frame69.jpg  \n",
      "  inflating: pothole_img250/Output\\frame99.jpg  \n",
      "  inflating: pothole_img250/Output\\frame62.jpg  \n",
      "  inflating: pothole_img250/Output\\frame151.jpg  \n",
      "  inflating: pothole_img250/Output\\frame153.jpg  \n",
      "  inflating: pothole_img250/Output\\frame111.jpg  \n",
      "  inflating: pothole_img250/Output\\frame228.jpg  \n",
      "  inflating: pothole_img250/Output\\frame10.jpg  \n",
      "  inflating: pothole_img250/Output\\frame177.jpg  \n",
      "  inflating: pothole_img250/Output\\frame83.jpg  \n",
      "  inflating: pothole_img250/Output\\frame215.jpg  \n",
      "  inflating: pothole_img250/Output\\frame154.jpg  \n",
      "  inflating: pothole_img250/Output\\frame164.jpg  \n",
      "  inflating: pothole_img250/Output\\frame139.jpg  \n",
      "  inflating: pothole_img250/Output\\frame21.jpg  \n",
      "  inflating: pothole_img250/Output\\frame85.jpg  \n",
      "  inflating: pothole_img250/Output\\frame166.jpg  \n",
      "  inflating: pothole_img250/Output\\frame174.jpg  \n",
      "  inflating: pothole_img250/Output\\frame148.jpg  \n",
      "  inflating: pothole_img250/Output\\frame210.jpg  \n",
      "  inflating: pothole_img250/Output\\frame46.jpg  \n",
      "  inflating: pothole_img250/Output\\frame231.jpg  \n",
      "  inflating: pothole_img250/Output\\frame11.jpg  \n",
      "  inflating: pothole_img250/Output\\frame131.jpg  \n",
      "  inflating: pothole_img250/Output\\frame16.jpg  \n",
      "  inflating: pothole_img250/Output\\frame149.jpg  \n",
      "  inflating: pothole_img250/Output\\frame9.jpg  \n",
      "  inflating: pothole_img250/Output\\frame173.jpg  \n",
      "  inflating: pothole_img250/Output\\frame160.jpg  \n",
      "  inflating: pothole_img250/Output\\frame242.jpg  \n",
      "  inflating: pothole_img250/Output\\frame100.jpg  \n",
      "  inflating: pothole_img250/Output\\frame2.jpg  \n",
      "  inflating: pothole_img250/Output\\frame181.jpg  \n",
      "  inflating: pothole_img250/Output\\frame97.jpg  \n",
      "  inflating: pothole_img250/Output\\frame209.jpg  \n"
     ]
    }
   ],
   "source": [
    "!unzip pothole_img250.zip"
   ]
  },
  {
   "cell_type": "code",
   "execution_count": 5,
   "metadata": {
    "colab": {
     "base_uri": "https://localhost:8080/",
     "height": 765
    },
    "colab_type": "code",
    "id": "phWobiv4WkBo",
    "outputId": "ab9101c2-2116-4b13-f06e-11ca1abfbf37"
   },
   "outputs": [
    {
     "name": "stdout",
     "output_type": "stream",
     "text": [
      "Archive:  val.zip\n",
      "   creating: val/\n",
      "  inflating: val/Output\\frame295.jpg  \n",
      "  inflating: val/Output\\frame291.jpg  \n",
      "  inflating: val/Output\\frame272.jpg  \n",
      "  inflating: val/Output\\frame263.jpg  \n",
      "  inflating: val/Output\\frame284.jpg  \n",
      "  inflating: val/Output\\frame296.jpg  \n",
      "  inflating: val/Output\\frame294.jpg  \n",
      "  inflating: val/Output\\frame275.jpg  \n",
      "  inflating: val/Output\\frame261.jpg  \n",
      "  inflating: val/Output\\frame276.jpg  \n",
      "  inflating: val/Output\\frame282.jpg  \n",
      "  inflating: val/Output\\frame280.jpg  \n",
      "  inflating: val/Output\\frame268.jpg  \n",
      "  inflating: val/Output\\frame271.jpg  \n",
      "  inflating: val/Output\\frame292.jpg  \n",
      "  inflating: val/Output\\frame300.jpg  \n",
      "  inflating: val/Output\\frame278.jpg  \n",
      "  inflating: val/Output\\frame286.jpg  \n",
      "  inflating: val/Output\\frame283.jpg  \n",
      "  inflating: val/Output\\frame269.jpg  \n",
      "  inflating: val/Output\\frame262.jpg  \n",
      "  inflating: val/Output\\frame290.jpg  \n",
      "  inflating: val/Output\\frame277.jpg  \n",
      "  inflating: val/Output\\frame260.jpg  \n",
      "  inflating: val/Output\\frame293.jpg  \n",
      "  inflating: val/Output\\frame273.jpg  \n",
      "  inflating: val/via_region_data.json  \n",
      "  inflating: val/Output\\frame266.jpg  \n",
      "  inflating: val/Output\\frame299.jpg  \n",
      "  inflating: val/Output\\frame287.jpg  \n",
      "  inflating: val/Output\\frame265.jpg  \n",
      "  inflating: val/Output\\frame279.jpg  \n",
      "  inflating: val/Output\\frame281.jpg  \n",
      "  inflating: val/Output\\frame288.jpg  \n",
      "  inflating: val/Output\\frame285.jpg  \n",
      "  inflating: val/Output\\frame289.jpg  \n",
      "  inflating: val/Output\\frame298.jpg  \n",
      "  inflating: val/Output\\frame274.jpg  \n",
      "  inflating: val/Output\\frame267.jpg  \n",
      "  inflating: val/Output\\frame270.jpg  \n",
      "  inflating: val/Output\\frame297.jpg  \n",
      "  inflating: val/Output\\frame264.jpg  \n"
     ]
    }
   ],
   "source": [
    "!unzip val.zip"
   ]
  },
  {
   "cell_type": "code",
   "execution_count": 6,
   "metadata": {
    "colab": {
     "base_uri": "https://localhost:8080/",
     "height": 34
    },
    "colab_type": "code",
    "id": "WXMR3XLaWlMZ",
    "outputId": "239bedec-4b79-4f4d-96b4-4c56fb558dcc"
   },
   "outputs": [
    {
     "name": "stdout",
     "output_type": "stream",
     "text": [
      "customImages  pothole_img250  pothole_img250.zip  sample_data  val  val.zip\n"
     ]
    }
   ],
   "source": [
    "!ls"
   ]
  },
  {
   "cell_type": "code",
   "execution_count": 0,
   "metadata": {
    "colab": {},
    "colab_type": "code",
    "id": "lnU04QyyWmr0"
   },
   "outputs": [],
   "source": [
    "!rm -rf pothole_img250.zip"
   ]
  },
  {
   "cell_type": "code",
   "execution_count": 0,
   "metadata": {
    "colab": {},
    "colab_type": "code",
    "id": "kFI_xITnWo-h"
   },
   "outputs": [],
   "source": [
    "!rm -rf val.zip"
   ]
  },
  {
   "cell_type": "code",
   "execution_count": 9,
   "metadata": {
    "colab": {
     "base_uri": "https://localhost:8080/",
     "height": 34
    },
    "colab_type": "code",
    "id": "qOk3U-2fWqK8",
    "outputId": "33fef717-7fb9-46bf-d71d-7c16e0a19f4c"
   },
   "outputs": [
    {
     "name": "stdout",
     "output_type": "stream",
     "text": [
      "customImages  pothole_img250  sample_data  val\n"
     ]
    }
   ],
   "source": [
    "!ls"
   ]
  },
  {
   "cell_type": "code",
   "execution_count": 0,
   "metadata": {
    "colab": {},
    "colab_type": "code",
    "id": "Qi6JmD6MWr3g"
   },
   "outputs": [],
   "source": [
    "!mv pothole_img250/ train"
   ]
  },
  {
   "cell_type": "code",
   "execution_count": 11,
   "metadata": {
    "colab": {
     "base_uri": "https://localhost:8080/",
     "height": 34
    },
    "colab_type": "code",
    "id": "6hBv6o3mWu4s",
    "outputId": "71a9c51f-c515-46a8-aa00-f947c3683ab8"
   },
   "outputs": [
    {
     "name": "stdout",
     "output_type": "stream",
     "text": [
      "customImages  sample_data  train  val\n"
     ]
    }
   ],
   "source": [
    "!ls"
   ]
  },
  {
   "cell_type": "code",
   "execution_count": 0,
   "metadata": {
    "colab": {},
    "colab_type": "code",
    "id": "5Wslq6fAWwDF"
   },
   "outputs": [],
   "source": [
    "!mv train customImages/"
   ]
  },
  {
   "cell_type": "code",
   "execution_count": 0,
   "metadata": {
    "colab": {},
    "colab_type": "code",
    "id": "euVfiEyYW0e-"
   },
   "outputs": [],
   "source": [
    "!mv val customImages/"
   ]
  },
  {
   "cell_type": "code",
   "execution_count": 14,
   "metadata": {
    "colab": {
     "base_uri": "https://localhost:8080/",
     "height": 34
    },
    "colab_type": "code",
    "id": "KwGcPu05W3T4",
    "outputId": "8c776a19-0d71-4f09-e3af-7d4798cf64c2"
   },
   "outputs": [
    {
     "name": "stdout",
     "output_type": "stream",
     "text": [
      "train  val\n"
     ]
    }
   ],
   "source": [
    "!ls customImages/"
   ]
  },
  {
   "cell_type": "code",
   "execution_count": 15,
   "metadata": {
    "colab": {
     "base_uri": "https://localhost:8080/",
     "height": 34
    },
    "colab_type": "code",
    "id": "j8gEnj3GW7Z2",
    "outputId": "0bfb150e-64d2-4884-fd70-cd9209057285"
   },
   "outputs": [
    {
     "name": "stdout",
     "output_type": "stream",
     "text": [
      "/content/customImages\n"
     ]
    }
   ],
   "source": [
    "%cd customImages/"
   ]
  },
  {
   "cell_type": "code",
   "execution_count": 16,
   "metadata": {
    "colab": {
     "base_uri": "https://localhost:8080/",
     "height": 34
    },
    "colab_type": "code",
    "id": "VmtvtEehW_S0",
    "outputId": "2ff07705-479c-4d9f-ca00-f375a3f763fd"
   },
   "outputs": [
    {
     "name": "stdout",
     "output_type": "stream",
     "text": [
      "train  val\n"
     ]
    }
   ],
   "source": [
    "!ls"
   ]
  },
  {
   "cell_type": "code",
   "execution_count": 17,
   "metadata": {
    "colab": {
     "base_uri": "https://localhost:8080/",
     "height": 34
    },
    "colab_type": "code",
    "id": "R9R2nYaBXAr_",
    "outputId": "268b2d43-dc34-4384-e2de-5f3dee0336e7"
   },
   "outputs": [
    {
     "name": "stdout",
     "output_type": "stream",
     "text": [
      "/content/customImages/train\n"
     ]
    }
   ],
   "source": [
    "%cd train/"
   ]
  },
  {
   "cell_type": "code",
   "execution_count": 18,
   "metadata": {
    "colab": {
     "base_uri": "https://localhost:8080/",
     "height": 1445
    },
    "colab_type": "code",
    "id": "jUswWmwxXCvB",
    "outputId": "4ac70fda-bda1-4649-a8f7-0bb8fe9b10e8"
   },
   "outputs": [
    {
     "name": "stdout",
     "output_type": "stream",
     "text": [
      "'Output\\frame0.jpg'    'Output\\frame176.jpg'  'Output\\frame25.jpg'\n",
      "'Output\\frame100.jpg'  'Output\\frame177.jpg'  'Output\\frame26.jpg'\n",
      "'Output\\frame101.jpg'  'Output\\frame178.jpg'  'Output\\frame27.jpg'\n",
      "'Output\\frame102.jpg'  'Output\\frame179.jpg'  'Output\\frame28.jpg'\n",
      "'Output\\frame103.jpg'  'Output\\frame17.jpg'   'Output\\frame29.jpg'\n",
      "'Output\\frame104.jpg'  'Output\\frame180.jpg'  'Output\\frame2.jpg'\n",
      "'Output\\frame105.jpg'  'Output\\frame181.jpg'  'Output\\frame30.jpg'\n",
      "'Output\\frame106.jpg'  'Output\\frame182.jpg'  'Output\\frame31.jpg'\n",
      "'Output\\frame107.jpg'  'Output\\frame183.jpg'  'Output\\frame32.jpg'\n",
      "'Output\\frame108.jpg'  'Output\\frame184.jpg'  'Output\\frame33.jpg'\n",
      "'Output\\frame109.jpg'  'Output\\frame185.jpg'  'Output\\frame34.jpg'\n",
      "'Output\\frame10.jpg'   'Output\\frame186.jpg'  'Output\\frame35.jpg'\n",
      "'Output\\frame110.jpg'  'Output\\frame187.jpg'  'Output\\frame36.jpg'\n",
      "'Output\\frame111.jpg'  'Output\\frame188.jpg'  'Output\\frame37.jpg'\n",
      "'Output\\frame112.jpg'  'Output\\frame189.jpg'  'Output\\frame38.jpg'\n",
      "'Output\\frame113.jpg'  'Output\\frame18.jpg'   'Output\\frame39.jpg'\n",
      "'Output\\frame114.jpg'  'Output\\frame190.jpg'  'Output\\frame3.jpg'\n",
      "'Output\\frame115.jpg'  'Output\\frame191.jpg'  'Output\\frame40.jpg'\n",
      "'Output\\frame116.jpg'  'Output\\frame192.jpg'  'Output\\frame41.jpg'\n",
      "'Output\\frame117.jpg'  'Output\\frame193.jpg'  'Output\\frame42.jpg'\n",
      "'Output\\frame118.jpg'  'Output\\frame194.jpg'  'Output\\frame43.jpg'\n",
      "'Output\\frame119.jpg'  'Output\\frame195.jpg'  'Output\\frame44.jpg'\n",
      "'Output\\frame11.jpg'   'Output\\frame196.jpg'  'Output\\frame45.jpg'\n",
      "'Output\\frame120.jpg'  'Output\\frame197.jpg'  'Output\\frame46.jpg'\n",
      "'Output\\frame121.jpg'  'Output\\frame198.jpg'  'Output\\frame47.jpg'\n",
      "'Output\\frame122.jpg'  'Output\\frame199.jpg'  'Output\\frame48.jpg'\n",
      "'Output\\frame123.jpg'  'Output\\frame19.jpg'   'Output\\frame49.jpg'\n",
      "'Output\\frame124.jpg'  'Output\\frame1.jpg'    'Output\\frame4.jpg'\n",
      "'Output\\frame125.jpg'  'Output\\frame200.jpg'  'Output\\frame50.jpg'\n",
      "'Output\\frame126.jpg'  'Output\\frame201.jpg'  'Output\\frame51.jpg'\n",
      "'Output\\frame127.jpg'  'Output\\frame202.jpg'  'Output\\frame52.jpg'\n",
      "'Output\\frame128.jpg'  'Output\\frame203.jpg'  'Output\\frame53.jpg'\n",
      "'Output\\frame129.jpg'  'Output\\frame204.jpg'  'Output\\frame54.jpg'\n",
      "'Output\\frame12.jpg'   'Output\\frame205.jpg'  'Output\\frame55.jpg'\n",
      "'Output\\frame130.jpg'  'Output\\frame206.jpg'  'Output\\frame56.jpg'\n",
      "'Output\\frame131.jpg'  'Output\\frame207.jpg'  'Output\\frame57.jpg'\n",
      "'Output\\frame132.jpg'  'Output\\frame208.jpg'  'Output\\frame58.jpg'\n",
      "'Output\\frame133.jpg'  'Output\\frame209.jpg'  'Output\\frame59.jpg'\n",
      "'Output\\frame134.jpg'  'Output\\frame20.jpg'   'Output\\frame5.jpg'\n",
      "'Output\\frame135.jpg'  'Output\\frame210.jpg'  'Output\\frame60.jpg'\n",
      "'Output\\frame136.jpg'  'Output\\frame211.jpg'  'Output\\frame61.jpg'\n",
      "'Output\\frame137.jpg'  'Output\\frame212.jpg'  'Output\\frame62.jpg'\n",
      "'Output\\frame138.jpg'  'Output\\frame213.jpg'  'Output\\frame63.jpg'\n",
      "'Output\\frame139.jpg'  'Output\\frame214.jpg'  'Output\\frame64.jpg'\n",
      "'Output\\frame13.jpg'   'Output\\frame215.jpg'  'Output\\frame65.jpg'\n",
      "'Output\\frame140.jpg'  'Output\\frame216.jpg'  'Output\\frame66.jpg'\n",
      "'Output\\frame141.jpg'  'Output\\frame217.jpg'  'Output\\frame67.jpg'\n",
      "'Output\\frame142.jpg'  'Output\\frame218.jpg'  'Output\\frame68.jpg'\n",
      "'Output\\frame143.jpg'  'Output\\frame219.jpg'  'Output\\frame69.jpg'\n",
      "'Output\\frame144.jpg'  'Output\\frame21.jpg'   'Output\\frame6.jpg'\n",
      "'Output\\frame145.jpg'  'Output\\frame220.jpg'  'Output\\frame70.jpg'\n",
      "'Output\\frame146.jpg'  'Output\\frame221.jpg'  'Output\\frame71.jpg'\n",
      "'Output\\frame147.jpg'  'Output\\frame222.jpg'  'Output\\frame72.jpg'\n",
      "'Output\\frame148.jpg'  'Output\\frame223.jpg'  'Output\\frame73.jpg'\n",
      "'Output\\frame149.jpg'  'Output\\frame224.jpg'  'Output\\frame74.jpg'\n",
      "'Output\\frame14.jpg'   'Output\\frame225.jpg'  'Output\\frame75.jpg'\n",
      "'Output\\frame150.jpg'  'Output\\frame226.jpg'  'Output\\frame76.jpg'\n",
      "'Output\\frame151.jpg'  'Output\\frame227.jpg'  'Output\\frame77.jpg'\n",
      "'Output\\frame152.jpg'  'Output\\frame228.jpg'  'Output\\frame78.jpg'\n",
      "'Output\\frame153.jpg'  'Output\\frame229.jpg'  'Output\\frame79.jpg'\n",
      "'Output\\frame154.jpg'  'Output\\frame22.jpg'   'Output\\frame7.jpg'\n",
      "'Output\\frame155.jpg'  'Output\\frame230.jpg'  'Output\\frame80.jpg'\n",
      "'Output\\frame156.jpg'  'Output\\frame231.jpg'  'Output\\frame81.jpg'\n",
      "'Output\\frame157.jpg'  'Output\\frame232.jpg'  'Output\\frame82.jpg'\n",
      "'Output\\frame158.jpg'  'Output\\frame233.jpg'  'Output\\frame83.jpg'\n",
      "'Output\\frame159.jpg'  'Output\\frame234.jpg'  'Output\\frame84.jpg'\n",
      "'Output\\frame15.jpg'   'Output\\frame235.jpg'  'Output\\frame85.jpg'\n",
      "'Output\\frame160.jpg'  'Output\\frame236.jpg'  'Output\\frame86.jpg'\n",
      "'Output\\frame161.jpg'  'Output\\frame237.jpg'  'Output\\frame87.jpg'\n",
      "'Output\\frame162.jpg'  'Output\\frame238.jpg'  'Output\\frame88.jpg'\n",
      "'Output\\frame163.jpg'  'Output\\frame239.jpg'  'Output\\frame89.jpg'\n",
      "'Output\\frame164.jpg'  'Output\\frame23.jpg'   'Output\\frame8.jpg'\n",
      "'Output\\frame165.jpg'  'Output\\frame240.jpg'  'Output\\frame90.jpg'\n",
      "'Output\\frame166.jpg'  'Output\\frame241.jpg'  'Output\\frame91.jpg'\n",
      "'Output\\frame167.jpg'  'Output\\frame242.jpg'  'Output\\frame92.jpg'\n",
      "'Output\\frame168.jpg'  'Output\\frame243.jpg'  'Output\\frame93.jpg'\n",
      "'Output\\frame169.jpg'  'Output\\frame244.jpg'  'Output\\frame94.jpg'\n",
      "'Output\\frame16.jpg'   'Output\\frame245.jpg'  'Output\\frame95.jpg'\n",
      "'Output\\frame170.jpg'  'Output\\frame246.jpg'  'Output\\frame96.jpg'\n",
      "'Output\\frame171.jpg'  'Output\\frame247.jpg'  'Output\\frame97.jpg'\n",
      "'Output\\frame172.jpg'  'Output\\frame248.jpg'  'Output\\frame98.jpg'\n",
      "'Output\\frame173.jpg'  'Output\\frame249.jpg'  'Output\\frame99.jpg'\n",
      "'Output\\frame174.jpg'  'Output\\frame24.jpg'   'Output\\frame9.jpg'\n",
      "'Output\\frame175.jpg'  'Output\\frame250.jpg'   via_region_data_img250.json\n"
     ]
    }
   ],
   "source": [
    "!ls"
   ]
  },
  {
   "cell_type": "code",
   "execution_count": 0,
   "metadata": {
    "colab": {},
    "colab_type": "code",
    "id": "yGTqsp-DXDwm"
   },
   "outputs": [],
   "source": [
    "!mv via_region_data_img250.json via_region_data.json"
   ]
  },
  {
   "cell_type": "code",
   "execution_count": 20,
   "metadata": {
    "colab": {
     "base_uri": "https://localhost:8080/",
     "height": 34
    },
    "colab_type": "code",
    "id": "djBTLSjHXKL5",
    "outputId": "d4074118-7919-403d-b23d-b758c6f6297c"
   },
   "outputs": [
    {
     "name": "stdout",
     "output_type": "stream",
     "text": [
      "/content/customImages\n"
     ]
    }
   ],
   "source": [
    "%cd .."
   ]
  },
  {
   "cell_type": "code",
   "execution_count": 21,
   "metadata": {
    "colab": {
     "base_uri": "https://localhost:8080/",
     "height": 34
    },
    "colab_type": "code",
    "id": "HXk3474RXMqN",
    "outputId": "13be64be-003e-4859-8a9d-94b0ec17b046"
   },
   "outputs": [
    {
     "name": "stdout",
     "output_type": "stream",
     "text": [
      "train  val\n"
     ]
    }
   ],
   "source": [
    "!ls"
   ]
  },
  {
   "cell_type": "code",
   "execution_count": 22,
   "metadata": {
    "colab": {
     "base_uri": "https://localhost:8080/",
     "height": 34
    },
    "colab_type": "code",
    "id": "uvjlamC-XNbd",
    "outputId": "620a66dd-e704-4d54-cc5f-67b55e8a9aa8"
   },
   "outputs": [
    {
     "name": "stdout",
     "output_type": "stream",
     "text": [
      "/content/customImages/val\n"
     ]
    }
   ],
   "source": [
    "%cd val"
   ]
  },
  {
   "cell_type": "code",
   "execution_count": 23,
   "metadata": {
    "colab": {
     "base_uri": "https://localhost:8080/",
     "height": 255
    },
    "colab_type": "code",
    "id": "PwpDMgZ5XO6A",
    "outputId": "18e24640-eb46-4986-d5d5-cc1bfd966801"
   },
   "outputs": [
    {
     "name": "stdout",
     "output_type": "stream",
     "text": [
      "'Output\\frame260.jpg'  'Output\\frame274.jpg'  'Output\\frame288.jpg'\n",
      "'Output\\frame261.jpg'  'Output\\frame275.jpg'  'Output\\frame289.jpg'\n",
      "'Output\\frame262.jpg'  'Output\\frame276.jpg'  'Output\\frame290.jpg'\n",
      "'Output\\frame263.jpg'  'Output\\frame277.jpg'  'Output\\frame291.jpg'\n",
      "'Output\\frame264.jpg'  'Output\\frame278.jpg'  'Output\\frame292.jpg'\n",
      "'Output\\frame265.jpg'  'Output\\frame279.jpg'  'Output\\frame293.jpg'\n",
      "'Output\\frame266.jpg'  'Output\\frame280.jpg'  'Output\\frame294.jpg'\n",
      "'Output\\frame267.jpg'  'Output\\frame281.jpg'  'Output\\frame295.jpg'\n",
      "'Output\\frame268.jpg'  'Output\\frame282.jpg'  'Output\\frame296.jpg'\n",
      "'Output\\frame269.jpg'  'Output\\frame283.jpg'  'Output\\frame297.jpg'\n",
      "'Output\\frame270.jpg'  'Output\\frame284.jpg'  'Output\\frame298.jpg'\n",
      "'Output\\frame271.jpg'  'Output\\frame285.jpg'  'Output\\frame299.jpg'\n",
      "'Output\\frame272.jpg'  'Output\\frame286.jpg'  'Output\\frame300.jpg'\n",
      "'Output\\frame273.jpg'  'Output\\frame287.jpg'   via_region_data.json\n"
     ]
    }
   ],
   "source": [
    "!ls"
   ]
  },
  {
   "cell_type": "code",
   "execution_count": 24,
   "metadata": {
    "colab": {
     "base_uri": "https://localhost:8080/",
     "height": 34
    },
    "colab_type": "code",
    "id": "bGypTAzzXP_h",
    "outputId": "1309bb72-af92-4013-cc72-c756424b3814"
   },
   "outputs": [
    {
     "name": "stdout",
     "output_type": "stream",
     "text": [
      "/content/customImages\n"
     ]
    }
   ],
   "source": [
    "%cd .."
   ]
  },
  {
   "cell_type": "code",
   "execution_count": 25,
   "metadata": {
    "colab": {
     "base_uri": "https://localhost:8080/",
     "height": 34
    },
    "colab_type": "code",
    "id": "_LKwm8mzXTZW",
    "outputId": "fbd4edef-acf3-4ec8-a1e9-cc1064d25d9e"
   },
   "outputs": [
    {
     "name": "stdout",
     "output_type": "stream",
     "text": [
      "train  val\n"
     ]
    }
   ],
   "source": [
    "!ls"
   ]
  },
  {
   "cell_type": "code",
   "execution_count": 26,
   "metadata": {
    "colab": {
     "base_uri": "https://localhost:8080/",
     "height": 34
    },
    "colab_type": "code",
    "id": "2iDbOjUkXUY8",
    "outputId": "6a575736-4a33-4732-f8a1-2491a5553171"
   },
   "outputs": [
    {
     "name": "stdout",
     "output_type": "stream",
     "text": [
      "/content/customImages/train\n"
     ]
    }
   ],
   "source": [
    "%cd train"
   ]
  },
  {
   "cell_type": "code",
   "execution_count": 27,
   "metadata": {
    "colab": {
     "base_uri": "https://localhost:8080/",
     "height": 1445
    },
    "colab_type": "code",
    "id": "GbLUEHmJXV6k",
    "outputId": "4df44dac-c513-4022-af09-0bafeaf02b1f"
   },
   "outputs": [
    {
     "name": "stdout",
     "output_type": "stream",
     "text": [
      "'Output\\frame0.jpg'    'Output\\frame176.jpg'  'Output\\frame25.jpg'\n",
      "'Output\\frame100.jpg'  'Output\\frame177.jpg'  'Output\\frame26.jpg'\n",
      "'Output\\frame101.jpg'  'Output\\frame178.jpg'  'Output\\frame27.jpg'\n",
      "'Output\\frame102.jpg'  'Output\\frame179.jpg'  'Output\\frame28.jpg'\n",
      "'Output\\frame103.jpg'  'Output\\frame17.jpg'   'Output\\frame29.jpg'\n",
      "'Output\\frame104.jpg'  'Output\\frame180.jpg'  'Output\\frame2.jpg'\n",
      "'Output\\frame105.jpg'  'Output\\frame181.jpg'  'Output\\frame30.jpg'\n",
      "'Output\\frame106.jpg'  'Output\\frame182.jpg'  'Output\\frame31.jpg'\n",
      "'Output\\frame107.jpg'  'Output\\frame183.jpg'  'Output\\frame32.jpg'\n",
      "'Output\\frame108.jpg'  'Output\\frame184.jpg'  'Output\\frame33.jpg'\n",
      "'Output\\frame109.jpg'  'Output\\frame185.jpg'  'Output\\frame34.jpg'\n",
      "'Output\\frame10.jpg'   'Output\\frame186.jpg'  'Output\\frame35.jpg'\n",
      "'Output\\frame110.jpg'  'Output\\frame187.jpg'  'Output\\frame36.jpg'\n",
      "'Output\\frame111.jpg'  'Output\\frame188.jpg'  'Output\\frame37.jpg'\n",
      "'Output\\frame112.jpg'  'Output\\frame189.jpg'  'Output\\frame38.jpg'\n",
      "'Output\\frame113.jpg'  'Output\\frame18.jpg'   'Output\\frame39.jpg'\n",
      "'Output\\frame114.jpg'  'Output\\frame190.jpg'  'Output\\frame3.jpg'\n",
      "'Output\\frame115.jpg'  'Output\\frame191.jpg'  'Output\\frame40.jpg'\n",
      "'Output\\frame116.jpg'  'Output\\frame192.jpg'  'Output\\frame41.jpg'\n",
      "'Output\\frame117.jpg'  'Output\\frame193.jpg'  'Output\\frame42.jpg'\n",
      "'Output\\frame118.jpg'  'Output\\frame194.jpg'  'Output\\frame43.jpg'\n",
      "'Output\\frame119.jpg'  'Output\\frame195.jpg'  'Output\\frame44.jpg'\n",
      "'Output\\frame11.jpg'   'Output\\frame196.jpg'  'Output\\frame45.jpg'\n",
      "'Output\\frame120.jpg'  'Output\\frame197.jpg'  'Output\\frame46.jpg'\n",
      "'Output\\frame121.jpg'  'Output\\frame198.jpg'  'Output\\frame47.jpg'\n",
      "'Output\\frame122.jpg'  'Output\\frame199.jpg'  'Output\\frame48.jpg'\n",
      "'Output\\frame123.jpg'  'Output\\frame19.jpg'   'Output\\frame49.jpg'\n",
      "'Output\\frame124.jpg'  'Output\\frame1.jpg'    'Output\\frame4.jpg'\n",
      "'Output\\frame125.jpg'  'Output\\frame200.jpg'  'Output\\frame50.jpg'\n",
      "'Output\\frame126.jpg'  'Output\\frame201.jpg'  'Output\\frame51.jpg'\n",
      "'Output\\frame127.jpg'  'Output\\frame202.jpg'  'Output\\frame52.jpg'\n",
      "'Output\\frame128.jpg'  'Output\\frame203.jpg'  'Output\\frame53.jpg'\n",
      "'Output\\frame129.jpg'  'Output\\frame204.jpg'  'Output\\frame54.jpg'\n",
      "'Output\\frame12.jpg'   'Output\\frame205.jpg'  'Output\\frame55.jpg'\n",
      "'Output\\frame130.jpg'  'Output\\frame206.jpg'  'Output\\frame56.jpg'\n",
      "'Output\\frame131.jpg'  'Output\\frame207.jpg'  'Output\\frame57.jpg'\n",
      "'Output\\frame132.jpg'  'Output\\frame208.jpg'  'Output\\frame58.jpg'\n",
      "'Output\\frame133.jpg'  'Output\\frame209.jpg'  'Output\\frame59.jpg'\n",
      "'Output\\frame134.jpg'  'Output\\frame20.jpg'   'Output\\frame5.jpg'\n",
      "'Output\\frame135.jpg'  'Output\\frame210.jpg'  'Output\\frame60.jpg'\n",
      "'Output\\frame136.jpg'  'Output\\frame211.jpg'  'Output\\frame61.jpg'\n",
      "'Output\\frame137.jpg'  'Output\\frame212.jpg'  'Output\\frame62.jpg'\n",
      "'Output\\frame138.jpg'  'Output\\frame213.jpg'  'Output\\frame63.jpg'\n",
      "'Output\\frame139.jpg'  'Output\\frame214.jpg'  'Output\\frame64.jpg'\n",
      "'Output\\frame13.jpg'   'Output\\frame215.jpg'  'Output\\frame65.jpg'\n",
      "'Output\\frame140.jpg'  'Output\\frame216.jpg'  'Output\\frame66.jpg'\n",
      "'Output\\frame141.jpg'  'Output\\frame217.jpg'  'Output\\frame67.jpg'\n",
      "'Output\\frame142.jpg'  'Output\\frame218.jpg'  'Output\\frame68.jpg'\n",
      "'Output\\frame143.jpg'  'Output\\frame219.jpg'  'Output\\frame69.jpg'\n",
      "'Output\\frame144.jpg'  'Output\\frame21.jpg'   'Output\\frame6.jpg'\n",
      "'Output\\frame145.jpg'  'Output\\frame220.jpg'  'Output\\frame70.jpg'\n",
      "'Output\\frame146.jpg'  'Output\\frame221.jpg'  'Output\\frame71.jpg'\n",
      "'Output\\frame147.jpg'  'Output\\frame222.jpg'  'Output\\frame72.jpg'\n",
      "'Output\\frame148.jpg'  'Output\\frame223.jpg'  'Output\\frame73.jpg'\n",
      "'Output\\frame149.jpg'  'Output\\frame224.jpg'  'Output\\frame74.jpg'\n",
      "'Output\\frame14.jpg'   'Output\\frame225.jpg'  'Output\\frame75.jpg'\n",
      "'Output\\frame150.jpg'  'Output\\frame226.jpg'  'Output\\frame76.jpg'\n",
      "'Output\\frame151.jpg'  'Output\\frame227.jpg'  'Output\\frame77.jpg'\n",
      "'Output\\frame152.jpg'  'Output\\frame228.jpg'  'Output\\frame78.jpg'\n",
      "'Output\\frame153.jpg'  'Output\\frame229.jpg'  'Output\\frame79.jpg'\n",
      "'Output\\frame154.jpg'  'Output\\frame22.jpg'   'Output\\frame7.jpg'\n",
      "'Output\\frame155.jpg'  'Output\\frame230.jpg'  'Output\\frame80.jpg'\n",
      "'Output\\frame156.jpg'  'Output\\frame231.jpg'  'Output\\frame81.jpg'\n",
      "'Output\\frame157.jpg'  'Output\\frame232.jpg'  'Output\\frame82.jpg'\n",
      "'Output\\frame158.jpg'  'Output\\frame233.jpg'  'Output\\frame83.jpg'\n",
      "'Output\\frame159.jpg'  'Output\\frame234.jpg'  'Output\\frame84.jpg'\n",
      "'Output\\frame15.jpg'   'Output\\frame235.jpg'  'Output\\frame85.jpg'\n",
      "'Output\\frame160.jpg'  'Output\\frame236.jpg'  'Output\\frame86.jpg'\n",
      "'Output\\frame161.jpg'  'Output\\frame237.jpg'  'Output\\frame87.jpg'\n",
      "'Output\\frame162.jpg'  'Output\\frame238.jpg'  'Output\\frame88.jpg'\n",
      "'Output\\frame163.jpg'  'Output\\frame239.jpg'  'Output\\frame89.jpg'\n",
      "'Output\\frame164.jpg'  'Output\\frame23.jpg'   'Output\\frame8.jpg'\n",
      "'Output\\frame165.jpg'  'Output\\frame240.jpg'  'Output\\frame90.jpg'\n",
      "'Output\\frame166.jpg'  'Output\\frame241.jpg'  'Output\\frame91.jpg'\n",
      "'Output\\frame167.jpg'  'Output\\frame242.jpg'  'Output\\frame92.jpg'\n",
      "'Output\\frame168.jpg'  'Output\\frame243.jpg'  'Output\\frame93.jpg'\n",
      "'Output\\frame169.jpg'  'Output\\frame244.jpg'  'Output\\frame94.jpg'\n",
      "'Output\\frame16.jpg'   'Output\\frame245.jpg'  'Output\\frame95.jpg'\n",
      "'Output\\frame170.jpg'  'Output\\frame246.jpg'  'Output\\frame96.jpg'\n",
      "'Output\\frame171.jpg'  'Output\\frame247.jpg'  'Output\\frame97.jpg'\n",
      "'Output\\frame172.jpg'  'Output\\frame248.jpg'  'Output\\frame98.jpg'\n",
      "'Output\\frame173.jpg'  'Output\\frame249.jpg'  'Output\\frame99.jpg'\n",
      "'Output\\frame174.jpg'  'Output\\frame24.jpg'   'Output\\frame9.jpg'\n",
      "'Output\\frame175.jpg'  'Output\\frame250.jpg'   via_region_data.json\n"
     ]
    }
   ],
   "source": [
    "!ls"
   ]
  },
  {
   "cell_type": "code",
   "execution_count": 28,
   "metadata": {
    "colab": {
     "base_uri": "https://localhost:8080/",
     "height": 34
    },
    "colab_type": "code",
    "id": "NxQ0I4ntXWeg",
    "outputId": "0d5c36eb-a193-44ab-ea30-e0fbb7ab900e"
   },
   "outputs": [
    {
     "name": "stdout",
     "output_type": "stream",
     "text": [
      "/content/customImages\n"
     ]
    }
   ],
   "source": [
    "%cd .."
   ]
  },
  {
   "cell_type": "code",
   "execution_count": 29,
   "metadata": {
    "colab": {
     "base_uri": "https://localhost:8080/",
     "height": 34
    },
    "colab_type": "code",
    "id": "C8TaETkKXea4",
    "outputId": "eb9d7b5e-9976-48d0-baed-4a5f5a0d31c4"
   },
   "outputs": [
    {
     "name": "stdout",
     "output_type": "stream",
     "text": [
      "train  val\n"
     ]
    }
   ],
   "source": [
    "!ls"
   ]
  },
  {
   "cell_type": "code",
   "execution_count": 30,
   "metadata": {
    "colab": {
     "base_uri": "https://localhost:8080/",
     "height": 34
    },
    "colab_type": "code",
    "id": "ezZ4aS3PXfLH",
    "outputId": "c9f29c85-c6e5-407a-8f3c-b38690aa4151"
   },
   "outputs": [
    {
     "name": "stdout",
     "output_type": "stream",
     "text": [
      "/content\n"
     ]
    }
   ],
   "source": [
    "%cd .."
   ]
  },
  {
   "cell_type": "code",
   "execution_count": 31,
   "metadata": {
    "colab": {
     "base_uri": "https://localhost:8080/",
     "height": 34
    },
    "colab_type": "code",
    "id": "SFiHOPk6Xgjc",
    "outputId": "15c44a99-f10b-4113-b3e1-c7dd02fb52f4"
   },
   "outputs": [
    {
     "name": "stdout",
     "output_type": "stream",
     "text": [
      "customImages  sample_data\n"
     ]
    }
   ],
   "source": [
    "!ls"
   ]
  },
  {
   "cell_type": "code",
   "execution_count": 32,
   "metadata": {
    "colab": {
     "base_uri": "https://localhost:8080/",
     "height": 119
    },
    "colab_type": "code",
    "id": "wPwXUD51Xhkj",
    "outputId": "12a738de-1376-4d62-d2b2-a31c3feb3b7e"
   },
   "outputs": [
    {
     "name": "stdout",
     "output_type": "stream",
     "text": [
      "Cloning into 'Mask_RCNN'...\n",
      "remote: Enumerating objects: 1, done.\u001b[K\n",
      "remote: Counting objects: 100% (1/1), done.\u001b[K\n",
      "remote: Total 914 (delta 0), reused 0 (delta 0), pack-reused 913\u001b[K\n",
      "Receiving objects: 100% (914/914), 113.30 MiB | 35.14 MiB/s, done.\n",
      "Resolving deltas: 100% (540/540), done.\n"
     ]
    }
   ],
   "source": [
    "!git clone https://github.com/matterport/Mask_RCNN.git"
   ]
  },
  {
   "cell_type": "code",
   "execution_count": 33,
   "metadata": {
    "colab": {
     "base_uri": "https://localhost:8080/",
     "height": 34
    },
    "colab_type": "code",
    "id": "S8vW6qCPXouD",
    "outputId": "f693d533-93e3-4755-91b3-bd197e2a619f"
   },
   "outputs": [
    {
     "name": "stdout",
     "output_type": "stream",
     "text": [
      "customImages  Mask_RCNN  sample_data\n"
     ]
    }
   ],
   "source": [
    "!ls"
   ]
  },
  {
   "cell_type": "code",
   "execution_count": 34,
   "metadata": {
    "colab": {
     "base_uri": "https://localhost:8080/",
     "height": 34
    },
    "colab_type": "code",
    "id": "pkGGGeXLXsXg",
    "outputId": "0b89ff1e-c28d-4046-b108-db71fe30691f"
   },
   "outputs": [
    {
     "name": "stdout",
     "output_type": "stream",
     "text": [
      "/content/Mask_RCNN\n"
     ]
    }
   ],
   "source": [
    "%cd Mask_RCNN/"
   ]
  },
  {
   "cell_type": "code",
   "execution_count": 35,
   "metadata": {
    "colab": {
     "base_uri": "https://localhost:8080/",
     "height": 51
    },
    "colab_type": "code",
    "id": "kc07QhsaXutD",
    "outputId": "d342ba5f-6276-4351-ae36-8c67f8c94e41"
   },
   "outputs": [
    {
     "name": "stdout",
     "output_type": "stream",
     "text": [
      "assets\tLICENSE      mrcnn\trequirements.txt  setup.cfg\n",
      "images\tMANIFEST.in  README.md\tsamples\t\t  setup.py\n"
     ]
    }
   ],
   "source": [
    "!ls"
   ]
  },
  {
   "cell_type": "code",
   "execution_count": 36,
   "metadata": {
    "colab": {
     "base_uri": "https://localhost:8080/",
     "height": 1958
    },
    "colab_type": "code",
    "id": "2MecRgKtXv0o",
    "outputId": "e68ce93a-3c6c-4c8a-c463-ab28cd849397"
   },
   "outputs": [
    {
     "name": "stdout",
     "output_type": "stream",
     "text": [
      "Requirement already satisfied: numpy in /usr/local/lib/python3.6/dist-packages (from -r requirements.txt (line 1)) (1.14.6)\n",
      "Requirement already satisfied: scipy in /usr/local/lib/python3.6/dist-packages (from -r requirements.txt (line 2)) (0.19.1)\n",
      "Requirement already satisfied: Pillow in /usr/local/lib/python3.6/dist-packages (from -r requirements.txt (line 3)) (4.0.0)\n",
      "Collecting cython (from -r requirements.txt (line 4))\n",
      "\u001b[?25l  Downloading https://files.pythonhosted.org/packages/64/3f/cac281f3f019b825bbc03fa8cb7eb03d9c355f4aa9eef978279a4966cb21/Cython-0.29-cp36-cp36m-manylinux1_x86_64.whl (2.1MB)\n",
      "\u001b[K    100% |████████████████████████████████| 2.1MB 8.5MB/s \n",
      "\u001b[?25hRequirement already satisfied: matplotlib in /usr/local/lib/python3.6/dist-packages (from -r requirements.txt (line 5)) (2.1.2)\n",
      "Requirement already satisfied: scikit-image in /usr/local/lib/python3.6/dist-packages (from -r requirements.txt (line 6)) (0.13.1)\n",
      "Requirement already satisfied: tensorflow>=1.3.0 in /usr/local/lib/python3.6/dist-packages (from -r requirements.txt (line 7)) (1.12.0rc2)\n",
      "Requirement already satisfied: keras>=2.0.8 in /usr/local/lib/python3.6/dist-packages (from -r requirements.txt (line 8)) (2.1.6)\n",
      "Requirement already satisfied: opencv-python in /usr/local/lib/python3.6/dist-packages (from -r requirements.txt (line 9)) (3.4.3.18)\n",
      "Requirement already satisfied: h5py in /usr/local/lib/python3.6/dist-packages (from -r requirements.txt (line 10)) (2.8.0)\n",
      "Collecting imgaug (from -r requirements.txt (line 11))\n",
      "\u001b[?25l  Downloading https://files.pythonhosted.org/packages/ad/2e/748dbb7bb52ec8667098bae9b585f448569ae520031932687761165419a2/imgaug-0.2.6.tar.gz (631kB)\n",
      "\u001b[K    100% |████████████████████████████████| 634kB 13.1MB/s \n",
      "\u001b[?25hRequirement already satisfied: IPython[all] in /usr/local/lib/python3.6/dist-packages (from -r requirements.txt (line 12)) (5.5.0)\n",
      "Requirement already satisfied: olefile in /usr/local/lib/python3.6/dist-packages (from Pillow->-r requirements.txt (line 3)) (0.46)\n",
      "Requirement already satisfied: python-dateutil>=2.1 in /usr/local/lib/python3.6/dist-packages (from matplotlib->-r requirements.txt (line 5)) (2.5.3)\n",
      "Requirement already satisfied: cycler>=0.10 in /usr/local/lib/python3.6/dist-packages (from matplotlib->-r requirements.txt (line 5)) (0.10.0)\n",
      "Requirement already satisfied: pytz in /usr/local/lib/python3.6/dist-packages (from matplotlib->-r requirements.txt (line 5)) (2018.7)\n",
      "Requirement already satisfied: pyparsing!=2.0.4,!=2.1.2,!=2.1.6,>=2.0.1 in /usr/local/lib/python3.6/dist-packages (from matplotlib->-r requirements.txt (line 5)) (2.2.2)\n",
      "Requirement already satisfied: six>=1.10 in /usr/local/lib/python3.6/dist-packages (from matplotlib->-r requirements.txt (line 5)) (1.11.0)\n",
      "Requirement already satisfied: networkx>=1.8 in /usr/local/lib/python3.6/dist-packages (from scikit-image->-r requirements.txt (line 6)) (2.2)\n",
      "Requirement already satisfied: PyWavelets>=0.4.0 in /usr/local/lib/python3.6/dist-packages (from scikit-image->-r requirements.txt (line 6)) (1.0.1)\n",
      "Requirement already satisfied: protobuf>=3.6.1 in /usr/local/lib/python3.6/dist-packages (from tensorflow>=1.3.0->-r requirements.txt (line 7)) (3.6.1)\n",
      "Requirement already satisfied: gast>=0.2.0 in /usr/local/lib/python3.6/dist-packages (from tensorflow>=1.3.0->-r requirements.txt (line 7)) (0.2.0)\n",
      "Requirement already satisfied: grpcio>=1.8.6 in /usr/local/lib/python3.6/dist-packages (from tensorflow>=1.3.0->-r requirements.txt (line 7)) (1.15.0)\n",
      "Requirement already satisfied: keras-preprocessing>=1.0.5 in /usr/local/lib/python3.6/dist-packages (from tensorflow>=1.3.0->-r requirements.txt (line 7)) (1.0.5)\n",
      "Requirement already satisfied: keras-applications>=1.0.6 in /usr/local/lib/python3.6/dist-packages (from tensorflow>=1.3.0->-r requirements.txt (line 7)) (1.0.6)\n",
      "Requirement already satisfied: termcolor>=1.1.0 in /usr/local/lib/python3.6/dist-packages (from tensorflow>=1.3.0->-r requirements.txt (line 7)) (1.1.0)\n",
      "Requirement already satisfied: absl-py>=0.1.6 in /usr/local/lib/python3.6/dist-packages (from tensorflow>=1.3.0->-r requirements.txt (line 7)) (0.6.1)\n",
      "Requirement already satisfied: tensorboard<1.13.0,>=1.12.0 in /usr/local/lib/python3.6/dist-packages (from tensorflow>=1.3.0->-r requirements.txt (line 7)) (1.12.0)\n",
      "Requirement already satisfied: wheel>=0.26 in /usr/local/lib/python3.6/dist-packages (from tensorflow>=1.3.0->-r requirements.txt (line 7)) (0.32.2)\n",
      "Requirement already satisfied: astor>=0.6.0 in /usr/local/lib/python3.6/dist-packages (from tensorflow>=1.3.0->-r requirements.txt (line 7)) (0.7.1)\n",
      "Requirement already satisfied: pyyaml in /usr/local/lib/python3.6/dist-packages (from keras>=2.0.8->-r requirements.txt (line 8)) (3.13)\n",
      "Requirement already satisfied: simplegeneric>0.8 in /usr/local/lib/python3.6/dist-packages (from IPython[all]->-r requirements.txt (line 12)) (0.8.1)\n",
      "Requirement already satisfied: setuptools>=18.5 in /usr/local/lib/python3.6/dist-packages (from IPython[all]->-r requirements.txt (line 12)) (40.5.0)\n",
      "Requirement already satisfied: pexpect; sys_platform != \"win32\" in /usr/local/lib/python3.6/dist-packages (from IPython[all]->-r requirements.txt (line 12)) (4.6.0)\n",
      "Requirement already satisfied: pickleshare in /usr/local/lib/python3.6/dist-packages (from IPython[all]->-r requirements.txt (line 12)) (0.7.5)\n",
      "Requirement already satisfied: pygments in /usr/local/lib/python3.6/dist-packages (from IPython[all]->-r requirements.txt (line 12)) (2.1.3)\n",
      "Requirement already satisfied: decorator in /usr/local/lib/python3.6/dist-packages (from IPython[all]->-r requirements.txt (line 12)) (4.3.0)\n",
      "Requirement already satisfied: traitlets>=4.2 in /usr/local/lib/python3.6/dist-packages (from IPython[all]->-r requirements.txt (line 12)) (4.3.2)\n",
      "Requirement already satisfied: prompt-toolkit<2.0.0,>=1.0.4 in /usr/local/lib/python3.6/dist-packages (from IPython[all]->-r requirements.txt (line 12)) (1.0.15)\n",
      "Collecting ipyparallel; extra == \"all\" (from IPython[all]->-r requirements.txt (line 12))\n",
      "\u001b[?25l  Downloading https://files.pythonhosted.org/packages/de/58/0342ee79ea4cf134b2d81cd600a5263341efc8b688edaacd75827e07ac64/ipyparallel-6.2.3-py2.py3-none-any.whl (197kB)\n",
      "\u001b[K    100% |████████████████████████████████| 204kB 12.2MB/s \n",
      "\u001b[?25hCollecting nose>=0.10.1; extra == \"all\" (from IPython[all]->-r requirements.txt (line 12))\n",
      "\u001b[?25l  Downloading https://files.pythonhosted.org/packages/15/d8/dd071918c040f50fa1cf80da16423af51ff8ce4a0f2399b7bf8de45ac3d9/nose-1.3.7-py3-none-any.whl (154kB)\n",
      "\u001b[K    100% |████████████████████████████████| 163kB 16.6MB/s \n",
      "\u001b[?25hCollecting qtconsole; extra == \"all\" (from IPython[all]->-r requirements.txt (line 12))\n",
      "\u001b[?25l  Downloading https://files.pythonhosted.org/packages/37/22/0d8474f78a8c421d485ac2339de7c871d535160f09f170de90c8185b87c4/qtconsole-4.4.2-py2.py3-none-any.whl (112kB)\n",
      "\u001b[K    100% |████████████████████████████████| 112kB 18.6MB/s \n",
      "\u001b[?25hRequirement already satisfied: testpath; extra == \"all\" in /usr/local/lib/python3.6/dist-packages (from IPython[all]->-r requirements.txt (line 12)) (0.4.2)\n",
      "Requirement already satisfied: requests; extra == \"all\" in /usr/local/lib/python3.6/dist-packages (from IPython[all]->-r requirements.txt (line 12)) (2.18.4)\n",
      "Requirement already satisfied: ipykernel; extra == \"all\" in /usr/local/lib/python3.6/dist-packages (from IPython[all]->-r requirements.txt (line 12)) (4.6.1)\n",
      "Requirement already satisfied: nbformat; extra == \"all\" in /usr/local/lib/python3.6/dist-packages (from IPython[all]->-r requirements.txt (line 12)) (4.4.0)\n",
      "Collecting ipywidgets; extra == \"all\" (from IPython[all]->-r requirements.txt (line 12))\n",
      "\u001b[?25l  Downloading https://files.pythonhosted.org/packages/30/9a/a008c7b1183fac9e52066d80a379b3c64eab535bd9d86cdc29a0b766fd82/ipywidgets-7.4.2-py2.py3-none-any.whl (111kB)\n",
      "\u001b[K    100% |████████████████████████████████| 112kB 16.1MB/s \n",
      "\u001b[?25hCollecting Sphinx>=1.3; extra == \"all\" (from IPython[all]->-r requirements.txt (line 12))\n",
      "\u001b[?25l  Downloading https://files.pythonhosted.org/packages/35/e0/e9e83b244eaa382ba21896dda6172617e47aff0be225eb72782cca105d3c/Sphinx-1.8.1-py2.py3-none-any.whl (3.1MB)\n",
      "\u001b[K    100% |████████████████████████████████| 3.1MB 10.7MB/s \n",
      "\u001b[?25hRequirement already satisfied: notebook; extra == \"all\" in /usr/local/lib/python3.6/dist-packages (from IPython[all]->-r requirements.txt (line 12)) (5.2.2)\n",
      "Requirement already satisfied: nbconvert; extra == \"all\" in /usr/local/lib/python3.6/dist-packages (from IPython[all]->-r requirements.txt (line 12)) (5.4.0)\n",
      "Requirement already satisfied: markdown>=2.6.8 in /usr/local/lib/python3.6/dist-packages (from tensorboard<1.13.0,>=1.12.0->tensorflow>=1.3.0->-r requirements.txt (line 7)) (3.0.1)\n",
      "Requirement already satisfied: werkzeug>=0.11.10 in /usr/local/lib/python3.6/dist-packages (from tensorboard<1.13.0,>=1.12.0->tensorflow>=1.3.0->-r requirements.txt (line 7)) (0.14.1)\n",
      "Requirement already satisfied: ptyprocess>=0.5 in /usr/local/lib/python3.6/dist-packages (from pexpect; sys_platform != \"win32\"->IPython[all]->-r requirements.txt (line 12)) (0.6.0)\n",
      "Requirement already satisfied: ipython-genutils in /usr/local/lib/python3.6/dist-packages (from traitlets>=4.2->IPython[all]->-r requirements.txt (line 12)) (0.2.0)\n",
      "Requirement already satisfied: wcwidth in /usr/local/lib/python3.6/dist-packages (from prompt-toolkit<2.0.0,>=1.0.4->IPython[all]->-r requirements.txt (line 12)) (0.1.7)\n",
      "Requirement already satisfied: tornado>=4 in /usr/local/lib/python3.6/dist-packages (from ipyparallel; extra == \"all\"->IPython[all]->-r requirements.txt (line 12)) (4.5.3)\n",
      "Requirement already satisfied: pyzmq>=13 in /usr/local/lib/python3.6/dist-packages (from ipyparallel; extra == \"all\"->IPython[all]->-r requirements.txt (line 12)) (16.0.4)\n",
      "Requirement already satisfied: jupyter-client in /usr/local/lib/python3.6/dist-packages (from ipyparallel; extra == \"all\"->IPython[all]->-r requirements.txt (line 12)) (5.2.3)\n",
      "Requirement already satisfied: jupyter-core in /usr/local/lib/python3.6/dist-packages (from qtconsole; extra == \"all\"->IPython[all]->-r requirements.txt (line 12)) (4.4.0)\n",
      "Requirement already satisfied: chardet<3.1.0,>=3.0.2 in /usr/local/lib/python3.6/dist-packages (from requests; extra == \"all\"->IPython[all]->-r requirements.txt (line 12)) (3.0.4)\n",
      "Requirement already satisfied: idna<2.7,>=2.5 in /usr/local/lib/python3.6/dist-packages (from requests; extra == \"all\"->IPython[all]->-r requirements.txt (line 12)) (2.6)\n",
      "Requirement already satisfied: urllib3<1.23,>=1.21.1 in /usr/local/lib/python3.6/dist-packages (from requests; extra == \"all\"->IPython[all]->-r requirements.txt (line 12)) (1.22)\n",
      "Requirement already satisfied: certifi>=2017.4.17 in /usr/local/lib/python3.6/dist-packages (from requests; extra == \"all\"->IPython[all]->-r requirements.txt (line 12)) (2018.10.15)\n",
      "Requirement already satisfied: jsonschema!=2.5.0,>=2.4 in /usr/local/lib/python3.6/dist-packages (from nbformat; extra == \"all\"->IPython[all]->-r requirements.txt (line 12)) (2.6.0)\n",
      "Collecting widgetsnbextension~=3.4.0 (from ipywidgets; extra == \"all\"->IPython[all]->-r requirements.txt (line 12))\n",
      "\u001b[?25l  Downloading https://files.pythonhosted.org/packages/8a/81/35789a3952afb48238289171728072d26d6e76649ddc8b3588657a2d78c1/widgetsnbextension-3.4.2-py2.py3-none-any.whl (2.2MB)\n",
      "\u001b[K    100% |████████████████████████████████| 2.2MB 15.5MB/s \n",
      "\u001b[?25hCollecting sphinxcontrib-websupport (from Sphinx>=1.3; extra == \"all\"->IPython[all]->-r requirements.txt (line 12))\n",
      "  Downloading https://files.pythonhosted.org/packages/52/69/3c2fbdc3702358c5b34ee25e387b24838597ef099761fc9a42c166796e8f/sphinxcontrib_websupport-1.1.0-py2.py3-none-any.whl\n",
      "Collecting alabaster<0.8,>=0.7 (from Sphinx>=1.3; extra == \"all\"->IPython[all]->-r requirements.txt (line 12))\n",
      "  Downloading https://files.pythonhosted.org/packages/10/ad/00b090d23a222943eb0eda509720a404f531a439e803f6538f35136cae9e/alabaster-0.7.12-py2.py3-none-any.whl\n",
      "Collecting packaging (from Sphinx>=1.3; extra == \"all\"->IPython[all]->-r requirements.txt (line 12))\n",
      "  Downloading https://files.pythonhosted.org/packages/89/d1/92e6df2e503a69df9faab187c684585f0136662c12bb1f36901d426f3fab/packaging-18.0-py2.py3-none-any.whl\n",
      "Requirement already satisfied: Jinja2>=2.3 in /usr/local/lib/python3.6/dist-packages (from Sphinx>=1.3; extra == \"all\"->IPython[all]->-r requirements.txt (line 12)) (2.10)\n",
      "Collecting imagesize (from Sphinx>=1.3; extra == \"all\"->IPython[all]->-r requirements.txt (line 12))\n",
      "  Downloading https://files.pythonhosted.org/packages/fc/b6/aef66b4c52a6ad6ac18cf6ebc5731ed06d8c9ae4d3b2d9951f261150be67/imagesize-1.1.0-py2.py3-none-any.whl\n",
      "Collecting babel!=2.0,>=1.3 (from Sphinx>=1.3; extra == \"all\"->IPython[all]->-r requirements.txt (line 12))\n",
      "\u001b[?25l  Downloading https://files.pythonhosted.org/packages/b8/ad/c6f60602d3ee3d92fbed87675b6fb6a6f9a38c223343ababdb44ba201f10/Babel-2.6.0-py2.py3-none-any.whl (8.1MB)\n",
      "\u001b[K    100% |████████████████████████████████| 8.1MB 5.1MB/s \n",
      "\u001b[?25hCollecting docutils>=0.11 (from Sphinx>=1.3; extra == \"all\"->IPython[all]->-r requirements.txt (line 12))\n",
      "\u001b[?25l  Downloading https://files.pythonhosted.org/packages/36/fa/08e9e6e0e3cbd1d362c3bbee8d01d0aedb2155c4ac112b19ef3cae8eed8d/docutils-0.14-py3-none-any.whl (543kB)\n",
      "\u001b[K    100% |████████████████████████████████| 552kB 25.5MB/s \n",
      "\u001b[?25hCollecting snowballstemmer>=1.1 (from Sphinx>=1.3; extra == \"all\"->IPython[all]->-r requirements.txt (line 12))\n",
      "\u001b[?25l  Downloading https://files.pythonhosted.org/packages/d4/6c/8a935e2c7b54a37714656d753e4187ee0631988184ed50c0cf6476858566/snowballstemmer-1.2.1-py2.py3-none-any.whl (64kB)\n",
      "\u001b[K    100% |████████████████████████████████| 71kB 24.3MB/s \n",
      "\u001b[?25hRequirement already satisfied: terminado>=0.3.3; sys_platform != \"win32\" in /usr/local/lib/python3.6/dist-packages (from notebook; extra == \"all\"->IPython[all]->-r requirements.txt (line 12)) (0.8.1)\n",
      "Requirement already satisfied: pandocfilters>=1.4.1 in /usr/local/lib/python3.6/dist-packages (from nbconvert; extra == \"all\"->IPython[all]->-r requirements.txt (line 12)) (1.4.2)\n",
      "Requirement already satisfied: bleach in /usr/local/lib/python3.6/dist-packages (from nbconvert; extra == \"all\"->IPython[all]->-r requirements.txt (line 12)) (3.0.2)\n",
      "Requirement already satisfied: entrypoints>=0.2.2 in /usr/local/lib/python3.6/dist-packages (from nbconvert; extra == \"all\"->IPython[all]->-r requirements.txt (line 12)) (0.2.3)\n",
      "Requirement already satisfied: mistune>=0.8.1 in /usr/local/lib/python3.6/dist-packages (from nbconvert; extra == \"all\"->IPython[all]->-r requirements.txt (line 12)) (0.8.4)\n",
      "Requirement already satisfied: defusedxml in /usr/local/lib/python3.6/dist-packages (from nbconvert; extra == \"all\"->IPython[all]->-r requirements.txt (line 12)) (0.5.0)\n",
      "Requirement already satisfied: MarkupSafe>=0.23 in /usr/local/lib/python3.6/dist-packages (from Jinja2>=2.3->Sphinx>=1.3; extra == \"all\"->IPython[all]->-r requirements.txt (line 12)) (1.0)\n",
      "Requirement already satisfied: webencodings in /usr/local/lib/python3.6/dist-packages (from bleach->nbconvert; extra == \"all\"->IPython[all]->-r requirements.txt (line 12)) (0.5.1)\n",
      "Building wheels for collected packages: imgaug\n",
      "  Running setup.py bdist_wheel for imgaug ... \u001b[?25l-\b \b\\\b \bdone\n",
      "\u001b[?25h  Stored in directory: /root/.cache/pip/wheels/97/ec/48/0d25896c417b715af6236dbcef8f0bed136a1a5e52972fc6d0\n",
      "Successfully built imgaug\n",
      "Installing collected packages: cython, imgaug, ipyparallel, nose, qtconsole, widgetsnbextension, ipywidgets, sphinxcontrib-websupport, alabaster, packaging, imagesize, babel, docutils, snowballstemmer, Sphinx\n",
      "Successfully installed Sphinx-1.8.1 alabaster-0.7.12 babel-2.6.0 cython-0.29 docutils-0.14 imagesize-1.1.0 imgaug-0.2.6 ipyparallel-6.2.3 ipywidgets-7.4.2 nose-1.3.7 packaging-18.0 qtconsole-4.4.2 snowballstemmer-1.2.1 sphinxcontrib-websupport-1.1.0 widgetsnbextension-3.4.2\n"
     ]
    }
   ],
   "source": [
    "!pip install -r requirements.txt"
   ]
  },
  {
   "cell_type": "code",
   "execution_count": 37,
   "metadata": {
    "colab": {
     "base_uri": "https://localhost:8080/",
     "height": 952
    },
    "colab_type": "code",
    "id": "vEpIHbNpXxYf",
    "outputId": "bc07e5a8-6dd6-456f-f361-0907d5f5ea26"
   },
   "outputs": [
    {
     "name": "stderr",
     "output_type": "stream",
     "text": [
      "WARNING:root:Fail load requirements file, so using default ones.\n"
     ]
    },
    {
     "name": "stdout",
     "output_type": "stream",
     "text": [
      "running install\n",
      "running bdist_egg\n",
      "running egg_info\n",
      "creating mask_rcnn.egg-info\n",
      "writing mask_rcnn.egg-info/PKG-INFO\n",
      "writing dependency_links to mask_rcnn.egg-info/dependency_links.txt\n",
      "writing top-level names to mask_rcnn.egg-info/top_level.txt\n",
      "writing manifest file 'mask_rcnn.egg-info/SOURCES.txt'\n",
      "reading manifest file 'mask_rcnn.egg-info/SOURCES.txt'\n",
      "reading manifest template 'MANIFEST.in'\n",
      "writing manifest file 'mask_rcnn.egg-info/SOURCES.txt'\n",
      "installing library code to build/bdist.linux-x86_64/egg\n",
      "running install_lib\n",
      "running build_py\n",
      "creating build\n",
      "creating build/lib\n",
      "creating build/lib/mrcnn\n",
      "copying mrcnn/__init__.py -> build/lib/mrcnn\n",
      "copying mrcnn/utils.py -> build/lib/mrcnn\n",
      "copying mrcnn/parallel_model.py -> build/lib/mrcnn\n",
      "copying mrcnn/visualize.py -> build/lib/mrcnn\n",
      "copying mrcnn/config.py -> build/lib/mrcnn\n",
      "copying mrcnn/model.py -> build/lib/mrcnn\n",
      "creating build/bdist.linux-x86_64\n",
      "creating build/bdist.linux-x86_64/egg\n",
      "creating build/bdist.linux-x86_64/egg/mrcnn\n",
      "copying build/lib/mrcnn/__init__.py -> build/bdist.linux-x86_64/egg/mrcnn\n",
      "copying build/lib/mrcnn/utils.py -> build/bdist.linux-x86_64/egg/mrcnn\n",
      "copying build/lib/mrcnn/parallel_model.py -> build/bdist.linux-x86_64/egg/mrcnn\n",
      "copying build/lib/mrcnn/visualize.py -> build/bdist.linux-x86_64/egg/mrcnn\n",
      "copying build/lib/mrcnn/config.py -> build/bdist.linux-x86_64/egg/mrcnn\n",
      "copying build/lib/mrcnn/model.py -> build/bdist.linux-x86_64/egg/mrcnn\n",
      "byte-compiling build/bdist.linux-x86_64/egg/mrcnn/__init__.py to __init__.cpython-36.pyc\n",
      "byte-compiling build/bdist.linux-x86_64/egg/mrcnn/utils.py to utils.cpython-36.pyc\n",
      "byte-compiling build/bdist.linux-x86_64/egg/mrcnn/parallel_model.py to parallel_model.cpython-36.pyc\n",
      "byte-compiling build/bdist.linux-x86_64/egg/mrcnn/visualize.py to visualize.cpython-36.pyc\n",
      "byte-compiling build/bdist.linux-x86_64/egg/mrcnn/config.py to config.cpython-36.pyc\n",
      "byte-compiling build/bdist.linux-x86_64/egg/mrcnn/model.py to model.cpython-36.pyc\n",
      "creating build/bdist.linux-x86_64/egg/EGG-INFO\n",
      "copying mask_rcnn.egg-info/PKG-INFO -> build/bdist.linux-x86_64/egg/EGG-INFO\n",
      "copying mask_rcnn.egg-info/SOURCES.txt -> build/bdist.linux-x86_64/egg/EGG-INFO\n",
      "copying mask_rcnn.egg-info/dependency_links.txt -> build/bdist.linux-x86_64/egg/EGG-INFO\n",
      "copying mask_rcnn.egg-info/top_level.txt -> build/bdist.linux-x86_64/egg/EGG-INFO\n"
     ]
    },
    {
     "name": "stderr",
     "output_type": "stream",
     "text": [
      "zip_safe flag not set; analyzing archive contents...\n"
     ]
    },
    {
     "name": "stdout",
     "output_type": "stream",
     "text": [
      "creating dist\n",
      "creating 'dist/mask_rcnn-2.1-py3.6.egg' and adding 'build/bdist.linux-x86_64/egg' to it\n",
      "removing 'build/bdist.linux-x86_64/egg' (and everything under it)\n",
      "Processing mask_rcnn-2.1-py3.6.egg\n",
      "Copying mask_rcnn-2.1-py3.6.egg to /usr/local/lib/python3.6/dist-packages\n",
      "Adding mask-rcnn 2.1 to easy-install.pth file\n",
      "\n",
      "Installed /usr/local/lib/python3.6/dist-packages/mask_rcnn-2.1-py3.6.egg\n",
      "Processing dependencies for mask-rcnn==2.1\n",
      "Finished processing dependencies for mask-rcnn==2.1\n"
     ]
    }
   ],
   "source": [
    "# python setup install\n",
    "%run setup.py install"
   ]
  },
  {
   "cell_type": "code",
   "execution_count": 38,
   "metadata": {
    "colab": {
     "base_uri": "https://localhost:8080/",
     "height": 68
    },
    "colab_type": "code",
    "id": "zxAWRwI-X7cu",
    "outputId": "9f8cace7-7d06-495c-df11-d8b2954486d4"
   },
   "outputs": [
    {
     "name": "stdout",
     "output_type": "stream",
     "text": [
      "assets\timages\t     mask_rcnn.egg-info  requirements.txt  setup.py\n",
      "build\tLICENSE      mrcnn\t\t samples\n",
      "dist\tMANIFEST.in  README.md\t\t setup.cfg\n"
     ]
    }
   ],
   "source": [
    "!ls"
   ]
  },
  {
   "cell_type": "code",
   "execution_count": 39,
   "metadata": {
    "colab": {
     "base_uri": "https://localhost:8080/",
     "height": 224
    },
    "colab_type": "code",
    "id": "gP7XokyzX_ec",
    "outputId": "90b75e52-31a4-4629-9aa9-e61c81b9f85d"
   },
   "outputs": [
    {
     "name": "stdout",
     "output_type": "stream",
     "text": [
      "--2018-10-31 09:06:53--  https://raw.githubusercontent.com/priya-dwivedi/Deep-Learning/master/mask_rcnn_damage_detection/custom.py\n",
      "Resolving raw.githubusercontent.com (raw.githubusercontent.com)... 151.101.0.133, 151.101.64.133, 151.101.128.133, ...\n",
      "Connecting to raw.githubusercontent.com (raw.githubusercontent.com)|151.101.0.133|:443... connected.\n",
      "HTTP request sent, awaiting response... 200 OK\n",
      "Length: 13885 (14K) [text/plain]\n",
      "Saving to: ‘custom.py’\n",
      "\n",
      "\r",
      "custom.py             0%[                    ]       0  --.-KB/s               \r",
      "custom.py           100%[===================>]  13.56K  --.-KB/s    in 0.01s   \n",
      "\n",
      "2018-10-31 09:06:53 (1.38 MB/s) - ‘custom.py’ saved [13885/13885]\n",
      "\n"
     ]
    }
   ],
   "source": [
    "!wget https://raw.githubusercontent.com/priya-dwivedi/Deep-Learning/master/mask_rcnn_damage_detection/custom.py"
   ]
  },
  {
   "cell_type": "code",
   "execution_count": 40,
   "metadata": {
    "colab": {
     "base_uri": "https://localhost:8080/",
     "height": 68
    },
    "colab_type": "code",
    "id": "X9CdEup6YB4t",
    "outputId": "497cca20-d5da-4886-d3a5-c64f397d2768"
   },
   "outputs": [
    {
     "name": "stdout",
     "output_type": "stream",
     "text": [
      "assets\t   dist     MANIFEST.in\t\tREADME.md\t  setup.cfg\n",
      "build\t   images   mask_rcnn.egg-info\trequirements.txt  setup.py\n",
      "custom.py  LICENSE  mrcnn\t\tsamples\n"
     ]
    }
   ],
   "source": [
    "!ls"
   ]
  },
  {
   "cell_type": "code",
   "execution_count": 0,
   "metadata": {
    "colab": {},
    "colab_type": "code",
    "id": "4mOb8h_8YD0v"
   },
   "outputs": [],
   "source": [
    "!mkdir logs"
   ]
  },
  {
   "cell_type": "code",
   "execution_count": 87,
   "metadata": {
    "colab": {
     "base_uri": "https://localhost:8080/",
     "height": 85
    },
    "colab_type": "code",
    "id": "SqeMzvCmYGKN",
    "outputId": "d6e4bbd9-967f-4ebf-b7e8-e123c01d3821"
   },
   "outputs": [
    {
     "name": "stdout",
     "output_type": "stream",
     "text": [
      "assets\t      dist     MANIFEST.in\t\t __pycache__\t   setup.cfg\n",
      "build\t      images   mask_rcnn_damage_0010.h5  README.md\t   setup.py\n",
      "customImages  LICENSE  mask_rcnn.egg-info\t requirements.txt\n",
      "custom.py     logs     mrcnn\t\t\t samples\n"
     ]
    }
   ],
   "source": [
    "!ls"
   ]
  },
  {
   "cell_type": "code",
   "execution_count": 0,
   "metadata": {
    "colab": {},
    "colab_type": "code",
    "id": "Z4g_cn0IYGlM"
   },
   "outputs": [],
   "source": [
    "import os\n",
    "import sys\n",
    "import itertools\n",
    "import math\n",
    "import logging\n",
    "import json\n",
    "import re\n",
    "import random\n",
    "from collections import OrderedDict\n",
    "import numpy as np\n",
    "import matplotlib\n",
    "import matplotlib.pyplot as plt\n",
    "import matplotlib.patches as patches\n",
    "import matplotlib.lines as lines\n",
    "from matplotlib.patches import Polygon\n",
    "\n",
    "# Root directory of the project\n",
    "ROOT_DIR = os.getcwd()\n",
    "\n",
    "# Import Mask RCNN\n",
    "sys.path.append(ROOT_DIR)  # To find local version of the library\n",
    "from mrcnn import utils\n",
    "from mrcnn import visualize\n",
    "from mrcnn.visualize import display_images\n",
    "import mrcnn.model as modellib\n",
    "from mrcnn.model import log\n",
    "\n",
    "MODEL_DIR = os.path.join(ROOT_DIR, \"logs\")\n",
    "\n",
    "import custom\n",
    "\n",
    "%matplotlib inline"
   ]
  },
  {
   "cell_type": "code",
   "execution_count": 89,
   "metadata": {
    "colab": {
     "base_uri": "https://localhost:8080/",
     "height": 34
    },
    "colab_type": "code",
    "id": "MyE-CnJpYKSp",
    "outputId": "8bf0cda4-98d8-424e-e572-8c6e215b1d42"
   },
   "outputs": [
    {
     "name": "stdout",
     "output_type": "stream",
     "text": [
      "/content/Mask_RCNN/customImages\n"
     ]
    }
   ],
   "source": [
    "config = custom.CustomConfig()\n",
    "CUSTOM_DIR = os.path.join(ROOT_DIR, \"customImages\")\n",
    "print(CUSTOM_DIR)"
   ]
  },
  {
   "cell_type": "code",
   "execution_count": 90,
   "metadata": {
    "colab": {
     "base_uri": "https://localhost:8080/",
     "height": 85
    },
    "colab_type": "code",
    "id": "SmkWERokYNN3",
    "outputId": "39366471-3fa9-435e-f407-63309281ebb5"
   },
   "outputs": [
    {
     "name": "stdout",
     "output_type": "stream",
     "text": [
      "Image Count: 102\n",
      "Class Count: 2\n",
      "  0. BG                                                \n",
      "  1. damage                                            \n"
     ]
    }
   ],
   "source": [
    "# Load dataset\n",
    "# Get the dataset from the releases page\n",
    "# https://github.com/matterport/Mask_RCNN/releases\n",
    "dataset = custom.CustomDataset()\n",
    "dataset.load_custom(CUSTOM_DIR, \"train\")\n",
    "\n",
    "# Must call before using the dataset\n",
    "dataset.prepare()\n",
    "\n",
    "print(\"Image Count: {}\".format(len(dataset.image_ids)))\n",
    "print(\"Class Count: {}\".format(dataset.num_classes))\n",
    "for i, info in enumerate(dataset.class_info):\n",
    "    print(\"{:3}. {:50}\".format(i, info['name']))"
   ]
  },
  {
   "cell_type": "code",
   "execution_count": 46,
   "metadata": {
    "colab": {
     "base_uri": "https://localhost:8080/",
     "height": 34
    },
    "colab_type": "code",
    "id": "D0Yxc9QfYP9n",
    "outputId": "76b20179-e586-40df-e06a-0ac5802c286d"
   },
   "outputs": [
    {
     "name": "stdout",
     "output_type": "stream",
     "text": [
      "/content\n"
     ]
    }
   ],
   "source": [
    "%cd .."
   ]
  },
  {
   "cell_type": "code",
   "execution_count": 47,
   "metadata": {
    "colab": {
     "base_uri": "https://localhost:8080/",
     "height": 34
    },
    "colab_type": "code",
    "id": "a90_zUwxYhGu",
    "outputId": "8b4359ad-570d-4279-ac92-e97f907f6b81"
   },
   "outputs": [
    {
     "name": "stdout",
     "output_type": "stream",
     "text": [
      "customImages  Mask_RCNN  sample_data\n"
     ]
    }
   ],
   "source": [
    "!ls"
   ]
  },
  {
   "cell_type": "code",
   "execution_count": 0,
   "metadata": {
    "colab": {},
    "colab_type": "code",
    "id": "YiU2z4f3Yh3Y"
   },
   "outputs": [],
   "source": [
    "!mv customImages/ Mask_RCNN/"
   ]
  },
  {
   "cell_type": "code",
   "execution_count": 49,
   "metadata": {
    "colab": {
     "base_uri": "https://localhost:8080/",
     "height": 34
    },
    "colab_type": "code",
    "id": "0fQA5vzrYk_E",
    "outputId": "b567af41-dccb-4ce6-ee15-281d24d311c9"
   },
   "outputs": [
    {
     "name": "stdout",
     "output_type": "stream",
     "text": [
      "/content/Mask_RCNN\n"
     ]
    }
   ],
   "source": [
    "%cd Mask_RCNN/"
   ]
  },
  {
   "cell_type": "code",
   "execution_count": 91,
   "metadata": {
    "colab": {
     "base_uri": "https://localhost:8080/",
     "height": 85
    },
    "colab_type": "code",
    "id": "oOYeTxKmYnDi",
    "outputId": "47e40039-d272-4fae-cc9a-ff2e63993651"
   },
   "outputs": [
    {
     "name": "stdout",
     "output_type": "stream",
     "text": [
      "assets\t      dist     MANIFEST.in\t\t __pycache__\t   setup.cfg\n",
      "build\t      images   mask_rcnn_damage_0010.h5  README.md\t   setup.py\n",
      "customImages  LICENSE  mask_rcnn.egg-info\t requirements.txt\n",
      "custom.py     logs     mrcnn\t\t\t samples\n"
     ]
    }
   ],
   "source": [
    "!ls"
   ]
  },
  {
   "cell_type": "code",
   "execution_count": 110,
   "metadata": {
    "colab": {
     "base_uri": "https://localhost:8080/",
     "height": 921
    },
    "colab_type": "code",
    "id": "wIwOw1z2YnwK",
    "outputId": "226d7b67-035e-4a6b-ccc1-652954985a4c"
   },
   "outputs": [
    {
     "name": "stdout",
     "output_type": "stream",
     "text": [
      "\n",
      "Configurations:\n",
      "BACKBONE                       resnet101\n",
      "BACKBONE_STRIDES               [4, 8, 16, 32, 64]\n",
      "BATCH_SIZE                     1\n",
      "BBOX_STD_DEV                   [0.1 0.1 0.2 0.2]\n",
      "COMPUTE_BACKBONE_SHAPE         None\n",
      "DETECTION_MAX_INSTANCES        100\n",
      "DETECTION_MIN_CONFIDENCE       0.9\n",
      "DETECTION_NMS_THRESHOLD        0.3\n",
      "FPN_CLASSIF_FC_LAYERS_SIZE     1024\n",
      "GPU_COUNT                      1\n",
      "GRADIENT_CLIP_NORM             5.0\n",
      "IMAGES_PER_GPU                 1\n",
      "IMAGE_CHANNEL_COUNT            3\n",
      "IMAGE_MAX_DIM                  1024\n",
      "IMAGE_META_SIZE                14\n",
      "IMAGE_MIN_DIM                  800\n",
      "IMAGE_MIN_SCALE                0\n",
      "IMAGE_RESIZE_MODE              square\n",
      "IMAGE_SHAPE                    [1024 1024    3]\n",
      "LEARNING_MOMENTUM              0.9\n",
      "LEARNING_RATE                  0.001\n",
      "LOSS_WEIGHTS                   {'rpn_class_loss': 1.0, 'rpn_bbox_loss': 1.0, 'mrcnn_class_loss': 1.0, 'mrcnn_bbox_loss': 1.0, 'mrcnn_mask_loss': 1.0}\n",
      "MASK_POOL_SIZE                 14\n",
      "MASK_SHAPE                     [28, 28]\n",
      "MAX_GT_INSTANCES               100\n",
      "MEAN_PIXEL                     [123.7 116.8 103.9]\n",
      "MINI_MASK_SHAPE                (56, 56)\n",
      "NAME                           damage\n",
      "NUM_CLASSES                    2\n",
      "POOL_SIZE                      7\n",
      "POST_NMS_ROIS_INFERENCE        1000\n",
      "POST_NMS_ROIS_TRAINING         2000\n",
      "PRE_NMS_LIMIT                  6000\n",
      "ROI_POSITIVE_RATIO             0.33\n",
      "RPN_ANCHOR_RATIOS              [0.5, 1, 2]\n",
      "RPN_ANCHOR_SCALES              (32, 64, 128, 256, 512)\n",
      "RPN_ANCHOR_STRIDE              1\n",
      "RPN_BBOX_STD_DEV               [0.1 0.1 0.2 0.2]\n",
      "RPN_NMS_THRESHOLD              0.7\n",
      "RPN_TRAIN_ANCHORS_PER_IMAGE    256\n",
      "STEPS_PER_EPOCH                100\n",
      "TOP_DOWN_PYRAMID_SIZE          256\n",
      "TRAIN_BN                       False\n",
      "TRAIN_ROIS_PER_IMAGE           200\n",
      "USE_MINI_MASK                  True\n",
      "USE_RPN_ROIS                   True\n",
      "VALIDATION_STEPS               50\n",
      "WEIGHT_DECAY                   0.0001\n",
      "\n",
      "\n"
     ]
    }
   ],
   "source": [
    "class InferenceConfig(custom.CustomConfig):\n",
    "    # Set batch size to 1 since we'll be running inference on\n",
    "    # one image at a time. Batch size = GPU_COUNT * IMAGES_PER_GPU\n",
    "    GPU_COUNT = 1\n",
    "    IMAGES_PER_GPU = 1\n",
    "\n",
    "config = InferenceConfig()\n",
    "config.display()"
   ]
  },
  {
   "cell_type": "code",
   "execution_count": 66,
   "metadata": {
    "colab": {
     "base_uri": "https://localhost:8080/",
     "height": 2009
    },
    "colab_type": "code",
    "id": "IF-L89tnYyc8",
    "outputId": "f0e22347-0107-4b4b-d095-2f29b842ab35"
   },
   "outputs": [
    {
     "name": "stdout",
     "output_type": "stream",
     "text": [
      "Weights:  coco\n",
      "Dataset:  /content/Mask_RCNN/customImages\n",
      "Logs:  logs/\n",
      "\n",
      "Configurations:\n",
      "BACKBONE                       resnet101\n",
      "BACKBONE_STRIDES               [4, 8, 16, 32, 64]\n",
      "BATCH_SIZE                     2\n",
      "BBOX_STD_DEV                   [0.1 0.1 0.2 0.2]\n",
      "COMPUTE_BACKBONE_SHAPE         None\n",
      "DETECTION_MAX_INSTANCES        100\n",
      "DETECTION_MIN_CONFIDENCE       0.9\n",
      "DETECTION_NMS_THRESHOLD        0.3\n",
      "FPN_CLASSIF_FC_LAYERS_SIZE     1024\n",
      "GPU_COUNT                      1\n",
      "GRADIENT_CLIP_NORM             5.0\n",
      "IMAGES_PER_GPU                 2\n",
      "IMAGE_CHANNEL_COUNT            3\n",
      "IMAGE_MAX_DIM                  1024\n",
      "IMAGE_META_SIZE                14\n",
      "IMAGE_MIN_DIM                  800\n",
      "IMAGE_MIN_SCALE                0\n",
      "IMAGE_RESIZE_MODE              square\n",
      "IMAGE_SHAPE                    [1024 1024    3]\n",
      "LEARNING_MOMENTUM              0.9\n",
      "LEARNING_RATE                  0.001\n",
      "LOSS_WEIGHTS                   {'rpn_class_loss': 1.0, 'rpn_bbox_loss': 1.0, 'mrcnn_class_loss': 1.0, 'mrcnn_bbox_loss': 1.0, 'mrcnn_mask_loss': 1.0}\n",
      "MASK_POOL_SIZE                 14\n",
      "MASK_SHAPE                     [28, 28]\n",
      "MAX_GT_INSTANCES               100\n",
      "MEAN_PIXEL                     [123.7 116.8 103.9]\n",
      "MINI_MASK_SHAPE                (56, 56)\n",
      "NAME                           damage\n",
      "NUM_CLASSES                    2\n",
      "POOL_SIZE                      7\n",
      "POST_NMS_ROIS_INFERENCE        1000\n",
      "POST_NMS_ROIS_TRAINING         2000\n",
      "PRE_NMS_LIMIT                  6000\n",
      "ROI_POSITIVE_RATIO             0.33\n",
      "RPN_ANCHOR_RATIOS              [0.5, 1, 2]\n",
      "RPN_ANCHOR_SCALES              (32, 64, 128, 256, 512)\n",
      "RPN_ANCHOR_STRIDE              1\n",
      "RPN_BBOX_STD_DEV               [0.1 0.1 0.2 0.2]\n",
      "RPN_NMS_THRESHOLD              0.7\n",
      "RPN_TRAIN_ANCHORS_PER_IMAGE    256\n",
      "STEPS_PER_EPOCH                100\n",
      "TOP_DOWN_PYRAMID_SIZE          256\n",
      "TRAIN_BN                       False\n",
      "TRAIN_ROIS_PER_IMAGE           200\n",
      "USE_MINI_MASK                  True\n",
      "USE_RPN_ROIS                   True\n",
      "VALIDATION_STEPS               50\n",
      "WEIGHT_DECAY                   0.0001\n",
      "\n",
      "\n",
      "Loading weights  /mask_rcnn_coco.h5\n",
      "Training network heads\n",
      "\n",
      "Starting at epoch 0. LR=0.001\n",
      "\n",
      "Checkpoint Path: logs/damage20181031T1053/mask_rcnn_damage_{epoch:04d}.h5\n",
      "Selecting layers to train\n",
      "fpn_c5p5               (Conv2D)\n",
      "fpn_c4p4               (Conv2D)\n",
      "fpn_c3p3               (Conv2D)\n",
      "fpn_c2p2               (Conv2D)\n",
      "fpn_p5                 (Conv2D)\n",
      "fpn_p2                 (Conv2D)\n",
      "fpn_p3                 (Conv2D)\n",
      "fpn_p4                 (Conv2D)\n",
      "In model:  rpn_model\n",
      "    rpn_conv_shared        (Conv2D)\n",
      "    rpn_class_raw          (Conv2D)\n",
      "    rpn_bbox_pred          (Conv2D)\n",
      "mrcnn_mask_conv1       (TimeDistributed)\n",
      "mrcnn_mask_bn1         (TimeDistributed)\n",
      "mrcnn_mask_conv2       (TimeDistributed)\n",
      "mrcnn_mask_bn2         (TimeDistributed)\n",
      "mrcnn_class_conv1      (TimeDistributed)\n",
      "mrcnn_class_bn1        (TimeDistributed)\n",
      "mrcnn_mask_conv3       (TimeDistributed)\n",
      "mrcnn_mask_bn3         (TimeDistributed)\n",
      "mrcnn_class_conv2      (TimeDistributed)\n",
      "mrcnn_class_bn2        (TimeDistributed)\n",
      "mrcnn_mask_conv4       (TimeDistributed)\n",
      "mrcnn_mask_bn4         (TimeDistributed)\n",
      "mrcnn_bbox_fc          (TimeDistributed)\n",
      "mrcnn_mask_deconv      (TimeDistributed)\n",
      "mrcnn_class_logits     (TimeDistributed)\n",
      "mrcnn_mask             (TimeDistributed)\n"
     ]
    },
    {
     "name": "stderr",
     "output_type": "stream",
     "text": [
      "/usr/local/lib/python3.6/dist-packages/tensorflow/python/ops/gradients_impl.py:112: UserWarning: Converting sparse IndexedSlices to a dense Tensor of unknown shape. This may consume a large amount of memory.\n",
      "  \"Converting sparse IndexedSlices to a dense Tensor of unknown shape. \"\n",
      "/usr/local/lib/python3.6/dist-packages/keras/engine/training.py:2087: UserWarning: Using a generator with `use_multiprocessing=True` and multiple workers may duplicate your data. Please consider using the`keras.utils.Sequence class.\n",
      "  UserWarning('Using a generator with `use_multiprocessing=True`'\n"
     ]
    },
    {
     "name": "stdout",
     "output_type": "stream",
     "text": [
      "Epoch 1/10\n",
      " 99/100 [============================>.] - ETA: 2s - loss: 2.1315 - rpn_class_loss: 0.0222 - rpn_bbox_loss: 0.7108 - mrcnn_class_loss: 0.0570 - mrcnn_bbox_loss: 0.7301 - mrcnn_mask_loss: 0.6114"
     ]
    },
    {
     "name": "stderr",
     "output_type": "stream",
     "text": [
      "/usr/local/lib/python3.6/dist-packages/keras/engine/training.py:2348: UserWarning: Using a generator with `use_multiprocessing=True` and multiple workers may duplicate your data. Please consider using the`keras.utils.Sequence class.\n",
      "  UserWarning('Using a generator with `use_multiprocessing=True`'\n"
     ]
    },
    {
     "name": "stdout",
     "output_type": "stream",
     "text": [
      "\b\b\b\b\b\b\b\b\b\b\b\b\b\b\b\b\b\b\b\b\b\b\b\b\b\b\b\b\b\b\b\b\b\b\b\b\b\b\b\b\b\b\b\b\b\b\b\b\b\b\b\b\b\b\b\b\b\b\b\b\b\b\b\b\b\b\b\b\b\b\b\b\b\b\b\b\b\b\b\b\b\b\b\b\b\b\b\b\b\b\b\b\b\b\b\b\b\b\b\b\b\b\b\b\b\b\b\b\b\b\b\b\b\b\b\b\b\b\b\b\b\b\b\b\b\b\b\b\b\b\b\b\b\b\b\b\b\b\b\b\b\b\b\b\b\b\b\b\b\b\b\b\b\b\b\b\b\b\b\b\b\b\b\b\b\b\b\b\b\b\b\b\b\b\b\b\b\b\b\b\b\b\b\b\b\b\b\b\b\b\b\b\b\r",
      "100/100 [==============================] - 361s 4s/step - loss: 2.1261 - rpn_class_loss: 0.0221 - rpn_bbox_loss: 0.7061 - mrcnn_class_loss: 0.0573 - mrcnn_bbox_loss: 0.7300 - mrcnn_mask_loss: 0.6104 - val_loss: 1.5449 - val_rpn_class_loss: 0.0254 - val_rpn_bbox_loss: 0.4149 - val_mrcnn_class_loss: 0.0861 - val_mrcnn_bbox_loss: 0.5748 - val_mrcnn_mask_loss: 0.4437\n",
      "Epoch 2/10\n",
      "100/100 [==============================] - 322s 3s/step - loss: 1.4388 - rpn_class_loss: 0.0156 - rpn_bbox_loss: 0.4353 - mrcnn_class_loss: 0.0539 - mrcnn_bbox_loss: 0.5252 - mrcnn_mask_loss: 0.4089 - val_loss: 1.3919 - val_rpn_class_loss: 0.0247 - val_rpn_bbox_loss: 0.3769 - val_mrcnn_class_loss: 0.0994 - val_mrcnn_bbox_loss: 0.5039 - val_mrcnn_mask_loss: 0.3871\n",
      "Epoch 3/10\n",
      "100/100 [==============================] - 321s 3s/step - loss: 1.1888 - rpn_class_loss: 0.0134 - rpn_bbox_loss: 0.3665 - mrcnn_class_loss: 0.0445 - mrcnn_bbox_loss: 0.4003 - mrcnn_mask_loss: 0.3640 - val_loss: 1.4932 - val_rpn_class_loss: 0.0214 - val_rpn_bbox_loss: 0.4133 - val_mrcnn_class_loss: 0.0876 - val_mrcnn_bbox_loss: 0.5831 - val_mrcnn_mask_loss: 0.3878\n",
      "Epoch 4/10\n",
      "100/100 [==============================] - 322s 3s/step - loss: 1.0710 - rpn_class_loss: 0.0127 - rpn_bbox_loss: 0.3169 - mrcnn_class_loss: 0.0459 - mrcnn_bbox_loss: 0.3371 - mrcnn_mask_loss: 0.3585 - val_loss: 1.4527 - val_rpn_class_loss: 0.0201 - val_rpn_bbox_loss: 0.4109 - val_mrcnn_class_loss: 0.0869 - val_mrcnn_bbox_loss: 0.5391 - val_mrcnn_mask_loss: 0.3957\n",
      "Epoch 5/10\n",
      "100/100 [==============================] - 322s 3s/step - loss: 0.9482 - rpn_class_loss: 0.0116 - rpn_bbox_loss: 0.2467 - mrcnn_class_loss: 0.0456 - mrcnn_bbox_loss: 0.3059 - mrcnn_mask_loss: 0.3384 - val_loss: 1.4629 - val_rpn_class_loss: 0.0190 - val_rpn_bbox_loss: 0.4365 - val_mrcnn_class_loss: 0.0986 - val_mrcnn_bbox_loss: 0.5033 - val_mrcnn_mask_loss: 0.4055\n",
      "Epoch 6/10\n",
      "100/100 [==============================] - 322s 3s/step - loss: 0.8686 - rpn_class_loss: 0.0108 - rpn_bbox_loss: 0.2174 - mrcnn_class_loss: 0.0386 - mrcnn_bbox_loss: 0.2748 - mrcnn_mask_loss: 0.3270 - val_loss: 1.6034 - val_rpn_class_loss: 0.0188 - val_rpn_bbox_loss: 0.4220 - val_mrcnn_class_loss: 0.0916 - val_mrcnn_bbox_loss: 0.5882 - val_mrcnn_mask_loss: 0.4828\n",
      "Epoch 7/10\n",
      "100/100 [==============================] - 322s 3s/step - loss: 0.7765 - rpn_class_loss: 0.0112 - rpn_bbox_loss: 0.1729 - mrcnn_class_loss: 0.0410 - mrcnn_bbox_loss: 0.2379 - mrcnn_mask_loss: 0.3135 - val_loss: 1.5112 - val_rpn_class_loss: 0.0180 - val_rpn_bbox_loss: 0.4175 - val_mrcnn_class_loss: 0.0886 - val_mrcnn_bbox_loss: 0.5684 - val_mrcnn_mask_loss: 0.4187\n",
      "Epoch 8/10\n",
      "100/100 [==============================] - 323s 3s/step - loss: 0.6988 - rpn_class_loss: 0.0091 - rpn_bbox_loss: 0.1433 - mrcnn_class_loss: 0.0387 - mrcnn_bbox_loss: 0.2065 - mrcnn_mask_loss: 0.3013 - val_loss: 1.5312 - val_rpn_class_loss: 0.0160 - val_rpn_bbox_loss: 0.4667 - val_mrcnn_class_loss: 0.0818 - val_mrcnn_bbox_loss: 0.5464 - val_mrcnn_mask_loss: 0.4203\n",
      "Epoch 9/10\n",
      "100/100 [==============================] - 325s 3s/step - loss: 0.6250 - rpn_class_loss: 0.0088 - rpn_bbox_loss: 0.1135 - mrcnn_class_loss: 0.0366 - mrcnn_bbox_loss: 0.1897 - mrcnn_mask_loss: 0.2763 - val_loss: 1.5500 - val_rpn_class_loss: 0.0158 - val_rpn_bbox_loss: 0.4468 - val_mrcnn_class_loss: 0.0964 - val_mrcnn_bbox_loss: 0.5696 - val_mrcnn_mask_loss: 0.4215\n",
      "Epoch 10/10\n",
      "100/100 [==============================] - 324s 3s/step - loss: 0.5872 - rpn_class_loss: 0.0088 - rpn_bbox_loss: 0.1099 - mrcnn_class_loss: 0.0345 - mrcnn_bbox_loss: 0.1663 - mrcnn_mask_loss: 0.2677 - val_loss: 1.6649 - val_rpn_class_loss: 0.0165 - val_rpn_bbox_loss: 0.4658 - val_mrcnn_class_loss: 0.0936 - val_mrcnn_bbox_loss: 0.6624 - val_mrcnn_mask_loss: 0.4266\n"
     ]
    }
   ],
   "source": [
    "# %run custom.py train --dataset=/content/Mask_RCNN/customImages --weights=coco --logs logs/\n",
    "# %run custom.py evaluate --dataset=/content/Mask_RCNN/customImages --model=last\n"
   ]
  },
  {
   "cell_type": "code",
   "execution_count": 67,
   "metadata": {
    "colab": {
     "base_uri": "https://localhost:8080/",
     "height": 85
    },
    "colab_type": "code",
    "id": "zCq6uDy3g-lE",
    "outputId": "b5c4ec82-807e-4b5c-c4f3-4adf50874a27"
   },
   "outputs": [
    {
     "name": "stdout",
     "output_type": "stream",
     "text": [
      "assets\t      dist     MANIFEST.in\t   README.md\t     setup.py\n",
      "build\t      images   mask_rcnn.egg-info  requirements.txt\n",
      "customImages  LICENSE  mrcnn\t\t   samples\n",
      "custom.py     logs     __pycache__\t   setup.cfg\n"
     ]
    }
   ],
   "source": [
    "!ls"
   ]
  },
  {
   "cell_type": "code",
   "execution_count": 0,
   "metadata": {
    "colab": {},
    "colab_type": "code",
    "id": "1eYkwJ9__zW9"
   },
   "outputs": [],
   "source": [
    "!cp logs/damage20181031T1053/mask_rcnn_damage_0010.h5 /content/Mask_RCNN/"
   ]
  },
  {
   "cell_type": "code",
   "execution_count": 0,
   "metadata": {
    "colab": {},
    "colab_type": "code",
    "id": "ks3mmHXkY20Z"
   },
   "outputs": [],
   "source": [
    "# COCO_MODEL_PATH = os.path.join(ROOT_DIR, \"mask_rcnn_damage_0010.h5\")\n",
    "# did not create a model path call it directly"
   ]
  },
  {
   "cell_type": "code",
   "execution_count": 0,
   "metadata": {
    "colab": {},
    "colab_type": "code",
    "id": "RbQ__STRcfoo"
   },
   "outputs": [],
   "source": [
    "# Create model object in inference mode.\n",
    "model = modellib.MaskRCNN(mode=\"inference\", model_dir=MODEL_DIR, config=config)\n",
    "\n",
    "# Load weights trained on MS-COCO\n",
    "model.load_weights(\"mask_rcnn_damage_0010.h5\", by_name=True)"
   ]
  },
  {
   "cell_type": "code",
   "execution_count": 94,
   "metadata": {
    "colab": {
     "base_uri": "https://localhost:8080/",
     "height": 85
    },
    "colab_type": "code",
    "id": "NmJ7vlmdpWzz",
    "outputId": "348e9316-6dbe-43ac-dfb2-8f0e7e9d1a3b"
   },
   "outputs": [
    {
     "name": "stdout",
     "output_type": "stream",
     "text": [
      "assets\t      dist     MANIFEST.in\t\t __pycache__\t   setup.cfg\n",
      "build\t      images   mask_rcnn_damage_0010.h5  README.md\t   setup.py\n",
      "customImages  LICENSE  mask_rcnn.egg-info\t requirements.txt\n",
      "custom.py     logs     mrcnn\t\t\t samples\n"
     ]
    }
   ],
   "source": [
    "!ls"
   ]
  },
  {
   "cell_type": "code",
   "execution_count": 0,
   "metadata": {
    "colab": {},
    "colab_type": "code",
    "id": "Yp5PbclYpH3U"
   },
   "outputs": [],
   "source": [
    "# Custom Model Path\n",
    "\"\"\"\n",
    "# Create model in inference mode\n",
    "with tf.device(DEVICE):\n",
    "    model = modellib.MaskRCNN(mode=\"inference\", model_dir=MODEL_DIR,\n",
    "                              config=config)\n",
    "# Load weights\n",
    "weights_path = 'mask_rcnn_damage_0010.h5'\n",
    "\n",
    "# Load weights\n",
    "print(\"Loading weights \", weights_path)\n",
    "model.load_weights(weights_path, by_name=True)\n",
    "\"\"\""
   ]
  },
  {
   "cell_type": "code",
   "execution_count": 0,
   "metadata": {
    "colab": {},
    "colab_type": "code",
    "id": "elqiKXr12zlr"
   },
   "outputs": [],
   "source": [
    "class_names = ['BG', 'damage']"
   ]
  },
  {
   "cell_type": "code",
   "execution_count": 86,
   "metadata": {
    "colab": {
     "base_uri": "https://localhost:8080/",
     "height": 367
    },
    "colab_type": "code",
    "id": "T-RZrFGbqEUK",
    "outputId": "d3e8d9bf-8e2b-4190-987a-f800e8f7ed37"
   },
   "outputs": [
    {
     "name": "stdout",
     "output_type": "stream",
     "text": [
      "/content/Mask_RCNN/customImages/val\n"
     ]
    },
    {
     "ename": "AssertionError",
     "evalue": "ignored",
     "output_type": "error",
     "traceback": [
      "\u001b[0;31m---------------------------------------------------------------------------\u001b[0m",
      "\u001b[0;31mAssertionError\u001b[0m                            Traceback (most recent call last)",
      "\u001b[0;32m<ipython-input-86-837b01d7ddf1>\u001b[0m in \u001b[0;36m<module>\u001b[0;34m()\u001b[0m\n\u001b[1;32m      6\u001b[0m \u001b[0;34m\u001b[0m\u001b[0m\n\u001b[1;32m      7\u001b[0m \u001b[0;31m# Run detection\u001b[0m\u001b[0;34m\u001b[0m\u001b[0;34m\u001b[0m\u001b[0m\n\u001b[0;32m----> 8\u001b[0;31m \u001b[0mresults\u001b[0m \u001b[0;34m=\u001b[0m \u001b[0mmodel\u001b[0m\u001b[0;34m.\u001b[0m\u001b[0mdetect\u001b[0m\u001b[0;34m(\u001b[0m\u001b[0;34m[\u001b[0m\u001b[0mimage\u001b[0m\u001b[0;34m]\u001b[0m\u001b[0;34m,\u001b[0m \u001b[0mverbose\u001b[0m\u001b[0;34m=\u001b[0m\u001b[0;36m1\u001b[0m\u001b[0;34m)\u001b[0m\u001b[0;34m\u001b[0m\u001b[0m\n\u001b[0m\u001b[1;32m      9\u001b[0m \u001b[0;34m\u001b[0m\u001b[0m\n\u001b[1;32m     10\u001b[0m \u001b[0;31m# Visualize results\u001b[0m\u001b[0;34m\u001b[0m\u001b[0;34m\u001b[0m\u001b[0m\n",
      "\u001b[0;32m/content/Mask_RCNN/mrcnn/model.py\u001b[0m in \u001b[0;36mdetect\u001b[0;34m(self, images, verbose)\u001b[0m\n\u001b[1;32m   2494\u001b[0m         \u001b[0;32massert\u001b[0m \u001b[0mself\u001b[0m\u001b[0;34m.\u001b[0m\u001b[0mmode\u001b[0m \u001b[0;34m==\u001b[0m \u001b[0;34m\"inference\"\u001b[0m\u001b[0;34m,\u001b[0m \u001b[0;34m\"Create model in inference mode.\"\u001b[0m\u001b[0;34m\u001b[0m\u001b[0m\n\u001b[1;32m   2495\u001b[0m         assert len(\n\u001b[0;32m-> 2496\u001b[0;31m             images) == self.config.BATCH_SIZE, \"len(images) must be equal to BATCH_SIZE\"\n\u001b[0m\u001b[1;32m   2497\u001b[0m \u001b[0;34m\u001b[0m\u001b[0m\n\u001b[1;32m   2498\u001b[0m         \u001b[0;32mif\u001b[0m \u001b[0mverbose\u001b[0m\u001b[0;34m:\u001b[0m\u001b[0;34m\u001b[0m\u001b[0m\n",
      "\u001b[0;31mAssertionError\u001b[0m: len(images) must be equal to BATCH_SIZE"
     ]
    }
   ],
   "source": [
    "# CUSTOM_DIR = os.path.join(ROOT_DIR, \"/content/Mask_RCNN/customImages/val\")\n",
    "# print(CUSTOM_DIR)\n",
    "# Load a random image from the images folder\n",
    "file_names = next(os.walk(CUSTOM_DIR))[2]\n",
    "image = skimage.io.imread(os.path.join(CUSTOM_DIR, random.choice(file_names)))\n",
    "\n",
    "# Run detection\n",
    "results = model.detect([image], verbose=1)\n",
    "\n",
    "# Visualize results\n",
    "r = results[0]\n",
    "visualize.display_instances(image, r['rois'], r['masks'], r['class_ids'], \n",
    "\n",
    "                            class_names, r['scores'])"
   ]
  },
  {
   "cell_type": "code",
   "execution_count": 84,
   "metadata": {
    "colab": {
     "base_uri": "https://localhost:8080/",
     "height": 34
    },
    "colab_type": "code",
    "id": "NRUEsOXKqGLH",
    "outputId": "d437ee93-bf37-41c0-82c1-c00049153fe8"
   },
   "outputs": [
    {
     "name": "stdout",
     "output_type": "stream",
     "text": [
      "/content/Mask_RCNN\n"
     ]
    }
   ],
   "source": [
    "!pwd"
   ]
  },
  {
   "cell_type": "code",
   "execution_count": 96,
   "metadata": {
    "colab": {
     "base_uri": "https://localhost:8080/",
     "height": 377
    },
    "colab_type": "code",
    "id": "Ex1DKt0xCHxi",
    "outputId": "2081cc13-aaeb-40bd-f0b9-e9b9e7e3efeb"
   },
   "outputs": [
    {
     "name": "stdout",
     "output_type": "stream",
     "text": [
      "--2018-10-31 12:21:04--  https://github.com/Prady96/Pothole-Detection/blob/master/G0010113.JPG?raw=True\n",
      "Resolving github.com (github.com)... 192.30.253.113, 192.30.253.112\n",
      "Connecting to github.com (github.com)|192.30.253.113|:443... connected.\n",
      "HTTP request sent, awaiting response... 302 Found\n",
      "Location: https://github.com/Prady96/Pothole-Detection/raw/master/G0010113.JPG [following]\n",
      "--2018-10-31 12:21:04--  https://github.com/Prady96/Pothole-Detection/raw/master/G0010113.JPG\n",
      "Reusing existing connection to github.com:443.\n",
      "HTTP request sent, awaiting response... 302 Found\n",
      "Location: https://raw.githubusercontent.com/Prady96/Pothole-Detection/master/G0010113.JPG [following]\n",
      "--2018-10-31 12:21:05--  https://raw.githubusercontent.com/Prady96/Pothole-Detection/master/G0010113.JPG\n",
      "Resolving raw.githubusercontent.com (raw.githubusercontent.com)... 151.101.0.133, 151.101.64.133, 151.101.128.133, ...\n",
      "Connecting to raw.githubusercontent.com (raw.githubusercontent.com)|151.101.0.133|:443... connected.\n",
      "HTTP request sent, awaiting response... 200 OK\n",
      "Length: 1975422 (1.9M) [image/jpeg]\n",
      "Saving to: ‘G0010113.JPG?raw=True’\n",
      "\n",
      "G0010113.JPG?raw=Tr 100%[===================>]   1.88M  7.76MB/s    in 0.2s    \n",
      "\n",
      "2018-10-31 12:21:05 (7.76 MB/s) - ‘G0010113.JPG?raw=True’ saved [1975422/1975422]\n",
      "\n"
     ]
    }
   ],
   "source": [
    "!wget https://github.com/Prady96/Pothole-Detection/blob/master/G0010113.JPG?raw=True"
   ]
  },
  {
   "cell_type": "code",
   "execution_count": 99,
   "metadata": {
    "colab": {
     "base_uri": "https://localhost:8080/",
     "height": 258
    },
    "colab_type": "code",
    "id": "lmEx94OCEczA",
    "outputId": "72b3951a-7a34-45b9-a00f-c8b3334bcd23"
   },
   "outputs": [
    {
     "name": "stdout",
     "output_type": "stream",
     "text": [
      "--2018-10-31 12:25:20--  https://www.formpicture.com/pothole/pothole_img250/\n",
      "Resolving www.formpicture.com (www.formpicture.com)... 93.188.165.63\n",
      "Connecting to www.formpicture.com (www.formpicture.com)|93.188.165.63|:443... connected.\n",
      "WARNING: cannot verify www.formpicture.com's certificate, issued by ‘CN=Let's Encrypt Authority X3,O=Let's Encrypt,C=US’:\n",
      "  Unable to locally verify the issuer's authority.\n",
      "HTTP request sent, awaiting response... 200 OK\n",
      "Length: unspecified [text/html]\n",
      "Saving to: ‘index.html’\n",
      "\n",
      "\r",
      "index.html              [<=>                 ]       0  --.-KB/s               \r",
      "index.html              [ <=>                ]  55.73K  --.-KB/s    in 0.07s   \n",
      "\n",
      "2018-10-31 12:25:20 (819 KB/s) - ‘index.html’ saved [57063]\n",
      "\n"
     ]
    }
   ],
   "source": [
    "!wget https://www.formpicture.com/pothole/pothole_img250/ --no-check-certificate"
   ]
  },
  {
   "cell_type": "code",
   "execution_count": 0,
   "metadata": {
    "colab": {},
    "colab_type": "code",
    "id": "pYCPViOwEgBT"
   },
   "outputs": [],
   "source": [
    "!rm -rf index.html"
   ]
  },
  {
   "cell_type": "code",
   "execution_count": 101,
   "metadata": {
    "colab": {
     "base_uri": "https://localhost:8080/",
     "height": 258
    },
    "colab_type": "code",
    "id": "rYJRt9O3FgqB",
    "outputId": "8e040be5-c9e5-494c-d871-092c6a17f984"
   },
   "outputs": [
    {
     "name": "stdout",
     "output_type": "stream",
     "text": [
      "--2018-10-31 12:26:15--  https://www.formpicture.com/pothole/val/Output%5cframe278.jpg\n",
      "Resolving www.formpicture.com (www.formpicture.com)... 93.188.165.63\n",
      "Connecting to www.formpicture.com (www.formpicture.com)|93.188.165.63|:443... connected.\n",
      "WARNING: cannot verify www.formpicture.com's certificate, issued by ‘CN=Let's Encrypt Authority X3,O=Let's Encrypt,C=US’:\n",
      "  Unable to locally verify the issuer's authority.\n",
      "HTTP request sent, awaiting response... 200 OK\n",
      "Length: 337652 (330K) [image/jpeg]\n",
      "Saving to: ‘Output\\\\frame278.jpg’\n",
      "\n",
      "\r",
      "Output\\frame278.jpg   0%[                    ]       0  --.-KB/s               \r",
      "Output\\frame278.jpg 100%[===================>] 329.74K  1.87MB/s    in 0.2s    \n",
      "\n",
      "2018-10-31 12:26:15 (1.87 MB/s) - ‘Output\\\\frame278.jpg’ saved [337652/337652]\n",
      "\n"
     ]
    }
   ],
   "source": [
    "!wget https://www.formpicture.com/pothole/val/Output%5cframe278.jpg --no-check-certificate"
   ]
  },
  {
   "cell_type": "code",
   "execution_count": 0,
   "metadata": {
    "colab": {},
    "colab_type": "code",
    "id": "ldXGLw00FqXW"
   },
   "outputs": [],
   "source": [
    "!mv Output\\\\frame278.jpg testingImage.jpg"
   ]
  },
  {
   "cell_type": "code",
   "execution_count": 103,
   "metadata": {
    "colab": {
     "base_uri": "https://localhost:8080/",
     "height": 71
    },
    "colab_type": "code",
    "id": "cpPpbFI3FveH",
    "outputId": "6185596e-19ed-4c9b-adcc-b98fc867f827"
   },
   "outputs": [
    {
     "name": "stdout",
     "output_type": "stream",
     "text": [
      "Requirement already satisfied: scipy in /usr/local/lib/python3.6/dist-packages (0.19.1)\n",
      "Requirement already satisfied: numpy>=1.8.2 in /usr/local/lib/python3.6/dist-packages (from scipy) (1.14.6)\n"
     ]
    }
   ],
   "source": [
    "!pip install scipy"
   ]
  },
  {
   "cell_type": "code",
   "execution_count": 111,
   "metadata": {
    "colab": {
     "base_uri": "https://localhost:8080/",
     "height": 639
    },
    "colab_type": "code",
    "id": "tIQH_EP3F-6I",
    "outputId": "00dc3822-c9af-4b82-8bd3-4e7fc6b3eb59"
   },
   "outputs": [
    {
     "name": "stdout",
     "output_type": "stream",
     "text": [
      "Processing 1 images\n",
      "image                    shape: (1080, 1920, 3)       min:    0.00000  max:  255.00000  uint8\n",
      "molded_images            shape: (1, 1024, 1024, 3)    min: -123.70000  max:  151.10000  float64\n",
      "image_metas              shape: (1, 14)               min:    0.00000  max: 1920.00000  float64\n",
      "anchors                  shape: (1, 261888, 4)        min:   -0.35390  max:    1.29134  float32\n"
     ]
    },
    {
     "data": {
      "image/png": "[encoded data removed]",
      "text/plain": [
       "<matplotlib.figure.Figure at 0x7fb9be2c8588>"
      ]
     },
     "metadata": {
      "tags": []
     },
     "output_type": "display_data"
    }
   ],
   "source": [
    "\n",
    "# running the image through preTrained SampleModel\n",
    "# Load a the image\n",
    "import scipy\n",
    "# import matplotlib.image as mpimg\n",
    "# image = mpimg.imread('Sample_1.png')\n",
    "image = skimage.io.imread('testingImage.jpg')\n",
    "\n",
    "# Run detection\n",
    "results = model.detect([image], verbose=1)\n",
    "\n",
    "# Visualize results\n",
    "r = results[0]\n",
    "visualize.display_instances(image, r['rois'], r['masks'], r['class_ids'], \n",
    "                            class_names, r['scores'])"
   ]
  },
  {
   "cell_type": "code",
   "execution_count": 0,
   "metadata": {
    "colab": {},
    "colab_type": "code",
    "id": "6ssdz7MIGBFF"
   },
   "outputs": [],
   "source": [
    "!mkdir videos"
   ]
  },
  {
   "cell_type": "code",
   "execution_count": 112,
   "metadata": {
    "colab": {
     "base_uri": "https://localhost:8080/",
     "height": 513
    },
    "colab_type": "code",
    "id": "1hb2Mr5eHqOV",
    "outputId": "16461570-cd58-4117-8493-76eee75649f6"
   },
   "outputs": [
    {
     "name": "stdout",
     "output_type": "stream",
     "text": [
      " The main Web Upd8 PPA maintained by: http://www.webupd8.org/\n",
      "\n",
      "To add this PPA, simply paste this in a terminal:\n",
      "sudo add-apt-repository ppa:nilarimogard/webupd8\n",
      "\n",
      "Packages in this PPA: audacious, ap-hotspot, awn-applet-radio, awn-applet-wm, calise, cmus, dockbarx, dockbarx-themes-extra, dropbox-share, emerald, exaile, fbmessenger, gnome-subtitles, gnome-window-applets, grsync, grive, gthumb, launchpad-getkeys, mc, mdm (Mint Display Manager), minitunes, minitube, musique, notifyosdconfig, nautilus-columns, powertop, ppa-purge, rosa-media-player, fixed pulseaudio-equalizer, subtitleeditor, syncwall, umplayer, unity-reboot, wimlib, youtube-dl, xfce4-dockbarx-plugin, xournal, yad, yarock and others. Almost all packages are updated to their latest version.\n",
      "\n",
      "For other (specialized) PPAs we maintain, see: https://launchpad.net/~webupd8team\n",
      " More info: https://launchpad.net/~nilarimogard/+archive/ubuntu/webupd8\n",
      "Press [ENTER] to continue or Ctrl-c to cancel adding it.\n",
      "\n",
      "Get:1 http://security.ubuntu.com/ubuntu bionic-security InRelease [83.2 kB]\n",
      "Hit:2 http://archive.ubuntu.com/ubuntu bionic InRelease\n",
      "Get:3 http://archive.ubuntu.com/ubuntu bionic-updates InRelease [88.7 kB]\n",
      "Ign:4 https://developer.download.nvidia.com/compute/cuda/repos/ubuntu1710/x86_64  InRelease\n",
      "Ign:5 https://developer.download.nvidia.com/compute/machine-learning/repos/ubuntu1604/x86_64  InRelease\n",
      "Hit:6 https://developer.download.nvidia.com/compute/cuda/repos/ubuntu1710/x86_64  Release\n",
      "Hit:7 http://ppa.launchpad.net/graphics-drivers/ppa/ubuntu bionic InRelease\n",
      "Hit:8 https://developer.download.nvidia.com/compute/machine-learning/repos/ubuntu1604/x86_64  Release\n",
      "Get:9 http://archive.ubuntu.com/ubuntu bionic-backports InRelease [74.6 kB]\n",
      "Get:10 http://ppa.launchpad.net/nilarimogard/webupd8/ubuntu bionic InRelease [15.4 kB]\n",
      "Get:11 http://security.ubuntu.com/ubuntu bionic-security/universe amd64 Packages [112 kB]\n",
      "Get:12 http://security.ubuntu.com/ubuntu bionic-security/main amd64 Packages [237 kB]\n",
      "Get:14 http://archive.ubuntu.com/ubuntu bionic-updates/main amd64 Packages [539 kB]\n",
      "Get:15 http://archive.ubuntu.com/ubuntu bionic-updates/universe amd64 Packages [725 kB]\n",
      "Get:17 http://ppa.launchpad.net/nilarimogard/webupd8/ubuntu bionic/main amd64 Packages [11.9 kB]\n",
      "Fetched 1,886 kB in 2s (914 kB/s)\n",
      "Reading package lists... Done\n"
     ]
    }
   ],
   "source": [
    "!add-apt-repository ppa:nilarimogard/webupd8"
   ]
  },
  {
   "cell_type": "code",
   "execution_count": 113,
   "metadata": {
    "colab": {
     "base_uri": "https://localhost:8080/",
     "height": 204
    },
    "colab_type": "code",
    "id": "I6ic7al-Myed",
    "outputId": "5c6abe8f-9b2a-46c9-a953-a314d0faf51a"
   },
   "outputs": [
    {
     "name": "stdout",
     "output_type": "stream",
     "text": [
      "\r",
      "0% [Working]\r",
      "            \r",
      "Hit:1 http://security.ubuntu.com/ubuntu bionic-security InRelease\n",
      "\r",
      "0% [Waiting for headers] [Waiting for headers] [Connecting to ppa.launchpad.net\r",
      "                                                                               \r",
      "Hit:2 http://archive.ubuntu.com/ubuntu bionic InRelease\n",
      "\r",
      "0% [Waiting for headers] [Waiting for headers] [Connecting to ppa.launchpad.net\r",
      "0% [1 InRelease gpgv 83.2 kB] [Waiting for headers] [Waiting for headers] [Conn\r",
      "                                                                               \r",
      "Hit:3 http://archive.ubuntu.com/ubuntu bionic-updates InRelease\n",
      "\r",
      "0% [1 InRelease gpgv 83.2 kB] [Waiting for headers] [Waiting for headers] [Wait\r",
      "                                                                               \r",
      "Ign:4 https://developer.download.nvidia.com/compute/cuda/repos/ubuntu1710/x86_64  InRelease\n",
      "\r",
      "                                                                               \r",
      "0% [1 InRelease gpgv 83.2 kB] [Waiting for headers] [Waiting for headers]\r",
      "                                                                         \r",
      "Hit:5 http://archive.ubuntu.com/ubuntu bionic-backports InRelease\n",
      "\r",
      "0% [1 InRelease gpgv 83.2 kB] [Waiting for headers] [Waiting for headers]\r",
      "                                                                         \r",
      "Ign:6 https://developer.download.nvidia.com/compute/machine-learning/repos/ubuntu1604/x86_64  InRelease\n",
      "\r",
      "                                                                         \r",
      "0% [1 InRelease gpgv 83.2 kB] [Waiting for headers]\r",
      "                                                   \r",
      "Hit:7 https://developer.download.nvidia.com/compute/cuda/repos/ubuntu1710/x86_64  Release\n",
      "\r",
      "0% [1 InRelease gpgv 83.2 kB] [Waiting for headers]\r",
      "                                                   \r",
      "Hit:8 https://developer.download.nvidia.com/compute/machine-learning/repos/ubuntu1604/x86_64  Release\n",
      "\r",
      "0% [1 InRelease gpgv 83.2 kB] [Waiting for headers]\r",
      "                                                   \r",
      "0% [Waiting for headers]\r",
      "0% [2 InRelease gpgv 242 kB] [Waiting for headers]\r",
      "                                                  \r",
      "Hit:9 http://ppa.launchpad.net/graphics-drivers/ppa/ubuntu bionic InRelease\n",
      "Hit:10 http://ppa.launchpad.net/nilarimogard/webupd8/ubuntu bionic InRelease\n",
      "Reading package lists... Done\n"
     ]
    }
   ],
   "source": [
    "!apt-get update"
   ]
  },
  {
   "cell_type": "code",
   "execution_count": 114,
   "metadata": {
    "colab": {
     "base_uri": "https://localhost:8080/",
     "height": 31317
    },
    "colab_type": "code",
    "id": "7oxRb5-KM3RI",
    "outputId": "c163821a-eb09-4ac6-d0b2-91f8a30bcfa5"
   },
   "outputs": [
    {
     "name": "stdout",
     "output_type": "stream",
     "text": [
      "Reading package lists... Done\n",
      "Building dependency tree       \n",
      "Reading state information... Done\n",
      "The following additional packages will be installed:\n",
      "  adwaita-icon-theme at-spi2-core avahi-daemon bind9-host dbus\n",
      "  dconf-gsettings-backend dconf-service dmsetup ffmpeg fontconfig geoclue-2.0\n",
      "  geoip-database glib-networking glib-networking-common\n",
      "  glib-networking-services gsettings-desktop-schemas gstreamer1.0-plugins-base\n",
      "  gtk-update-icon-cache hicolor-icon-theme humanity-icon-theme i965-va-driver\n",
      "  iio-sensor-proxy libaacs0 libapparmor1 libargon2-0 libasound2\n",
      "  libasound2-data libass9 libasyncns0 libatk-bridge2.0-0 libatk1.0-0\n",
      "  libatk1.0-data libatspi2.0-0 libauthen-sasl-perl libavahi-client3\n",
      "  libavahi-common-data libavahi-common3 libavahi-core7 libavahi-glib1\n",
      "  libavc1394-0 libavcodec57 libavdevice57 libavfilter6 libavformat57\n",
      "  libavresample3 libavutil55 libbdplus0 libbind9-160 libbluray2 libbrotli1\n",
      "  libbs2b0 libcaca0 libcairo-gobject2 libcairo2 libcap2 libcap2-bin\n",
      "  libcdio-cdda2 libcdio-paranoia2 libcdio17 libcdparanoia0 libchromaprint1\n",
      "  libcolord2 libcroco3 libcryptsetup12 libcrystalhd3 libcups2 libdaemon0\n",
      "  libdata-dump-perl libdatrie1 libdc1394-22 libdconf1 libdevmapper1.02.1\n",
      "  libdns1100 libdouble-conversion1 libdrm-amdgpu1 libdrm-intel1\n",
      "  libdrm-nouveau2 libdrm-radeon1 libdvdnav4 libdvdread4 libencode-locale-perl\n",
      "  libepoxy0 libevdev2 libfftw3-double3 libfile-basedir-perl\n",
      "  libfile-desktopentry-perl libfile-listing-perl libfile-mimeinfo-perl\n",
      "  libflac8 libflite1 libfont-afm-perl libfontenc1 libfribidi0\n",
      "  libgdk-pixbuf2.0-0 libgdk-pixbuf2.0-bin libgdk-pixbuf2.0-common\n",
      "  libgeoclue-2-0 libgeoip1 libgl1 libgl1-mesa-dri libgl1-mesa-glx libglx-mesa0\n",
      "  libglx0 libgme0 libgsm1 libgstreamer-plugins-base1.0-0 libgstreamer1.0-0\n",
      "  libgtk-3-0 libgtk-3-bin libgtk-3-common libgudev-1.0-0 libhtml-form-perl\n",
      "  libhtml-format-perl libhtml-parser-perl libhtml-tagset-perl\n",
      "  libhtml-tree-perl libhttp-cookies-perl libhttp-daemon-perl libhttp-date-perl\n",
      "  libhttp-message-perl libhttp-negotiate-perl libhyphen0 libidn11\n",
      "  libiec61883-0 libinput-bin libinput10 libio-html-perl libio-socket-ssl-perl\n",
      "  libip4tc0 libipc-system-simple-perl libisc169 libisccc160 libisccfg160\n",
      "  libjack-jackd2-0 libjansson4 libjbig0 libjson-c3 libjson-glib-1.0-0\n",
      "  libjson-glib-1.0-common libkmod2 liblcms2-2 libldb1 libllvm6.0 liblua5.2-0\n",
      "  liblwp-mediatypes-perl liblwp-protocol-https-perl liblwres160\n",
      "  libmailtools-perl libmbim-glib4 libmbim-proxy libmm-glib0 libmp3lame0\n",
      "  libmpg123-0 libmtdev1 libmysofa0 libnet-dbus-perl libnet-http-perl\n",
      "  libnet-smtp-ssl-perl libnet-ssleay-perl libnl-3-200 libnl-genl-3-200\n",
      "  libnss-mdns libnss-systemd libnuma1 libogg0 libopenal-data libopenal1\n",
      "  libopenjp2-7 libopenmpt0 libopus0 liborc-0.4-0 libpam-cap libpam-systemd\n",
      "  libpango-1.0-0 libpangocairo-1.0-0 libpangoft2-1.0-0 libpciaccess0\n",
      "  libpcsclite1 libpipeline1 libpixman-1-0 libpolkit-gobject-1-0 libpostproc54\n",
      "  libproxy1v5 libpulse0 libqmi-glib5 libqmi-proxy libqt5core5a libqt5dbus5\n",
      "  libqt5gui5 libqt5network5 libqt5positioning5 libqt5printsupport5 libqt5qml5\n",
      "  libqt5quick5 libqt5sensors5 libqt5svg5 libqt5webchannel5 libqt5webkit5\n",
      "  libqt5widgets5 libraw1394-11 librest-0.7-0 librsvg2-2 librsvg2-common\n",
      "  librubberband2 libsamplerate0 libsdl2-2.0-0 libsensors4 libshine3 libslang2\n",
      "  libsmbclient libsnappy1v5 libsndfile1 libsndio6.1 libsoup-gnome2.4-1\n",
      "  libsoup2.4-1 libsoxr0 libspeex1 libssh-gcrypt-4 libswresample2 libswscale4\n",
      "  libtalloc2 libtdb1 libtevent0 libtext-iconv-perl libthai-data libthai0\n",
      "  libtheora0 libtie-ixhash-perl libtiff5 libtimedate-perl libtry-tiny-perl\n",
      "  libtwolame0 libuchardet0 liburi-perl libusb-1.0-0 libva-drm2 libva-wayland2\n",
      "  libva-x11-2 libva2 libvdpau1 libvisual-0.4-0 libvorbis0a libvorbisenc2\n",
      "  libvorbisfile3 libvpx5 libwacom-bin libwacom-common libwacom2 libwavpack1\n",
      "  libwayland-cursor0 libwayland-egl1-mesa libwbclient0 libwebp6 libwebpmux3\n",
      "  libwoff1 libwrap0 libwww-perl libwww-robotrules-perl libx11-protocol-perl\n",
      "  libx264-152 libx265-146 libxaw7 libxcb-glx0 libxcb-icccm4 libxcb-image0\n",
      "  libxcb-keysyms1 libxcb-randr0 libxcb-render-util0 libxcb-render0\n",
      "  libxcb-shape0 libxcb-shm0 libxcb-util1 libxcb-xinerama0 libxcb-xkb1\n",
      "  libxcomposite1 libxcursor1 libxdamage1 libxfixes3 libxi6 libxinerama1\n",
      "  libxkbcommon-x11-0 libxkbcommon0 libxml-parser-perl libxml-twig-perl\n",
      "  libxml-xpathengine-perl libxmu6 libxmuu1 libxpm4 libxrandr2 libxslt1.1\n",
      "  libxt6 libxtst6 libxv1 libxvidcore4 libxxf86dga1 libxxf86vm1 libzvbi-common\n",
      "  libzvbi0 mesa-va-drivers mesa-vdpau-drivers modemmanager mpv netbase\n",
      "  networkd-dispatcher perl-openssl-defaults phantomjs python-talloc\n",
      "  python3-pkg-resources python3-pyxattr qt5-gtk-platformtheme\n",
      "  qttranslations5-l10n rtmpdump samba-libs shared-mime-info systemd\n",
      "  systemd-sysv ubuntu-mono udev usb-modeswitch usb-modeswitch-data\n",
      "  va-driver-all vdpau-driver-all wpasupplicant x11-utils x11-xserver-utils\n",
      "  xdg-utils xkb-data\n",
      "Suggested packages:\n",
      "  avahi-autoipd default-dbus-session-bus | dbus-session-bus ffmpeg-doc gvfs\n",
      "  i965-va-driver-shaders libasound2-plugins alsa-utils libdigest-hmac-perl\n",
      "  libgssapi-perl libbluray-bdj colord firmware-crystalhd cups-common\n",
      "  libdvdcss2 libfftw3-bin libfftw3-dev geoip-bin libvisual-0.4-plugins\n",
      "  gstreamer1.0-tools jackd2 liblcms2-utils libcrypt-ssleay-perl avahi-autoipd\n",
      "  | zeroconf libportaudio2 opus-tools pciutils pcscd pulseaudio\n",
      "  qt5-image-formats-plugins qtwayland5 qt5-qmltooling-plugins libraw1394-doc\n",
      "  librsvg2-bin lm-sensors sndiod speex libauthen-ntlm-perl\n",
      "  libunicode-map8-perl libunicode-string-perl xml-twig-tools iw\n",
      "  | wireless-tools python3-setuptools python3-pyxattr-dbg python-pyxattr-doc\n",
      "  systemd-container policykit-1 comgt wvdial libvdpau-va-gl1\n",
      "  nvidia-vdpau-driver nvidia-legacy-340xx-vdpau-driver wpagui\n",
      "  libengine-pkcs11-openssl mesa-utils nickle cairo-5c xorg-docs-core\n",
      "The following NEW packages will be installed:\n",
      "  adwaita-icon-theme at-spi2-core avahi-daemon bind9-host dbus\n",
      "  dconf-gsettings-backend dconf-service dmsetup ffmpeg fontconfig geoclue-2.0\n",
      "  geoip-database glib-networking glib-networking-common\n",
      "  glib-networking-services gsettings-desktop-schemas gstreamer1.0-plugins-base\n",
      "  gtk-update-icon-cache hicolor-icon-theme humanity-icon-theme i965-va-driver\n",
      "  iio-sensor-proxy libaacs0 libapparmor1 libargon2-0 libasound2\n",
      "  libasound2-data libass9 libasyncns0 libatk-bridge2.0-0 libatk1.0-0\n",
      "  libatk1.0-data libatspi2.0-0 libauthen-sasl-perl libavahi-client3\n",
      "  libavahi-common-data libavahi-common3 libavahi-core7 libavahi-glib1\n",
      "  libavc1394-0 libavcodec57 libavdevice57 libavfilter6 libavformat57\n",
      "  libavresample3 libavutil55 libbdplus0 libbind9-160 libbluray2 libbrotli1\n",
      "  libbs2b0 libcaca0 libcairo-gobject2 libcairo2 libcap2 libcap2-bin\n",
      "  libcdio-cdda2 libcdio-paranoia2 libcdio17 libcdparanoia0 libchromaprint1\n",
      "  libcolord2 libcroco3 libcryptsetup12 libcrystalhd3 libcups2 libdaemon0\n",
      "  libdata-dump-perl libdatrie1 libdc1394-22 libdconf1 libdevmapper1.02.1\n",
      "  libdns1100 libdouble-conversion1 libdrm-amdgpu1 libdrm-intel1\n",
      "  libdrm-nouveau2 libdrm-radeon1 libdvdnav4 libdvdread4 libencode-locale-perl\n",
      "  libepoxy0 libevdev2 libfftw3-double3 libfile-basedir-perl\n",
      "  libfile-desktopentry-perl libfile-listing-perl libfile-mimeinfo-perl\n",
      "  libflac8 libflite1 libfont-afm-perl libfontenc1 libfribidi0\n",
      "  libgdk-pixbuf2.0-0 libgdk-pixbuf2.0-bin libgdk-pixbuf2.0-common\n",
      "  libgeoclue-2-0 libgeoip1 libgl1 libgl1-mesa-dri libgl1-mesa-glx libglx-mesa0\n",
      "  libglx0 libgme0 libgsm1 libgstreamer-plugins-base1.0-0 libgstreamer1.0-0\n",
      "  libgtk-3-0 libgtk-3-bin libgtk-3-common libgudev-1.0-0 libhtml-form-perl\n",
      "  libhtml-format-perl libhtml-parser-perl libhtml-tagset-perl\n",
      "  libhtml-tree-perl libhttp-cookies-perl libhttp-daemon-perl libhttp-date-perl\n",
      "  libhttp-message-perl libhttp-negotiate-perl libhyphen0 libidn11\n",
      "  libiec61883-0 libinput-bin libinput10 libio-html-perl libio-socket-ssl-perl\n",
      "  libip4tc0 libipc-system-simple-perl libisc169 libisccc160 libisccfg160\n",
      "  libjack-jackd2-0 libjansson4 libjbig0 libjson-c3 libjson-glib-1.0-0\n",
      "  libjson-glib-1.0-common libkmod2 liblcms2-2 libldb1 libllvm6.0 liblua5.2-0\n",
      "  liblwp-mediatypes-perl liblwp-protocol-https-perl liblwres160\n",
      "  libmailtools-perl libmbim-glib4 libmbim-proxy libmm-glib0 libmp3lame0\n",
      "  libmpg123-0 libmtdev1 libmysofa0 libnet-dbus-perl libnet-http-perl\n",
      "  libnet-smtp-ssl-perl libnet-ssleay-perl libnl-3-200 libnl-genl-3-200\n",
      "  libnss-mdns libnss-systemd libnuma1 libogg0 libopenal-data libopenal1\n",
      "  libopenjp2-7 libopenmpt0 libopus0 liborc-0.4-0 libpam-cap libpam-systemd\n",
      "  libpango-1.0-0 libpangocairo-1.0-0 libpangoft2-1.0-0 libpciaccess0\n",
      "  libpcsclite1 libpipeline1 libpixman-1-0 libpolkit-gobject-1-0 libpostproc54\n",
      "  libproxy1v5 libpulse0 libqmi-glib5 libqmi-proxy libqt5core5a libqt5dbus5\n",
      "  libqt5gui5 libqt5network5 libqt5positioning5 libqt5printsupport5 libqt5qml5\n",
      "  libqt5quick5 libqt5sensors5 libqt5svg5 libqt5webchannel5 libqt5webkit5\n",
      "  libqt5widgets5 libraw1394-11 librest-0.7-0 librsvg2-2 librsvg2-common\n",
      "  librubberband2 libsamplerate0 libsdl2-2.0-0 libsensors4 libshine3 libslang2\n",
      "  libsmbclient libsnappy1v5 libsndfile1 libsndio6.1 libsoup-gnome2.4-1\n",
      "  libsoup2.4-1 libsoxr0 libspeex1 libssh-gcrypt-4 libswresample2 libswscale4\n",
      "  libtalloc2 libtdb1 libtevent0 libtext-iconv-perl libthai-data libthai0\n",
      "  libtheora0 libtie-ixhash-perl libtiff5 libtimedate-perl libtry-tiny-perl\n",
      "  libtwolame0 libuchardet0 liburi-perl libusb-1.0-0 libva-drm2 libva-wayland2\n",
      "  libva-x11-2 libva2 libvdpau1 libvisual-0.4-0 libvorbis0a libvorbisenc2\n",
      "  libvorbisfile3 libvpx5 libwacom-bin libwacom-common libwacom2 libwavpack1\n",
      "  libwayland-cursor0 libwayland-egl1-mesa libwbclient0 libwebp6 libwebpmux3\n",
      "  libwoff1 libwrap0 libwww-perl libwww-robotrules-perl libx11-protocol-perl\n",
      "  libx264-152 libx265-146 libxaw7 libxcb-glx0 libxcb-icccm4 libxcb-image0\n",
      "  libxcb-keysyms1 libxcb-randr0 libxcb-render-util0 libxcb-render0\n",
      "  libxcb-shape0 libxcb-shm0 libxcb-util1 libxcb-xinerama0 libxcb-xkb1\n",
      "  libxcomposite1 libxcursor1 libxdamage1 libxfixes3 libxi6 libxinerama1\n",
      "  libxkbcommon-x11-0 libxkbcommon0 libxml-parser-perl libxml-twig-perl\n",
      "  libxml-xpathengine-perl libxmu6 libxmuu1 libxpm4 libxrandr2 libxslt1.1\n",
      "  libxt6 libxtst6 libxv1 libxvidcore4 libxxf86dga1 libxxf86vm1 libzvbi-common\n",
      "  libzvbi0 mesa-va-drivers mesa-vdpau-drivers modemmanager mpv netbase\n",
      "  networkd-dispatcher perl-openssl-defaults phantomjs python-talloc\n",
      "  python3-pkg-resources python3-pyxattr qt5-gtk-platformtheme\n",
      "  qttranslations5-l10n rtmpdump samba-libs shared-mime-info systemd\n",
      "  systemd-sysv ubuntu-mono udev usb-modeswitch usb-modeswitch-data\n",
      "  va-driver-all vdpau-driver-all wpasupplicant x11-utils x11-xserver-utils\n",
      "  xdg-utils xkb-data youtube-dl\n",
      "0 upgraded, 328 newly installed, 0 to remove and 6 not upgraded.\n",
      "Need to get 120 MB of archives.\n",
      "After this operation, 612 MB of additional disk space will be used.\n",
      "Get:1 http://archive.ubuntu.com/ubuntu bionic/main amd64 libcap2 amd64 1:2.25-1.2 [13.0 kB]\n",
      "Get:2 http://archive.ubuntu.com/ubuntu bionic/main amd64 libargon2-0 amd64 0~20161029-1.1 [19.9 kB]\n",
      "Get:3 http://archive.ubuntu.com/ubuntu bionic/main amd64 libdevmapper1.02.1 amd64 2:1.02.145-4.1ubuntu3 [127 kB]\n",
      "Get:4 http://archive.ubuntu.com/ubuntu bionic/main amd64 libjson-c3 amd64 0.12.1-1.3 [21.4 kB]\n",
      "Get:5 http://archive.ubuntu.com/ubuntu bionic-updates/main amd64 libcryptsetup12 amd64 2:2.0.2-1ubuntu1.1 [134 kB]\n",
      "Get:6 http://archive.ubuntu.com/ubuntu bionic/main amd64 libidn11 amd64 1.33-2.1ubuntu1 [45.7 kB]\n",
      "Get:7 http://archive.ubuntu.com/ubuntu bionic/main amd64 libip4tc0 amd64 1.6.1-2ubuntu2 [19.6 kB]\n",
      "Get:8 http://archive.ubuntu.com/ubuntu bionic-updates/main amd64 libapparmor1 amd64 2.12-4ubuntu5.1 [31.3 kB]\n",
      "Get:9 http://archive.ubuntu.com/ubuntu bionic/main amd64 libkmod2 amd64 24-1ubuntu3 [40.1 kB]\n",
      "Get:10 http://archive.ubuntu.com/ubuntu bionic-updates/main amd64 systemd amd64 237-3ubuntu10.3 [2,896 kB]\n",
      "Get:11 http://archive.ubuntu.com/ubuntu bionic-updates/main amd64 systemd-sysv amd64 237-3ubuntu10.3 [11.7 kB]\n",
      "Get:12 http://archive.ubuntu.com/ubuntu bionic/main amd64 fontconfig amd64 2.12.6-0ubuntu2 [169 kB]\n",
      "Get:13 http://archive.ubuntu.com/ubuntu bionic/main amd64 libdaemon0 amd64 0.14-6 [16.6 kB]\n",
      "Get:14 http://archive.ubuntu.com/ubuntu bionic/main amd64 libogg0 amd64 1.3.2-1 [17.2 kB]\n",
      "Get:15 http://archive.ubuntu.com/ubuntu bionic/main amd64 libdouble-conversion1 amd64 2.0.1-4ubuntu1 [33.0 kB]\n",
      "Get:16 http://archive.ubuntu.com/ubuntu bionic/main amd64 libqt5core5a amd64 5.9.5+dfsg-0ubuntu1 [2,035 kB]\n",
      "Get:17 http://archive.ubuntu.com/ubuntu bionic/main amd64 libxcb-glx0 amd64 1.13-1 [22.0 kB]\n",
      "Get:18 http://archive.ubuntu.com/ubuntu bionic/main amd64 libxdamage1 amd64 1:1.1.4-3 [6,934 B]\n",
      "Get:19 http://archive.ubuntu.com/ubuntu bionic/main amd64 libxfixes3 amd64 1:5.0.3-1 [10.8 kB]\n",
      "Get:20 http://archive.ubuntu.com/ubuntu bionic/main amd64 libxxf86vm1 amd64 1:1.1.4-1 [10.6 kB]\n",
      "Get:21 http://archive.ubuntu.com/ubuntu bionic/main amd64 libdrm-amdgpu1 amd64 2.4.91-2 [19.0 kB]\n",
      "Get:22 http://archive.ubuntu.com/ubuntu bionic/main amd64 libpciaccess0 amd64 0.14-1 [17.9 kB]\n",
      "Get:23 http://archive.ubuntu.com/ubuntu bionic/main amd64 libdrm-intel1 amd64 2.4.91-2 [59.8 kB]\n",
      "Get:24 http://archive.ubuntu.com/ubuntu bionic/main amd64 libdrm-nouveau2 amd64 2.4.91-2 [16.5 kB]\n",
      "Get:25 http://archive.ubuntu.com/ubuntu bionic/main amd64 libdrm-radeon1 amd64 2.4.91-2 [21.7 kB]\n",
      "Get:26 http://archive.ubuntu.com/ubuntu bionic/main amd64 libllvm6.0 amd64 1:6.0-1ubuntu2 [14.5 MB]\n",
      "Get:27 http://archive.ubuntu.com/ubuntu bionic/main amd64 libsensors4 amd64 1:3.4.0-4 [28.8 kB]\n",
      "Get:28 http://archive.ubuntu.com/ubuntu bionic-updates/main amd64 libgl1-mesa-dri amd64 18.0.5-0ubuntu0~18.04.1 [6,011 kB]\n",
      "Get:29 http://archive.ubuntu.com/ubuntu bionic-updates/main amd64 libglx-mesa0 amd64 18.0.5-0ubuntu0~18.04.1 [132 kB]\n",
      "Get:30 http://archive.ubuntu.com/ubuntu bionic-updates/main amd64 libglx0 amd64 1.0.0-2ubuntu2.2 [28.1 kB]\n",
      "Get:31 http://archive.ubuntu.com/ubuntu bionic-updates/main amd64 libgl1 amd64 1.0.0-2ubuntu2.2 [84.8 kB]\n",
      "Get:32 http://archive.ubuntu.com/ubuntu bionic/main amd64 libevdev2 amd64 1.5.8+dfsg-1 [29.0 kB]\n",
      "Get:33 http://archive.ubuntu.com/ubuntu bionic/main amd64 libmtdev1 amd64 1.1.5-1ubuntu3 [13.8 kB]\n",
      "Get:34 http://archive.ubuntu.com/ubuntu bionic/main amd64 libgudev-1.0-0 amd64 1:232-2 [13.6 kB]\n",
      "Get:35 http://archive.ubuntu.com/ubuntu bionic/main amd64 libwacom-common all 0.29-1 [36.9 kB]\n",
      "Get:36 http://archive.ubuntu.com/ubuntu bionic/main amd64 libwacom2 amd64 0.29-1 [17.7 kB]\n",
      "Get:37 http://archive.ubuntu.com/ubuntu bionic/main amd64 libinput-bin amd64 1.10.4-1 [11.0 kB]\n",
      "Get:38 http://archive.ubuntu.com/ubuntu bionic/main amd64 libinput10 amd64 1.10.4-1 [86.2 kB]\n",
      "Get:39 http://archive.ubuntu.com/ubuntu bionic/main amd64 libqt5dbus5 amd64 5.9.5+dfsg-0ubuntu1 [196 kB]\n",
      "Get:40 http://archive.ubuntu.com/ubuntu bionic/main amd64 libqt5network5 amd64 5.9.5+dfsg-0ubuntu1 [634 kB]\n",
      "Get:41 http://archive.ubuntu.com/ubuntu bionic/main amd64 libxcb-icccm4 amd64 0.4.1-1ubuntu1 [10.4 kB]\n",
      "Get:42 http://archive.ubuntu.com/ubuntu bionic/main amd64 libxcb-shm0 amd64 1.13-1 [5,572 B]\n",
      "Get:43 http://archive.ubuntu.com/ubuntu bionic/main amd64 libxcb-util1 amd64 0.4.0-0ubuntu3 [11.2 kB]\n",
      "Get:44 http://archive.ubuntu.com/ubuntu bionic/main amd64 libxcb-image0 amd64 0.4.0-1build1 [12.3 kB]\n",
      "Get:45 http://archive.ubuntu.com/ubuntu bionic/main amd64 libxcb-keysyms1 amd64 0.4.0-1 [8,406 B]\n",
      "Get:46 http://archive.ubuntu.com/ubuntu bionic/main amd64 libxcb-randr0 amd64 1.13-1 [16.4 kB]\n",
      "Get:47 http://archive.ubuntu.com/ubuntu bionic/main amd64 libxcb-render0 amd64 1.13-1 [14.7 kB]\n",
      "Get:48 http://archive.ubuntu.com/ubuntu bionic/main amd64 libxcb-render-util0 amd64 0.3.9-1 [9,638 B]\n",
      "Get:49 http://archive.ubuntu.com/ubuntu bionic/main amd64 libxcb-shape0 amd64 1.13-1 [5,964 B]\n",
      "Get:50 http://archive.ubuntu.com/ubuntu bionic/main amd64 libxcb-xinerama0 amd64 1.13-1 [5,256 B]\n",
      "Get:51 http://archive.ubuntu.com/ubuntu bionic/main amd64 libxcb-xkb1 amd64 1.13-1 [30.1 kB]\n",
      "Get:52 http://archive.ubuntu.com/ubuntu bionic/main amd64 libxi6 amd64 2:1.7.9-1 [29.2 kB]\n",
      "Get:53 http://archive.ubuntu.com/ubuntu bionic/main amd64 xkb-data all 2.23.1-1ubuntu1 [325 kB]\n",
      "Get:54 http://archive.ubuntu.com/ubuntu bionic/main amd64 libxkbcommon0 amd64 0.8.0-1 [97.6 kB]\n",
      "Get:55 http://archive.ubuntu.com/ubuntu bionic/main amd64 libxkbcommon-x11-0 amd64 0.8.0-1 [13.5 kB]\n",
      "Get:56 http://archive.ubuntu.com/ubuntu bionic/main amd64 libqt5gui5 amd64 5.9.5+dfsg-0ubuntu1 [2,566 kB]\n",
      "Get:57 http://archive.ubuntu.com/ubuntu bionic/main amd64 libqt5widgets5 amd64 5.9.5+dfsg-0ubuntu1 [2,203 kB]\n",
      "Get:58 http://archive.ubuntu.com/ubuntu bionic/main amd64 libqt5svg5 amd64 5.9.5-0ubuntu1 [128 kB]\n",
      "Get:59 http://archive.ubuntu.com/ubuntu bionic/main amd64 libcap2-bin amd64 1:2.25-1.2 [20.6 kB]\n",
      "Get:60 http://archive.ubuntu.com/ubuntu bionic-updates/main amd64 libgstreamer1.0-0 amd64 1.14.1-1~ubuntu18.04.1 [858 kB]\n",
      "Get:61 http://archive.ubuntu.com/ubuntu bionic/main amd64 liborc-0.4-0 amd64 1:0.4.28-1 [137 kB]\n",
      "Get:62 http://archive.ubuntu.com/ubuntu bionic-updates/main amd64 libgstreamer-plugins-base1.0-0 amd64 1.14.1-1ubuntu1~ubuntu18.04.1 [681 kB]\n",
      "Get:63 http://archive.ubuntu.com/ubuntu bionic/main amd64 libhyphen0 amd64 2.8.8-5 [26.5 kB]\n",
      "Get:64 http://archive.ubuntu.com/ubuntu bionic/universe amd64 libqt5positioning5 amd64 5.9.5+dfsg-0ubuntu2 [131 kB]\n",
      "Get:65 http://archive.ubuntu.com/ubuntu bionic-updates/main amd64 libavahi-common-data amd64 0.7-3.1ubuntu1.1 [22.1 kB]\n",
      "Get:66 http://archive.ubuntu.com/ubuntu bionic-updates/main amd64 libavahi-common3 amd64 0.7-3.1ubuntu1.1 [21.7 kB]\n",
      "Get:67 http://archive.ubuntu.com/ubuntu bionic-updates/main amd64 libavahi-client3 amd64 0.7-3.1ubuntu1.1 [25.3 kB]\n",
      "Get:68 http://archive.ubuntu.com/ubuntu bionic-updates/main amd64 libcups2 amd64 2.2.7-1ubuntu2.1 [211 kB]\n",
      "Get:69 http://archive.ubuntu.com/ubuntu bionic/main amd64 libqt5printsupport5 amd64 5.9.5+dfsg-0ubuntu1 [177 kB]\n",
      "Get:70 http://archive.ubuntu.com/ubuntu bionic-updates/universe amd64 libqt5qml5 amd64 5.9.5-0ubuntu1.1 [1,242 kB]\n",
      "Get:71 http://archive.ubuntu.com/ubuntu bionic-updates/universe amd64 libqt5quick5 amd64 5.9.5-0ubuntu1.1 [1,201 kB]\n",
      "Get:72 http://archive.ubuntu.com/ubuntu bionic/universe amd64 libqt5sensors5 amd64 5.9.5-0ubuntu1 [113 kB]\n",
      "Get:73 http://archive.ubuntu.com/ubuntu bionic/universe amd64 libqt5webchannel5 amd64 5.9.5-0ubuntu1 [47.7 kB]\n",
      "Get:74 http://archive.ubuntu.com/ubuntu bionic/main amd64 libwebp6 amd64 0.6.1-2 [185 kB]\n",
      "Get:75 http://archive.ubuntu.com/ubuntu bionic-updates/main amd64 libbrotli1 amd64 1.0.3-1ubuntu1.2 [262 kB]\n",
      "Get:76 http://archive.ubuntu.com/ubuntu bionic-updates/main amd64 libwoff1 amd64 1.0.2-1build0.1 [43.0 kB]\n",
      "Get:77 http://archive.ubuntu.com/ubuntu bionic/main amd64 libxslt1.1 amd64 1.1.29-5 [150 kB]\n",
      "Get:78 http://archive.ubuntu.com/ubuntu bionic/universe amd64 libqt5webkit5 amd64 5.212.0~alpha2-7ubuntu1 [11.8 MB]\n",
      "Get:79 http://archive.ubuntu.com/ubuntu bionic-updates/main amd64 libwbclient0 amd64 2:4.7.6+dfsg~ubuntu-0ubuntu2.2 [33.9 kB]\n",
      "Get:80 http://archive.ubuntu.com/ubuntu bionic/main amd64 libxinerama1 amd64 2:1.1.3-1 [7,908 B]\n",
      "Get:81 http://archive.ubuntu.com/ubuntu bionic/main amd64 libxxf86dga1 amd64 2:1.1.4-1 [13.7 kB]\n",
      "Get:82 http://archive.ubuntu.com/ubuntu bionic/main amd64 libjansson4 amd64 2.11-1 [29.3 kB]\n",
      "Get:83 http://archive.ubuntu.com/ubuntu bionic/main amd64 libtalloc2 amd64 2.1.10-2ubuntu1 [36.0 kB]\n",
      "Get:84 http://archive.ubuntu.com/ubuntu bionic/main amd64 libtdb1 amd64 1.3.15-2 [39.7 kB]\n",
      "Get:85 http://archive.ubuntu.com/ubuntu bionic/main amd64 libtevent0 amd64 0.9.34-1 [27.7 kB]\n",
      "Get:86 http://archive.ubuntu.com/ubuntu bionic/main amd64 libldb1 amd64 2:1.2.3-1 [114 kB]\n",
      "Get:87 http://archive.ubuntu.com/ubuntu bionic/main amd64 python-talloc amd64 2.1.10-2ubuntu1 [9,124 B]\n",
      "Get:88 http://archive.ubuntu.com/ubuntu bionic-updates/main amd64 samba-libs amd64 2:4.7.6+dfsg~ubuntu-0ubuntu2.2 [5,252 kB]\n",
      "Get:89 http://archive.ubuntu.com/ubuntu bionic-updates/main amd64 libsmbclient amd64 2:4.7.6+dfsg~ubuntu-0ubuntu2.2 [54.2 kB]\n",
      "Get:90 http://archive.ubuntu.com/ubuntu bionic/main amd64 dbus amd64 1.12.2-1ubuntu1 [150 kB]\n",
      "Get:91 http://archive.ubuntu.com/ubuntu bionic/main amd64 dmsetup amd64 2:1.02.145-4.1ubuntu3 [74.5 kB]\n",
      "Get:92 http://archive.ubuntu.com/ubuntu bionic/main amd64 libfribidi0 amd64 0.19.7-2 [24.9 kB]\n",
      "Get:93 http://archive.ubuntu.com/ubuntu bionic-updates/main amd64 libnss-systemd amd64 237-3ubuntu10.3 [105 kB]\n",
      "Get:94 http://archive.ubuntu.com/ubuntu bionic/main amd64 libpam-cap amd64 1:2.25-1.2 [7,268 B]\n",
      "Get:95 http://archive.ubuntu.com/ubuntu bionic-updates/main amd64 libpam-systemd amd64 237-3ubuntu10.3 [108 kB]\n",
      "Get:96 http://archive.ubuntu.com/ubuntu bionic/main amd64 libslang2 amd64 2.3.1a-3ubuntu1 [424 kB]\n",
      "Get:97 http://archive.ubuntu.com/ubuntu bionic/main amd64 libtext-iconv-perl amd64 1.7-5build6 [13.0 kB]\n",
      "Get:98 http://archive.ubuntu.com/ubuntu bionic/main amd64 netbase all 5.4 [12.7 kB]\n",
      "Get:99 http://archive.ubuntu.com/ubuntu bionic-updates/main amd64 networkd-dispatcher all 1.7-0ubuntu3.3 [13.3 kB]\n",
      "Get:100 http://archive.ubuntu.com/ubuntu bionic/main amd64 shared-mime-info amd64 1.9-2 [426 kB]\n",
      "Get:101 http://archive.ubuntu.com/ubuntu bionic-updates/main amd64 udev amd64 237-3ubuntu10.3 [1,100 kB]\n",
      "Get:102 http://archive.ubuntu.com/ubuntu bionic-updates/main amd64 libisc169 amd64 1:9.11.3+dfsg-1ubuntu1.2 [237 kB]\n",
      "Get:103 http://archive.ubuntu.com/ubuntu bionic/main amd64 libgeoip1 amd64 1.6.12-1 [71.8 kB]\n",
      "Get:104 http://archive.ubuntu.com/ubuntu bionic-updates/main amd64 libdns1100 amd64 1:9.11.3+dfsg-1ubuntu1.2 [966 kB]\n",
      "Get:105 http://archive.ubuntu.com/ubuntu bionic-updates/main amd64 libisccc160 amd64 1:9.11.3+dfsg-1ubuntu1.2 [17.9 kB]\n",
      "Get:106 http://archive.ubuntu.com/ubuntu bionic-updates/main amd64 libisccfg160 amd64 1:9.11.3+dfsg-1ubuntu1.2 [48.3 kB]\n",
      "Get:107 http://archive.ubuntu.com/ubuntu bionic-updates/main amd64 libbind9-160 amd64 1:9.11.3+dfsg-1ubuntu1.2 [27.6 kB]\n",
      "Get:108 http://archive.ubuntu.com/ubuntu bionic-updates/main amd64 liblwres160 amd64 1:9.11.3+dfsg-1ubuntu1.2 [34.5 kB]\n",
      "Get:109 http://archive.ubuntu.com/ubuntu bionic-updates/main amd64 bind9-host amd64 1:9.11.3+dfsg-1ubuntu1.2 [53.5 kB]\n",
      "Get:110 http://archive.ubuntu.com/ubuntu bionic/main amd64 geoip-database all 20180315-1 [2,090 kB]\n",
      "Get:111 http://archive.ubuntu.com/ubuntu bionic/main amd64 libnuma1 amd64 2.0.11-2.1 [21.6 kB]\n",
      "Get:112 http://archive.ubuntu.com/ubuntu bionic/main amd64 libpipeline1 amd64 1.5.0-1 [25.3 kB]\n",
      "Get:113 http://archive.ubuntu.com/ubuntu bionic-updates/main amd64 libpolkit-gobject-1-0 amd64 0.105-20ubuntu0.18.04.1 [36.3 kB]\n",
      "Get:114 http://archive.ubuntu.com/ubuntu bionic/main amd64 libusb-1.0-0 amd64 2:1.0.21-2 [43.3 kB]\n",
      "Get:115 http://archive.ubuntu.com/ubuntu bionic/main amd64 libxmuu1 amd64 2:1.1.2-2 [9,674 B]\n",
      "Get:116 http://archive.ubuntu.com/ubuntu bionic/main amd64 hicolor-icon-theme all 0.17-2 [9,976 B]\n",
      "Get:117 http://archive.ubuntu.com/ubuntu bionic/main amd64 libjbig0 amd64 2.1-3.1build1 [26.7 kB]\n",
      "Get:118 http://archive.ubuntu.com/ubuntu bionic/main amd64 libtiff5 amd64 4.0.9-5 [152 kB]\n",
      "Get:119 http://archive.ubuntu.com/ubuntu bionic/main amd64 libgdk-pixbuf2.0-common all 2.36.11-2 [4,536 B]\n",
      "Get:120 http://archive.ubuntu.com/ubuntu bionic/main amd64 libgdk-pixbuf2.0-0 amd64 2.36.11-2 [165 kB]\n",
      "Get:121 http://archive.ubuntu.com/ubuntu bionic/main amd64 gtk-update-icon-cache amd64 3.22.30-1ubuntu1 [28.0 kB]\n",
      "Get:122 http://archive.ubuntu.com/ubuntu bionic/main amd64 libpixman-1-0 amd64 0.34.0-2 [229 kB]\n",
      "Get:123 http://archive.ubuntu.com/ubuntu bionic/main amd64 libcairo2 amd64 1.15.10-2 [580 kB]\n",
      "Get:124 http://archive.ubuntu.com/ubuntu bionic/main amd64 libcroco3 amd64 0.6.12-2 [81.3 kB]\n",
      "Get:125 http://archive.ubuntu.com/ubuntu bionic/main amd64 libthai-data all 0.1.27-2 [133 kB]\n",
      "Get:126 http://archive.ubuntu.com/ubuntu bionic/main amd64 libdatrie1 amd64 0.2.10-7 [17.8 kB]\n",
      "Get:127 http://archive.ubuntu.com/ubuntu bionic/main amd64 libthai0 amd64 0.1.27-2 [18.0 kB]\n",
      "Get:128 http://archive.ubuntu.com/ubuntu bionic-updates/main amd64 libpango-1.0-0 amd64 1.40.14-1ubuntu0.1 [153 kB]\n",
      "Get:129 http://archive.ubuntu.com/ubuntu bionic-updates/main amd64 libpangoft2-1.0-0 amd64 1.40.14-1ubuntu0.1 [33.2 kB]\n",
      "Get:130 http://archive.ubuntu.com/ubuntu bionic-updates/main amd64 libpangocairo-1.0-0 amd64 1.40.14-1ubuntu0.1 [20.8 kB]\n",
      "Get:131 http://archive.ubuntu.com/ubuntu bionic/main amd64 librsvg2-2 amd64 2.40.20-2 [98.6 kB]\n",
      "Get:132 http://archive.ubuntu.com/ubuntu bionic/main amd64 librsvg2-common amd64 2.40.20-2 [5,124 B]\n",
      "Get:133 http://archive.ubuntu.com/ubuntu bionic/main amd64 humanity-icon-theme all 0.6.15 [1,250 kB]\n",
      "Get:134 http://archive.ubuntu.com/ubuntu bionic-updates/main amd64 ubuntu-mono all 16.10+18.04.20181005-0ubuntu1 [149 kB]\n",
      "Get:135 http://archive.ubuntu.com/ubuntu bionic/main amd64 adwaita-icon-theme all 3.28.0-1ubuntu1 [3,306 kB]\n",
      "Get:136 http://archive.ubuntu.com/ubuntu bionic/main amd64 libatspi2.0-0 amd64 2.28.0-1 [59.6 kB]\n",
      "Get:137 http://archive.ubuntu.com/ubuntu bionic/main amd64 libxtst6 amd64 2:1.2.3-1 [12.8 kB]\n",
      "Get:138 http://archive.ubuntu.com/ubuntu bionic/main amd64 at-spi2-core amd64 2.28.0-1 [47.9 kB]\n",
      "Get:139 http://archive.ubuntu.com/ubuntu bionic-updates/main amd64 libavahi-core7 amd64 0.7-3.1ubuntu1.1 [81.1 kB]\n",
      "Get:140 http://archive.ubuntu.com/ubuntu bionic-updates/main amd64 avahi-daemon amd64 0.7-3.1ubuntu1.1 [62.2 kB]\n",
      "Get:141 http://archive.ubuntu.com/ubuntu bionic/main amd64 libdconf1 amd64 0.26.0-2ubuntu3 [33.1 kB]\n",
      "Get:142 http://archive.ubuntu.com/ubuntu bionic/main amd64 dconf-service amd64 0.26.0-2ubuntu3 [28.4 kB]\n",
      "Get:143 http://archive.ubuntu.com/ubuntu bionic/main amd64 dconf-gsettings-backend amd64 0.26.0-2ubuntu3 [20.0 kB]\n",
      "Get:144 http://archive.ubuntu.com/ubuntu bionic/universe amd64 libva2 amd64 2.1.0-3 [47.6 kB]\n",
      "Get:145 http://archive.ubuntu.com/ubuntu bionic/universe amd64 libva-drm2 amd64 2.1.0-3 [6,880 B]\n",
      "Get:146 http://archive.ubuntu.com/ubuntu bionic/universe amd64 libva-x11-2 amd64 2.1.0-3 [11.5 kB]\n",
      "Get:147 http://archive.ubuntu.com/ubuntu bionic/main amd64 libvdpau1 amd64 1.1.1-3ubuntu1 [25.5 kB]\n",
      "Get:148 http://archive.ubuntu.com/ubuntu bionic-updates/universe amd64 libavutil55 amd64 7:3.4.4-0ubuntu0.18.04.1 [190 kB]\n",
      "Get:149 http://archive.ubuntu.com/ubuntu bionic/universe amd64 libcrystalhd3 amd64 1:0.0~git20110715.fdd2f19-12 [45.8 kB]\n",
      "Get:150 http://archive.ubuntu.com/ubuntu bionic/universe amd64 libgsm1 amd64 1.0.13-4build1 [22.4 kB]\n",
      "Get:151 http://archive.ubuntu.com/ubuntu bionic/main amd64 libmp3lame0 amd64 3.100-2 [136 kB]\n",
      "Get:152 http://archive.ubuntu.com/ubuntu bionic/universe amd64 libopenjp2-7 amd64 2.3.0-1 [145 kB]\n",
      "Get:153 http://archive.ubuntu.com/ubuntu bionic/main amd64 libopus0 amd64 1.1.2-1ubuntu1 [159 kB]\n",
      "Get:154 http://archive.ubuntu.com/ubuntu bionic/universe amd64 libshine3 amd64 3.1.1-1 [22.9 kB]\n",
      "Get:155 http://archive.ubuntu.com/ubuntu bionic/main amd64 libsnappy1v5 amd64 1.1.7-1 [16.0 kB]\n",
      "Get:156 http://archive.ubuntu.com/ubuntu bionic/main amd64 libspeex1 amd64 1.2~rc1.2-1ubuntu2 [52.1 kB]\n",
      "Get:157 http://archive.ubuntu.com/ubuntu bionic/universe amd64 libsoxr0 amd64 0.1.2-3 [65.9 kB]\n",
      "Get:158 http://archive.ubuntu.com/ubuntu bionic-updates/universe amd64 libswresample2 amd64 7:3.4.4-0ubuntu0.18.04.1 [55.2 kB]\n",
      "Get:159 http://archive.ubuntu.com/ubuntu bionic/main amd64 libtheora0 amd64 1.1.1+dfsg.1-14 [170 kB]\n",
      "Get:160 http://archive.ubuntu.com/ubuntu bionic/main amd64 libtwolame0 amd64 0.3.13-3 [46.7 kB]\n",
      "Get:161 http://archive.ubuntu.com/ubuntu bionic/main amd64 libvorbis0a amd64 1.3.5-4.2 [86.4 kB]\n",
      "Get:162 http://archive.ubuntu.com/ubuntu bionic/main amd64 libvorbisenc2 amd64 1.3.5-4.2 [70.7 kB]\n",
      "Get:163 http://archive.ubuntu.com/ubuntu bionic/main amd64 libvpx5 amd64 1.7.0-3 [798 kB]\n",
      "Get:164 http://archive.ubuntu.com/ubuntu bionic-updates/main amd64 libwavpack1 amd64 5.1.0-2ubuntu1.1 [76.6 kB]\n",
      "Get:165 http://archive.ubuntu.com/ubuntu bionic/main amd64 libwebpmux3 amd64 0.6.1-2 [19.6 kB]\n",
      "Get:166 http://archive.ubuntu.com/ubuntu bionic/universe amd64 libx264-152 amd64 2:0.152.2854+gite9a5903-2 [609 kB]\n",
      "Get:167 http://archive.ubuntu.com/ubuntu bionic/universe amd64 libx265-146 amd64 2.6-3 [1,026 kB]\n",
      "Get:168 http://archive.ubuntu.com/ubuntu bionic/universe amd64 libxvidcore4 amd64 2:1.3.5-1 [200 kB]\n",
      "Get:169 http://archive.ubuntu.com/ubuntu bionic/universe amd64 libzvbi-common all 0.2.35-13 [32.1 kB]\n",
      "Get:170 http://archive.ubuntu.com/ubuntu bionic/universe amd64 libzvbi0 amd64 0.2.35-13 [235 kB]\n",
      "Get:171 http://archive.ubuntu.com/ubuntu bionic-updates/universe amd64 libavcodec57 amd64 7:3.4.4-0ubuntu0.18.04.1 [4,592 kB]\n",
      "Get:172 http://archive.ubuntu.com/ubuntu bionic-updates/main amd64 libasound2-data all 1.1.3-5ubuntu0.1 [36.3 kB]\n",
      "Get:173 http://archive.ubuntu.com/ubuntu bionic-updates/main amd64 libasound2 amd64 1.1.3-5ubuntu0.1 [359 kB]\n",
      "Get:174 http://archive.ubuntu.com/ubuntu bionic/main amd64 libraw1394-11 amd64 2.1.2-1 [30.7 kB]\n",
      "Get:175 http://archive.ubuntu.com/ubuntu bionic/main amd64 libavc1394-0 amd64 0.5.4-4build1 [16.1 kB]\n",
      "Get:176 http://archive.ubuntu.com/ubuntu bionic/universe amd64 libass9 amd64 1:0.14.0-1 [88.2 kB]\n",
      "Get:177 http://archive.ubuntu.com/ubuntu bionic/universe amd64 libbluray2 amd64 1:1.0.2-3 [141 kB]\n",
      "Get:178 http://archive.ubuntu.com/ubuntu bionic/universe amd64 libchromaprint1 amd64 1.4.3-1 [36.8 kB]\n",
      "Get:179 http://archive.ubuntu.com/ubuntu bionic/universe amd64 libgme0 amd64 0.6.2-1 [121 kB]\n",
      "Get:180 http://archive.ubuntu.com/ubuntu bionic/main amd64 libmpg123-0 amd64 1.25.10-1 [125 kB]\n",
      "Get:181 http://archive.ubuntu.com/ubuntu bionic/main amd64 libvorbisfile3 amd64 1.3.5-4.2 [16.0 kB]\n",
      "Get:182 http://archive.ubuntu.com/ubuntu bionic/universe amd64 libopenmpt0 amd64 0.3.6-1 [561 kB]\n",
      "Get:183 http://archive.ubuntu.com/ubuntu bionic-updates/main amd64 libssh-gcrypt-4 amd64 0.8.0~20170825.94fa1e38-1ubuntu0.1 [171 kB]\n",
      "Get:184 http://archive.ubuntu.com/ubuntu bionic-updates/universe amd64 libavformat57 amd64 7:3.4.4-0ubuntu0.18.04.1 [949 kB]\n",
      "Get:185 http://archive.ubuntu.com/ubuntu bionic-updates/universe amd64 libavresample3 amd64 7:3.4.4-0ubuntu0.18.04.1 [52.6 kB]\n",
      "Get:186 http://archive.ubuntu.com/ubuntu bionic/universe amd64 libbs2b0 amd64 3.1.0+dfsg-2.2 [10.5 kB]\n",
      "Get:187 http://archive.ubuntu.com/ubuntu bionic/universe amd64 libflite1 amd64 2.1-release-1 [12.8 MB]\n",
      "Get:188 http://archive.ubuntu.com/ubuntu bionic/universe amd64 libmysofa0 amd64 0.6~dfsg0-2 [37.8 kB]\n",
      "Get:189 http://archive.ubuntu.com/ubuntu bionic-updates/universe amd64 libpostproc54 amd64 7:3.4.4-0ubuntu0.18.04.1 [50.4 kB]\n",
      "Get:190 http://archive.ubuntu.com/ubuntu bionic/main amd64 libfftw3-double3 amd64 3.3.7-1 [735 kB]\n",
      "Get:191 http://archive.ubuntu.com/ubuntu bionic/main amd64 libsamplerate0 amd64 0.1.9-1 [938 kB]\n",
      "Get:192 http://archive.ubuntu.com/ubuntu bionic/universe amd64 librubberband2 amd64 1.8.1-7ubuntu2 [86.7 kB]\n",
      "Get:193 http://archive.ubuntu.com/ubuntu bionic-updates/universe amd64 libswscale4 amd64 7:3.4.4-0ubuntu0.18.04.1 [150 kB]\n",
      "Get:194 http://archive.ubuntu.com/ubuntu bionic-updates/universe amd64 libavfilter6 amd64 7:3.4.4-0ubuntu0.18.04.1 [874 kB]\n",
      "Get:195 http://archive.ubuntu.com/ubuntu bionic/main amd64 libcaca0 amd64 0.99.beta19-2build2~gcc5.3 [202 kB]\n",
      "Get:196 http://archive.ubuntu.com/ubuntu bionic/main amd64 libcdio17 amd64 1.0.0-2ubuntu2 [58.8 kB]\n",
      "Get:197 http://archive.ubuntu.com/ubuntu bionic/main amd64 libcdio-cdda2 amd64 10.2+0.94+2-2build1 [17.7 kB]\n",
      "Get:198 http://archive.ubuntu.com/ubuntu bionic/main amd64 libcdio-paranoia2 amd64 10.2+0.94+2-2build1 [17.2 kB]\n",
      "Get:199 http://archive.ubuntu.com/ubuntu bionic/universe amd64 libdc1394-22 amd64 2.2.5-1 [77.5 kB]\n",
      "Get:200 http://archive.ubuntu.com/ubuntu bionic/main amd64 libiec61883-0 amd64 1.2.0-2 [23.5 kB]\n",
      "Get:201 http://archive.ubuntu.com/ubuntu bionic/main amd64 libjack-jackd2-0 amd64 1.9.12~dfsg-2 [263 kB]\n",
      "Get:202 http://archive.ubuntu.com/ubuntu bionic/universe amd64 libopenal-data all 1:1.18.2-2 [102 kB]\n",
      "Get:203 http://archive.ubuntu.com/ubuntu bionic/universe amd64 libsndio6.1 amd64 1.1.0-3 [23.4 kB]\n",
      "Get:204 http://archive.ubuntu.com/ubuntu bionic/universe amd64 libopenal1 amd64 1:1.18.2-2 [266 kB]\n",
      "Get:205 http://archive.ubuntu.com/ubuntu bionic/main amd64 libasyncns0 amd64 0.8-6 [12.1 kB]\n",
      "Get:206 http://archive.ubuntu.com/ubuntu bionic/main amd64 libflac8 amd64 1.3.2-1 [213 kB]\n",
      "Get:207 http://archive.ubuntu.com/ubuntu bionic/main amd64 libsndfile1 amd64 1.0.28-4 [169 kB]\n",
      "Get:208 http://archive.ubuntu.com/ubuntu bionic/main amd64 libwrap0 amd64 7.6.q-27 [46.3 kB]\n",
      "Get:209 http://archive.ubuntu.com/ubuntu bionic-updates/main amd64 libpulse0 amd64 1:11.1-1ubuntu7.1 [265 kB]\n",
      "Get:210 http://archive.ubuntu.com/ubuntu bionic/main amd64 libwayland-cursor0 amd64 1.14.0-2 [9,976 B]\n",
      "Get:211 http://archive.ubuntu.com/ubuntu bionic-updates/main amd64 libwayland-egl1-mesa amd64 18.0.5-0ubuntu0~18.04.1 [7,148 B]\n",
      "Get:212 http://archive.ubuntu.com/ubuntu bionic/main amd64 libxcursor1 amd64 1:1.1.15-1 [19.8 kB]\n",
      "Get:213 http://archive.ubuntu.com/ubuntu bionic/main amd64 libxrandr2 amd64 2:1.5.1-1 [18.1 kB]\n",
      "Get:214 http://archive.ubuntu.com/ubuntu bionic-updates/universe amd64 libsdl2-2.0-0 amd64 2.0.8+dfsg1-1ubuntu1.18.04.1 [378 kB]\n",
      "Get:215 http://archive.ubuntu.com/ubuntu bionic/main amd64 libxv1 amd64 2:1.0.11-1 [10.7 kB]\n",
      "Get:216 http://archive.ubuntu.com/ubuntu bionic-updates/universe amd64 libavdevice57 amd64 7:3.4.4-0ubuntu0.18.04.1 [74.9 kB]\n",
      "Get:217 http://archive.ubuntu.com/ubuntu bionic-updates/universe amd64 ffmpeg amd64 7:3.4.4-0ubuntu0.18.04.1 [1,587 kB]\n",
      "Get:218 http://archive.ubuntu.com/ubuntu bionic-updates/main amd64 libavahi-glib1 amd64 0.7-3.1ubuntu1.1 [7,720 B]\n",
      "Get:219 http://archive.ubuntu.com/ubuntu bionic/main amd64 libgeoclue-2-0 amd64 2.4.7-1ubuntu1 [25.6 kB]\n",
      "Get:220 http://archive.ubuntu.com/ubuntu bionic/main amd64 libjson-glib-1.0-common all 1.4.2-3 [3,464 B]\n",
      "Get:221 http://archive.ubuntu.com/ubuntu bionic/main amd64 libjson-glib-1.0-0 amd64 1.4.2-3 [58.5 kB]\n",
      "Get:222 http://archive.ubuntu.com/ubuntu bionic/main amd64 libmm-glib0 amd64 1.6.8-2ubuntu1 [163 kB]\n",
      "Get:223 http://archive.ubuntu.com/ubuntu bionic/main amd64 libproxy1v5 amd64 0.4.15-1 [49.5 kB]\n",
      "Get:224 http://archive.ubuntu.com/ubuntu bionic/main amd64 glib-networking-common all 2.56.0-1 [3,324 B]\n",
      "Get:225 http://archive.ubuntu.com/ubuntu bionic/main amd64 glib-networking-services amd64 2.56.0-1 [8,488 B]\n",
      "Get:226 http://archive.ubuntu.com/ubuntu bionic/main amd64 gsettings-desktop-schemas all 3.28.0-1ubuntu1 [27.8 kB]\n",
      "Get:227 http://archive.ubuntu.com/ubuntu bionic/main amd64 glib-networking amd64 2.56.0-1 [56.7 kB]\n",
      "Get:228 http://archive.ubuntu.com/ubuntu bionic-updates/main amd64 libsoup2.4-1 amd64 2.62.1-1ubuntu0.1 [292 kB]\n",
      "Get:229 http://archive.ubuntu.com/ubuntu bionic/main amd64 geoclue-2.0 amd64 2.4.7-1ubuntu1 [80.6 kB]\n",
      "Get:230 http://archive.ubuntu.com/ubuntu bionic/main amd64 libcdparanoia0 amd64 3.10.2+debian-13 [46.7 kB]\n",
      "Get:231 http://archive.ubuntu.com/ubuntu bionic/main amd64 libvisual-0.4-0 amd64 0.4.0-11 [99.2 kB]\n",
      "Get:232 http://archive.ubuntu.com/ubuntu bionic-updates/main amd64 gstreamer1.0-plugins-base amd64 1.14.1-1ubuntu1~ubuntu18.04.1 [585 kB]\n",
      "Get:233 http://archive.ubuntu.com/ubuntu bionic/main amd64 iio-sensor-proxy amd64 2.4-2 [45.0 kB]\n",
      "Get:234 http://archive.ubuntu.com/ubuntu bionic/universe amd64 libaacs0 amd64 0.9.0-1 [51.4 kB]\n",
      "Get:235 http://archive.ubuntu.com/ubuntu bionic/main amd64 libatk1.0-data all 2.28.1-1 [2,992 B]\n",
      "Get:236 http://archive.ubuntu.com/ubuntu bionic/main amd64 libatk1.0-0 amd64 2.28.1-1 [43.9 kB]\n",
      "Get:237 http://archive.ubuntu.com/ubuntu bionic/main amd64 libatk-bridge2.0-0 amd64 2.26.2-1 [57.3 kB]\n",
      "Get:238 http://archive.ubuntu.com/ubuntu bionic/universe amd64 libbdplus0 amd64 0.1.2-2 [46.6 kB]\n",
      "Get:239 http://archive.ubuntu.com/ubuntu bionic/main amd64 libcairo-gobject2 amd64 1.15.10-2 [17.2 kB]\n",
      "Get:240 http://archive.ubuntu.com/ubuntu bionic-updates/main amd64 liblcms2-2 amd64 2.9-1ubuntu0.1 [139 kB]\n",
      "Get:241 http://archive.ubuntu.com/ubuntu bionic/main amd64 libcolord2 amd64 1.3.3-2build1 [107 kB]\n",
      "Get:242 http://archive.ubuntu.com/ubuntu bionic/main amd64 libdata-dump-perl all 1.23-1 [27.0 kB]\n",
      "Get:243 http://archive.ubuntu.com/ubuntu bionic/universe amd64 libdvdread4 amd64 6.0.0-1 [50.6 kB]\n",
      "Get:244 http://archive.ubuntu.com/ubuntu bionic/universe amd64 libdvdnav4 amd64 6.0.0-1 [38.0 kB]\n",
      "Get:245 http://archive.ubuntu.com/ubuntu bionic/main amd64 libencode-locale-perl all 1.05-1 [12.3 kB]\n",
      "Get:246 http://archive.ubuntu.com/ubuntu bionic/main amd64 libepoxy0 amd64 1.4.3-1 [181 kB]\n",
      "Get:247 http://archive.ubuntu.com/ubuntu bionic/main amd64 libipc-system-simple-perl all 1.25-4 [22.5 kB]\n",
      "Get:248 http://archive.ubuntu.com/ubuntu bionic/main amd64 libfile-basedir-perl all 0.07-1 [16.9 kB]\n",
      "Get:249 http://archive.ubuntu.com/ubuntu bionic/main amd64 liburi-perl all 1.73-1 [77.2 kB]\n",
      "Get:250 http://archive.ubuntu.com/ubuntu bionic/main amd64 libfile-desktopentry-perl all 0.22-1 [18.2 kB]\n",
      "Get:251 http://archive.ubuntu.com/ubuntu bionic/main amd64 libtimedate-perl all 2.3000-2 [37.5 kB]\n",
      "Get:252 http://archive.ubuntu.com/ubuntu bionic/main amd64 libhttp-date-perl all 6.02-1 [10.4 kB]\n",
      "Get:253 http://archive.ubuntu.com/ubuntu bionic/main amd64 libfile-listing-perl all 6.04-1 [9,774 B]\n",
      "Get:254 http://archive.ubuntu.com/ubuntu bionic/main amd64 libfile-mimeinfo-perl all 0.28-1 [41.4 kB]\n",
      "Get:255 http://archive.ubuntu.com/ubuntu bionic/main amd64 libfont-afm-perl all 1.20-2 [13.2 kB]\n",
      "Get:256 http://archive.ubuntu.com/ubuntu bionic/main amd64 libfontenc1 amd64 1:1.1.3-1 [13.9 kB]\n",
      "Get:257 http://archive.ubuntu.com/ubuntu bionic/main amd64 libgdk-pixbuf2.0-bin amd64 2.36.11-2 [7,864 B]\n",
      "Get:258 http://archive.ubuntu.com/ubuntu bionic-updates/main amd64 libgl1-mesa-glx amd64 18.0.5-0ubuntu0~18.04.1 [3,780 B]\n",
      "Get:259 http://archive.ubuntu.com/ubuntu bionic/main amd64 libgtk-3-common all 3.22.30-1ubuntu1 [228 kB]\n",
      "Get:260 http://archive.ubuntu.com/ubuntu bionic-updates/main amd64 libsoup-gnome2.4-1 amd64 2.62.1-1ubuntu0.1 [5,092 B]\n",
      "Get:261 http://archive.ubuntu.com/ubuntu bionic/main amd64 librest-0.7-0 amd64 0.8.0-2 [31.8 kB]\n",
      "Get:262 http://archive.ubuntu.com/ubuntu bionic/main amd64 libxcomposite1 amd64 1:0.4.4-2 [6,988 B]\n",
      "Get:263 http://archive.ubuntu.com/ubuntu bionic/main amd64 libgtk-3-0 amd64 3.22.30-1ubuntu1 [2,505 kB]\n",
      "Get:264 http://archive.ubuntu.com/ubuntu bionic/main amd64 libgtk-3-bin amd64 3.22.30-1ubuntu1 [57.3 kB]\n",
      "Get:265 http://archive.ubuntu.com/ubuntu bionic/main amd64 libhtml-tagset-perl all 3.20-3 [12.1 kB]\n",
      "Get:266 http://archive.ubuntu.com/ubuntu bionic/main amd64 libhtml-parser-perl amd64 3.72-3build1 [85.9 kB]\n",
      "Get:267 http://archive.ubuntu.com/ubuntu bionic/main amd64 libio-html-perl all 1.001-1 [14.9 kB]\n",
      "Get:268 http://archive.ubuntu.com/ubuntu bionic/main amd64 liblwp-mediatypes-perl all 6.02-1 [21.7 kB]\n",
      "Get:269 http://archive.ubuntu.com/ubuntu bionic/main amd64 libhttp-message-perl all 6.14-1 [72.1 kB]\n",
      "Get:270 http://archive.ubuntu.com/ubuntu bionic/main amd64 libhtml-form-perl all 6.03-1 [23.5 kB]\n",
      "Get:271 http://archive.ubuntu.com/ubuntu bionic/main amd64 libhtml-tree-perl all 5.07-1 [200 kB]\n",
      "Get:272 http://archive.ubuntu.com/ubuntu bionic/main amd64 libhtml-format-perl all 2.12-1 [41.3 kB]\n",
      "Get:273 http://archive.ubuntu.com/ubuntu bionic/main amd64 libhttp-cookies-perl all 6.04-1 [17.2 kB]\n",
      "Get:274 http://archive.ubuntu.com/ubuntu bionic/main amd64 libhttp-daemon-perl all 6.01-1 [17.0 kB]\n",
      "Get:275 http://archive.ubuntu.com/ubuntu bionic/main amd64 libhttp-negotiate-perl all 6.00-2 [13.4 kB]\n",
      "Get:276 http://archive.ubuntu.com/ubuntu bionic/main amd64 perl-openssl-defaults amd64 3build1 [7,012 B]\n",
      "Get:277 http://archive.ubuntu.com/ubuntu bionic/main amd64 libnet-ssleay-perl amd64 1.84-1build1 [282 kB]\n",
      "Get:278 http://archive.ubuntu.com/ubuntu bionic/main amd64 libio-socket-ssl-perl all 2.056-1 [172 kB]\n",
      "Get:279 http://archive.ubuntu.com/ubuntu bionic/main amd64 liblua5.2-0 amd64 5.2.4-1.1build1 [108 kB]\n",
      "Get:280 http://archive.ubuntu.com/ubuntu bionic/main amd64 libnet-http-perl all 6.17-1 [22.7 kB]\n",
      "Get:281 http://archive.ubuntu.com/ubuntu bionic/main amd64 libtry-tiny-perl all 0.30-1 [20.5 kB]\n",
      "Get:282 http://archive.ubuntu.com/ubuntu bionic/main amd64 libwww-robotrules-perl all 6.01-1 [14.1 kB]\n",
      "Get:283 http://archive.ubuntu.com/ubuntu bionic/main amd64 libwww-perl all 6.31-1 [137 kB]\n",
      "Get:284 http://archive.ubuntu.com/ubuntu bionic/main amd64 liblwp-protocol-https-perl all 6.07-2 [8,284 B]\n",
      "Get:285 http://archive.ubuntu.com/ubuntu bionic/main amd64 libnet-smtp-ssl-perl all 1.04-1 [5,948 B]\n",
      "Get:286 http://archive.ubuntu.com/ubuntu bionic/main amd64 libmailtools-perl all 2.18-1 [74.0 kB]\n",
      "Get:287 http://archive.ubuntu.com/ubuntu bionic/main amd64 libmbim-glib4 amd64 1.14.2-2.1ubuntu1 [66.2 kB]\n",
      "Get:288 http://archive.ubuntu.com/ubuntu bionic/main amd64 libmbim-proxy amd64 1.14.2-2.1ubuntu1 [5,612 B]\n",
      "Get:289 http://archive.ubuntu.com/ubuntu bionic/main amd64 libxml-parser-perl amd64 2.44-2build3 [199 kB]\n",
      "Get:290 http://archive.ubuntu.com/ubuntu bionic/main amd64 libxml-twig-perl all 1:3.50-1 [156 kB]\n",
      "Get:291 http://archive.ubuntu.com/ubuntu bionic/main amd64 libnet-dbus-perl amd64 1.1.0-4build2 [176 kB]\n",
      "Get:292 http://archive.ubuntu.com/ubuntu bionic/main amd64 libnl-3-200 amd64 3.2.29-0ubuntu3 [52.8 kB]\n",
      "Get:293 http://archive.ubuntu.com/ubuntu bionic/main amd64 libnl-genl-3-200 amd64 3.2.29-0ubuntu3 [11.2 kB]\n",
      "Get:294 http://archive.ubuntu.com/ubuntu bionic/main amd64 libnss-mdns amd64 0.10-8ubuntu1 [21.2 kB]\n",
      "Get:295 http://archive.ubuntu.com/ubuntu bionic/main amd64 libpcsclite1 amd64 1.8.23-1 [21.3 kB]\n",
      "Get:296 http://archive.ubuntu.com/ubuntu bionic/main amd64 libqmi-glib5 amd64 1.18.0-3ubuntu1 [430 kB]\n",
      "Get:297 http://archive.ubuntu.com/ubuntu bionic/main amd64 libqmi-proxy amd64 1.18.0-3ubuntu1 [5,632 B]\n",
      "Get:298 http://archive.ubuntu.com/ubuntu bionic/main amd64 libtie-ixhash-perl all 1.23-2 [11.2 kB]\n",
      "Get:299 http://archive.ubuntu.com/ubuntu bionic/universe amd64 libuchardet0 amd64 0.0.6-2 [65.1 kB]\n",
      "Get:300 http://archive.ubuntu.com/ubuntu bionic/universe amd64 libva-wayland2 amd64 2.1.0-3 [8,756 B]\n",
      "Get:301 http://archive.ubuntu.com/ubuntu bionic/main amd64 libwacom-bin amd64 0.29-1 [4,712 B]\n",
      "Get:302 http://archive.ubuntu.com/ubuntu bionic/main amd64 libx11-protocol-perl all 0.56-7 [149 kB]\n",
      "Get:303 http://archive.ubuntu.com/ubuntu bionic/main amd64 libxt6 amd64 1:1.1.5-1 [160 kB]\n",
      "Get:304 http://archive.ubuntu.com/ubuntu bionic/main amd64 libxmu6 amd64 2:1.1.2-2 [46.0 kB]\n",
      "Get:305 http://archive.ubuntu.com/ubuntu bionic/main amd64 libxpm4 amd64 1:3.5.12-1 [34.0 kB]\n",
      "Get:306 http://archive.ubuntu.com/ubuntu bionic/main amd64 libxaw7 amd64 2:1.0.13-1 [173 kB]\n",
      "Get:307 http://archive.ubuntu.com/ubuntu bionic/main amd64 libxml-xpathengine-perl all 0.14-1 [31.8 kB]\n",
      "Get:308 http://archive.ubuntu.com/ubuntu bionic-updates/universe amd64 mesa-va-drivers amd64 18.0.5-0ubuntu0~18.04.1 [1,778 kB]\n",
      "Get:309 http://archive.ubuntu.com/ubuntu bionic-updates/main amd64 mesa-vdpau-drivers amd64 18.0.5-0ubuntu0~18.04.1 [1,902 kB]\n",
      "Get:310 http://archive.ubuntu.com/ubuntu bionic/main amd64 modemmanager amd64 1.6.8-2ubuntu1 [604 kB]\n",
      "Get:311 http://archive.ubuntu.com/ubuntu bionic/universe amd64 mpv amd64 0.27.2-1ubuntu1 [898 kB]\n",
      "Get:312 http://archive.ubuntu.com/ubuntu bionic/main amd64 python3-pkg-resources all 39.0.1-2 [98.8 kB]\n",
      "Get:313 http://archive.ubuntu.com/ubuntu bionic/main amd64 python3-pyxattr amd64 0.6.0-2build2 [12.6 kB]\n",
      "Get:314 http://archive.ubuntu.com/ubuntu bionic/main amd64 qt5-gtk-platformtheme amd64 5.9.5+dfsg-0ubuntu1 [117 kB]\n",
      "Get:315 http://archive.ubuntu.com/ubuntu bionic/main amd64 qttranslations5-l10n all 5.9.5-0ubuntu1 [1,485 kB]\n",
      "Get:316 http://archive.ubuntu.com/ubuntu bionic/universe amd64 i965-va-driver amd64 2.1.0-0ubuntu1 [925 kB]\n",
      "Get:317 http://archive.ubuntu.com/ubuntu bionic/universe amd64 va-driver-all amd64 2.1.0-3 [4,376 B]\n",
      "Get:318 http://archive.ubuntu.com/ubuntu bionic/main amd64 vdpau-driver-all amd64 1.1.1-3ubuntu1 [4,674 B]\n",
      "Get:319 http://archive.ubuntu.com/ubuntu bionic-updates/main amd64 wpasupplicant amd64 2:2.6-15ubuntu2.1 [952 kB]\n",
      "Get:320 http://archive.ubuntu.com/ubuntu bionic/main amd64 x11-utils amd64 7.7+3build1 [196 kB]\n",
      "Get:321 http://archive.ubuntu.com/ubuntu bionic/main amd64 x11-xserver-utils amd64 7.7+7build1 [159 kB]\n",
      "Get:322 http://archive.ubuntu.com/ubuntu bionic-updates/main amd64 xdg-utils all 1.1.2-1ubuntu2.2 [60.8 kB]\n",
      "Get:323 http://archive.ubuntu.com/ubuntu bionic/main amd64 libauthen-sasl-perl all 2.1600-1 [48.7 kB]\n",
      "Get:324 http://archive.ubuntu.com/ubuntu bionic/universe amd64 phantomjs amd64 2.1.1+dfsg-2 [308 kB]\n",
      "Get:325 http://archive.ubuntu.com/ubuntu bionic/universe amd64 rtmpdump amd64 2.4+20151223.gitfa8646d.1-1 [43.5 kB]\n",
      "Get:326 http://archive.ubuntu.com/ubuntu bionic/main amd64 usb-modeswitch-data all 20170806-2 [30.7 kB]\n",
      "Get:327 http://archive.ubuntu.com/ubuntu bionic/main amd64 usb-modeswitch amd64 2.5.2+repack0-2ubuntu1 [53.6 kB]\n",
      "Get:328 http://archive.ubuntu.com/ubuntu bionic/universe amd64 youtube-dl all 2018.03.14-1 [931 kB]\n",
      "Fetched 120 MB in 15s (8,043 kB/s)\n",
      "Extracting templates from packages: 100%\n",
      "Selecting previously unselected package libcap2:amd64.\n",
      "(Reading database ... 22280 files and directories currently installed.)\n",
      "Preparing to unpack .../0-libcap2_1%3a2.25-1.2_amd64.deb ...\n",
      "Unpacking libcap2:amd64 (1:2.25-1.2) ...\n",
      "Selecting previously unselected package libargon2-0:amd64.\n",
      "Preparing to unpack .../1-libargon2-0_0~20161029-1.1_amd64.deb ...\n",
      "Unpacking libargon2-0:amd64 (0~20161029-1.1) ...\n",
      "Selecting previously unselected package libdevmapper1.02.1:amd64.\n",
      "Preparing to unpack .../2-libdevmapper1.02.1_2%3a1.02.145-4.1ubuntu3_amd64.deb ...\n",
      "Unpacking libdevmapper1.02.1:amd64 (2:1.02.145-4.1ubuntu3) ...\n",
      "Selecting previously unselected package libjson-c3:amd64.\n",
      "Preparing to unpack .../3-libjson-c3_0.12.1-1.3_amd64.deb ...\n",
      "Unpacking libjson-c3:amd64 (0.12.1-1.3) ...\n",
      "Selecting previously unselected package libcryptsetup12:amd64.\n",
      "Preparing to unpack .../4-libcryptsetup12_2%3a2.0.2-1ubuntu1.1_amd64.deb ...\n",
      "Unpacking libcryptsetup12:amd64 (2:2.0.2-1ubuntu1.1) ...\n",
      "Selecting previously unselected package libidn11:amd64.\n",
      "Preparing to unpack .../5-libidn11_1.33-2.1ubuntu1_amd64.deb ...\n",
      "Unpacking libidn11:amd64 (1.33-2.1ubuntu1) ...\n",
      "Selecting previously unselected package libip4tc0:amd64.\n",
      "Preparing to unpack .../6-libip4tc0_1.6.1-2ubuntu2_amd64.deb ...\n",
      "Unpacking libip4tc0:amd64 (1.6.1-2ubuntu2) ...\n",
      "Selecting previously unselected package libapparmor1:amd64.\n",
      "Preparing to unpack .../7-libapparmor1_2.12-4ubuntu5.1_amd64.deb ...\n",
      "Unpacking libapparmor1:amd64 (2.12-4ubuntu5.1) ...\n",
      "Selecting previously unselected package libkmod2:amd64.\n",
      "Preparing to unpack .../8-libkmod2_24-1ubuntu3_amd64.deb ...\n",
      "Unpacking libkmod2:amd64 (24-1ubuntu3) ...\n",
      "Setting up libcap2:amd64 (1:2.25-1.2) ...\n",
      "Setting up libargon2-0:amd64 (0~20161029-1.1) ...\n",
      "Setting up libdevmapper1.02.1:amd64 (2:1.02.145-4.1ubuntu3) ...\n",
      "Setting up libjson-c3:amd64 (0.12.1-1.3) ...\n",
      "Setting up libcryptsetup12:amd64 (2:2.0.2-1ubuntu1.1) ...\n",
      "Setting up libidn11:amd64 (1.33-2.1ubuntu1) ...\n",
      "Setting up libip4tc0:amd64 (1.6.1-2ubuntu2) ...\n",
      "Selecting previously unselected package systemd.\n",
      "(Reading database ... 22327 files and directories currently installed.)\n",
      "Preparing to unpack .../systemd_237-3ubuntu10.3_amd64.deb ...\n",
      "Unpacking systemd (237-3ubuntu10.3) ...\n",
      "Setting up libapparmor1:amd64 (2.12-4ubuntu5.1) ...\n",
      "Setting up libkmod2:amd64 (24-1ubuntu3) ...\n",
      "Setting up systemd (237-3ubuntu10.3) ...\n",
      "Created symlink /etc/systemd/system/getty.target.wants/getty@tty1.service → /lib/systemd/system/getty@.service.\n",
      "Created symlink /etc/systemd/system/multi-user.target.wants/remote-fs.target → /lib/systemd/system/remote-fs.target.\n",
      "Created symlink /etc/systemd/system/sysinit.target.wants/systemd-timesyncd.service → /lib/systemd/system/systemd-timesyncd.service.\n",
      "Created symlink /etc/systemd/system/dbus-org.freedesktop.resolve1.service → /lib/systemd/system/systemd-resolved.service.\n",
      "Created symlink /etc/systemd/system/multi-user.target.wants/systemd-resolved.service → /lib/systemd/system/systemd-resolved.service.\n",
      "ln: failed to create symbolic link '/etc/resolv.conf': Device or resource busy\n",
      "Created symlink /etc/systemd/system/multi-user.target.wants/ondemand.service → /lib/systemd/system/ondemand.service.\n",
      "Initializing machine ID from random generator.\n",
      "Selecting previously unselected package systemd-sysv.\n",
      "(Reading database ... 23028 files and directories currently installed.)\n",
      "Preparing to unpack .../000-systemd-sysv_237-3ubuntu10.3_amd64.deb ...\n",
      "Unpacking systemd-sysv (237-3ubuntu10.3) ...\n",
      "Selecting previously unselected package fontconfig.\n",
      "Preparing to unpack .../001-fontconfig_2.12.6-0ubuntu2_amd64.deb ...\n",
      "Unpacking fontconfig (2.12.6-0ubuntu2) ...\n",
      "Selecting previously unselected package libdaemon0:amd64.\n",
      "Preparing to unpack .../002-libdaemon0_0.14-6_amd64.deb ...\n",
      "Unpacking libdaemon0:amd64 (0.14-6) ...\n",
      "Selecting previously unselected package libogg0:amd64.\n",
      "Preparing to unpack .../003-libogg0_1.3.2-1_amd64.deb ...\n",
      "Unpacking libogg0:amd64 (1.3.2-1) ...\n",
      "Selecting previously unselected package libdouble-conversion1:amd64.\n",
      "Preparing to unpack .../004-libdouble-conversion1_2.0.1-4ubuntu1_amd64.deb ...\n",
      "Unpacking libdouble-conversion1:amd64 (2.0.1-4ubuntu1) ...\n",
      "Selecting previously unselected package libqt5core5a:amd64.\n",
      "Preparing to unpack .../005-libqt5core5a_5.9.5+dfsg-0ubuntu1_amd64.deb ...\n",
      "Unpacking libqt5core5a:amd64 (5.9.5+dfsg-0ubuntu1) ...\n",
      "Selecting previously unselected package libxcb-glx0:amd64.\n",
      "Preparing to unpack .../006-libxcb-glx0_1.13-1_amd64.deb ...\n",
      "Unpacking libxcb-glx0:amd64 (1.13-1) ...\n",
      "Selecting previously unselected package libxdamage1:amd64.\n",
      "Preparing to unpack .../007-libxdamage1_1%3a1.1.4-3_amd64.deb ...\n",
      "Unpacking libxdamage1:amd64 (1:1.1.4-3) ...\n",
      "Selecting previously unselected package libxfixes3:amd64.\n",
      "Preparing to unpack .../008-libxfixes3_1%3a5.0.3-1_amd64.deb ...\n",
      "Unpacking libxfixes3:amd64 (1:5.0.3-1) ...\n",
      "Selecting previously unselected package libxxf86vm1:amd64.\n",
      "Preparing to unpack .../009-libxxf86vm1_1%3a1.1.4-1_amd64.deb ...\n",
      "Unpacking libxxf86vm1:amd64 (1:1.1.4-1) ...\n",
      "Selecting previously unselected package libdrm-amdgpu1:amd64.\n",
      "Preparing to unpack .../010-libdrm-amdgpu1_2.4.91-2_amd64.deb ...\n",
      "Unpacking libdrm-amdgpu1:amd64 (2.4.91-2) ...\n",
      "Selecting previously unselected package libpciaccess0:amd64.\n",
      "Preparing to unpack .../011-libpciaccess0_0.14-1_amd64.deb ...\n",
      "Unpacking libpciaccess0:amd64 (0.14-1) ...\n",
      "Selecting previously unselected package libdrm-intel1:amd64.\n",
      "Preparing to unpack .../012-libdrm-intel1_2.4.91-2_amd64.deb ...\n",
      "Unpacking libdrm-intel1:amd64 (2.4.91-2) ...\n",
      "Selecting previously unselected package libdrm-nouveau2:amd64.\n",
      "Preparing to unpack .../013-libdrm-nouveau2_2.4.91-2_amd64.deb ...\n",
      "Unpacking libdrm-nouveau2:amd64 (2.4.91-2) ...\n",
      "Selecting previously unselected package libdrm-radeon1:amd64.\n",
      "Preparing to unpack .../014-libdrm-radeon1_2.4.91-2_amd64.deb ...\n",
      "Unpacking libdrm-radeon1:amd64 (2.4.91-2) ...\n",
      "Selecting previously unselected package libllvm6.0:amd64.\n",
      "Preparing to unpack .../015-libllvm6.0_1%3a6.0-1ubuntu2_amd64.deb ...\n",
      "Unpacking libllvm6.0:amd64 (1:6.0-1ubuntu2) ...\n",
      "Selecting previously unselected package libsensors4:amd64.\n",
      "Preparing to unpack .../016-libsensors4_1%3a3.4.0-4_amd64.deb ...\n",
      "Unpacking libsensors4:amd64 (1:3.4.0-4) ...\n",
      "Selecting previously unselected package libgl1-mesa-dri:amd64.\n",
      "Preparing to unpack .../017-libgl1-mesa-dri_18.0.5-0ubuntu0~18.04.1_amd64.deb ...\n",
      "Unpacking libgl1-mesa-dri:amd64 (18.0.5-0ubuntu0~18.04.1) ...\n",
      "Selecting previously unselected package libglx-mesa0:amd64.\n",
      "Preparing to unpack .../018-libglx-mesa0_18.0.5-0ubuntu0~18.04.1_amd64.deb ...\n",
      "Unpacking libglx-mesa0:amd64 (18.0.5-0ubuntu0~18.04.1) ...\n",
      "Selecting previously unselected package libglx0:amd64.\n",
      "Preparing to unpack .../019-libglx0_1.0.0-2ubuntu2.2_amd64.deb ...\n",
      "Unpacking libglx0:amd64 (1.0.0-2ubuntu2.2) ...\n",
      "Selecting previously unselected package libgl1:amd64.\n",
      "Preparing to unpack .../020-libgl1_1.0.0-2ubuntu2.2_amd64.deb ...\n",
      "Unpacking libgl1:amd64 (1.0.0-2ubuntu2.2) ...\n",
      "Selecting previously unselected package libevdev2:amd64.\n",
      "Preparing to unpack .../021-libevdev2_1.5.8+dfsg-1_amd64.deb ...\n",
      "Unpacking libevdev2:amd64 (1.5.8+dfsg-1) ...\n",
      "Selecting previously unselected package libmtdev1:amd64.\n",
      "Preparing to unpack .../022-libmtdev1_1.1.5-1ubuntu3_amd64.deb ...\n",
      "Unpacking libmtdev1:amd64 (1.1.5-1ubuntu3) ...\n",
      "Selecting previously unselected package libgudev-1.0-0:amd64.\n",
      "Preparing to unpack .../023-libgudev-1.0-0_1%3a232-2_amd64.deb ...\n",
      "Unpacking libgudev-1.0-0:amd64 (1:232-2) ...\n",
      "Selecting previously unselected package libwacom-common.\n",
      "Preparing to unpack .../024-libwacom-common_0.29-1_all.deb ...\n",
      "Unpacking libwacom-common (0.29-1) ...\n",
      "Selecting previously unselected package libwacom2:amd64.\n",
      "Preparing to unpack .../025-libwacom2_0.29-1_amd64.deb ...\n",
      "Unpacking libwacom2:amd64 (0.29-1) ...\n",
      "Selecting previously unselected package libinput-bin.\n",
      "Preparing to unpack .../026-libinput-bin_1.10.4-1_amd64.deb ...\n",
      "Unpacking libinput-bin (1.10.4-1) ...\n",
      "Selecting previously unselected package libinput10:amd64.\n",
      "Preparing to unpack .../027-libinput10_1.10.4-1_amd64.deb ...\n",
      "Unpacking libinput10:amd64 (1.10.4-1) ...\n",
      "Selecting previously unselected package libqt5dbus5:amd64.\n",
      "Preparing to unpack .../028-libqt5dbus5_5.9.5+dfsg-0ubuntu1_amd64.deb ...\n",
      "Unpacking libqt5dbus5:amd64 (5.9.5+dfsg-0ubuntu1) ...\n",
      "Selecting previously unselected package libqt5network5:amd64.\n",
      "Preparing to unpack .../029-libqt5network5_5.9.5+dfsg-0ubuntu1_amd64.deb ...\n",
      "Unpacking libqt5network5:amd64 (5.9.5+dfsg-0ubuntu1) ...\n",
      "Selecting previously unselected package libxcb-icccm4:amd64.\n",
      "Preparing to unpack .../030-libxcb-icccm4_0.4.1-1ubuntu1_amd64.deb ...\n",
      "Unpacking libxcb-icccm4:amd64 (0.4.1-1ubuntu1) ...\n",
      "Selecting previously unselected package libxcb-shm0:amd64.\n",
      "Preparing to unpack .../031-libxcb-shm0_1.13-1_amd64.deb ...\n",
      "Unpacking libxcb-shm0:amd64 (1.13-1) ...\n",
      "Selecting previously unselected package libxcb-util1:amd64.\n",
      "Preparing to unpack .../032-libxcb-util1_0.4.0-0ubuntu3_amd64.deb ...\n",
      "Unpacking libxcb-util1:amd64 (0.4.0-0ubuntu3) ...\n",
      "Selecting previously unselected package libxcb-image0:amd64.\n",
      "Preparing to unpack .../033-libxcb-image0_0.4.0-1build1_amd64.deb ...\n",
      "Unpacking libxcb-image0:amd64 (0.4.0-1build1) ...\n",
      "Selecting previously unselected package libxcb-keysyms1:amd64.\n",
      "Preparing to unpack .../034-libxcb-keysyms1_0.4.0-1_amd64.deb ...\n",
      "Unpacking libxcb-keysyms1:amd64 (0.4.0-1) ...\n",
      "Selecting previously unselected package libxcb-randr0:amd64.\n",
      "Preparing to unpack .../035-libxcb-randr0_1.13-1_amd64.deb ...\n",
      "Unpacking libxcb-randr0:amd64 (1.13-1) ...\n",
      "Selecting previously unselected package libxcb-render0:amd64.\n",
      "Preparing to unpack .../036-libxcb-render0_1.13-1_amd64.deb ...\n",
      "Unpacking libxcb-render0:amd64 (1.13-1) ...\n",
      "Selecting previously unselected package libxcb-render-util0:amd64.\n",
      "Preparing to unpack .../037-libxcb-render-util0_0.3.9-1_amd64.deb ...\n",
      "Unpacking libxcb-render-util0:amd64 (0.3.9-1) ...\n",
      "Selecting previously unselected package libxcb-shape0:amd64.\n",
      "Preparing to unpack .../038-libxcb-shape0_1.13-1_amd64.deb ...\n",
      "Unpacking libxcb-shape0:amd64 (1.13-1) ...\n",
      "Selecting previously unselected package libxcb-xinerama0:amd64.\n",
      "Preparing to unpack .../039-libxcb-xinerama0_1.13-1_amd64.deb ...\n",
      "Unpacking libxcb-xinerama0:amd64 (1.13-1) ...\n",
      "Selecting previously unselected package libxcb-xkb1:amd64.\n",
      "Preparing to unpack .../040-libxcb-xkb1_1.13-1_amd64.deb ...\n",
      "Unpacking libxcb-xkb1:amd64 (1.13-1) ...\n",
      "Selecting previously unselected package libxi6:amd64.\n",
      "Preparing to unpack .../041-libxi6_2%3a1.7.9-1_amd64.deb ...\n",
      "Unpacking libxi6:amd64 (2:1.7.9-1) ...\n",
      "Selecting previously unselected package xkb-data.\n",
      "Preparing to unpack .../042-xkb-data_2.23.1-1ubuntu1_all.deb ...\n",
      "Unpacking xkb-data (2.23.1-1ubuntu1) ...\n",
      "Selecting previously unselected package libxkbcommon0:amd64.\n",
      "Preparing to unpack .../043-libxkbcommon0_0.8.0-1_amd64.deb ...\n",
      "Unpacking libxkbcommon0:amd64 (0.8.0-1) ...\n",
      "Selecting previously unselected package libxkbcommon-x11-0:amd64.\n",
      "Preparing to unpack .../044-libxkbcommon-x11-0_0.8.0-1_amd64.deb ...\n",
      "Unpacking libxkbcommon-x11-0:amd64 (0.8.0-1) ...\n",
      "Selecting previously unselected package libqt5gui5:amd64.\n",
      "Preparing to unpack .../045-libqt5gui5_5.9.5+dfsg-0ubuntu1_amd64.deb ...\n",
      "Unpacking libqt5gui5:amd64 (5.9.5+dfsg-0ubuntu1) ...\n",
      "Selecting previously unselected package libqt5widgets5:amd64.\n",
      "Preparing to unpack .../046-libqt5widgets5_5.9.5+dfsg-0ubuntu1_amd64.deb ...\n",
      "Unpacking libqt5widgets5:amd64 (5.9.5+dfsg-0ubuntu1) ...\n",
      "Selecting previously unselected package libqt5svg5:amd64.\n",
      "Preparing to unpack .../047-libqt5svg5_5.9.5-0ubuntu1_amd64.deb ...\n",
      "Unpacking libqt5svg5:amd64 (5.9.5-0ubuntu1) ...\n",
      "Selecting previously unselected package libcap2-bin.\n",
      "Preparing to unpack .../048-libcap2-bin_1%3a2.25-1.2_amd64.deb ...\n",
      "Unpacking libcap2-bin (1:2.25-1.2) ...\n",
      "Selecting previously unselected package libgstreamer1.0-0:amd64.\n",
      "Preparing to unpack .../049-libgstreamer1.0-0_1.14.1-1~ubuntu18.04.1_amd64.deb ...\n",
      "Unpacking libgstreamer1.0-0:amd64 (1.14.1-1~ubuntu18.04.1) ...\n",
      "Selecting previously unselected package liborc-0.4-0:amd64.\n",
      "Preparing to unpack .../050-liborc-0.4-0_1%3a0.4.28-1_amd64.deb ...\n",
      "Unpacking liborc-0.4-0:amd64 (1:0.4.28-1) ...\n",
      "Selecting previously unselected package libgstreamer-plugins-base1.0-0:amd64.\n",
      "Preparing to unpack .../051-libgstreamer-plugins-base1.0-0_1.14.1-1ubuntu1~ubuntu18.04.1_amd64.deb ...\n",
      "Unpacking libgstreamer-plugins-base1.0-0:amd64 (1.14.1-1ubuntu1~ubuntu18.04.1) ...\n",
      "Selecting previously unselected package libhyphen0:amd64.\n",
      "Preparing to unpack .../052-libhyphen0_2.8.8-5_amd64.deb ...\n",
      "Unpacking libhyphen0:amd64 (2.8.8-5) ...\n",
      "Selecting previously unselected package libqt5positioning5:amd64.\n",
      "Preparing to unpack .../053-libqt5positioning5_5.9.5+dfsg-0ubuntu2_amd64.deb ...\n",
      "Unpacking libqt5positioning5:amd64 (5.9.5+dfsg-0ubuntu2) ...\n",
      "Selecting previously unselected package libavahi-common-data:amd64.\n",
      "Preparing to unpack .../054-libavahi-common-data_0.7-3.1ubuntu1.1_amd64.deb ...\n",
      "Unpacking libavahi-common-data:amd64 (0.7-3.1ubuntu1.1) ...\n",
      "Selecting previously unselected package libavahi-common3:amd64.\n",
      "Preparing to unpack .../055-libavahi-common3_0.7-3.1ubuntu1.1_amd64.deb ...\n",
      "Unpacking libavahi-common3:amd64 (0.7-3.1ubuntu1.1) ...\n",
      "Selecting previously unselected package libavahi-client3:amd64.\n",
      "Preparing to unpack .../056-libavahi-client3_0.7-3.1ubuntu1.1_amd64.deb ...\n",
      "Unpacking libavahi-client3:amd64 (0.7-3.1ubuntu1.1) ...\n",
      "Selecting previously unselected package libcups2:amd64.\n",
      "Preparing to unpack .../057-libcups2_2.2.7-1ubuntu2.1_amd64.deb ...\n",
      "Unpacking libcups2:amd64 (2.2.7-1ubuntu2.1) ...\n",
      "Selecting previously unselected package libqt5printsupport5:amd64.\n",
      "Preparing to unpack .../058-libqt5printsupport5_5.9.5+dfsg-0ubuntu1_amd64.deb ...\n",
      "Unpacking libqt5printsupport5:amd64 (5.9.5+dfsg-0ubuntu1) ...\n",
      "Selecting previously unselected package libqt5qml5:amd64.\n",
      "Preparing to unpack .../059-libqt5qml5_5.9.5-0ubuntu1.1_amd64.deb ...\n",
      "Unpacking libqt5qml5:amd64 (5.9.5-0ubuntu1.1) ...\n",
      "Selecting previously unselected package libqt5quick5:amd64.\n",
      "Preparing to unpack .../060-libqt5quick5_5.9.5-0ubuntu1.1_amd64.deb ...\n",
      "Unpacking libqt5quick5:amd64 (5.9.5-0ubuntu1.1) ...\n",
      "Selecting previously unselected package libqt5sensors5:amd64.\n",
      "Preparing to unpack .../061-libqt5sensors5_5.9.5-0ubuntu1_amd64.deb ...\n",
      "Unpacking libqt5sensors5:amd64 (5.9.5-0ubuntu1) ...\n",
      "Selecting previously unselected package libqt5webchannel5:amd64.\n",
      "Preparing to unpack .../062-libqt5webchannel5_5.9.5-0ubuntu1_amd64.deb ...\n",
      "Unpacking libqt5webchannel5:amd64 (5.9.5-0ubuntu1) ...\n",
      "Selecting previously unselected package libwebp6:amd64.\n",
      "Preparing to unpack .../063-libwebp6_0.6.1-2_amd64.deb ...\n",
      "Unpacking libwebp6:amd64 (0.6.1-2) ...\n",
      "Selecting previously unselected package libbrotli1:amd64.\n",
      "Preparing to unpack .../064-libbrotli1_1.0.3-1ubuntu1.2_amd64.deb ...\n",
      "Unpacking libbrotli1:amd64 (1.0.3-1ubuntu1.2) ...\n",
      "Selecting previously unselected package libwoff1:amd64.\n",
      "Preparing to unpack .../065-libwoff1_1.0.2-1build0.1_amd64.deb ...\n",
      "Unpacking libwoff1:amd64 (1.0.2-1build0.1) ...\n",
      "Selecting previously unselected package libxslt1.1:amd64.\n",
      "Preparing to unpack .../066-libxslt1.1_1.1.29-5_amd64.deb ...\n",
      "Unpacking libxslt1.1:amd64 (1.1.29-5) ...\n",
      "Selecting previously unselected package libqt5webkit5:amd64.\n",
      "Preparing to unpack .../067-libqt5webkit5_5.212.0~alpha2-7ubuntu1_amd64.deb ...\n",
      "Unpacking libqt5webkit5:amd64 (5.212.0~alpha2-7ubuntu1) ...\n",
      "Selecting previously unselected package libwbclient0:amd64.\n",
      "Preparing to unpack .../068-libwbclient0_2%3a4.7.6+dfsg~ubuntu-0ubuntu2.2_amd64.deb ...\n",
      "Unpacking libwbclient0:amd64 (2:4.7.6+dfsg~ubuntu-0ubuntu2.2) ...\n",
      "Selecting previously unselected package libxinerama1:amd64.\n",
      "Preparing to unpack .../069-libxinerama1_2%3a1.1.3-1_amd64.deb ...\n",
      "Unpacking libxinerama1:amd64 (2:1.1.3-1) ...\n",
      "Selecting previously unselected package libxxf86dga1:amd64.\n",
      "Preparing to unpack .../070-libxxf86dga1_2%3a1.1.4-1_amd64.deb ...\n",
      "Unpacking libxxf86dga1:amd64 (2:1.1.4-1) ...\n",
      "Selecting previously unselected package libjansson4:amd64.\n",
      "Preparing to unpack .../071-libjansson4_2.11-1_amd64.deb ...\n",
      "Unpacking libjansson4:amd64 (2.11-1) ...\n",
      "Selecting previously unselected package libtalloc2:amd64.\n",
      "Preparing to unpack .../072-libtalloc2_2.1.10-2ubuntu1_amd64.deb ...\n",
      "Unpacking libtalloc2:amd64 (2.1.10-2ubuntu1) ...\n",
      "Selecting previously unselected package libtdb1:amd64.\n",
      "Preparing to unpack .../073-libtdb1_1.3.15-2_amd64.deb ...\n",
      "Unpacking libtdb1:amd64 (1.3.15-2) ...\n",
      "Selecting previously unselected package libtevent0:amd64.\n",
      "Preparing to unpack .../074-libtevent0_0.9.34-1_amd64.deb ...\n",
      "Unpacking libtevent0:amd64 (0.9.34-1) ...\n",
      "Selecting previously unselected package libldb1:amd64.\n",
      "Preparing to unpack .../075-libldb1_2%3a1.2.3-1_amd64.deb ...\n",
      "Unpacking libldb1:amd64 (2:1.2.3-1) ...\n",
      "Selecting previously unselected package python-talloc.\n",
      "Preparing to unpack .../076-python-talloc_2.1.10-2ubuntu1_amd64.deb ...\n",
      "Unpacking python-talloc (2.1.10-2ubuntu1) ...\n",
      "Selecting previously unselected package samba-libs:amd64.\n",
      "Preparing to unpack .../077-samba-libs_2%3a4.7.6+dfsg~ubuntu-0ubuntu2.2_amd64.deb ...\n",
      "Unpacking samba-libs:amd64 (2:4.7.6+dfsg~ubuntu-0ubuntu2.2) ...\n",
      "Selecting previously unselected package libsmbclient:amd64.\n",
      "Preparing to unpack .../078-libsmbclient_2%3a4.7.6+dfsg~ubuntu-0ubuntu2.2_amd64.deb ...\n",
      "Unpacking libsmbclient:amd64 (2:4.7.6+dfsg~ubuntu-0ubuntu2.2) ...\n",
      "Selecting previously unselected package dbus.\n",
      "Preparing to unpack .../079-dbus_1.12.2-1ubuntu1_amd64.deb ...\n",
      "Unpacking dbus (1.12.2-1ubuntu1) ...\n",
      "Selecting previously unselected package dmsetup.\n",
      "Preparing to unpack .../080-dmsetup_2%3a1.02.145-4.1ubuntu3_amd64.deb ...\n",
      "Unpacking dmsetup (2:1.02.145-4.1ubuntu3) ...\n",
      "Selecting previously unselected package libfribidi0:amd64.\n",
      "Preparing to unpack .../081-libfribidi0_0.19.7-2_amd64.deb ...\n",
      "Unpacking libfribidi0:amd64 (0.19.7-2) ...\n",
      "Selecting previously unselected package libnss-systemd:amd64.\n",
      "Preparing to unpack .../082-libnss-systemd_237-3ubuntu10.3_amd64.deb ...\n",
      "Unpacking libnss-systemd:amd64 (237-3ubuntu10.3) ...\n",
      "Selecting previously unselected package libpam-cap:amd64.\n",
      "Preparing to unpack .../083-libpam-cap_1%3a2.25-1.2_amd64.deb ...\n",
      "Unpacking libpam-cap:amd64 (1:2.25-1.2) ...\n",
      "Selecting previously unselected package libpam-systemd:amd64.\n",
      "Preparing to unpack .../084-libpam-systemd_237-3ubuntu10.3_amd64.deb ...\n",
      "Unpacking libpam-systemd:amd64 (237-3ubuntu10.3) ...\n",
      "Selecting previously unselected package libslang2:amd64.\n",
      "Preparing to unpack .../085-libslang2_2.3.1a-3ubuntu1_amd64.deb ...\n",
      "Unpacking libslang2:amd64 (2.3.1a-3ubuntu1) ...\n",
      "Selecting previously unselected package libtext-iconv-perl.\n",
      "Preparing to unpack .../086-libtext-iconv-perl_1.7-5build6_amd64.deb ...\n",
      "Unpacking libtext-iconv-perl (1.7-5build6) ...\n",
      "Selecting previously unselected package netbase.\n",
      "Preparing to unpack .../087-netbase_5.4_all.deb ...\n",
      "Unpacking netbase (5.4) ...\n",
      "Selecting previously unselected package networkd-dispatcher.\n",
      "Preparing to unpack .../088-networkd-dispatcher_1.7-0ubuntu3.3_all.deb ...\n",
      "Unpacking networkd-dispatcher (1.7-0ubuntu3.3) ...\n",
      "Selecting previously unselected package shared-mime-info.\n",
      "Preparing to unpack .../089-shared-mime-info_1.9-2_amd64.deb ...\n",
      "Unpacking shared-mime-info (1.9-2) ...\n",
      "Selecting previously unselected package udev.\n",
      "Preparing to unpack .../090-udev_237-3ubuntu10.3_amd64.deb ...\n",
      "Unpacking udev (237-3ubuntu10.3) ...\n",
      "Selecting previously unselected package libisc169:amd64.\n",
      "Preparing to unpack .../091-libisc169_1%3a9.11.3+dfsg-1ubuntu1.2_amd64.deb ...\n",
      "Unpacking libisc169:amd64 (1:9.11.3+dfsg-1ubuntu1.2) ...\n",
      "Selecting previously unselected package libgeoip1:amd64.\n",
      "Preparing to unpack .../092-libgeoip1_1.6.12-1_amd64.deb ...\n",
      "Unpacking libgeoip1:amd64 (1.6.12-1) ...\n",
      "Selecting previously unselected package libdns1100:amd64.\n",
      "Preparing to unpack .../093-libdns1100_1%3a9.11.3+dfsg-1ubuntu1.2_amd64.deb ...\n",
      "Unpacking libdns1100:amd64 (1:9.11.3+dfsg-1ubuntu1.2) ...\n",
      "Selecting previously unselected package libisccc160:amd64.\n",
      "Preparing to unpack .../094-libisccc160_1%3a9.11.3+dfsg-1ubuntu1.2_amd64.deb ...\n",
      "Unpacking libisccc160:amd64 (1:9.11.3+dfsg-1ubuntu1.2) ...\n",
      "Selecting previously unselected package libisccfg160:amd64.\n",
      "Preparing to unpack .../095-libisccfg160_1%3a9.11.3+dfsg-1ubuntu1.2_amd64.deb ...\n",
      "Unpacking libisccfg160:amd64 (1:9.11.3+dfsg-1ubuntu1.2) ...\n",
      "Selecting previously unselected package libbind9-160:amd64.\n",
      "Preparing to unpack .../096-libbind9-160_1%3a9.11.3+dfsg-1ubuntu1.2_amd64.deb ...\n",
      "Unpacking libbind9-160:amd64 (1:9.11.3+dfsg-1ubuntu1.2) ...\n",
      "Selecting previously unselected package liblwres160:amd64.\n",
      "Preparing to unpack .../097-liblwres160_1%3a9.11.3+dfsg-1ubuntu1.2_amd64.deb ...\n",
      "Unpacking liblwres160:amd64 (1:9.11.3+dfsg-1ubuntu1.2) ...\n",
      "Selecting previously unselected package bind9-host.\n",
      "Preparing to unpack .../098-bind9-host_1%3a9.11.3+dfsg-1ubuntu1.2_amd64.deb ...\n",
      "Unpacking bind9-host (1:9.11.3+dfsg-1ubuntu1.2) ...\n",
      "Selecting previously unselected package geoip-database.\n",
      "Preparing to unpack .../099-geoip-database_20180315-1_all.deb ...\n",
      "Unpacking geoip-database (20180315-1) ...\n",
      "Selecting previously unselected package libnuma1:amd64.\n",
      "Preparing to unpack .../100-libnuma1_2.0.11-2.1_amd64.deb ...\n",
      "Unpacking libnuma1:amd64 (2.0.11-2.1) ...\n",
      "Selecting previously unselected package libpipeline1:amd64.\n",
      "Preparing to unpack .../101-libpipeline1_1.5.0-1_amd64.deb ...\n",
      "Unpacking libpipeline1:amd64 (1.5.0-1) ...\n",
      "Selecting previously unselected package libpolkit-gobject-1-0:amd64.\n",
      "Preparing to unpack .../102-libpolkit-gobject-1-0_0.105-20ubuntu0.18.04.1_amd64.deb ...\n",
      "Unpacking libpolkit-gobject-1-0:amd64 (0.105-20ubuntu0.18.04.1) ...\n",
      "Selecting previously unselected package libusb-1.0-0:amd64.\n",
      "Preparing to unpack .../103-libusb-1.0-0_2%3a1.0.21-2_amd64.deb ...\n",
      "Unpacking libusb-1.0-0:amd64 (2:1.0.21-2) ...\n",
      "Selecting previously unselected package libxmuu1:amd64.\n",
      "Preparing to unpack .../104-libxmuu1_2%3a1.1.2-2_amd64.deb ...\n",
      "Unpacking libxmuu1:amd64 (2:1.1.2-2) ...\n",
      "Selecting previously unselected package hicolor-icon-theme.\n",
      "Preparing to unpack .../105-hicolor-icon-theme_0.17-2_all.deb ...\n",
      "Unpacking hicolor-icon-theme (0.17-2) ...\n",
      "Selecting previously unselected package libjbig0:amd64.\n",
      "Preparing to unpack .../106-libjbig0_2.1-3.1build1_amd64.deb ...\n",
      "Unpacking libjbig0:amd64 (2.1-3.1build1) ...\n",
      "Selecting previously unselected package libtiff5:amd64.\n",
      "Preparing to unpack .../107-libtiff5_4.0.9-5_amd64.deb ...\n",
      "Unpacking libtiff5:amd64 (4.0.9-5) ...\n",
      "Selecting previously unselected package libgdk-pixbuf2.0-common.\n",
      "Preparing to unpack .../108-libgdk-pixbuf2.0-common_2.36.11-2_all.deb ...\n",
      "Unpacking libgdk-pixbuf2.0-common (2.36.11-2) ...\n",
      "Selecting previously unselected package libgdk-pixbuf2.0-0:amd64.\n",
      "Preparing to unpack .../109-libgdk-pixbuf2.0-0_2.36.11-2_amd64.deb ...\n",
      "Unpacking libgdk-pixbuf2.0-0:amd64 (2.36.11-2) ...\n",
      "Selecting previously unselected package gtk-update-icon-cache.\n",
      "Preparing to unpack .../110-gtk-update-icon-cache_3.22.30-1ubuntu1_amd64.deb ...\n",
      "No diversion 'diversion of /usr/sbin/update-icon-caches to /usr/sbin/update-icon-caches.gtk2 by libgtk-3-bin', none removed.\n",
      "No diversion 'diversion of /usr/share/man/man8/update-icon-caches.8.gz to /usr/share/man/man8/update-icon-caches.gtk2.8.gz by libgtk-3-bin', none removed.\n",
      "Unpacking gtk-update-icon-cache (3.22.30-1ubuntu1) ...\n",
      "Selecting previously unselected package libpixman-1-0:amd64.\n",
      "Preparing to unpack .../111-libpixman-1-0_0.34.0-2_amd64.deb ...\n",
      "Unpacking libpixman-1-0:amd64 (0.34.0-2) ...\n",
      "Selecting previously unselected package libcairo2:amd64.\n",
      "Preparing to unpack .../112-libcairo2_1.15.10-2_amd64.deb ...\n",
      "Unpacking libcairo2:amd64 (1.15.10-2) ...\n",
      "Selecting previously unselected package libcroco3:amd64.\n",
      "Preparing to unpack .../113-libcroco3_0.6.12-2_amd64.deb ...\n",
      "Unpacking libcroco3:amd64 (0.6.12-2) ...\n",
      "Selecting previously unselected package libthai-data.\n",
      "Preparing to unpack .../114-libthai-data_0.1.27-2_all.deb ...\n",
      "Unpacking libthai-data (0.1.27-2) ...\n",
      "Selecting previously unselected package libdatrie1:amd64.\n",
      "Preparing to unpack .../115-libdatrie1_0.2.10-7_amd64.deb ...\n",
      "Unpacking libdatrie1:amd64 (0.2.10-7) ...\n",
      "Selecting previously unselected package libthai0:amd64.\n",
      "Preparing to unpack .../116-libthai0_0.1.27-2_amd64.deb ...\n",
      "Unpacking libthai0:amd64 (0.1.27-2) ...\n",
      "Selecting previously unselected package libpango-1.0-0:amd64.\n",
      "Preparing to unpack .../117-libpango-1.0-0_1.40.14-1ubuntu0.1_amd64.deb ...\n",
      "Unpacking libpango-1.0-0:amd64 (1.40.14-1ubuntu0.1) ...\n",
      "Selecting previously unselected package libpangoft2-1.0-0:amd64.\n",
      "Preparing to unpack .../118-libpangoft2-1.0-0_1.40.14-1ubuntu0.1_amd64.deb ...\n",
      "Unpacking libpangoft2-1.0-0:amd64 (1.40.14-1ubuntu0.1) ...\n",
      "Selecting previously unselected package libpangocairo-1.0-0:amd64.\n",
      "Preparing to unpack .../119-libpangocairo-1.0-0_1.40.14-1ubuntu0.1_amd64.deb ...\n",
      "Unpacking libpangocairo-1.0-0:amd64 (1.40.14-1ubuntu0.1) ...\n",
      "Selecting previously unselected package librsvg2-2:amd64.\n",
      "Preparing to unpack .../120-librsvg2-2_2.40.20-2_amd64.deb ...\n",
      "Unpacking librsvg2-2:amd64 (2.40.20-2) ...\n",
      "Selecting previously unselected package librsvg2-common:amd64.\n",
      "Preparing to unpack .../121-librsvg2-common_2.40.20-2_amd64.deb ...\n",
      "Unpacking librsvg2-common:amd64 (2.40.20-2) ...\n",
      "Selecting previously unselected package humanity-icon-theme.\n",
      "Preparing to unpack .../122-humanity-icon-theme_0.6.15_all.deb ...\n",
      "Unpacking humanity-icon-theme (0.6.15) ...\n",
      "Selecting previously unselected package ubuntu-mono.\n",
      "Preparing to unpack .../123-ubuntu-mono_16.10+18.04.20181005-0ubuntu1_all.deb ...\n",
      "Unpacking ubuntu-mono (16.10+18.04.20181005-0ubuntu1) ...\n",
      "Selecting previously unselected package adwaita-icon-theme.\n",
      "Preparing to unpack .../124-adwaita-icon-theme_3.28.0-1ubuntu1_all.deb ...\n",
      "Unpacking adwaita-icon-theme (3.28.0-1ubuntu1) ...\n",
      "Selecting previously unselected package libatspi2.0-0:amd64.\n",
      "Preparing to unpack .../125-libatspi2.0-0_2.28.0-1_amd64.deb ...\n",
      "Unpacking libatspi2.0-0:amd64 (2.28.0-1) ...\n",
      "Selecting previously unselected package libxtst6:amd64.\n",
      "Preparing to unpack .../126-libxtst6_2%3a1.2.3-1_amd64.deb ...\n",
      "Unpacking libxtst6:amd64 (2:1.2.3-1) ...\n",
      "Selecting previously unselected package at-spi2-core.\n",
      "Preparing to unpack .../127-at-spi2-core_2.28.0-1_amd64.deb ...\n",
      "Unpacking at-spi2-core (2.28.0-1) ...\n",
      "Selecting previously unselected package libavahi-core7:amd64.\n",
      "Preparing to unpack .../128-libavahi-core7_0.7-3.1ubuntu1.1_amd64.deb ...\n",
      "Unpacking libavahi-core7:amd64 (0.7-3.1ubuntu1.1) ...\n",
      "Selecting previously unselected package avahi-daemon.\n",
      "Preparing to unpack .../129-avahi-daemon_0.7-3.1ubuntu1.1_amd64.deb ...\n",
      "Unpacking avahi-daemon (0.7-3.1ubuntu1.1) ...\n",
      "Selecting previously unselected package libdconf1:amd64.\n",
      "Preparing to unpack .../130-libdconf1_0.26.0-2ubuntu3_amd64.deb ...\n",
      "Unpacking libdconf1:amd64 (0.26.0-2ubuntu3) ...\n",
      "Selecting previously unselected package dconf-service.\n",
      "Preparing to unpack .../131-dconf-service_0.26.0-2ubuntu3_amd64.deb ...\n",
      "Unpacking dconf-service (0.26.0-2ubuntu3) ...\n",
      "Selecting previously unselected package dconf-gsettings-backend:amd64.\n",
      "Preparing to unpack .../132-dconf-gsettings-backend_0.26.0-2ubuntu3_amd64.deb ...\n",
      "Unpacking dconf-gsettings-backend:amd64 (0.26.0-2ubuntu3) ...\n",
      "Selecting previously unselected package libva2:amd64.\n",
      "Preparing to unpack .../133-libva2_2.1.0-3_amd64.deb ...\n",
      "Unpacking libva2:amd64 (2.1.0-3) ...\n",
      "Selecting previously unselected package libva-drm2:amd64.\n",
      "Preparing to unpack .../134-libva-drm2_2.1.0-3_amd64.deb ...\n",
      "Unpacking libva-drm2:amd64 (2.1.0-3) ...\n",
      "Selecting previously unselected package libva-x11-2:amd64.\n",
      "Preparing to unpack .../135-libva-x11-2_2.1.0-3_amd64.deb ...\n",
      "Unpacking libva-x11-2:amd64 (2.1.0-3) ...\n",
      "Selecting previously unselected package libvdpau1:amd64.\n",
      "Preparing to unpack .../136-libvdpau1_1.1.1-3ubuntu1_amd64.deb ...\n",
      "Unpacking libvdpau1:amd64 (1.1.1-3ubuntu1) ...\n",
      "Selecting previously unselected package libavutil55:amd64.\n",
      "Preparing to unpack .../137-libavutil55_7%3a3.4.4-0ubuntu0.18.04.1_amd64.deb ...\n",
      "Unpacking libavutil55:amd64 (7:3.4.4-0ubuntu0.18.04.1) ...\n",
      "Selecting previously unselected package libcrystalhd3:amd64.\n",
      "Preparing to unpack .../138-libcrystalhd3_1%3a0.0~git20110715.fdd2f19-12_amd64.deb ...\n",
      "Unpacking libcrystalhd3:amd64 (1:0.0~git20110715.fdd2f19-12) ...\n",
      "Selecting previously unselected package libgsm1:amd64.\n",
      "Preparing to unpack .../139-libgsm1_1.0.13-4build1_amd64.deb ...\n",
      "Unpacking libgsm1:amd64 (1.0.13-4build1) ...\n",
      "Selecting previously unselected package libmp3lame0:amd64.\n",
      "Preparing to unpack .../140-libmp3lame0_3.100-2_amd64.deb ...\n",
      "Unpacking libmp3lame0:amd64 (3.100-2) ...\n",
      "Selecting previously unselected package libopenjp2-7:amd64.\n",
      "Preparing to unpack .../141-libopenjp2-7_2.3.0-1_amd64.deb ...\n",
      "Unpacking libopenjp2-7:amd64 (2.3.0-1) ...\n",
      "Selecting previously unselected package libopus0:amd64.\n",
      "Preparing to unpack .../142-libopus0_1.1.2-1ubuntu1_amd64.deb ...\n",
      "Unpacking libopus0:amd64 (1.1.2-1ubuntu1) ...\n",
      "Selecting previously unselected package libshine3:amd64.\n",
      "Preparing to unpack .../143-libshine3_3.1.1-1_amd64.deb ...\n",
      "Unpacking libshine3:amd64 (3.1.1-1) ...\n",
      "Selecting previously unselected package libsnappy1v5:amd64.\n",
      "Preparing to unpack .../144-libsnappy1v5_1.1.7-1_amd64.deb ...\n",
      "Unpacking libsnappy1v5:amd64 (1.1.7-1) ...\n",
      "Selecting previously unselected package libspeex1:amd64.\n",
      "Preparing to unpack .../145-libspeex1_1.2~rc1.2-1ubuntu2_amd64.deb ...\n",
      "Unpacking libspeex1:amd64 (1.2~rc1.2-1ubuntu2) ...\n",
      "Selecting previously unselected package libsoxr0:amd64.\n",
      "Preparing to unpack .../146-libsoxr0_0.1.2-3_amd64.deb ...\n",
      "Unpacking libsoxr0:amd64 (0.1.2-3) ...\n",
      "Selecting previously unselected package libswresample2:amd64.\n",
      "Preparing to unpack .../147-libswresample2_7%3a3.4.4-0ubuntu0.18.04.1_amd64.deb ...\n",
      "Unpacking libswresample2:amd64 (7:3.4.4-0ubuntu0.18.04.1) ...\n",
      "Selecting previously unselected package libtheora0:amd64.\n",
      "Preparing to unpack .../148-libtheora0_1.1.1+dfsg.1-14_amd64.deb ...\n",
      "Unpacking libtheora0:amd64 (1.1.1+dfsg.1-14) ...\n",
      "Selecting previously unselected package libtwolame0:amd64.\n",
      "Preparing to unpack .../149-libtwolame0_0.3.13-3_amd64.deb ...\n",
      "Unpacking libtwolame0:amd64 (0.3.13-3) ...\n",
      "Selecting previously unselected package libvorbis0a:amd64.\n",
      "Preparing to unpack .../150-libvorbis0a_1.3.5-4.2_amd64.deb ...\n",
      "Unpacking libvorbis0a:amd64 (1.3.5-4.2) ...\n",
      "Selecting previously unselected package libvorbisenc2:amd64.\n",
      "Preparing to unpack .../151-libvorbisenc2_1.3.5-4.2_amd64.deb ...\n",
      "Unpacking libvorbisenc2:amd64 (1.3.5-4.2) ...\n",
      "Selecting previously unselected package libvpx5:amd64.\n",
      "Preparing to unpack .../152-libvpx5_1.7.0-3_amd64.deb ...\n",
      "Unpacking libvpx5:amd64 (1.7.0-3) ...\n",
      "Selecting previously unselected package libwavpack1:amd64.\n",
      "Preparing to unpack .../153-libwavpack1_5.1.0-2ubuntu1.1_amd64.deb ...\n",
      "Unpacking libwavpack1:amd64 (5.1.0-2ubuntu1.1) ...\n",
      "Selecting previously unselected package libwebpmux3:amd64.\n",
      "Preparing to unpack .../154-libwebpmux3_0.6.1-2_amd64.deb ...\n",
      "Unpacking libwebpmux3:amd64 (0.6.1-2) ...\n",
      "Selecting previously unselected package libx264-152:amd64.\n",
      "Preparing to unpack .../155-libx264-152_2%3a0.152.2854+gite9a5903-2_amd64.deb ...\n",
      "Unpacking libx264-152:amd64 (2:0.152.2854+gite9a5903-2) ...\n",
      "Selecting previously unselected package libx265-146:amd64.\n",
      "Preparing to unpack .../156-libx265-146_2.6-3_amd64.deb ...\n",
      "Unpacking libx265-146:amd64 (2.6-3) ...\n",
      "Selecting previously unselected package libxvidcore4:amd64.\n",
      "Preparing to unpack .../157-libxvidcore4_2%3a1.3.5-1_amd64.deb ...\n",
      "Unpacking libxvidcore4:amd64 (2:1.3.5-1) ...\n",
      "Selecting previously unselected package libzvbi-common.\n",
      "Preparing to unpack .../158-libzvbi-common_0.2.35-13_all.deb ...\n",
      "Unpacking libzvbi-common (0.2.35-13) ...\n",
      "Selecting previously unselected package libzvbi0:amd64.\n",
      "Preparing to unpack .../159-libzvbi0_0.2.35-13_amd64.deb ...\n",
      "Unpacking libzvbi0:amd64 (0.2.35-13) ...\n",
      "Selecting previously unselected package libavcodec57:amd64.\n",
      "Preparing to unpack .../160-libavcodec57_7%3a3.4.4-0ubuntu0.18.04.1_amd64.deb ...\n",
      "Unpacking libavcodec57:amd64 (7:3.4.4-0ubuntu0.18.04.1) ...\n",
      "Selecting previously unselected package libasound2-data.\n",
      "Preparing to unpack .../161-libasound2-data_1.1.3-5ubuntu0.1_all.deb ...\n",
      "Unpacking libasound2-data (1.1.3-5ubuntu0.1) ...\n",
      "Selecting previously unselected package libasound2:amd64.\n",
      "Preparing to unpack .../162-libasound2_1.1.3-5ubuntu0.1_amd64.deb ...\n",
      "Unpacking libasound2:amd64 (1.1.3-5ubuntu0.1) ...\n",
      "Selecting previously unselected package libraw1394-11:amd64.\n",
      "Preparing to unpack .../163-libraw1394-11_2.1.2-1_amd64.deb ...\n",
      "Unpacking libraw1394-11:amd64 (2.1.2-1) ...\n",
      "Selecting previously unselected package libavc1394-0:amd64.\n",
      "Preparing to unpack .../164-libavc1394-0_0.5.4-4build1_amd64.deb ...\n",
      "Unpacking libavc1394-0:amd64 (0.5.4-4build1) ...\n",
      "Selecting previously unselected package libass9:amd64.\n",
      "Preparing to unpack .../165-libass9_1%3a0.14.0-1_amd64.deb ...\n",
      "Unpacking libass9:amd64 (1:0.14.0-1) ...\n",
      "Selecting previously unselected package libbluray2:amd64.\n",
      "Preparing to unpack .../166-libbluray2_1%3a1.0.2-3_amd64.deb ...\n",
      "Unpacking libbluray2:amd64 (1:1.0.2-3) ...\n",
      "Selecting previously unselected package libchromaprint1:amd64.\n",
      "Preparing to unpack .../167-libchromaprint1_1.4.3-1_amd64.deb ...\n",
      "Unpacking libchromaprint1:amd64 (1.4.3-1) ...\n",
      "Selecting previously unselected package libgme0:amd64.\n",
      "Preparing to unpack .../168-libgme0_0.6.2-1_amd64.deb ...\n",
      "Unpacking libgme0:amd64 (0.6.2-1) ...\n",
      "Selecting previously unselected package libmpg123-0:amd64.\n",
      "Preparing to unpack .../169-libmpg123-0_1.25.10-1_amd64.deb ...\n",
      "Unpacking libmpg123-0:amd64 (1.25.10-1) ...\n",
      "Selecting previously unselected package libvorbisfile3:amd64.\n",
      "Preparing to unpack .../170-libvorbisfile3_1.3.5-4.2_amd64.deb ...\n",
      "Unpacking libvorbisfile3:amd64 (1.3.5-4.2) ...\n",
      "Selecting previously unselected package libopenmpt0:amd64.\n",
      "Preparing to unpack .../171-libopenmpt0_0.3.6-1_amd64.deb ...\n",
      "Unpacking libopenmpt0:amd64 (0.3.6-1) ...\n",
      "Selecting previously unselected package libssh-gcrypt-4:amd64.\n",
      "Preparing to unpack .../172-libssh-gcrypt-4_0.8.0~20170825.94fa1e38-1ubuntu0.1_amd64.deb ...\n",
      "Unpacking libssh-gcrypt-4:amd64 (0.8.0~20170825.94fa1e38-1ubuntu0.1) ...\n",
      "Selecting previously unselected package libavformat57:amd64.\n",
      "Preparing to unpack .../173-libavformat57_7%3a3.4.4-0ubuntu0.18.04.1_amd64.deb ...\n",
      "Unpacking libavformat57:amd64 (7:3.4.4-0ubuntu0.18.04.1) ...\n",
      "Selecting previously unselected package libavresample3:amd64.\n",
      "Preparing to unpack .../174-libavresample3_7%3a3.4.4-0ubuntu0.18.04.1_amd64.deb ...\n",
      "Unpacking libavresample3:amd64 (7:3.4.4-0ubuntu0.18.04.1) ...\n",
      "Selecting previously unselected package libbs2b0:amd64.\n",
      "Preparing to unpack .../175-libbs2b0_3.1.0+dfsg-2.2_amd64.deb ...\n",
      "Unpacking libbs2b0:amd64 (3.1.0+dfsg-2.2) ...\n",
      "Selecting previously unselected package libflite1:amd64.\n",
      "Preparing to unpack .../176-libflite1_2.1-release-1_amd64.deb ...\n",
      "Unpacking libflite1:amd64 (2.1-release-1) ...\n",
      "Selecting previously unselected package libmysofa0:amd64.\n",
      "Preparing to unpack .../177-libmysofa0_0.6~dfsg0-2_amd64.deb ...\n",
      "Unpacking libmysofa0:amd64 (0.6~dfsg0-2) ...\n",
      "Selecting previously unselected package libpostproc54:amd64.\n",
      "Preparing to unpack .../178-libpostproc54_7%3a3.4.4-0ubuntu0.18.04.1_amd64.deb ...\n",
      "Unpacking libpostproc54:amd64 (7:3.4.4-0ubuntu0.18.04.1) ...\n",
      "Selecting previously unselected package libfftw3-double3:amd64.\n",
      "Preparing to unpack .../179-libfftw3-double3_3.3.7-1_amd64.deb ...\n",
      "Unpacking libfftw3-double3:amd64 (3.3.7-1) ...\n",
      "Selecting previously unselected package libsamplerate0:amd64.\n",
      "Preparing to unpack .../180-libsamplerate0_0.1.9-1_amd64.deb ...\n",
      "Unpacking libsamplerate0:amd64 (0.1.9-1) ...\n",
      "Selecting previously unselected package librubberband2:amd64.\n",
      "Preparing to unpack .../181-librubberband2_1.8.1-7ubuntu2_amd64.deb ...\n",
      "Unpacking librubberband2:amd64 (1.8.1-7ubuntu2) ...\n",
      "Selecting previously unselected package libswscale4:amd64.\n",
      "Preparing to unpack .../182-libswscale4_7%3a3.4.4-0ubuntu0.18.04.1_amd64.deb ...\n",
      "Unpacking libswscale4:amd64 (7:3.4.4-0ubuntu0.18.04.1) ...\n",
      "Selecting previously unselected package libavfilter6:amd64.\n",
      "Preparing to unpack .../183-libavfilter6_7%3a3.4.4-0ubuntu0.18.04.1_amd64.deb ...\n",
      "Unpacking libavfilter6:amd64 (7:3.4.4-0ubuntu0.18.04.1) ...\n",
      "Selecting previously unselected package libcaca0:amd64.\n",
      "Preparing to unpack .../184-libcaca0_0.99.beta19-2build2~gcc5.3_amd64.deb ...\n",
      "Unpacking libcaca0:amd64 (0.99.beta19-2build2~gcc5.3) ...\n",
      "Selecting previously unselected package libcdio17:amd64.\n",
      "Preparing to unpack .../185-libcdio17_1.0.0-2ubuntu2_amd64.deb ...\n",
      "Unpacking libcdio17:amd64 (1.0.0-2ubuntu2) ...\n",
      "Selecting previously unselected package libcdio-cdda2:amd64.\n",
      "Preparing to unpack .../186-libcdio-cdda2_10.2+0.94+2-2build1_amd64.deb ...\n",
      "Unpacking libcdio-cdda2:amd64 (10.2+0.94+2-2build1) ...\n",
      "Selecting previously unselected package libcdio-paranoia2:amd64.\n",
      "Preparing to unpack .../187-libcdio-paranoia2_10.2+0.94+2-2build1_amd64.deb ...\n",
      "Unpacking libcdio-paranoia2:amd64 (10.2+0.94+2-2build1) ...\n",
      "Selecting previously unselected package libdc1394-22:amd64.\n",
      "Preparing to unpack .../188-libdc1394-22_2.2.5-1_amd64.deb ...\n",
      "Unpacking libdc1394-22:amd64 (2.2.5-1) ...\n",
      "Selecting previously unselected package libiec61883-0:amd64.\n",
      "Preparing to unpack .../189-libiec61883-0_1.2.0-2_amd64.deb ...\n",
      "Unpacking libiec61883-0:amd64 (1.2.0-2) ...\n",
      "Selecting previously unselected package libjack-jackd2-0:amd64.\n",
      "Preparing to unpack .../190-libjack-jackd2-0_1.9.12~dfsg-2_amd64.deb ...\n",
      "Unpacking libjack-jackd2-0:amd64 (1.9.12~dfsg-2) ...\n",
      "Selecting previously unselected package libopenal-data.\n",
      "Preparing to unpack .../191-libopenal-data_1%3a1.18.2-2_all.deb ...\n",
      "Unpacking libopenal-data (1:1.18.2-2) ...\n",
      "Selecting previously unselected package libsndio6.1:amd64.\n",
      "Preparing to unpack .../192-libsndio6.1_1.1.0-3_amd64.deb ...\n",
      "Unpacking libsndio6.1:amd64 (1.1.0-3) ...\n",
      "Selecting previously unselected package libopenal1:amd64.\n",
      "Preparing to unpack .../193-libopenal1_1%3a1.18.2-2_amd64.deb ...\n",
      "Unpacking libopenal1:amd64 (1:1.18.2-2) ...\n",
      "Selecting previously unselected package libasyncns0:amd64.\n",
      "Preparing to unpack .../194-libasyncns0_0.8-6_amd64.deb ...\n",
      "Unpacking libasyncns0:amd64 (0.8-6) ...\n",
      "Selecting previously unselected package libflac8:amd64.\n",
      "Preparing to unpack .../195-libflac8_1.3.2-1_amd64.deb ...\n",
      "Unpacking libflac8:amd64 (1.3.2-1) ...\n",
      "Selecting previously unselected package libsndfile1:amd64.\n",
      "Preparing to unpack .../196-libsndfile1_1.0.28-4_amd64.deb ...\n",
      "Unpacking libsndfile1:amd64 (1.0.28-4) ...\n",
      "Selecting previously unselected package libwrap0:amd64.\n",
      "Preparing to unpack .../197-libwrap0_7.6.q-27_amd64.deb ...\n",
      "Unpacking libwrap0:amd64 (7.6.q-27) ...\n",
      "Selecting previously unselected package libpulse0:amd64.\n",
      "Preparing to unpack .../198-libpulse0_1%3a11.1-1ubuntu7.1_amd64.deb ...\n",
      "Unpacking libpulse0:amd64 (1:11.1-1ubuntu7.1) ...\n",
      "Selecting previously unselected package libwayland-cursor0:amd64.\n",
      "Preparing to unpack .../199-libwayland-cursor0_1.14.0-2_amd64.deb ...\n",
      "Unpacking libwayland-cursor0:amd64 (1.14.0-2) ...\n",
      "Selecting previously unselected package libwayland-egl1-mesa:amd64.\n",
      "Preparing to unpack .../200-libwayland-egl1-mesa_18.0.5-0ubuntu0~18.04.1_amd64.deb ...\n",
      "Unpacking libwayland-egl1-mesa:amd64 (18.0.5-0ubuntu0~18.04.1) ...\n",
      "Selecting previously unselected package libxcursor1:amd64.\n",
      "Preparing to unpack .../201-libxcursor1_1%3a1.1.15-1_amd64.deb ...\n",
      "Unpacking libxcursor1:amd64 (1:1.1.15-1) ...\n",
      "Selecting previously unselected package libxrandr2:amd64.\n",
      "Preparing to unpack .../202-libxrandr2_2%3a1.5.1-1_amd64.deb ...\n",
      "Unpacking libxrandr2:amd64 (2:1.5.1-1) ...\n",
      "Selecting previously unselected package libsdl2-2.0-0:amd64.\n",
      "Preparing to unpack .../203-libsdl2-2.0-0_2.0.8+dfsg1-1ubuntu1.18.04.1_amd64.deb ...\n",
      "Unpacking libsdl2-2.0-0:amd64 (2.0.8+dfsg1-1ubuntu1.18.04.1) ...\n",
      "Selecting previously unselected package libxv1:amd64.\n",
      "Preparing to unpack .../204-libxv1_2%3a1.0.11-1_amd64.deb ...\n",
      "Unpacking libxv1:amd64 (2:1.0.11-1) ...\n",
      "Selecting previously unselected package libavdevice57:amd64.\n",
      "Preparing to unpack .../205-libavdevice57_7%3a3.4.4-0ubuntu0.18.04.1_amd64.deb ...\n",
      "Unpacking libavdevice57:amd64 (7:3.4.4-0ubuntu0.18.04.1) ...\n",
      "Selecting previously unselected package ffmpeg.\n",
      "Preparing to unpack .../206-ffmpeg_7%3a3.4.4-0ubuntu0.18.04.1_amd64.deb ...\n",
      "Unpacking ffmpeg (7:3.4.4-0ubuntu0.18.04.1) ...\n",
      "Selecting previously unselected package libavahi-glib1:amd64.\n",
      "Preparing to unpack .../207-libavahi-glib1_0.7-3.1ubuntu1.1_amd64.deb ...\n",
      "Unpacking libavahi-glib1:amd64 (0.7-3.1ubuntu1.1) ...\n",
      "Selecting previously unselected package libgeoclue-2-0:amd64.\n",
      "Preparing to unpack .../208-libgeoclue-2-0_2.4.7-1ubuntu1_amd64.deb ...\n",
      "Unpacking libgeoclue-2-0:amd64 (2.4.7-1ubuntu1) ...\n",
      "Selecting previously unselected package libjson-glib-1.0-common.\n",
      "Preparing to unpack .../209-libjson-glib-1.0-common_1.4.2-3_all.deb ...\n",
      "Unpacking libjson-glib-1.0-common (1.4.2-3) ...\n",
      "Selecting previously unselected package libjson-glib-1.0-0:amd64.\n",
      "Preparing to unpack .../210-libjson-glib-1.0-0_1.4.2-3_amd64.deb ...\n",
      "Unpacking libjson-glib-1.0-0:amd64 (1.4.2-3) ...\n",
      "Selecting previously unselected package libmm-glib0:amd64.\n",
      "Preparing to unpack .../211-libmm-glib0_1.6.8-2ubuntu1_amd64.deb ...\n",
      "Unpacking libmm-glib0:amd64 (1.6.8-2ubuntu1) ...\n",
      "Selecting previously unselected package libproxy1v5:amd64.\n",
      "Preparing to unpack .../212-libproxy1v5_0.4.15-1_amd64.deb ...\n",
      "Unpacking libproxy1v5:amd64 (0.4.15-1) ...\n",
      "Selecting previously unselected package glib-networking-common.\n",
      "Preparing to unpack .../213-glib-networking-common_2.56.0-1_all.deb ...\n",
      "Unpacking glib-networking-common (2.56.0-1) ...\n",
      "Selecting previously unselected package glib-networking-services.\n",
      "Preparing to unpack .../214-glib-networking-services_2.56.0-1_amd64.deb ...\n",
      "Unpacking glib-networking-services (2.56.0-1) ...\n",
      "Selecting previously unselected package gsettings-desktop-schemas.\n",
      "Preparing to unpack .../215-gsettings-desktop-schemas_3.28.0-1ubuntu1_all.deb ...\n",
      "Unpacking gsettings-desktop-schemas (3.28.0-1ubuntu1) ...\n",
      "Selecting previously unselected package glib-networking:amd64.\n",
      "Preparing to unpack .../216-glib-networking_2.56.0-1_amd64.deb ...\n",
      "Unpacking glib-networking:amd64 (2.56.0-1) ...\n",
      "Selecting previously unselected package libsoup2.4-1:amd64.\n",
      "Preparing to unpack .../217-libsoup2.4-1_2.62.1-1ubuntu0.1_amd64.deb ...\n",
      "Unpacking libsoup2.4-1:amd64 (2.62.1-1ubuntu0.1) ...\n",
      "Selecting previously unselected package geoclue-2.0.\n",
      "Preparing to unpack .../218-geoclue-2.0_2.4.7-1ubuntu1_amd64.deb ...\n",
      "Unpacking geoclue-2.0 (2.4.7-1ubuntu1) ...\n",
      "Selecting previously unselected package libcdparanoia0:amd64.\n",
      "Preparing to unpack .../219-libcdparanoia0_3.10.2+debian-13_amd64.deb ...\n",
      "Unpacking libcdparanoia0:amd64 (3.10.2+debian-13) ...\n",
      "Selecting previously unselected package libvisual-0.4-0:amd64.\n",
      "Preparing to unpack .../220-libvisual-0.4-0_0.4.0-11_amd64.deb ...\n",
      "Unpacking libvisual-0.4-0:amd64 (0.4.0-11) ...\n",
      "Selecting previously unselected package gstreamer1.0-plugins-base:amd64.\n",
      "Preparing to unpack .../221-gstreamer1.0-plugins-base_1.14.1-1ubuntu1~ubuntu18.04.1_amd64.deb ...\n",
      "Unpacking gstreamer1.0-plugins-base:amd64 (1.14.1-1ubuntu1~ubuntu18.04.1) ...\n",
      "Selecting previously unselected package iio-sensor-proxy.\n",
      "Preparing to unpack .../222-iio-sensor-proxy_2.4-2_amd64.deb ...\n",
      "Unpacking iio-sensor-proxy (2.4-2) ...\n",
      "Selecting previously unselected package libaacs0:amd64.\n",
      "Preparing to unpack .../223-libaacs0_0.9.0-1_amd64.deb ...\n",
      "Unpacking libaacs0:amd64 (0.9.0-1) ...\n",
      "Selecting previously unselected package libatk1.0-data.\n",
      "Preparing to unpack .../224-libatk1.0-data_2.28.1-1_all.deb ...\n",
      "Unpacking libatk1.0-data (2.28.1-1) ...\n",
      "Selecting previously unselected package libatk1.0-0:amd64.\n",
      "Preparing to unpack .../225-libatk1.0-0_2.28.1-1_amd64.deb ...\n",
      "Unpacking libatk1.0-0:amd64 (2.28.1-1) ...\n",
      "Selecting previously unselected package libatk-bridge2.0-0:amd64.\n",
      "Preparing to unpack .../226-libatk-bridge2.0-0_2.26.2-1_amd64.deb ...\n",
      "Unpacking libatk-bridge2.0-0:amd64 (2.26.2-1) ...\n",
      "Selecting previously unselected package libbdplus0:amd64.\n",
      "Preparing to unpack .../227-libbdplus0_0.1.2-2_amd64.deb ...\n",
      "Unpacking libbdplus0:amd64 (0.1.2-2) ...\n",
      "Selecting previously unselected package libcairo-gobject2:amd64.\n",
      "Preparing to unpack .../228-libcairo-gobject2_1.15.10-2_amd64.deb ...\n",
      "Unpacking libcairo-gobject2:amd64 (1.15.10-2) ...\n",
      "Selecting previously unselected package liblcms2-2:amd64.\n",
      "Preparing to unpack .../229-liblcms2-2_2.9-1ubuntu0.1_amd64.deb ...\n",
      "Unpacking liblcms2-2:amd64 (2.9-1ubuntu0.1) ...\n",
      "Selecting previously unselected package libcolord2:amd64.\n",
      "Preparing to unpack .../230-libcolord2_1.3.3-2build1_amd64.deb ...\n",
      "Unpacking libcolord2:amd64 (1.3.3-2build1) ...\n",
      "Selecting previously unselected package libdata-dump-perl.\n",
      "Preparing to unpack .../231-libdata-dump-perl_1.23-1_all.deb ...\n",
      "Unpacking libdata-dump-perl (1.23-1) ...\n",
      "Selecting previously unselected package libdvdread4:amd64.\n",
      "Preparing to unpack .../232-libdvdread4_6.0.0-1_amd64.deb ...\n",
      "Unpacking libdvdread4:amd64 (6.0.0-1) ...\n",
      "Selecting previously unselected package libdvdnav4:amd64.\n",
      "Preparing to unpack .../233-libdvdnav4_6.0.0-1_amd64.deb ...\n",
      "Unpacking libdvdnav4:amd64 (6.0.0-1) ...\n",
      "Selecting previously unselected package libencode-locale-perl.\n",
      "Preparing to unpack .../234-libencode-locale-perl_1.05-1_all.deb ...\n",
      "Unpacking libencode-locale-perl (1.05-1) ...\n",
      "Selecting previously unselected package libepoxy0:amd64.\n",
      "Preparing to unpack .../235-libepoxy0_1.4.3-1_amd64.deb ...\n",
      "Unpacking libepoxy0:amd64 (1.4.3-1) ...\n",
      "Selecting previously unselected package libipc-system-simple-perl.\n",
      "Preparing to unpack .../236-libipc-system-simple-perl_1.25-4_all.deb ...\n",
      "Unpacking libipc-system-simple-perl (1.25-4) ...\n",
      "Selecting previously unselected package libfile-basedir-perl.\n",
      "Preparing to unpack .../237-libfile-basedir-perl_0.07-1_all.deb ...\n",
      "Unpacking libfile-basedir-perl (0.07-1) ...\n",
      "Selecting previously unselected package liburi-perl.\n",
      "Preparing to unpack .../238-liburi-perl_1.73-1_all.deb ...\n",
      "Unpacking liburi-perl (1.73-1) ...\n",
      "Selecting previously unselected package libfile-desktopentry-perl.\n",
      "Preparing to unpack .../239-libfile-desktopentry-perl_0.22-1_all.deb ...\n",
      "Unpacking libfile-desktopentry-perl (0.22-1) ...\n",
      "Selecting previously unselected package libtimedate-perl.\n",
      "Preparing to unpack .../240-libtimedate-perl_2.3000-2_all.deb ...\n",
      "Unpacking libtimedate-perl (2.3000-2) ...\n",
      "Selecting previously unselected package libhttp-date-perl.\n",
      "Preparing to unpack .../241-libhttp-date-perl_6.02-1_all.deb ...\n",
      "Unpacking libhttp-date-perl (6.02-1) ...\n",
      "Selecting previously unselected package libfile-listing-perl.\n",
      "Preparing to unpack .../242-libfile-listing-perl_6.04-1_all.deb ...\n",
      "Unpacking libfile-listing-perl (6.04-1) ...\n",
      "Selecting previously unselected package libfile-mimeinfo-perl.\n",
      "Preparing to unpack .../243-libfile-mimeinfo-perl_0.28-1_all.deb ...\n",
      "Unpacking libfile-mimeinfo-perl (0.28-1) ...\n",
      "Selecting previously unselected package libfont-afm-perl.\n",
      "Preparing to unpack .../244-libfont-afm-perl_1.20-2_all.deb ...\n",
      "Unpacking libfont-afm-perl (1.20-2) ...\n",
      "Selecting previously unselected package libfontenc1:amd64.\n",
      "Preparing to unpack .../245-libfontenc1_1%3a1.1.3-1_amd64.deb ...\n",
      "Unpacking libfontenc1:amd64 (1:1.1.3-1) ...\n",
      "Selecting previously unselected package libgdk-pixbuf2.0-bin.\n",
      "Preparing to unpack .../246-libgdk-pixbuf2.0-bin_2.36.11-2_amd64.deb ...\n",
      "Unpacking libgdk-pixbuf2.0-bin (2.36.11-2) ...\n",
      "Selecting previously unselected package libgl1-mesa-glx:amd64.\n",
      "Preparing to unpack .../247-libgl1-mesa-glx_18.0.5-0ubuntu0~18.04.1_amd64.deb ...\n",
      "Unpacking libgl1-mesa-glx:amd64 (18.0.5-0ubuntu0~18.04.1) ...\n",
      "Selecting previously unselected package libgtk-3-common.\n",
      "Preparing to unpack .../248-libgtk-3-common_3.22.30-1ubuntu1_all.deb ...\n",
      "Unpacking libgtk-3-common (3.22.30-1ubuntu1) ...\n",
      "Selecting previously unselected package libsoup-gnome2.4-1:amd64.\n",
      "Preparing to unpack .../249-libsoup-gnome2.4-1_2.62.1-1ubuntu0.1_amd64.deb ...\n",
      "Unpacking libsoup-gnome2.4-1:amd64 (2.62.1-1ubuntu0.1) ...\n",
      "Selecting previously unselected package librest-0.7-0:amd64.\n",
      "Preparing to unpack .../250-librest-0.7-0_0.8.0-2_amd64.deb ...\n",
      "Unpacking librest-0.7-0:amd64 (0.8.0-2) ...\n",
      "Selecting previously unselected package libxcomposite1:amd64.\n",
      "Preparing to unpack .../251-libxcomposite1_1%3a0.4.4-2_amd64.deb ...\n",
      "Unpacking libxcomposite1:amd64 (1:0.4.4-2) ...\n",
      "Selecting previously unselected package libgtk-3-0:amd64.\n",
      "Preparing to unpack .../252-libgtk-3-0_3.22.30-1ubuntu1_amd64.deb ...\n",
      "Unpacking libgtk-3-0:amd64 (3.22.30-1ubuntu1) ...\n",
      "Selecting previously unselected package libgtk-3-bin.\n",
      "Preparing to unpack .../253-libgtk-3-bin_3.22.30-1ubuntu1_amd64.deb ...\n",
      "Unpacking libgtk-3-bin (3.22.30-1ubuntu1) ...\n",
      "Selecting previously unselected package libhtml-tagset-perl.\n",
      "Preparing to unpack .../254-libhtml-tagset-perl_3.20-3_all.deb ...\n",
      "Unpacking libhtml-tagset-perl (3.20-3) ...\n",
      "Selecting previously unselected package libhtml-parser-perl.\n",
      "Preparing to unpack .../255-libhtml-parser-perl_3.72-3build1_amd64.deb ...\n",
      "Unpacking libhtml-parser-perl (3.72-3build1) ...\n",
      "Selecting previously unselected package libio-html-perl.\n",
      "Preparing to unpack .../256-libio-html-perl_1.001-1_all.deb ...\n",
      "Unpacking libio-html-perl (1.001-1) ...\n",
      "Selecting previously unselected package liblwp-mediatypes-perl.\n",
      "Preparing to unpack .../257-liblwp-mediatypes-perl_6.02-1_all.deb ...\n",
      "Unpacking liblwp-mediatypes-perl (6.02-1) ...\n",
      "Selecting previously unselected package libhttp-message-perl.\n",
      "Preparing to unpack .../258-libhttp-message-perl_6.14-1_all.deb ...\n",
      "Unpacking libhttp-message-perl (6.14-1) ...\n",
      "Selecting previously unselected package libhtml-form-perl.\n",
      "Preparing to unpack .../259-libhtml-form-perl_6.03-1_all.deb ...\n",
      "Unpacking libhtml-form-perl (6.03-1) ...\n",
      "Selecting previously unselected package libhtml-tree-perl.\n",
      "Preparing to unpack .../260-libhtml-tree-perl_5.07-1_all.deb ...\n",
      "Unpacking libhtml-tree-perl (5.07-1) ...\n",
      "Selecting previously unselected package libhtml-format-perl.\n",
      "Preparing to unpack .../261-libhtml-format-perl_2.12-1_all.deb ...\n",
      "Unpacking libhtml-format-perl (2.12-1) ...\n",
      "Selecting previously unselected package libhttp-cookies-perl.\n",
      "Preparing to unpack .../262-libhttp-cookies-perl_6.04-1_all.deb ...\n",
      "Unpacking libhttp-cookies-perl (6.04-1) ...\n",
      "Selecting previously unselected package libhttp-daemon-perl.\n",
      "Preparing to unpack .../263-libhttp-daemon-perl_6.01-1_all.deb ...\n",
      "Unpacking libhttp-daemon-perl (6.01-1) ...\n",
      "Selecting previously unselected package libhttp-negotiate-perl.\n",
      "Preparing to unpack .../264-libhttp-negotiate-perl_6.00-2_all.deb ...\n",
      "Unpacking libhttp-negotiate-perl (6.00-2) ...\n",
      "Selecting previously unselected package perl-openssl-defaults:amd64.\n",
      "Preparing to unpack .../265-perl-openssl-defaults_3build1_amd64.deb ...\n",
      "Unpacking perl-openssl-defaults:amd64 (3build1) ...\n",
      "Selecting previously unselected package libnet-ssleay-perl.\n",
      "Preparing to unpack .../266-libnet-ssleay-perl_1.84-1build1_amd64.deb ...\n",
      "Unpacking libnet-ssleay-perl (1.84-1build1) ...\n",
      "Selecting previously unselected package libio-socket-ssl-perl.\n",
      "Preparing to unpack .../267-libio-socket-ssl-perl_2.056-1_all.deb ...\n",
      "Unpacking libio-socket-ssl-perl (2.056-1) ...\n",
      "Selecting previously unselected package liblua5.2-0:amd64.\n",
      "Preparing to unpack .../268-liblua5.2-0_5.2.4-1.1build1_amd64.deb ...\n",
      "Unpacking liblua5.2-0:amd64 (5.2.4-1.1build1) ...\n",
      "Selecting previously unselected package libnet-http-perl.\n",
      "Preparing to unpack .../269-libnet-http-perl_6.17-1_all.deb ...\n",
      "Unpacking libnet-http-perl (6.17-1) ...\n",
      "Selecting previously unselected package libtry-tiny-perl.\n",
      "Preparing to unpack .../270-libtry-tiny-perl_0.30-1_all.deb ...\n",
      "Unpacking libtry-tiny-perl (0.30-1) ...\n",
      "Selecting previously unselected package libwww-robotrules-perl.\n",
      "Preparing to unpack .../271-libwww-robotrules-perl_6.01-1_all.deb ...\n",
      "Unpacking libwww-robotrules-perl (6.01-1) ...\n",
      "Selecting previously unselected package libwww-perl.\n",
      "Preparing to unpack .../272-libwww-perl_6.31-1_all.deb ...\n",
      "Unpacking libwww-perl (6.31-1) ...\n",
      "Selecting previously unselected package liblwp-protocol-https-perl.\n",
      "Preparing to unpack .../273-liblwp-protocol-https-perl_6.07-2_all.deb ...\n",
      "Unpacking liblwp-protocol-https-perl (6.07-2) ...\n",
      "Selecting previously unselected package libnet-smtp-ssl-perl.\n",
      "Preparing to unpack .../274-libnet-smtp-ssl-perl_1.04-1_all.deb ...\n",
      "Unpacking libnet-smtp-ssl-perl (1.04-1) ...\n",
      "Selecting previously unselected package libmailtools-perl.\n",
      "Preparing to unpack .../275-libmailtools-perl_2.18-1_all.deb ...\n",
      "Unpacking libmailtools-perl (2.18-1) ...\n",
      "Selecting previously unselected package libmbim-glib4:amd64.\n",
      "Preparing to unpack .../276-libmbim-glib4_1.14.2-2.1ubuntu1_amd64.deb ...\n",
      "Unpacking libmbim-glib4:amd64 (1.14.2-2.1ubuntu1) ...\n",
      "Selecting previously unselected package libmbim-proxy.\n",
      "Preparing to unpack .../277-libmbim-proxy_1.14.2-2.1ubuntu1_amd64.deb ...\n",
      "Unpacking libmbim-proxy (1.14.2-2.1ubuntu1) ...\n",
      "Selecting previously unselected package libxml-parser-perl.\n",
      "Preparing to unpack .../278-libxml-parser-perl_2.44-2build3_amd64.deb ...\n",
      "Unpacking libxml-parser-perl (2.44-2build3) ...\n",
      "Selecting previously unselected package libxml-twig-perl.\n",
      "Preparing to unpack .../279-libxml-twig-perl_1%3a3.50-1_all.deb ...\n",
      "Unpacking libxml-twig-perl (1:3.50-1) ...\n",
      "Selecting previously unselected package libnet-dbus-perl.\n",
      "Preparing to unpack .../280-libnet-dbus-perl_1.1.0-4build2_amd64.deb ...\n",
      "Unpacking libnet-dbus-perl (1.1.0-4build2) ...\n",
      "Selecting previously unselected package libnl-3-200:amd64.\n",
      "Preparing to unpack .../281-libnl-3-200_3.2.29-0ubuntu3_amd64.deb ...\n",
      "Unpacking libnl-3-200:amd64 (3.2.29-0ubuntu3) ...\n",
      "Selecting previously unselected package libnl-genl-3-200:amd64.\n",
      "Preparing to unpack .../282-libnl-genl-3-200_3.2.29-0ubuntu3_amd64.deb ...\n",
      "Unpacking libnl-genl-3-200:amd64 (3.2.29-0ubuntu3) ...\n",
      "Selecting previously unselected package libnss-mdns:amd64.\n",
      "Preparing to unpack .../283-libnss-mdns_0.10-8ubuntu1_amd64.deb ...\n",
      "Unpacking libnss-mdns:amd64 (0.10-8ubuntu1) ...\n",
      "Selecting previously unselected package libpcsclite1:amd64.\n",
      "Preparing to unpack .../284-libpcsclite1_1.8.23-1_amd64.deb ...\n",
      "Unpacking libpcsclite1:amd64 (1.8.23-1) ...\n",
      "Selecting previously unselected package libqmi-glib5:amd64.\n",
      "Preparing to unpack .../285-libqmi-glib5_1.18.0-3ubuntu1_amd64.deb ...\n",
      "Unpacking libqmi-glib5:amd64 (1.18.0-3ubuntu1) ...\n",
      "Selecting previously unselected package libqmi-proxy.\n",
      "Preparing to unpack .../286-libqmi-proxy_1.18.0-3ubuntu1_amd64.deb ...\n",
      "Unpacking libqmi-proxy (1.18.0-3ubuntu1) ...\n",
      "Selecting previously unselected package libtie-ixhash-perl.\n",
      "Preparing to unpack .../287-libtie-ixhash-perl_1.23-2_all.deb ...\n",
      "Unpacking libtie-ixhash-perl (1.23-2) ...\n",
      "Selecting previously unselected package libuchardet0:amd64.\n",
      "Preparing to unpack .../288-libuchardet0_0.0.6-2_amd64.deb ...\n",
      "Unpacking libuchardet0:amd64 (0.0.6-2) ...\n",
      "Selecting previously unselected package libva-wayland2:amd64.\n",
      "Preparing to unpack .../289-libva-wayland2_2.1.0-3_amd64.deb ...\n",
      "Unpacking libva-wayland2:amd64 (2.1.0-3) ...\n",
      "Selecting previously unselected package libwacom-bin.\n",
      "Preparing to unpack .../290-libwacom-bin_0.29-1_amd64.deb ...\n",
      "Unpacking libwacom-bin (0.29-1) ...\n",
      "Selecting previously unselected package libx11-protocol-perl.\n",
      "Preparing to unpack .../291-libx11-protocol-perl_0.56-7_all.deb ...\n",
      "Unpacking libx11-protocol-perl (0.56-7) ...\n",
      "Selecting previously unselected package libxt6:amd64.\n",
      "Preparing to unpack .../292-libxt6_1%3a1.1.5-1_amd64.deb ...\n",
      "Unpacking libxt6:amd64 (1:1.1.5-1) ...\n",
      "Selecting previously unselected package libxmu6:amd64.\n",
      "Preparing to unpack .../293-libxmu6_2%3a1.1.2-2_amd64.deb ...\n",
      "Unpacking libxmu6:amd64 (2:1.1.2-2) ...\n",
      "Selecting previously unselected package libxpm4:amd64.\n",
      "Preparing to unpack .../294-libxpm4_1%3a3.5.12-1_amd64.deb ...\n",
      "Unpacking libxpm4:amd64 (1:3.5.12-1) ...\n",
      "Selecting previously unselected package libxaw7:amd64.\n",
      "Preparing to unpack .../295-libxaw7_2%3a1.0.13-1_amd64.deb ...\n",
      "Unpacking libxaw7:amd64 (2:1.0.13-1) ...\n",
      "Selecting previously unselected package libxml-xpathengine-perl.\n",
      "Preparing to unpack .../296-libxml-xpathengine-perl_0.14-1_all.deb ...\n",
      "Unpacking libxml-xpathengine-perl (0.14-1) ...\n",
      "Selecting previously unselected package mesa-va-drivers:amd64.\n",
      "Preparing to unpack .../297-mesa-va-drivers_18.0.5-0ubuntu0~18.04.1_amd64.deb ...\n",
      "Unpacking mesa-va-drivers:amd64 (18.0.5-0ubuntu0~18.04.1) ...\n",
      "Selecting previously unselected package mesa-vdpau-drivers:amd64.\n",
      "Preparing to unpack .../298-mesa-vdpau-drivers_18.0.5-0ubuntu0~18.04.1_amd64.deb ...\n",
      "Unpacking mesa-vdpau-drivers:amd64 (18.0.5-0ubuntu0~18.04.1) ...\n",
      "Selecting previously unselected package modemmanager.\n",
      "Preparing to unpack .../299-modemmanager_1.6.8-2ubuntu1_amd64.deb ...\n",
      "Unpacking modemmanager (1.6.8-2ubuntu1) ...\n",
      "Selecting previously unselected package mpv.\n",
      "Preparing to unpack .../300-mpv_0.27.2-1ubuntu1_amd64.deb ...\n",
      "Unpacking mpv (0.27.2-1ubuntu1) ...\n",
      "Selecting previously unselected package python3-pkg-resources.\n",
      "Preparing to unpack .../301-python3-pkg-resources_39.0.1-2_all.deb ...\n",
      "Unpacking python3-pkg-resources (39.0.1-2) ...\n",
      "Selecting previously unselected package python3-pyxattr.\n",
      "Preparing to unpack .../302-python3-pyxattr_0.6.0-2build2_amd64.deb ...\n",
      "Unpacking python3-pyxattr (0.6.0-2build2) ...\n",
      "Selecting previously unselected package qt5-gtk-platformtheme:amd64.\n",
      "Preparing to unpack .../303-qt5-gtk-platformtheme_5.9.5+dfsg-0ubuntu1_amd64.deb ...\n",
      "Unpacking qt5-gtk-platformtheme:amd64 (5.9.5+dfsg-0ubuntu1) ...\n",
      "Selecting previously unselected package qttranslations5-l10n.\n",
      "Preparing to unpack .../304-qttranslations5-l10n_5.9.5-0ubuntu1_all.deb ...\n",
      "Unpacking qttranslations5-l10n (5.9.5-0ubuntu1) ...\n",
      "Selecting previously unselected package i965-va-driver:amd64.\n",
      "Preparing to unpack .../305-i965-va-driver_2.1.0-0ubuntu1_amd64.deb ...\n",
      "Unpacking i965-va-driver:amd64 (2.1.0-0ubuntu1) ...\n",
      "Selecting previously unselected package va-driver-all:amd64.\n",
      "Preparing to unpack .../306-va-driver-all_2.1.0-3_amd64.deb ...\n",
      "Unpacking va-driver-all:amd64 (2.1.0-3) ...\n",
      "Selecting previously unselected package vdpau-driver-all:amd64.\n",
      "Preparing to unpack .../307-vdpau-driver-all_1.1.1-3ubuntu1_amd64.deb ...\n",
      "Unpacking vdpau-driver-all:amd64 (1.1.1-3ubuntu1) ...\n",
      "Selecting previously unselected package wpasupplicant.\n",
      "Preparing to unpack .../308-wpasupplicant_2%3a2.6-15ubuntu2.1_amd64.deb ...\n",
      "Unpacking wpasupplicant (2:2.6-15ubuntu2.1) ...\n",
      "Selecting previously unselected package x11-utils.\n",
      "Preparing to unpack .../309-x11-utils_7.7+3build1_amd64.deb ...\n",
      "Unpacking x11-utils (7.7+3build1) ...\n",
      "Selecting previously unselected package x11-xserver-utils.\n",
      "Preparing to unpack .../310-x11-xserver-utils_7.7+7build1_amd64.deb ...\n",
      "Unpacking x11-xserver-utils (7.7+7build1) ...\n",
      "Selecting previously unselected package xdg-utils.\n",
      "Preparing to unpack .../311-xdg-utils_1.1.2-1ubuntu2.2_all.deb ...\n",
      "Unpacking xdg-utils (1.1.2-1ubuntu2.2) ...\n",
      "Selecting previously unselected package libauthen-sasl-perl.\n",
      "Preparing to unpack .../312-libauthen-sasl-perl_2.1600-1_all.deb ...\n",
      "Unpacking libauthen-sasl-perl (2.1600-1) ...\n",
      "Selecting previously unselected package phantomjs.\n",
      "Preparing to unpack .../313-phantomjs_2.1.1+dfsg-2_amd64.deb ...\n",
      "Unpacking phantomjs (2.1.1+dfsg-2) ...\n",
      "Selecting previously unselected package rtmpdump.\n",
      "Preparing to unpack .../314-rtmpdump_2.4+20151223.gitfa8646d.1-1_amd64.deb ...\n",
      "Unpacking rtmpdump (2.4+20151223.gitfa8646d.1-1) ...\n",
      "Selecting previously unselected package usb-modeswitch-data.\n",
      "Preparing to unpack .../315-usb-modeswitch-data_20170806-2_all.deb ...\n",
      "Unpacking usb-modeswitch-data (20170806-2) ...\n",
      "Selecting previously unselected package usb-modeswitch.\n",
      "Preparing to unpack .../316-usb-modeswitch_2.5.2+repack0-2ubuntu1_amd64.deb ...\n",
      "Unpacking usb-modeswitch (2.5.2+repack0-2ubuntu1) ...\n",
      "Selecting previously unselected package youtube-dl.\n",
      "Preparing to unpack .../317-youtube-dl_2018.03.14-1_all.deb ...\n",
      "Unpacking youtube-dl (2018.03.14-1) ...\n",
      "Setting up libhtml-tagset-perl (3.20-3) ...\n",
      "Setting up libxi6:amd64 (2:1.7.9-1) ...\n",
      "Setting up libbrotli1:amd64 (1.0.3-1ubuntu1.2) ...\n",
      "Setting up libxcb-xinerama0:amd64 (1.13-1) ...\n",
      "Setting up libisc169:amd64 (1:9.11.3+dfsg-1ubuntu1.2) ...\n",
      "Setting up libnss-systemd:amd64 (237-3ubuntu10.3) ...\n",
      "First installation detected...\n",
      "Checking NSS setup...\n",
      "Setting up libtdb1:amd64 (1.3.15-2) ...\n",
      "Setting up libxinerama1:amd64 (2:1.1.3-1) ...\n",
      "Setting up libwbclient0:amd64 (2:4.7.6+dfsg~ubuntu-0ubuntu2.2) ...\n",
      "Setting up libtry-tiny-perl (0.30-1) ...\n",
      "Setting up libdaemon0:amd64 (0.14-6) ...\n",
      "Setting up libisccc160:amd64 (1:9.11.3+dfsg-1ubuntu1.2) ...\n",
      "Setting up libxcb-glx0:amd64 (1.13-1) ...\n",
      "Setting up rtmpdump (2.4+20151223.gitfa8646d.1-1) ...\n",
      "Setting up libxcb-randr0:amd64 (1.13-1) ...\n",
      "Setting up libfont-afm-perl (1.20-2) ...\n",
      "Setting up libtwolame0:amd64 (0.3.13-3) ...\n",
      "Setting up libraw1394-11:amd64 (2.1.2-1) ...\n",
      "Setting up libx264-152:amd64 (2:0.152.2854+gite9a5903-2) ...\n",
      "Setting up libjson-glib-1.0-common (1.4.2-3) ...\n",
      "Setting up libxcb-icccm4:amd64 (0.4.1-1ubuntu1) ...\n",
      "Setting up libxcb-render0:amd64 (1.13-1) ...\n",
      "Setting up libopenjp2-7:amd64 (2.3.0-1) ...\n",
      "Setting up libasyncns0:amd64 (0.8-6) ...\n",
      "Setting up libpam-cap:amd64 (1:2.25-1.2) ...\n",
      "Setting up glib-networking-common (2.56.0-1) ...\n",
      "Setting up libwacom-common (0.29-1) ...\n",
      "Setting up libxdamage1:amd64 (1:1.1.4-3) ...\n",
      "Setting up libdouble-conversion1:amd64 (2.0.1-4ubuntu1) ...\n",
      "Setting up libxfixes3:amd64 (1:5.0.3-1) ...\n",
      "Processing triggers for mime-support (3.60ubuntu1) ...\n",
      "Setting up libwoff1:amd64 (1.0.2-1build0.1) ...\n",
      "Setting up libdrm-amdgpu1:amd64 (2.4.91-2) ...\n",
      "Setting up libevdev2:amd64 (1.5.8+dfsg-1) ...\n",
      "Setting up libencode-locale-perl (1.05-1) ...\n",
      "Setting up libllvm6.0:amd64 (1:6.0-1ubuntu2) ...\n",
      "Setting up geoip-database (20180315-1) ...\n",
      "Setting up libtimedate-perl (2.3000-2) ...\n",
      "Setting up libwavpack1:amd64 (5.1.0-2ubuntu1.1) ...\n",
      "Setting up liblcms2-2:amd64 (2.9-1ubuntu0.1) ...\n",
      "Setting up libjbig0:amd64 (2.1-3.1build1) ...\n",
      "Setting up libpcsclite1:amd64 (1.8.23-1) ...\n",
      "Setting up libcap2-bin (1:2.25-1.2) ...\n",
      "Setting up perl-openssl-defaults:amd64 (3build1) ...\n",
      "Setting up libaacs0:amd64 (0.9.0-1) ...\n",
      "Setting up libnuma1:amd64 (2.0.11-2.1) ...\n",
      "Setting up systemd-sysv (237-3ubuntu10.3) ...\n",
      "Setting up libipc-system-simple-perl (1.25-4) ...\n",
      "Setting up libfile-basedir-perl (0.07-1) ...\n",
      "Setting up libatspi2.0-0:amd64 (2.28.0-1) ...\n",
      "Setting up libsoxr0:amd64 (0.1.2-3) ...\n",
      "Processing triggers for libglib2.0-0:amd64 (2.56.2-0ubuntu0.18.04.2) ...\n",
      "Setting up libssh-gcrypt-4:amd64 (0.8.0~20170825.94fa1e38-1ubuntu0.1) ...\n",
      "Setting up libasound2-data (1.1.3-5ubuntu0.1) ...\n",
      "Setting up libio-html-perl (1.001-1) ...\n",
      "Setting up xkb-data (2.23.1-1ubuntu1) ...\n",
      "Setting up libjansson4:amd64 (2.11-1) ...\n",
      "Setting up libproxy1v5:amd64 (0.4.15-1) ...\n",
      "Setting up libtie-ixhash-perl (1.23-2) ...\n",
      "Setting up libbluray2:amd64 (1:1.0.2-3) ...\n",
      "Setting up libvdpau1:amd64 (1.1.1-3ubuntu1) ...\n",
      "Setting up libgdk-pixbuf2.0-common (2.36.11-2) ...\n",
      "Setting up glib-networking-services (2.56.0-1) ...\n",
      "Setting up libdatrie1:amd64 (0.2.10-7) ...\n",
      "Setting up libtiff5:amd64 (4.0.9-5) ...\n",
      "Setting up libshine3:amd64 (3.1.1-1) ...\n",
      "Setting up libva2:amd64 (2.1.0-3) ...\n",
      "Setting up libpipeline1:amd64 (1.5.0-1) ...\n",
      "Setting up libiec61883-0:amd64 (1.2.0-2) ...\n",
      "Setting up libxcb-util1:amd64 (0.4.0-0ubuntu3) ...\n",
      "Setting up libspeex1:amd64 (1.2~rc1.2-1ubuntu2) ...\n",
      "Setting up python3-pkg-resources (39.0.1-2) ...\n",
      "Setting up libgeoip1:amd64 (1.6.12-1) ...\n",
      "Setting up libfftw3-double3:amd64 (3.3.7-1) ...\n",
      "Setting up libcdparanoia0:amd64 (3.10.2+debian-13) ...\n",
      "Setting up libxvidcore4:amd64 (2:1.3.5-1) ...\n",
      "Setting up libxmuu1:amd64 (2:1.1.2-2) ...\n",
      "Setting up libuchardet0:amd64 (0.0.6-2) ...\n",
      "Setting up libopus0:amd64 (1.1.2-1ubuntu1) ...\n",
      "Setting up libxtst6:amd64 (2:1.2.3-1) ...\n",
      "Setting up libx265-146:amd64 (2.6-3) ...\n",
      "Setting up libasound2:amd64 (1.1.3-5ubuntu0.1) ...\n",
      "Setting up libopenal-data (1:1.18.2-2) ...\n",
      "Setting up libjson-glib-1.0-0:amd64 (1.4.2-3) ...\n",
      "Setting up libbs2b0:amd64 (3.1.0+dfsg-2.2) ...\n",
      "Setting up usb-modeswitch-data (20170806-2) ...\n",
      "Setting up libcroco3:amd64 (0.6.12-2) ...\n",
      "Setting up libxslt1.1:amd64 (1.1.29-5) ...\n",
      "Setting up libogg0:amd64 (1.3.2-1) ...\n",
      "Setting up libatk1.0-data (2.28.1-1) ...\n",
      "Setting up libhyphen0:amd64 (2.8.8-5) ...\n",
      "Setting up libpixman-1-0:amd64 (0.34.0-2) ...\n",
      "Setting up libmp3lame0:amd64 (3.100-2) ...\n",
      "Setting up libxcursor1:amd64 (1:1.1.15-1) ...\n",
      "Setting up libusb-1.0-0:amd64 (2:1.0.21-2) ...\n",
      "Setting up liblwp-mediatypes-perl (6.02-1) ...\n",
      "Setting up libcrystalhd3:amd64 (1:0.0~git20110715.fdd2f19-12) ...\n",
      "Setting up libxxf86dga1:amd64 (2:1.1.4-1) ...\n",
      "Processing triggers for libc-bin (2.27-3ubuntu1) ...\n",
      "Setting up libmm-glib0:amd64 (1.6.8-2ubuntu1) ...\n",
      "Setting up libepoxy0:amd64 (1.4.3-1) ...\n",
      "Setting up udev (237-3ubuntu10.3) ...\n",
      "invoke-rc.d: could not determine current runlevel\n",
      "invoke-rc.d: policy-rc.d denied execution of start.\n",
      "Setting up liburi-perl (1.73-1) ...\n",
      "Setting up libatk1.0-0:amd64 (2.28.1-1) ...\n",
      "Setting up libtext-iconv-perl (1.7-5build6) ...\n",
      "Setting up libsnappy1v5:amd64 (1.1.7-1) ...\n",
      "Setting up qttranslations5-l10n (5.9.5-0ubuntu1) ...\n",
      "Setting up libdata-dump-perl (1.23-1) ...\n",
      "Setting up libwayland-egl1-mesa:amd64 (18.0.5-0ubuntu0~18.04.1) ...\n",
      "Setting up libva-drm2:amd64 (2.1.0-3) ...\n",
      "Processing triggers for systemd (237-3ubuntu10.3) ...\n",
      "Setting up libhtml-parser-perl (3.72-3build1) ...\n",
      "Setting up libmtdev1:amd64 (1.1.5-1ubuntu3) ...\n",
      "Setting up libatk-bridge2.0-0:amd64 (2.26.2-1) ...\n",
      "Setting up libavc1394-0:amd64 (0.5.4-4build1) ...\n",
      "Setting up libvisual-0.4-0:amd64 (0.4.0-11) ...\n",
      "Setting up libfontenc1:amd64 (1:1.1.3-1) ...\n",
      "Setting up libdconf1:amd64 (0.26.0-2ubuntu3) ...\n",
      "Setting up libxcomposite1:amd64 (1:0.4.4-2) ...\n",
      "Setting up libzvbi-common (0.2.35-13) ...\n",
      "Setting up libfribidi0:amd64 (0.19.7-2) ...\n",
      "Setting up libxcb-shm0:amd64 (1.13-1) ...\n",
      "Setting up dmsetup (2:1.02.145-4.1ubuntu3) ...\n",
      "Setting up libxpm4:amd64 (1:3.5.12-1) ...\n",
      "Setting up libxt6:amd64 (1:1.1.5-1) ...\n",
      "Setting up libxcb-shape0:amd64 (1.13-1) ...\n",
      "Setting up libpciaccess0:amd64 (0.14-1) ...\n",
      "Setting up libxv1:amd64 (2:1.0.11-1) ...\n",
      "Setting up libx11-protocol-perl (0.56-7) ...\n",
      "Setting up libxml-xpathengine-perl (0.14-1) ...\n",
      "Setting up libsensors4:amd64 (1:3.4.0-4) ...\n",
      "Setting up shared-mime-info (1.9-2) ...\n",
      "Setting up libxkbcommon0:amd64 (0.8.0-1) ...\n",
      "Setting up libnet-http-perl (6.17-1) ...\n",
      "Setting up libgudev-1.0-0:amd64 (1:232-2) ...\n",
      "Setting up libvpx5:amd64 (1.7.0-3) ...\n",
      "Setting up libxcb-keysyms1:amd64 (0.4.0-1) ...\n",
      "Setting up libtalloc2:amd64 (2.1.10-2ubuntu1) ...\n",
      "Setting up liblua5.2-0:amd64 (5.2.4-1.1build1) ...\n",
      "Setting up libdrm-radeon1:amd64 (2.4.91-2) ...\n",
      "Setting up liborc-0.4-0:amd64 (1:0.4.28-1) ...\n",
      "Setting up libgme0:amd64 (0.6.2-1) ...\n",
      "Setting up libcolord2:amd64 (1.3.3-2build1) ...\n",
      "Setting up libthai-data (0.1.27-2) ...\n",
      "Setting up libbdplus0:amd64 (0.1.2-2) ...\n",
      "Setting up dbus (1.12.2-1ubuntu1) ...\n",
      "Setting up libxxf86vm1:amd64 (1:1.1.4-1) ...\n",
      "Setting up libzvbi0:amd64 (0.2.35-13) ...\n",
      "Setting up libva-x11-2:amd64 (2.1.0-3) ...\n",
      "Setting up libdrm-nouveau2:amd64 (2.4.91-2) ...\n",
      "Setting up libsamplerate0:amd64 (0.1.9-1) ...\n",
      "Setting up libsndio6.1:amd64 (1.1.0-3) ...\n",
      "Setting up libnl-3-200:amd64 (3.2.29-0ubuntu3) ...\n",
      "Setting up libvorbis0a:amd64 (1.3.5-4.2) ...\n",
      "Setting up libdns1100:amd64 (1:9.11.3+dfsg-1ubuntu1.2) ...\n",
      "Setting up xdg-utils (1.1.2-1ubuntu2.2) ...\n",
      "Setting up libmpg123-0:amd64 (1.25.10-1) ...\n",
      "Setting up hicolor-icon-theme (0.17-2) ...\n",
      "Setting up libslang2:amd64 (2.3.1a-3ubuntu1) ...\n",
      "Setting up libwww-robotrules-perl (6.01-1) ...\n",
      "Setting up libwayland-cursor0:amd64 (1.14.0-2) ...\n",
      "Setting up libgsm1:amd64 (1.0.13-4build1) ...\n",
      "Setting up libmysofa0:amd64 (0.6~dfsg0-2) ...\n",
      "Setting up liblwres160:amd64 (1:9.11.3+dfsg-1ubuntu1.2) ...\n",
      "Setting up libauthen-sasl-perl (2.1600-1) ...\n",
      "Setting up networkd-dispatcher (1.7-0ubuntu3.3) ...\n",
      "Created symlink /etc/systemd/system/multi-user.target.wants/networkd-dispatcher.service → /lib/systemd/system/networkd-dispatcher.service.\n",
      "Setting up libcdio17:amd64 (1.0.0-2ubuntu2) ...\n",
      "Setting up libxrandr2:amd64 (2:1.5.1-1) ...\n",
      "Setting up libpolkit-gobject-1-0:amd64 (0.105-20ubuntu0.18.04.1) ...\n",
      "Setting up fontconfig (2.12.6-0ubuntu2) ...\n",
      "Regenerating fonts cache... done.\n",
      "Setting up libwrap0:amd64 (7.6.q-27) ...\n",
      "Setting up libavahi-common-data:amd64 (0.7-3.1ubuntu1.1) ...\n",
      "Setting up libdvdread4:amd64 (6.0.0-1) ...\n",
      "Setting up netbase (5.4) ...\n",
      "Setting up libwebp6:amd64 (0.6.1-2) ...\n",
      "Setting up python3-pyxattr (0.6.0-2build2) ...\n",
      "Setting up python-talloc (2.1.10-2ubuntu1) ...\n",
      "Setting up libxcb-xkb1:amd64 (1.13-1) ...\n",
      "Setting up libvorbisfile3:amd64 (1.3.5-4.2) ...\n",
      "Setting up libqt5core5a:amd64 (5.9.5+dfsg-0ubuntu1) ...\n",
      "Setting up libcairo2:amd64 (1.15.10-2) ...\n",
      "Setting up libxcb-render-util0:amd64 (0.3.9-1) ...\n",
      "Setting up libqt5dbus5:amd64 (5.9.5+dfsg-0ubuntu1) ...\n",
      "Setting up libhttp-date-perl (6.02-1) ...\n",
      "Setting up libmbim-glib4:amd64 (1.14.2-2.1ubuntu1) ...\n",
      "Setting up libpam-systemd:amd64 (237-3ubuntu10.3) ...\n",
      "Setting up libgstreamer1.0-0:amd64 (1.14.1-1~ubuntu18.04.1) ...\n",
      "Setcap worked! gst-ptp-helper is not suid!\n",
      "Setting up libqt5network5:amd64 (5.9.5+dfsg-0ubuntu1) ...\n",
      "Setting up libwacom2:amd64 (0.29-1) ...\n",
      "Setting up libxcb-image0:amd64 (0.4.0-1build1) ...\n",
      "Setting up libavutil55:amd64 (7:3.4.4-0ubuntu0.18.04.1) ...\n",
      "Setting up iio-sensor-proxy (2.4-2) ...\n",
      "Setting up dconf-service (0.26.0-2ubuntu3) ...\n",
      "Setting up libopenmpt0:amd64 (0.3.6-1) ...\n",
      "Setting up libnet-ssleay-perl (1.84-1build1) ...\n",
      "Setting up libdvdnav4:amd64 (6.0.0-1) ...\n",
      "Setting up libflite1:amd64 (2.1-release-1) ...\n",
      "Setting up at-spi2-core (2.28.0-1) ...\n",
      "Setting up mesa-vdpau-drivers:amd64 (18.0.5-0ubuntu0~18.04.1) ...\n",
      "Setting up libgdk-pixbuf2.0-0:amd64 (2.36.11-2) ...\n",
      "Setting up libcairo-gobject2:amd64 (1.15.10-2) ...\n",
      "Setting up libva-wayland2:amd64 (2.1.0-3) ...\n",
      "Setting up libass9:amd64 (1:0.14.0-1) ...\n",
      "Setting up libflac8:amd64 (1.3.2-1) ...\n",
      "Setting up libgdk-pixbuf2.0-bin (2.36.11-2) ...\n",
      "Setting up libnl-genl-3-200:amd64 (3.2.29-0ubuntu3) ...\n",
      "Setting up libdc1394-22:amd64 (2.2.5-1) ...\n",
      "Setting up libcdio-cdda2:amd64 (10.2+0.94+2-2build1) ...\n",
      "Setting up youtube-dl (2018.03.14-1) ...\n",
      "Setting up libthai0:amd64 (0.1.27-2) ...\n",
      "Setting up libinput-bin (1.10.4-1) ...\n",
      "Setting up libswresample2:amd64 (7:3.4.4-0ubuntu0.18.04.1) ...\n",
      "Setting up libxkbcommon-x11-0:amd64 (0.8.0-1) ...\n",
      "Setting up libio-socket-ssl-perl (2.056-1) ...\n",
      "Setting up libmbim-proxy (1.14.2-2.1ubuntu1) ...\n",
      "Setting up libhtml-tree-perl (5.07-1) ...\n",
      "Setting up libxmu6:amd64 (2:1.1.2-2) ...\n",
      "Setting up libtevent0:amd64 (0.9.34-1) ...\n",
      "Setting up libisccfg160:amd64 (1:9.11.3+dfsg-1ubuntu1.2) ...\n",
      "Setting up libdrm-intel1:amd64 (2.4.91-2) ...\n",
      "Setting up libwacom-bin (0.29-1) ...\n",
      "Setting up gtk-update-icon-cache (3.22.30-1ubuntu1) ...\n",
      "Setting up usb-modeswitch (2.5.2+repack0-2ubuntu1) ...\n",
      "Setting up librubberband2:amd64 (1.8.1-7ubuntu2) ...\n",
      "Setting up libfile-desktopentry-perl (0.22-1) ...\n",
      "Setting up libqt5positioning5:amd64 (5.9.5+dfsg-0ubuntu2) ...\n",
      "Setting up libswscale4:amd64 (7:3.4.4-0ubuntu0.18.04.1) ...\n",
      "Setting up libwebpmux3:amd64 (0.6.1-2) ...\n",
      "Setting up mesa-va-drivers:amd64 (18.0.5-0ubuntu0~18.04.1) ...\n",
      "Setting up libpango-1.0-0:amd64 (1.40.14-1ubuntu0.1) ...\n",
      "Setting up libcdio-paranoia2:amd64 (10.2+0.94+2-2build1) ...\n",
      "Setting up libpostproc54:amd64 (7:3.4.4-0ubuntu0.18.04.1) ...\n",
      "Setting up libjack-jackd2-0:amd64 (1.9.12~dfsg-2) ...\n",
      "Setting up libfile-listing-perl (6.04-1) ...\n",
      "Setting up libhttp-message-perl (6.14-1) ...\n",
      "Setting up libopenal1:amd64 (1:1.18.2-2) ...\n",
      "Setting up libavahi-common3:amd64 (0.7-3.1ubuntu1.1) ...\n",
      "Setting up libavahi-glib1:amd64 (0.7-3.1ubuntu1.1) ...\n",
      "Setting up libvorbisenc2:amd64 (1.3.5-4.2) ...\n",
      "Setting up libcaca0:amd64 (0.99.beta19-2build2~gcc5.3) ...\n",
      "Setting up libtheora0:amd64 (1.1.1+dfsg.1-14) ...\n",
      "Setting up libfile-mimeinfo-perl (0.28-1) ...\n",
      "Setting up dconf-gsettings-backend:amd64 (0.26.0-2ubuntu3) ...\n",
      "Setting up libhttp-negotiate-perl (6.00-2) ...\n",
      "Setting up libavahi-core7:amd64 (0.7-3.1ubuntu1.1) ...\n",
      "Setting up libqt5qml5:amd64 (5.9.5-0ubuntu1.1) ...\n",
      "Setting up vdpau-driver-all:amd64 (1.1.1-3ubuntu1) ...\n",
      "Setting up libxaw7:amd64 (2:1.0.13-1) ...\n",
      "Setting up libgstreamer-plugins-base1.0-0:amd64 (1.14.1-1ubuntu1~ubuntu18.04.1) ...\n",
      "Setting up gstreamer1.0-plugins-base:amd64 (1.14.1-1ubuntu1~ubuntu18.04.1) ...\n",
      "Setting up libqt5sensors5:amd64 (5.9.5-0ubuntu1) ...\n",
      "Setting up libnet-smtp-ssl-perl (1.04-1) ...\n",
      "Setting up libhtml-format-perl (2.12-1) ...\n",
      "Setting up libavresample3:amd64 (7:3.4.4-0ubuntu0.18.04.1) ...\n",
      "Setting up gsettings-desktop-schemas (3.28.0-1ubuntu1) ...\n",
      "Setting up libhttp-cookies-perl (6.04-1) ...\n",
      "Setting up libgtk-3-common (3.22.30-1ubuntu1) ...\n",
      "Setting up libldb1:amd64 (2:1.2.3-1) ...\n",
      "Setting up libbind9-160:amd64 (1:9.11.3+dfsg-1ubuntu1.2) ...\n",
      "Setting up libinput10:amd64 (1.10.4-1) ...\n",
      "Setting up libgl1-mesa-dri:amd64 (18.0.5-0ubuntu0~18.04.1) ...\n",
      "Setting up wpasupplicant (2:2.6-15ubuntu2.1) ...\n",
      "Created symlink /etc/systemd/system/dbus-fi.w1.wpa_supplicant1.service → /lib/systemd/system/wpa_supplicant.service.\n",
      "Created symlink /etc/systemd/system/multi-user.target.wants/wpa_supplicant.service → /lib/systemd/system/wpa_supplicant.service.\n",
      "Setting up libhttp-daemon-perl (6.01-1) ...\n",
      "Setting up libqmi-glib5:amd64 (1.18.0-3ubuntu1) ...\n",
      "Setting up libqmi-proxy (1.18.0-3ubuntu1) ...\n",
      "Setting up libpangoft2-1.0-0:amd64 (1.40.14-1ubuntu0.1) ...\n",
      "Setting up libsndfile1:amd64 (1.0.28-4) ...\n",
      "Setting up i965-va-driver:amd64 (2.1.0-0ubuntu1) ...\n",
      "Setting up va-driver-all:amd64 (2.1.0-3) ...\n",
      "Setting up glib-networking:amd64 (2.56.0-1) ...\n",
      "Setting up libhtml-form-perl (6.03-1) ...\n",
      "Setting up x11-xserver-utils (7.7+7build1) ...\n",
      "Setting up libavahi-client3:amd64 (0.7-3.1ubuntu1.1) ...\n",
      "Setting up libqt5webchannel5:amd64 (5.9.5-0ubuntu1) ...\n",
      "Setting up libglx-mesa0:amd64 (18.0.5-0ubuntu0~18.04.1) ...\n",
      "Setting up libcups2:amd64 (2.2.7-1ubuntu2.1) ...\n",
      "Setting up bind9-host (1:9.11.3+dfsg-1ubuntu1.2) ...\n",
      "Setting up libmailtools-perl (2.18-1) ...\n",
      "Setting up samba-libs:amd64 (2:4.7.6+dfsg~ubuntu-0ubuntu2.2) ...\n",
      "Setting up modemmanager (1.6.8-2ubuntu1) ...\n",
      "Created symlink /etc/systemd/system/dbus-org.freedesktop.ModemManager1.service → /lib/systemd/system/ModemManager.service.\n",
      "Created symlink /etc/systemd/system/multi-user.target.wants/ModemManager.service → /lib/systemd/system/ModemManager.service.\n",
      "Setting up libsoup2.4-1:amd64 (2.62.1-1ubuntu0.1) ...\n",
      "Setting up libsoup-gnome2.4-1:amd64 (2.62.1-1ubuntu0.1) ...\n",
      "Setting up libpangocairo-1.0-0:amd64 (1.40.14-1ubuntu0.1) ...\n",
      "Setting up libpulse0:amd64 (1:11.1-1ubuntu7.1) ...\n",
      "Setting up libsmbclient:amd64 (2:4.7.6+dfsg~ubuntu-0ubuntu2.2) ...\n",
      "Setting up avahi-daemon (0.7-3.1ubuntu1.1) ...\n",
      "invoke-rc.d: could not determine current runlevel\n",
      "invoke-rc.d: policy-rc.d denied execution of force-reload.\n",
      "Created symlink /etc/systemd/system/dbus-org.freedesktop.Avahi.service → /lib/systemd/system/avahi-daemon.service.\n",
      "Created symlink /etc/systemd/system/multi-user.target.wants/avahi-daemon.service → /lib/systemd/system/avahi-daemon.service.\n",
      "Created symlink /etc/systemd/system/sockets.target.wants/avahi-daemon.socket → /lib/systemd/system/avahi-daemon.socket.\n",
      "invoke-rc.d: could not determine current runlevel\n",
      "invoke-rc.d: policy-rc.d denied execution of start.\n",
      "Setting up libsdl2-2.0-0:amd64 (2.0.8+dfsg1-1ubuntu1.18.04.1) ...\n",
      "Setting up librest-0.7-0:amd64 (0.8.0-2) ...\n",
      "Setting up libglx0:amd64 (1.0.0-2ubuntu2.2) ...\n",
      "Setting up libnss-mdns:amd64 (0.10-8ubuntu1) ...\n",
      "First installation detected...\n",
      "Checking NSS setup...\n",
      "Setting up librsvg2-2:amd64 (2.40.20-2) ...\n",
      "Setting up libavcodec57:amd64 (7:3.4.4-0ubuntu0.18.04.1) ...\n",
      "Setting up librsvg2-common:amd64 (2.40.20-2) ...\n",
      "Setting up libgl1:amd64 (1.0.0-2ubuntu2.2) ...\n",
      "Setting up libchromaprint1:amd64 (1.4.3-1) ...\n",
      "Setting up x11-utils (7.7+3build1) ...\n",
      "Setting up libgl1-mesa-glx:amd64 (18.0.5-0ubuntu0~18.04.1) ...\n",
      "Setting up libqt5gui5:amd64 (5.9.5+dfsg-0ubuntu1) ...\n",
      "Setting up libavformat57:amd64 (7:3.4.4-0ubuntu0.18.04.1) ...\n",
      "Setting up libqt5quick5:amd64 (5.9.5-0ubuntu1.1) ...\n",
      "Setting up libqt5widgets5:amd64 (5.9.5+dfsg-0ubuntu1) ...\n",
      "Setting up libavfilter6:amd64 (7:3.4.4-0ubuntu0.18.04.1) ...\n",
      "Setting up libqt5printsupport5:amd64 (5.9.5+dfsg-0ubuntu1) ...\n",
      "Setting up libqt5svg5:amd64 (5.9.5-0ubuntu1) ...\n",
      "Setting up libavdevice57:amd64 (7:3.4.4-0ubuntu0.18.04.1) ...\n",
      "Setting up libqt5webkit5:amd64 (5.212.0~alpha2-7ubuntu1) ...\n",
      "Setting up phantomjs (2.1.1+dfsg-2) ...\n",
      "Setting up ffmpeg (7:3.4.4-0ubuntu0.18.04.1) ...\n",
      "Setting up mpv (0.27.2-1ubuntu1) ...\n",
      "Setting up adwaita-icon-theme (3.28.0-1ubuntu1) ...\n",
      "update-alternatives: using /usr/share/icons/Adwaita/cursor.theme to provide /usr/share/icons/default/index.theme (x-cursor-theme) in auto mode\n",
      "Setting up libgeoclue-2-0:amd64 (2.4.7-1ubuntu1) ...\n",
      "Setting up liblwp-protocol-https-perl (6.07-2) ...\n",
      "Setting up humanity-icon-theme (0.6.15) ...\n",
      "Setting up libgtk-3-0:amd64 (3.22.30-1ubuntu1) ...\n",
      "Setting up libgtk-3-bin (3.22.30-1ubuntu1) ...\n",
      "Setting up geoclue-2.0 (2.4.7-1ubuntu1) ...\n",
      "Setting up qt5-gtk-platformtheme:amd64 (5.9.5+dfsg-0ubuntu1) ...\n",
      "Setting up libwww-perl (6.31-1) ...\n",
      "Setting up ubuntu-mono (16.10+18.04.20181005-0ubuntu1) ...\n",
      "Setting up libxml-parser-perl (2.44-2build3) ...\n",
      "Setting up libxml-twig-perl (1:3.50-1) ...\n",
      "Setting up libnet-dbus-perl (1.1.0-4build2) ...\n",
      "Processing triggers for libc-bin (2.27-3ubuntu1) ...\n",
      "Processing triggers for systemd (237-3ubuntu10.3) ...\n",
      "Processing triggers for dbus (1.12.2-1ubuntu1) ...\n",
      "Processing triggers for libgdk-pixbuf2.0-0:amd64 (2.36.11-2) ...\n"
     ]
    }
   ],
   "source": [
    "!apt-get install youtube-dl"
   ]
  },
  {
   "cell_type": "code",
   "execution_count": 0,
   "metadata": {
    "colab": {
     "base_uri": "https://localhost:8080/",
     "height": 167
    },
    "colab_type": "code",
    "id": "rGItxqu4M64N",
    "outputId": "6d0a04d6-a693-417a-929d-d46424e6292c"
   },
   "outputs": [
    {
     "name": "stdout",
     "output_type": "stream",
     "text": [
      "[youtube] BQo87tGRM74: Downloading webpage\n",
      "[youtube] BQo87tGRM74: Downloading video info webpage\n",
      "[youtube] BQo87tGRM74: Extracting video information\n",
      "[youtube] BQo87tGRM74: Downloading MPD manifest\n",
      "[youtube] BQo87tGRM74: Downloading MPD manifest\n",
      "[dashsegments] Total fragments: 125\n",
      "[download] Destination: DASH CAM 2016 01 29 (42 Miles of Potholes)-BQo87tGRM74.f137.mp4\n",
      "\u001b[K[download]  39.2% of ~339.01MiB at 58.78KiB/s ETA 02:24"
     ]
    }
   ],
   "source": [
    "!youtube-dl https://www.youtube.com/watch?v=BQo87tGRM74"
   ]
  },
  {
   "cell_type": "code",
   "execution_count": 0,
   "metadata": {
    "colab": {},
    "colab_type": "code",
    "id": "P72BZ1ToNbyt"
   },
   "outputs": [],
   "source": [
    "!pip install utils"
   ]
  },
  {
   "cell_type": "code",
   "execution_count": 0,
   "metadata": {
    "colab": {},
    "colab_type": "code",
    "id": "ZnpT30c9N36P"
   },
   "outputs": [],
   "source": []
  }
 ],
 "metadata": {
  "accelerator": "GPU",
  "colab": {
   "include_colab_link": true,
   "name": "PrelimearyModelBuildingGPU.ipynb",
   "provenance": [],
   "version": "0.3.2"
  },
  "kernelspec": {
   "display_name": "Python 3",
   "language": "python",
   "name": "python3"
  },
  "language_info": {
   "codemirror_mode": {
    "name": "ipython",
    "version": 3
   },
   "file_extension": ".py",
   "mimetype": "text/x-python",
   "name": "python",
   "nbconvert_exporter": "python",
   "pygments_lexer": "ipython3",
   "version": "3.5.2"
  }
 },
 "nbformat": 4,
 "nbformat_minor": 1
}
