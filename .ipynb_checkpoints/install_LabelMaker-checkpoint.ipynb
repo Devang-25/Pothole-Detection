{
 "cells": [
  {
   "cell_type": "markdown",
   "metadata": {
    "colab_type": "text",
    "id": "view-in-github"
   },
   "source": [
    "<a href=\"https://colab.research.google.com/github/Prady96/Pothole-Detection/blob/master/install_LabelMaker.ipynb\" target=\"_parent\"><img src=\"https://colab.research.google.com/assets/colab-badge.svg\" alt=\"Open In Colab\"/></a>"
   ]
  },
  {
   "cell_type": "code",
   "execution_count": 0,
   "metadata": {
    "colab": {},
    "colab_type": "code",
    "id": "6G1sHzAjMyPI"
   },
   "outputs": [],
   "source": [
    "# Install http://devseed.com/label-maker/\n",
    "  # Data Download https://osmlab.github.io/osm-qa-tiles/\n",
    "\n",
    "# Pycurl Installation https://gist.github.com/aerickson/f15133a7e56b2d7f27e3\n",
    "# How to install tippecanoe in Ubuntu? --- https://github.com/mapbox/tippecanoe/issues/36!"
   ]
  },
  {
   "cell_type": "code",
   "execution_count": 3,
   "metadata": {
    "colab": {
     "base_uri": "https://localhost:8080/",
     "height": 357
    },
    "colab_type": "code",
    "id": "LyzkH3hcLsmo",
    "outputId": "55059ec4-48a5-4877-f5f8-0291126c9b2b"
   },
   "outputs": [
    {
     "name": "stdout",
     "output_type": "stream",
     "text": [
      "Reading package lists... Done\n",
      "Building dependency tree       \n",
      "Reading state information... Done\n",
      "build-essential is already the newest version (12.4ubuntu1).\n",
      "zlib1g-dev is already the newest version (1:1.2.11.dfsg-0ubuntu2).\n",
      "zlib1g-dev set to manually installed.\n",
      "Suggested packages:\n",
      "  sqlite3-doc\n",
      "The following NEW packages will be installed:\n",
      "  libsqlite3-dev\n",
      "0 upgraded, 1 newly installed, 0 to remove and 3 not upgraded.\n",
      "Need to get 632 kB of archives.\n",
      "After this operation, 2,124 kB of additional disk space will be used.\n",
      "Get:1 http://archive.ubuntu.com/ubuntu bionic/main amd64 libsqlite3-dev amd64 3.22.0-1 [632 kB]\n",
      "Fetched 632 kB in 0s (7,214 kB/s)\n",
      "Selecting previously unselected package libsqlite3-dev:amd64.\n",
      "(Reading database ... 22280 files and directories currently installed.)\n",
      "Preparing to unpack .../libsqlite3-dev_3.22.0-1_amd64.deb ...\n",
      "Unpacking libsqlite3-dev:amd64 (3.22.0-1) ...\n",
      "Setting up libsqlite3-dev:amd64 (3.22.0-1) ...\n"
     ]
    }
   ],
   "source": [
    "!apt-get install build-essential libsqlite3-dev zlib1g-dev"
   ]
  },
  {
   "cell_type": "code",
   "execution_count": 4,
   "metadata": {
    "colab": {
     "base_uri": "https://localhost:8080/",
     "height": 136
    },
    "colab_type": "code",
    "id": "-Q0rMvd7L_7M",
    "outputId": "74c8e211-0f42-415a-f727-7a2a46b66c95"
   },
   "outputs": [
    {
     "name": "stdout",
     "output_type": "stream",
     "text": [
      "Cloning into 'tippecanoe'...\n",
      "remote: Enumerating objects: 387, done.\u001b[K\n",
      "remote: Counting objects: 100% (387/387), done.\u001b[K\n",
      "remote: Compressing objects: 100% (283/283), done.\u001b[K\n",
      "remote: Total 12596 (delta 179), reused 226 (delta 88), pack-reused 12209\u001b[K\n",
      "Receiving objects: 100% (12596/12596), 33.72 MiB | 966.00 KiB/s, done.\n",
      "Resolving deltas: 100% (8206/8206), done.\n"
     ]
    }
   ],
   "source": [
    "!git clone https://github.com/mapbox/tippecanoe.git"
   ]
  },
  {
   "cell_type": "code",
   "execution_count": 5,
   "metadata": {
    "colab": {
     "base_uri": "https://localhost:8080/",
     "height": 34
    },
    "colab_type": "code",
    "id": "ivbGS9kzMFXa",
    "outputId": "db572825-5c03-4f25-c16b-1bad24901079"
   },
   "outputs": [
    {
     "name": "stdout",
     "output_type": "stream",
     "text": [
      "/content/tippecanoe\n"
     ]
    }
   ],
   "source": [
    "%cd tippecanoe"
   ]
  },
  {
   "cell_type": "code",
   "execution_count": 6,
   "metadata": {
    "colab": {
     "base_uri": "https://localhost:8080/",
     "height": 717
    },
    "colab_type": "code",
    "id": "yw513U-IMUNb",
    "outputId": "bfc87e03-892e-49e9-b917-0e981e4d508e"
   },
   "outputs": [
    {
     "name": "stdout",
     "output_type": "stream",
     "text": [
      "g++ -MMD  -I/usr/local/include -I. -g -Wall -Wshadow -Wsign-compare -Wextra -Wunreachable-code -Wuninitialized -Wshadow -O3 -DNDEBUG  -std=c++11 -c -o geojson.o geojson.cpp\n",
      "cc -MMD  -I/usr/local/include -I. -g -Wall -Wshadow -Wsign-compare -Wextra -Wunreachable-code -Wuninitialized -Wshadow -O3 -DNDEBUG  -c -o jsonpull/jsonpull.o jsonpull/jsonpull.c\n",
      "g++ -MMD  -I/usr/local/include -I. -g -Wall -Wshadow -Wsign-compare -Wextra -Wunreachable-code -Wuninitialized -Wshadow -O3 -DNDEBUG  -std=c++11 -c -o tile.o tile.cpp\n",
      "g++ -MMD  -I/usr/local/include -I. -g -Wall -Wshadow -Wsign-compare -Wextra -Wunreachable-code -Wuninitialized -Wshadow -O3 -DNDEBUG  -std=c++11 -c -o pool.o pool.cpp\n",
      "g++ -MMD  -I/usr/local/include -I. -g -Wall -Wshadow -Wsign-compare -Wextra -Wunreachable-code -Wuninitialized -Wshadow -O3 -DNDEBUG  -std=c++11 -c -o mbtiles.o mbtiles.cpp\n",
      "\u001b[01m\u001b[Kmbtiles.cpp:\u001b[m\u001b[K In function ‘\u001b[01m\u001b[Kvoid tilestats(const std::map<std::__cxx11::basic_string<char>, layermap_entry>&, size_t, json_writer&)\u001b[m\u001b[K’:\n",
      "\u001b[01m\u001b[Kmbtiles.cpp:132:7:\u001b[m\u001b[K \u001b[01;35m\u001b[Kwarning: \u001b[m\u001b[Kvariable ‘\u001b[01m\u001b[Kfirst\u001b[m\u001b[K’ set but not used [\u001b[01;35m\u001b[K-Wunused-but-set-variable\u001b[m\u001b[K]\n",
      "  bool \u001b[01;35m\u001b[Kfirst\u001b[m\u001b[K = true;\n",
      "       \u001b[01;35m\u001b[K^~~~~\u001b[m\u001b[K\n",
      "\u001b[01m\u001b[Kmbtiles.cpp:\u001b[m\u001b[K In function ‘\u001b[01m\u001b[Kvoid mbtiles_write_metadata(sqlite3*, const char*, const char*, int, int, double, double, double, double, double, double, int, const char*, const std::map<std::__cxx11::basic_string<char>, layermap_entry>&, bool, const char*, bool, const std::map<std::__cxx11::basic_string<char>, std::__cxx11::basic_string<char> >&, const string&)\u001b[m\u001b[K’:\n",
      "\u001b[01m\u001b[Kmbtiles.cpp:502:9:\u001b[m\u001b[K \u001b[01;35m\u001b[Kwarning: \u001b[m\u001b[Kvariable ‘\u001b[01m\u001b[Kfirst\u001b[m\u001b[K’ set but not used [\u001b[01;35m\u001b[K-Wunused-but-set-variable\u001b[m\u001b[K]\n",
      "    bool \u001b[01;35m\u001b[Kfirst\u001b[m\u001b[K = true;\n",
      "         \u001b[01;35m\u001b[K^~~~~\u001b[m\u001b[K\n",
      "g++ -MMD  -I/usr/local/include -I. -g -Wall -Wshadow -Wsign-compare -Wextra -Wunreachable-code -Wuninitialized -Wshadow -O3 -DNDEBUG  -std=c++11 -c -o geometry.o geometry.cpp\n",
      "g++ -MMD  -I/usr/local/include -I. -g -Wall -Wshadow -Wsign-compare -Wextra -Wunreachable-code -Wuninitialized -Wshadow -O3 -DNDEBUG  -std=c++11 -c -o projection.o projection.cpp\n",
      "g++ -MMD  -I/usr/local/include -I. -g -Wall -Wshadow -Wsign-compare -Wextra -Wunreachable-code -Wuninitialized -Wshadow -O3 -DNDEBUG  -std=c++11 -c -o memfile.o memfile.cpp\n",
      "g++ -MMD  -I/usr/local/include -I. -g -Wall -Wshadow -Wsign-compare -Wextra -Wunreachable-code -Wuninitialized -Wshadow -O3 -DNDEBUG  -std=c++11 -c -o mvt.o mvt.cpp\n",
      "g++ -MMD  -I/usr/local/include -I. -g -Wall -Wshadow -Wsign-compare -Wextra -Wunreachable-code -Wuninitialized -Wshadow -O3 -DNDEBUG  -std=c++11 -c -o serial.o serial.cpp\n",
      "g++ -MMD  -I/usr/local/include -I. -g -Wall -Wshadow -Wsign-compare -Wextra -Wunreachable-code -Wuninitialized -Wshadow -O3 -DNDEBUG  -std=c++11 -c -o main.o main.cpp\n",
      "g++ -MMD  -I/usr/local/include -I. -g -Wall -Wshadow -Wsign-compare -Wextra -Wunreachable-code -Wuninitialized -Wshadow -O3 -DNDEBUG  -std=c++11 -c -o text.o text.cpp\n",
      "g++ -MMD  -I/usr/local/include -I. -g -Wall -Wshadow -Wsign-compare -Wextra -Wunreachable-code -Wuninitialized -Wshadow -O3 -DNDEBUG  -std=c++11 -c -o dirtiles.o dirtiles.cpp\n",
      "g++ -MMD  -I/usr/local/include -I. -g -Wall -Wshadow -Wsign-compare -Wextra -Wunreachable-code -Wuninitialized -Wshadow -O3 -DNDEBUG  -std=c++11 -c -o plugin.o plugin.cpp\n",
      "g++ -MMD  -I/usr/local/include -I. -g -Wall -Wshadow -Wsign-compare -Wextra -Wunreachable-code -Wuninitialized -Wshadow -O3 -DNDEBUG  -std=c++11 -c -o read_json.o read_json.cpp\n",
      "g++ -MMD  -I/usr/local/include -I. -g -Wall -Wshadow -Wsign-compare -Wextra -Wunreachable-code -Wuninitialized -Wshadow -O3 -DNDEBUG  -std=c++11 -c -o write_json.o write_json.cpp\n",
      "g++ -MMD  -I/usr/local/include -I. -g -Wall -Wshadow -Wsign-compare -Wextra -Wunreachable-code -Wuninitialized -Wshadow -O3 -DNDEBUG  -std=c++11 -c -o geobuf.o geobuf.cpp\n",
      "g++ -MMD  -I/usr/local/include -I. -g -Wall -Wshadow -Wsign-compare -Wextra -Wunreachable-code -Wuninitialized -Wshadow -O3 -DNDEBUG  -std=c++11 -c -o evaluator.o evaluator.cpp\n",
      "g++ -MMD  -I/usr/local/include -I. -g -Wall -Wshadow -Wsign-compare -Wextra -Wunreachable-code -Wuninitialized -Wshadow -O3 -DNDEBUG  -std=c++11 -c -o geocsv.o geocsv.cpp\n",
      "g++ -MMD  -I/usr/local/include -I. -g -Wall -Wshadow -Wsign-compare -Wextra -Wunreachable-code -Wuninitialized -Wshadow -O3 -DNDEBUG  -std=c++11 -c -o csv.o csv.cpp\n",
      "g++ -MMD  -I/usr/local/include -I. -g -Wall -Wshadow -Wsign-compare -Wextra -Wunreachable-code -Wuninitialized -Wshadow -O3 -DNDEBUG  -std=c++11 -c -o geojson-loop.o geojson-loop.cpp\n",
      "g++  -L/usr/local/lib -g -Wall -Wshadow -Wsign-compare -Wextra -Wunreachable-code -Wuninitialized -Wshadow -O3 -DNDEBUG  -std=c++11 -o tippecanoe geojson.o jsonpull/jsonpull.o tile.o pool.o mbtiles.o geometry.o projection.o memfile.o mvt.o serial.o main.o text.o dirtiles.o plugin.o read_json.o write_json.o geobuf.o evaluator.o geocsv.o csv.o geojson-loop.o  -lm -lz -lsqlite3 -lpthread\n",
      "g++ -MMD  -I/usr/local/include -I. -g -Wall -Wshadow -Wsign-compare -Wextra -Wunreachable-code -Wuninitialized -Wshadow -O3 -DNDEBUG  -std=c++11 -c -o enumerate.o enumerate.cpp\n",
      "g++  -L/usr/local/lib -g -Wall -Wshadow -Wsign-compare -Wextra -Wunreachable-code -Wuninitialized -Wshadow -O3 -DNDEBUG  -std=c++11 -o tippecanoe-enumerate enumerate.o  -lsqlite3\n",
      "g++ -MMD  -I/usr/local/include -I. -g -Wall -Wshadow -Wsign-compare -Wextra -Wunreachable-code -Wuninitialized -Wshadow -O3 -DNDEBUG  -std=c++11 -c -o decode.o decode.cpp\n",
      "g++  -L/usr/local/lib -g -Wall -Wshadow -Wsign-compare -Wextra -Wunreachable-code -Wuninitialized -Wshadow -O3 -DNDEBUG  -std=c++11 -o tippecanoe-decode decode.o projection.o mvt.o write_json.o text.o jsonpull/jsonpull.o dirtiles.o  -lm -lz -lsqlite3\n",
      "g++ -MMD  -I/usr/local/include -I. -g -Wall -Wshadow -Wsign-compare -Wextra -Wunreachable-code -Wuninitialized -Wshadow -O3 -DNDEBUG  -std=c++11 -c -o tile-join.o tile-join.cpp\n",
      "g++  -L/usr/local/lib -g -Wall -Wshadow -Wsign-compare -Wextra -Wunreachable-code -Wuninitialized -Wshadow -O3 -DNDEBUG  -std=c++11 -o tile-join tile-join.o projection.o pool.o mbtiles.o mvt.o memfile.o dirtiles.o jsonpull/jsonpull.o text.o evaluator.o csv.o write_json.o  -lm -lz -lsqlite3 -lpthread\n",
      "g++ -MMD  -I/usr/local/include -I. -g -Wall -Wshadow -Wsign-compare -Wextra -Wunreachable-code -Wuninitialized -Wshadow -O3 -DNDEBUG  -std=c++11 -c -o unit.o unit.cpp\n",
      "g++  -L/usr/local/lib -g -Wall -Wshadow -Wsign-compare -Wextra -Wunreachable-code -Wuninitialized -Wshadow -O3 -DNDEBUG  -std=c++11 -o unit unit.o text.o  -lm -lz -lsqlite3 -lpthread\n",
      "g++ -MMD  -I/usr/local/include -I. -g -Wall -Wshadow -Wsign-compare -Wextra -Wunreachable-code -Wuninitialized -Wshadow -O3 -DNDEBUG  -std=c++11 -c -o jsontool.o jsontool.cpp\n",
      "g++  -L/usr/local/lib -g -Wall -Wshadow -Wsign-compare -Wextra -Wunreachable-code -Wuninitialized -Wshadow -O3 -DNDEBUG  -std=c++11 -o tippecanoe-json-tool jsontool.o jsonpull/jsonpull.o csv.o text.o geojson-loop.o  -lm -lz -lsqlite3 -lpthread\n"
     ]
    }
   ],
   "source": [
    "!make"
   ]
  },
  {
   "cell_type": "code",
   "execution_count": 7,
   "metadata": {
    "colab": {
     "base_uri": "https://localhost:8080/",
     "height": 153
    },
    "colab_type": "code",
    "id": "UQb3On81MV-U",
    "outputId": "409e020a-b611-4883-d1b2-2f800097f318"
   },
   "outputs": [
    {
     "name": "stdout",
     "output_type": "stream",
     "text": [
      "mkdir -p /usr/local/bin\n",
      "mkdir -p /usr/local/share/man/man1/\n",
      "cp tippecanoe /usr/local/bin/tippecanoe\n",
      "cp tippecanoe-enumerate /usr/local/bin/tippecanoe-enumerate\n",
      "cp tippecanoe-decode /usr/local/bin/tippecanoe-decode\n",
      "cp tippecanoe-json-tool /usr/local/bin/tippecanoe-json-tool\n",
      "cp tile-join /usr/local/bin/tile-join\n",
      "cp man/tippecanoe.1 /usr/local/share/man/man1//tippecanoe.1\n"
     ]
    }
   ],
   "source": [
    "!make install"
   ]
  },
  {
   "cell_type": "code",
   "execution_count": 9,
   "metadata": {
    "colab": {
     "base_uri": "https://localhost:8080/",
     "height": 34
    },
    "colab_type": "code",
    "id": "KkCEbY-iMW0M",
    "outputId": "89b11dd3-9231-47ce-ff71-a99e212509d5"
   },
   "outputs": [
    {
     "name": "stdout",
     "output_type": "stream",
     "text": [
      "Requirement already up-to-date: setuptools in /usr/local/lib/python3.6/dist-packages (40.5.0)\n"
     ]
    }
   ],
   "source": [
    "!pip install --upgrade setuptools"
   ]
  },
  {
   "cell_type": "code",
   "execution_count": 10,
   "metadata": {
    "colab": {
     "base_uri": "https://localhost:8080/",
     "height": 561
    },
    "colab_type": "code",
    "id": "h-3ZasbdNJfW",
    "outputId": "8ec52bbc-0af0-4401-edd8-d4f5d7f2e219"
   },
   "outputs": [
    {
     "name": "stdout",
     "output_type": "stream",
     "text": [
      "Reading package lists... Done\n",
      "Building dependency tree       \n",
      "Reading state information... Done\n",
      "python3.6-dev is already the newest version (3.6.6-1~18.04).\n",
      "python3.6-dev set to manually installed.\n",
      "The following additional packages will be installed:\n",
      "  libmysqlclient20 mysql-common\n",
      "The following NEW packages will be installed:\n",
      "  libmysqlclient-dev libmysqlclient20 mysql-common\n",
      "0 upgraded, 3 newly installed, 0 to remove and 3 not upgraded.\n",
      "Need to get 1,986 kB of archives.\n",
      "After this operation, 11.4 MB of additional disk space will be used.\n",
      "Get:1 http://archive.ubuntu.com/ubuntu bionic/main amd64 mysql-common all 5.8+1.0.4 [7,308 B]\n",
      "Get:2 http://archive.ubuntu.com/ubuntu bionic-updates/main amd64 libmysqlclient20 amd64 5.7.24-0ubuntu0.18.04.1 [817 kB]\n",
      "Get:3 http://archive.ubuntu.com/ubuntu bionic-updates/main amd64 libmysqlclient-dev amd64 5.7.24-0ubuntu0.18.04.1 [1,162 kB]\n",
      "Fetched 1,986 kB in 0s (17.6 MB/s)\n",
      "Selecting previously unselected package mysql-common.\n",
      "(Reading database ... 22289 files and directories currently installed.)\n",
      "Preparing to unpack .../mysql-common_5.8+1.0.4_all.deb ...\n",
      "Unpacking mysql-common (5.8+1.0.4) ...\n",
      "Selecting previously unselected package libmysqlclient20:amd64.\n",
      "Preparing to unpack .../libmysqlclient20_5.7.24-0ubuntu0.18.04.1_amd64.deb ...\n",
      "Unpacking libmysqlclient20:amd64 (5.7.24-0ubuntu0.18.04.1) ...\n",
      "Selecting previously unselected package libmysqlclient-dev.\n",
      "Preparing to unpack .../libmysqlclient-dev_5.7.24-0ubuntu0.18.04.1_amd64.deb ...\n",
      "Unpacking libmysqlclient-dev (5.7.24-0ubuntu0.18.04.1) ...\n",
      "Setting up mysql-common (5.8+1.0.4) ...\n",
      "update-alternatives: using /etc/mysql/my.cnf.fallback to provide /etc/mysql/my.cnf (my.cnf) in auto mode\n",
      "Processing triggers for libc-bin (2.27-3ubuntu1) ...\n",
      "Setting up libmysqlclient20:amd64 (5.7.24-0ubuntu0.18.04.1) ...\n",
      "Setting up libmysqlclient-dev (5.7.24-0ubuntu0.18.04.1) ...\n",
      "Processing triggers for libc-bin (2.27-3ubuntu1) ...\n"
     ]
    }
   ],
   "source": [
    "!apt-get install python3.6-dev libmysqlclient-dev"
   ]
  },
  {
   "cell_type": "code",
   "execution_count": 13,
   "metadata": {
    "colab": {
     "base_uri": "https://localhost:8080/",
     "height": 258
    },
    "colab_type": "code",
    "id": "NnweZxouNPYM",
    "outputId": "f1e3d39b-2e04-40c8-bf17-790cef7f6dc7"
   },
   "outputs": [
    {
     "name": "stdout",
     "output_type": "stream",
     "text": [
      "Collecting https://files.pythonhosted.org/packages/91/2b/d351738aa23631d25ba9fa16129f1b490678c89f67fc29275cf785c0a5f9/pycurl2-7.20.0.tar.gz\n",
      "\u001b[?25l  Downloading https://files.pythonhosted.org/packages/91/2b/d351738aa23631d25ba9fa16129f1b490678c89f67fc29275cf785c0a5f9/pycurl2-7.20.0.tar.gz (133kB)\n",
      "\r",
      "\u001b[K    7% |██▌                             | 10kB 19.4MB/s eta 0:00:01\r",
      "\u001b[K    15% |█████                           | 20kB 4.7MB/s eta 0:00:01\r",
      "\u001b[K    23% |███████▍                        | 30kB 6.7MB/s eta 0:00:01\r",
      "\u001b[K    30% |█████████▉                      | 40kB 4.2MB/s eta 0:00:01\r",
      "\u001b[K    38% |████████████▎                   | 51kB 5.1MB/s eta 0:00:01\r",
      "\u001b[K    46% |██████████████▊                 | 61kB 6.0MB/s eta 0:00:01\r",
      "\u001b[K    53% |█████████████████▎              | 71kB 6.9MB/s eta 0:00:01\r",
      "\u001b[K    61% |███████████████████▊            | 81kB 7.7MB/s eta 0:00:01\r",
      "\u001b[K    69% |██████████████████████▏         | 92kB 8.5MB/s eta 0:00:01\r",
      "\u001b[K    76% |████████████████████████▋       | 102kB 6.7MB/s eta 0:00:01\r",
      "\u001b[K    84% |███████████████████████████     | 112kB 6.8MB/s eta 0:00:01\r",
      "\u001b[K    92% |█████████████████████████████▌  | 122kB 8.9MB/s eta 0:00:01\r",
      "\u001b[K    99% |████████████████████████████████| 133kB 8.8MB/s eta 0:00:01\r",
      "\u001b[K    100% |████████████████████████████████| 143kB 12.4MB/s \n",
      "\u001b[?25h    Complete output from command python setup.py egg_info:\n",
      "    Traceback (most recent call last):\n",
      "      File \"<string>\", line 1, in <module>\n",
      "      File \"/tmp/pip-req-build-_q6ymt5r/setup.py\", line 69\n",
      "        except Exception, e:\n",
      "                        ^\n",
      "    SyntaxError: invalid syntax\n",
      "    \n",
      "    ----------------------------------------\n",
      "\u001b[31mCommand \"python setup.py egg_info\" failed with error code 1 in /tmp/pip-req-build-_q6ymt5r/\u001b[0m\n"
     ]
    }
   ],
   "source": [
    "!pip install https://files.pythonhosted.org/packages/91/2b/d351738aa23631d25ba9fa16129f1b490678c89f67fc29275cf785c0a5f9/pycurl2-7.20.0.tar.gz"
   ]
  },
  {
   "cell_type": "code",
   "execution_count": 14,
   "metadata": {
    "colab": {
     "base_uri": "https://localhost:8080/",
     "height": 649
    },
    "colab_type": "code",
    "id": "fQR7KrSpNnHS",
    "outputId": "796f944a-7d48-4ac6-d05f-4207909e6b5f"
   },
   "outputs": [
    {
     "name": "stdout",
     "output_type": "stream",
     "text": [
      "\r",
      "Reading package lists... 0%\r",
      "\r",
      "Reading package lists... 0%\r",
      "\r",
      "Reading package lists... 0%\r",
      "\r",
      "Reading package lists... 9%\r",
      "\r",
      "Reading package lists... 9%\r",
      "\r",
      "Reading package lists... 9%\r",
      "\r",
      "Reading package lists... 9%\r",
      "\r",
      "Reading package lists... 84%\r",
      "\r",
      "Reading package lists... 84%\r",
      "\r",
      "Reading package lists... 84%\r",
      "\r",
      "Reading package lists... 85%\r",
      "\r",
      "Reading package lists... 85%\r",
      "\r",
      "Reading package lists... 89%\r",
      "\r",
      "Reading package lists... 89%\r",
      "\r",
      "Reading package lists... 89%\r",
      "\r",
      "Reading package lists... 89%\r",
      "\r",
      "Reading package lists... 96%\r",
      "\r",
      "Reading package lists... 96%\r",
      "\r",
      "Reading package lists... 96%\r",
      "\r",
      "Reading package lists... 96%\r",
      "\r",
      "Reading package lists... 96%\r",
      "\r",
      "Reading package lists... 96%\r",
      "\r",
      "Reading package lists... 97%\r",
      "\r",
      "Reading package lists... 97%\r",
      "\r",
      "Reading package lists... 98%\r",
      "\r",
      "Reading package lists... 98%\r",
      "\r",
      "Reading package lists... 98%\r",
      "\r",
      "Reading package lists... 98%\r",
      "\r",
      "Reading package lists... 99%\r",
      "\r",
      "Reading package lists... 99%\r",
      "\r",
      "Reading package lists... 99%\r",
      "\r",
      "Reading package lists... 99%\r",
      "\r",
      "Reading package lists... 99%\r",
      "\r",
      "Reading package lists... 99%\r",
      "\r",
      "Reading package lists... Done\r\n",
      "\r",
      "Building dependency tree... 0%\r",
      "\r",
      "Building dependency tree... 0%\r",
      "\r",
      "Building dependency tree... 50%\r",
      "\r",
      "Building dependency tree... 50%\r",
      "\r",
      "Building dependency tree       \r\n",
      "\r",
      "Reading state information... 0%\r",
      "\r",
      "Reading state information... 0%\r",
      "\r",
      "Reading state information... Done\r\n",
      "build-essential is already the newest version (12.4ubuntu1).\n",
      "dpkg-dev is already the newest version (1.19.0.5ubuntu2.1).\n",
      "dpkg-dev set to manually installed.\n",
      "The following additional packages will be installed:\n",
      "  libfakeroot\n",
      "The following NEW packages will be installed:\n",
      "  fakeroot libfakeroot\n",
      "0 upgraded, 2 newly installed, 0 to remove and 3 not upgraded.\n",
      "Need to get 88.3 kB of archives.\n",
      "After this operation, 373 kB of additional disk space will be used.\n",
      "Get:1 http://archive.ubuntu.com/ubuntu bionic/main amd64 libfakeroot amd64 1.22-2ubuntu1 [25.9 kB]\n",
      "Get:2 http://archive.ubuntu.com/ubuntu bionic/main amd64 fakeroot amd64 1.22-2ubuntu1 [62.3 kB]\n",
      "Fetched 88.3 kB in 1s (175 kB/s)\n",
      "Selecting previously unselected package libfakeroot:amd64.\n",
      "(Reading database ... 22438 files and directories currently installed.)\n",
      "Preparing to unpack .../libfakeroot_1.22-2ubuntu1_amd64.deb ...\n",
      "Unpacking libfakeroot:amd64 (1.22-2ubuntu1) ...\n",
      "Selecting previously unselected package fakeroot.\n",
      "Preparing to unpack .../fakeroot_1.22-2ubuntu1_amd64.deb ...\n",
      "Unpacking fakeroot (1.22-2ubuntu1) ...\n",
      "Processing triggers for libc-bin (2.27-3ubuntu1) ...\n",
      "Setting up libfakeroot:amd64 (1.22-2ubuntu1) ...\n",
      "Setting up fakeroot (1.22-2ubuntu1) ...\n",
      "update-alternatives: using /usr/bin/fakeroot-sysv to provide /usr/bin/fakeroot (fakeroot) in auto mode\n",
      "update-alternatives: warning: skip creation of /usr/share/man/man1/fakeroot.1.gz because associated file /usr/share/man/man1/fakeroot-sysv.1.gz (of link group fakeroot) doesn't exist\n",
      "update-alternatives: warning: skip creation of /usr/share/man/man1/faked.1.gz because associated file /usr/share/man/man1/faked-sysv.1.gz (of link group fakeroot) doesn't exist\n",
      "update-alternatives: warning: skip creation of /usr/share/man/es/man1/fakeroot.1.gz because associated file /usr/share/man/es/man1/fakeroot-sysv.1.gz (of link group fakeroot) doesn't exist\n",
      "update-alternatives: warning: skip creation of /usr/share/man/es/man1/faked.1.gz because associated file /usr/share/man/es/man1/faked-sysv.1.gz (of link group fakeroot) doesn't exist\n",
      "update-alternatives: warning: skip creation of /usr/share/man/fr/man1/fakeroot.1.gz because associated file /usr/share/man/fr/man1/fakeroot-sysv.1.gz (of link group fakeroot) doesn't exist\n",
      "update-alternatives: warning: skip creation of /usr/share/man/fr/man1/faked.1.gz because associated file /usr/share/man/fr/man1/faked-sysv.1.gz (of link group fakeroot) doesn't exist\n",
      "update-alternatives: warning: skip creation of /usr/share/man/sv/man1/fakeroot.1.gz because associated file /usr/share/man/sv/man1/fakeroot-sysv.1.gz (of link group fakeroot) doesn't exist\n",
      "update-alternatives: warning: skip creation of /usr/share/man/sv/man1/faked.1.gz because associated file /usr/share/man/sv/man1/faked-sysv.1.gz (of link group fakeroot) doesn't exist\n",
      "Processing triggers for libc-bin (2.27-3ubuntu1) ...\n"
     ]
    }
   ],
   "source": [
    "!apt-get install build-essential fakeroot dpkg-dev"
   ]
  },
  {
   "cell_type": "code",
   "execution_count": 0,
   "metadata": {
    "colab": {},
    "colab_type": "code",
    "id": "r5yDS9T8PIiL"
   },
   "outputs": [],
   "source": [
    "!mkdir python-pycurl-openssl"
   ]
  },
  {
   "cell_type": "code",
   "execution_count": 17,
   "metadata": {
    "colab": {
     "base_uri": "https://localhost:8080/",
     "height": 34
    },
    "colab_type": "code",
    "id": "0-ec_oJaPMWi",
    "outputId": "fc8d3e24-89c9-4af3-c116-a46ce023ae32"
   },
   "outputs": [
    {
     "name": "stdout",
     "output_type": "stream",
     "text": [
      "/content/tippecanoe/python-pycurl-openssl\n"
     ]
    }
   ],
   "source": [
    "%cd python-pycurl-openssl"
   ]
  },
  {
   "cell_type": "code",
   "execution_count": 26,
   "metadata": {
    "colab": {
     "base_uri": "https://localhost:8080/",
     "height": 850
    },
    "colab_type": "code",
    "id": "1zrVF8mOPaHB",
    "outputId": "33ea2447-a390-49dd-b28c-751f0c14ec3e"
   },
   "outputs": [
    {
     "name": "stdout",
     "output_type": "stream",
     "text": [
      "# See http://help.ubuntu.com/community/UpgradeNotes for how to upgrade to\n",
      "# newer versions of the distribution.\n",
      "deb http://archive.ubuntu.com/ubuntu/ bionic main restricted\n",
      "# deb-src http://archive.ubuntu.com/ubuntu/ bionic main restricted\n",
      "\n",
      "## Major bug fix updates produced after the final release of the\n",
      "## distribution.\n",
      "deb http://archive.ubuntu.com/ubuntu/ bionic-updates main restricted\n",
      "# deb-src http://archive.ubuntu.com/ubuntu/ bionic-updates main restricted\n",
      "\n",
      "## N.B. software from this repository is ENTIRELY UNSUPPORTED by the Ubuntu\n",
      "## team. Also, please note that software in universe WILL NOT receive any\n",
      "## review or updates from the Ubuntu security team.\n",
      "deb http://archive.ubuntu.com/ubuntu/ bionic universe\n",
      "# deb-src http://archive.ubuntu.com/ubuntu/ bionic universe\n",
      "deb http://archive.ubuntu.com/ubuntu/ bionic-updates universe\n",
      "# deb-src http://archive.ubuntu.com/ubuntu/ bionic-updates universe\n",
      "\n",
      "## N.B. software from this repository is ENTIRELY UNSUPPORTED by the Ubuntu\n",
      "## team, and may not be under a free licence. Please satisfy yourself as to\n",
      "## your rights to use the software. Also, please note that software in\n",
      "## multiverse WILL NOT receive any review or updates from the Ubuntu\n",
      "## security team.\n",
      "deb http://archive.ubuntu.com/ubuntu/ bionic multiverse\n",
      "# deb-src http://archive.ubuntu.com/ubuntu/ bionic multiverse\n",
      "deb http://archive.ubuntu.com/ubuntu/ bionic-updates multiverse\n",
      "# deb-src http://archive.ubuntu.com/ubuntu/ bionic-updates multiverse\n",
      "\n",
      "## N.B. software from this repository may not have been tested as\n",
      "## extensively as that contained in the main release, although it includes\n",
      "## newer versions of some applications which may provide useful features.\n",
      "## Also, please note that software in backports WILL NOT receive any review\n",
      "## or updates from the Ubuntu security team.\n",
      "deb http://archive.ubuntu.com/ubuntu/ bionic-backports main restricted universe multiverse\n",
      "# deb-src http://archive.ubuntu.com/ubuntu/ bionic-backports main restricted universe multiverse\n",
      "\n",
      "## Uncomment the following two lines to add software from Canonical's\n",
      "## 'partner' repository.\n",
      "## This software is not part of Ubuntu, but is offered by Canonical and the\n",
      "## respective vendors as a service to Ubuntu users.\n",
      "# deb http://archive.canonical.com/ubuntu bionic partner\n",
      "# deb-src http://archive.canonical.com/ubuntu bionic partner\n",
      "\n",
      "deb http://security.ubuntu.com/ubuntu/ bionic-security main restricted\n",
      "# deb-src http://security.ubuntu.com/ubuntu/ bionic-security main restricted\n",
      "deb http://security.ubuntu.com/ubuntu/ bionic-security universe\n",
      "# deb-src http://security.ubuntu.com/ubuntu/ bionic-security universe\n",
      "deb http://security.ubuntu.com/ubuntu/ bionic-security multiverse\n",
      "# deb-src http://security.ubuntu.com/ubuntu/ bionic-security multiverse\n"
     ]
    }
   ],
   "source": [
    "%cat /etc/apt/sources.list"
   ]
  },
  {
   "cell_type": "code",
   "execution_count": 28,
   "metadata": {
    "colab": {
     "base_uri": "https://localhost:8080/",
     "height": 204
    },
    "colab_type": "code",
    "id": "gWxEw2-JQxwz",
    "outputId": "7bf423c8-a1da-4bec-ff80-0aa7b8bd1bf2"
   },
   "outputs": [
    {
     "name": "stdout",
     "output_type": "stream",
     "text": [
      "# deb-src http://archive.ubuntu.com/ubuntu/ bionic main restricted\n",
      "# deb-src http://archive.ubuntu.com/ubuntu/ bionic-updates main restricted\n",
      "# deb-src http://archive.ubuntu.com/ubuntu/ bionic universe\n",
      "# deb-src http://archive.ubuntu.com/ubuntu/ bionic-updates universe\n",
      "# deb-src http://archive.ubuntu.com/ubuntu/ bionic multiverse\n",
      "# deb-src http://archive.ubuntu.com/ubuntu/ bionic-updates multiverse\n",
      "# deb-src http://archive.ubuntu.com/ubuntu/ bionic-backports main restricted universe multiverse\n",
      "# deb-src http://archive.canonical.com/ubuntu bionic partner\n",
      "# deb-src http://security.ubuntu.com/ubuntu/ bionic-security main restricted\n",
      "# deb-src http://security.ubuntu.com/ubuntu/ bionic-security universe\n",
      "# deb-src http://security.ubuntu.com/ubuntu/ bionic-security multiverse\n"
     ]
    }
   ],
   "source": [
    "cat /etc/apt/sources.list | grep deb-src"
   ]
  },
  {
   "cell_type": "code",
   "execution_count": 0,
   "metadata": {
    "colab": {},
    "colab_type": "code",
    "id": "nl9tRsR4Q97u"
   },
   "outputs": [],
   "source": [
    "!sed -i~orig -e 's/# deb-src/deb-src/' /etc/apt/sources.list"
   ]
  },
  {
   "cell_type": "code",
   "execution_count": 30,
   "metadata": {
    "colab": {
     "base_uri": "https://localhost:8080/",
     "height": 442
    },
    "colab_type": "code",
    "id": "UOOKRGTmRMkB",
    "outputId": "e748c3b4-2b40-4024-9ec4-a8014e57063d"
   },
   "outputs": [
    {
     "name": "stdout",
     "output_type": "stream",
     "text": [
      "\r",
      "0% [Working]\r",
      "            \r",
      "Hit:1 http://ppa.launchpad.net/graphics-drivers/ppa/ubuntu bionic InRelease\n",
      "\r",
      "0% [Connecting to archive.ubuntu.com (91.189.91.23)] [Waiting for headers] [Wai\r",
      "                                                                               \r",
      "Get:2 http://archive.canonical.com/ubuntu bionic InRelease [10.2 kB]\n",
      "\r",
      "                                                                               \r",
      "Hit:3 http://security.ubuntu.com/ubuntu bionic-security InRelease\n",
      "\r",
      "0% [Connecting to archive.ubuntu.com (91.189.91.23)] [Connected to developer.do\r",
      "0% [1 InRelease gpgv 21.3 kB] [Connecting to archive.ubuntu.com (91.189.91.23)]\r",
      "                                                                               \r",
      "Hit:4 http://archive.ubuntu.com/ubuntu bionic InRelease\n",
      "\r",
      "                                                                               \r",
      "0% [1 InRelease gpgv 21.3 kB] [Waiting for headers] [Waiting for headers]\r",
      "                                                                         \r",
      "0% [Waiting for headers] [Waiting for headers]\r",
      "0% [2 InRelease gpgv 10.2 kB] [Waiting for headers] [Waiting for headers]\r",
      "                                                                         \r",
      "Ign:5 https://developer.download.nvidia.com/compute/cuda/repos/ubuntu1710/x86_64  InRelease\n",
      "\r",
      "                                                                         \r",
      "0% [2 InRelease gpgv 10.2 kB] [Waiting for headers]\r",
      "                                                   \r",
      "Hit:6 http://archive.ubuntu.com/ubuntu bionic-updates InRelease\n",
      "\r",
      "0% [2 InRelease gpgv 10.2 kB] [Waiting for headers] [Waiting for headers]\r",
      "                                                                         \r",
      "Hit:7 http://archive.ubuntu.com/ubuntu bionic-backports InRelease\n",
      "\r",
      "                                                                         \r",
      "0% [2 InRelease gpgv 10.2 kB] [Waiting for headers]\r",
      "                                                   \r",
      "Ign:8 https://developer.download.nvidia.com/compute/machine-learning/repos/ubuntu1604/x86_64  InRelease\n",
      "\r",
      "                                                   \r",
      "0% [2 InRelease gpgv 10.2 kB]\r",
      "                             \r",
      "Hit:9 https://developer.download.nvidia.com/compute/cuda/repos/ubuntu1710/x86_64  Release\n",
      "\r",
      "0% [2 InRelease gpgv 10.2 kB]\r",
      "                             \r",
      "0% [Waiting for headers]\r",
      "0% [3 InRelease gpgv 83.2 kB] [Waiting for headers] [Waiting for headers]\r",
      "                                                                         \r",
      "Hit:10 https://developer.download.nvidia.com/compute/machine-learning/repos/ubuntu1604/x86_64  Release\n",
      "\r",
      "                                                                         \r",
      "0% [3 InRelease gpgv 83.2 kB] [Waiting for headers]\r",
      "                                                   \r",
      "Get:11 http://archive.canonical.com/ubuntu bionic/partner Sources [1,906 B]\n",
      "\r",
      "0% [3 InRelease gpgv 83.2 kB] [11 Sources 1,906 B/1,906 B 100%]\r",
      "                                                               \r",
      "0% [3 InRelease gpgv 83.2 kB]\r",
      "0% [11 Sources store 0 B] [3 InRelease gpgv 83.2 kB]\r",
      "                                                    \r",
      "0% [3 InRelease gpgv 83.2 kB]\r",
      "                             \r",
      "0% [Working]\r",
      "0% [4 InRelease gpgv 242 kB]\r",
      "                            \r",
      "Get:12 http://security.ubuntu.com/ubuntu bionic-security/universe Sources [25.5 kB]\n",
      "\r",
      "0% [4 InRelease gpgv 242 kB] [12 Sources 14.3 kB/25.5 kB 56%]\r",
      "                                                             \r",
      "0% [4 InRelease gpgv 242 kB]\r",
      "0% [12 Sources store 0 B] [4 InRelease gpgv 242 kB] [Waiting for headers]\r",
      "                                                                         \r",
      "0% [4 InRelease gpgv 242 kB] [Waiting for headers]\r",
      "                                                  \r",
      "Get:13 http://security.ubuntu.com/ubuntu bionic-security/main Sources [65.5 kB]\n",
      "\r",
      "0% [4 InRelease gpgv 242 kB] [13 Sources 4,137 B/65.5 kB 6%]\r",
      "                                                            \r",
      "0% [4 InRelease gpgv 242 kB]\r",
      "                            \r",
      "Get:14 http://security.ubuntu.com/ubuntu bionic-security/multiverse Sources [1,268 B]\n",
      "Get:15 http://archive.ubuntu.com/ubuntu bionic/universe Sources [11.5 MB]\n",
      "Get:18 http://archive.ubuntu.com/ubuntu bionic/restricted Sources [5,823 B]\n",
      "Get:19 http://archive.ubuntu.com/ubuntu bionic/main Sources [1,063 kB]\n",
      "Get:20 http://archive.ubuntu.com/ubuntu bionic/multiverse Sources [216 kB]\n",
      "Get:21 http://archive.ubuntu.com/ubuntu bionic-updates/universe Sources [123 kB]\n",
      "Get:22 http://archive.ubuntu.com/ubuntu bionic-updates/main Sources [261 kB]\n",
      "Get:23 http://archive.ubuntu.com/ubuntu bionic-updates/multiverse Sources [3,273 B]\n",
      "Get:24 http://archive.ubuntu.com/ubuntu bionic-updates/restricted Sources [2,092 B]\n",
      "Get:25 http://archive.ubuntu.com/ubuntu bionic-backports/universe Sources [1,115 B]\n",
      "Fetched 13.3 MB in 3s (4,344 kB/s)\n",
      "Reading package lists... Done\n"
     ]
    }
   ],
   "source": [
    "!apt-get update"
   ]
  },
  {
   "cell_type": "code",
   "execution_count": 31,
   "metadata": {
    "colab": {
     "base_uri": "https://localhost:8080/",
     "height": 377
    },
    "colab_type": "code",
    "id": "jCMnPQCAPRbr",
    "outputId": "74fe677b-6c78-4297-fc65-89eafd45e060"
   },
   "outputs": [
    {
     "name": "stdout",
     "output_type": "stream",
     "text": [
      "Reading package lists... Done\n",
      "Picking 'pycurl' as source package instead of 'python-pycurl'\n",
      "NOTICE: 'pycurl' packaging is maintained in the 'Git' version control system at:\n",
      "https://anonscm.debian.org/git/python-modules/packages/pycurl.git\n",
      "Please use:\n",
      "git clone https://anonscm.debian.org/git/python-modules/packages/pycurl.git\n",
      "to retrieve the latest (possibly unreleased) updates to the package.\n",
      "Need to get 213 kB of source archives.\n",
      "Get:1 http://archive.ubuntu.com/ubuntu bionic/main pycurl 7.43.0.1-0.2 (dsc) [2,181 B]\n",
      "Get:2 http://archive.ubuntu.com/ubuntu bionic/main pycurl 7.43.0.1-0.2 (tar) [202 kB]\n",
      "Get:3 http://archive.ubuntu.com/ubuntu bionic/main pycurl 7.43.0.1-0.2 (diff) [9,224 B]\n",
      "Fetched 213 kB in 1s (351 kB/s)\n",
      "\u001b[1mdpkg-source: \u001b[0m\u001b[32minfo\u001b[0m: extracting pycurl in pycurl-7.43.0.1\n",
      "\u001b[1mdpkg-source: \u001b[0m\u001b[32minfo\u001b[0m: unpacking pycurl_7.43.0.1.orig.tar.gz\n",
      "\u001b[1mdpkg-source: \u001b[0m\u001b[32minfo\u001b[0m: unpacking pycurl_7.43.0.1-0.2.debian.tar.xz\n",
      "\u001b[1mdpkg-source: \u001b[0m\u001b[32minfo\u001b[0m: applying 10_setup.py.patch\n",
      "\u001b[1mdpkg-source: \u001b[0m\u001b[32minfo\u001b[0m: applying 20_build_doc_for_debian.patch\n",
      "\u001b[1mdpkg-source: \u001b[0m\u001b[32minfo\u001b[0m: applying 30_debianize_tests.patch\n",
      "\u001b[1mdpkg-source: \u001b[0m\u001b[32minfo\u001b[0m: applying 0004-Removed-privacy-breach-in-docs.patch\n",
      "W: Download is performed unsandboxed as root as file 'pycurl_7.43.0.1-0.2.dsc' couldn't be accessed by user '_apt'. - pkgAcquire::Run (13: Permission denied)\n"
     ]
    }
   ],
   "source": [
    "!apt-get source python-pycurl"
   ]
  },
  {
   "cell_type": "code",
   "execution_count": 32,
   "metadata": {
    "colab": {
     "base_uri": "https://localhost:8080/",
     "height": 8758
    },
    "colab_type": "code",
    "id": "2ha-KtL-RPea",
    "outputId": "41c97e4d-7e1e-4fc2-fc51-26de4625c175"
   },
   "outputs": [
    {
     "name": "stdout",
     "output_type": "stream",
     "text": [
      "Reading package lists... Done\n",
      "Picking 'pycurl' as source package instead of 'python-pycurl'\n",
      "Building dependency tree       \n",
      "Reading state information... Done\n",
      "The following NEW packages will be installed:\n",
      "  autoconf automake autopoint autotools-dev bsdmainutils debhelper\n",
      "  dh-autoreconf dh-strip-nondeterminism docutils-common file gettext\n",
      "  gettext-base groff-base intltool-debian libarchive-zip-perl libcroco3\n",
      "  libcurl4-gnutls-dev libevent-2.1-6 libfile-stripnondeterminism-perl\n",
      "  libgcrypt20-dev libgmp-dev libgmpxx4ldbl libgnutls-dane0 libgnutls-openssl27\n",
      "  libgnutls28-dev libgnutlsxx28 libgpg-error-dev libidn2-0-dev libidn2-dev\n",
      "  libjs-jquery libjs-sphinxdoc libjs-underscore libmagic-mgc libmagic1\n",
      "  libp11-kit-dev libpipeline1 libpython-all-dbg libpython-all-dev\n",
      "  libpython-dbg libpython2.7-dbg libpython3-all-dbg libpython3-all-dev\n",
      "  libpython3-dbg libpython3.6-dbg libsigsegv2 libssh2-1 libssh2-1-dev\n",
      "  libtasn1-6-dev libtimedate-perl libtool libunbound2 m4 man-db nettle-dev\n",
      "  po-debconf python-alabaster python-all python-all-dbg python-all-dev\n",
      "  python-babel python-babel-localedata python-bottle python-certifi\n",
      "  python-chardet python-dbg python-docutils python-flaky python-idna\n",
      "  python-imagesize python-jinja2 python-markupsafe python-nose\n",
      "  python-pkg-resources python-pygments python-requests python-roman python-six\n",
      "  python-sphinx python-typing python-tz python-urllib3 python2.7-dbg\n",
      "  python3-all python3-all-dbg python3-all-dev python3-dbg python3-flaky\n",
      "  python3.6-dbg sgml-base sphinx-common xml-core\n",
      "0 upgraded, 91 newly installed, 0 to remove and 3 not upgraded.\n",
      "Need to get 55.0 MB of archives.\n",
      "After this operation, 202 MB of additional disk space will be used.\n",
      "Get:1 http://archive.ubuntu.com/ubuntu bionic/main amd64 bsdmainutils amd64 11.1.2ubuntu1 [181 kB]\n",
      "Get:2 http://archive.ubuntu.com/ubuntu bionic/main amd64 groff-base amd64 1.22.3-10 [1,153 kB]\n",
      "Get:3 http://archive.ubuntu.com/ubuntu bionic/main amd64 libpipeline1 amd64 1.5.0-1 [25.3 kB]\n",
      "Get:4 http://archive.ubuntu.com/ubuntu bionic-updates/main amd64 man-db amd64 2.8.3-2ubuntu0.1 [1,019 kB]\n",
      "Get:5 http://archive.ubuntu.com/ubuntu bionic/main amd64 sgml-base all 1.29 [12.3 kB]\n",
      "Get:6 http://archive.ubuntu.com/ubuntu bionic-updates/main amd64 libmagic-mgc amd64 1:5.32-2ubuntu0.1 [184 kB]\n",
      "Get:7 http://archive.ubuntu.com/ubuntu bionic-updates/main amd64 libmagic1 amd64 1:5.32-2ubuntu0.1 [68.4 kB]\n",
      "Get:8 http://archive.ubuntu.com/ubuntu bionic-updates/main amd64 file amd64 1:5.32-2ubuntu0.1 [22.1 kB]\n",
      "Get:9 http://archive.ubuntu.com/ubuntu bionic/main amd64 gettext-base amd64 0.19.8.1-6 [50.0 kB]\n",
      "Get:10 http://archive.ubuntu.com/ubuntu bionic/main amd64 libsigsegv2 amd64 2.12-1 [14.7 kB]\n",
      "Get:11 http://archive.ubuntu.com/ubuntu bionic/main amd64 m4 amd64 1.4.18-1 [197 kB]\n",
      "Get:12 http://archive.ubuntu.com/ubuntu bionic/main amd64 autoconf all 2.69-11 [322 kB]\n",
      "Get:13 http://archive.ubuntu.com/ubuntu bionic/main amd64 autotools-dev all 20180224.1 [39.6 kB]\n",
      "Get:14 http://archive.ubuntu.com/ubuntu bionic/main amd64 automake all 1:1.15.1-3ubuntu2 [509 kB]\n",
      "Get:15 http://archive.ubuntu.com/ubuntu bionic/main amd64 autopoint all 0.19.8.1-6 [412 kB]\n",
      "Get:16 http://archive.ubuntu.com/ubuntu bionic/main amd64 libtool all 2.4.6-2 [194 kB]\n",
      "Get:17 http://archive.ubuntu.com/ubuntu bionic/main amd64 dh-autoreconf all 17 [15.8 kB]\n",
      "Get:18 http://archive.ubuntu.com/ubuntu bionic-updates/main amd64 libarchive-zip-perl all 1.60-1ubuntu0.1 [84.6 kB]\n",
      "Get:19 http://archive.ubuntu.com/ubuntu bionic/main amd64 libfile-stripnondeterminism-perl all 0.040-1.1~build1 [13.8 kB]\n",
      "Get:20 http://archive.ubuntu.com/ubuntu bionic/main amd64 libtimedate-perl all 2.3000-2 [37.5 kB]\n",
      "Get:21 http://archive.ubuntu.com/ubuntu bionic/main amd64 dh-strip-nondeterminism all 0.040-1.1~build1 [5,208 B]\n",
      "Get:22 http://archive.ubuntu.com/ubuntu bionic/main amd64 libcroco3 amd64 0.6.12-2 [81.3 kB]\n",
      "Get:23 http://archive.ubuntu.com/ubuntu bionic/main amd64 gettext amd64 0.19.8.1-6 [895 kB]\n",
      "Get:24 http://archive.ubuntu.com/ubuntu bionic/main amd64 intltool-debian all 0.35.0+20060710.4 [24.9 kB]\n",
      "Get:25 http://archive.ubuntu.com/ubuntu bionic/main amd64 po-debconf all 1.0.20 [232 kB]\n",
      "Get:26 http://archive.ubuntu.com/ubuntu bionic-updates/main amd64 debhelper all 11.1.6ubuntu2 [902 kB]\n",
      "Get:27 http://archive.ubuntu.com/ubuntu bionic/main amd64 xml-core all 0.18 [21.3 kB]\n",
      "Get:28 http://archive.ubuntu.com/ubuntu bionic/main amd64 docutils-common all 0.14+dfsg-3 [156 kB]\n",
      "Get:29 http://archive.ubuntu.com/ubuntu bionic-updates/main amd64 libcurl4-gnutls-dev amd64 7.58.0-2ubuntu3.5 [293 kB]\n",
      "Get:30 http://archive.ubuntu.com/ubuntu bionic/main amd64 libevent-2.1-6 amd64 2.1.8-stable-4build1 [133 kB]\n",
      "Get:31 http://archive.ubuntu.com/ubuntu bionic/main amd64 libgpg-error-dev amd64 1.27-6 [94.8 kB]\n",
      "Get:32 http://archive.ubuntu.com/ubuntu bionic-updates/main amd64 libgcrypt20-dev amd64 1.8.1-4ubuntu1.1 [468 kB]\n",
      "Get:33 http://archive.ubuntu.com/ubuntu bionic/main amd64 libgmpxx4ldbl amd64 2:6.1.2+dfsg-2 [8,964 B]\n",
      "Get:34 http://archive.ubuntu.com/ubuntu bionic/main amd64 libgmp-dev amd64 2:6.1.2+dfsg-2 [316 kB]\n",
      "Get:35 http://archive.ubuntu.com/ubuntu bionic/main amd64 libgnutls-openssl27 amd64 3.5.18-1ubuntu1 [21.1 kB]\n",
      "Get:36 http://archive.ubuntu.com/ubuntu bionic/main amd64 libgnutlsxx28 amd64 3.5.18-1ubuntu1 [13.7 kB]\n",
      "Get:37 http://archive.ubuntu.com/ubuntu bionic-updates/main amd64 libunbound2 amd64 1.6.7-1ubuntu2.2 [266 kB]\n",
      "Get:38 http://archive.ubuntu.com/ubuntu bionic/main amd64 libgnutls-dane0 amd64 3.5.18-1ubuntu1 [21.0 kB]\n",
      "Get:39 http://archive.ubuntu.com/ubuntu bionic/main amd64 nettle-dev amd64 3.4-1 [951 kB]\n",
      "Get:40 http://archive.ubuntu.com/ubuntu bionic/main amd64 libtasn1-6-dev amd64 4.13-2 [86.8 kB]\n",
      "Get:41 http://archive.ubuntu.com/ubuntu bionic/main amd64 libp11-kit-dev amd64 0.23.9-2 [60.9 kB]\n",
      "Get:42 http://archive.ubuntu.com/ubuntu bionic/main amd64 libidn2-dev amd64 2.0.4-1.1build2 [61.3 kB]\n",
      "Get:43 http://archive.ubuntu.com/ubuntu bionic/main amd64 libidn2-0-dev amd64 2.0.4-1.1build2 [2,844 B]\n",
      "Get:44 http://archive.ubuntu.com/ubuntu bionic/main amd64 libgnutls28-dev amd64 3.5.18-1ubuntu1 [659 kB]\n",
      "Get:45 http://archive.ubuntu.com/ubuntu bionic/main amd64 libjs-jquery all 3.2.1-1 [152 kB]\n",
      "Get:46 http://archive.ubuntu.com/ubuntu bionic/main amd64 libjs-underscore all 1.8.3~dfsg-1 [59.9 kB]\n",
      "Get:47 http://archive.ubuntu.com/ubuntu bionic/main amd64 libjs-sphinxdoc all 1.6.7-1ubuntu1 [85.6 kB]\n",
      "Get:48 http://archive.ubuntu.com/ubuntu bionic/main amd64 libpython-all-dev amd64 2.7.15~rc1-1 [1,092 B]\n",
      "Get:49 http://archive.ubuntu.com/ubuntu bionic-updates/main amd64 libpython3-all-dev amd64 3.6.5-3ubuntu1 [1,096 B]\n",
      "Get:50 http://archive.ubuntu.com/ubuntu bionic/universe amd64 libssh2-1 amd64 1.8.0-1 [73.2 kB]\n",
      "Get:51 http://archive.ubuntu.com/ubuntu bionic/universe amd64 libssh2-1-dev amd64 1.8.0-1 [243 kB]\n",
      "Get:52 http://archive.ubuntu.com/ubuntu bionic/main amd64 python-all amd64 2.7.15~rc1-1 [1,076 B]\n",
      "Get:53 http://archive.ubuntu.com/ubuntu bionic/main amd64 python-all-dev amd64 2.7.15~rc1-1 [1,100 B]\n",
      "Get:54 http://archive.ubuntu.com/ubuntu bionic/main amd64 python-babel-localedata all 2.4.0+dfsg.1-2ubuntu1 [3,412 kB]\n",
      "Get:55 http://archive.ubuntu.com/ubuntu bionic/main amd64 python-pkg-resources all 39.0.1-2 [128 kB]\n",
      "Get:56 http://archive.ubuntu.com/ubuntu bionic/main amd64 python-tz all 2018.3-2 [31.6 kB]\n",
      "Get:57 http://archive.ubuntu.com/ubuntu bionic/main amd64 python-babel all 2.4.0+dfsg.1-2ubuntu1 [80.5 kB]\n",
      "Get:58 http://archive.ubuntu.com/ubuntu bionic/universe amd64 python-bottle all 0.12.13-1 [41.3 kB]\n",
      "Get:59 http://archive.ubuntu.com/ubuntu bionic/main amd64 python-certifi all 2018.1.18-2 [144 kB]\n",
      "Get:60 http://archive.ubuntu.com/ubuntu bionic/main amd64 python-chardet all 3.0.4-1 [80.3 kB]\n",
      "Get:61 http://archive.ubuntu.com/ubuntu bionic/main amd64 python-roman all 2.0.0-3 [8,548 B]\n",
      "Get:62 http://archive.ubuntu.com/ubuntu bionic/main amd64 python-docutils all 0.14+dfsg-3 [365 kB]\n",
      "Get:63 http://archive.ubuntu.com/ubuntu bionic/universe amd64 python-flaky all 3.3.0-1 [17.2 kB]\n",
      "Get:64 http://archive.ubuntu.com/ubuntu bionic/main amd64 python-idna all 2.6-1 [32.4 kB]\n",
      "Get:65 http://archive.ubuntu.com/ubuntu bionic/universe amd64 python-imagesize all 0.7.1-1 [3,854 B]\n",
      "Get:66 http://archive.ubuntu.com/ubuntu bionic/main amd64 python-markupsafe amd64 1.0-1build1 [13.0 kB]\n",
      "Get:67 http://archive.ubuntu.com/ubuntu bionic/main amd64 python-jinja2 all 2.10-1 [94.6 kB]\n",
      "Get:68 http://archive.ubuntu.com/ubuntu bionic/universe amd64 python-nose all 1.3.7-3 [116 kB]\n",
      "Get:69 http://archive.ubuntu.com/ubuntu bionic/main amd64 python-pygments all 2.2.0+dfsg-1 [577 kB]\n",
      "Get:70 http://archive.ubuntu.com/ubuntu bionic/main amd64 python-six all 1.11.0-2 [11.3 kB]\n",
      "Get:71 http://archive.ubuntu.com/ubuntu bionic/main amd64 python-urllib3 all 1.22-1 [85.1 kB]\n",
      "Get:72 http://archive.ubuntu.com/ubuntu bionic-updates/main amd64 python-requests all 2.18.4-2ubuntu0.1 [58.5 kB]\n",
      "Get:73 http://archive.ubuntu.com/ubuntu bionic/universe amd64 python-alabaster all 0.7.8-1 [18.4 kB]\n",
      "Get:74 http://archive.ubuntu.com/ubuntu bionic/universe amd64 python-typing all 3.6.2-1 [22.2 kB]\n",
      "Get:75 http://archive.ubuntu.com/ubuntu bionic/main amd64 sphinx-common all 1.6.7-1ubuntu1 [420 kB]\n",
      "Get:76 http://archive.ubuntu.com/ubuntu bionic/universe amd64 python-sphinx all 1.6.7-1ubuntu1 [461 kB]\n",
      "Get:77 http://archive.ubuntu.com/ubuntu bionic-updates/main amd64 python3-all amd64 3.6.5-3ubuntu1 [1,092 B]\n",
      "Get:78 http://archive.ubuntu.com/ubuntu bionic-updates/main amd64 libpython3.6-dbg amd64 3.6.6-1~18.04 [10.8 MB]\n",
      "Get:79 http://archive.ubuntu.com/ubuntu bionic-updates/main amd64 libpython3-dbg amd64 3.6.5-3ubuntu1 [7,236 B]\n",
      "Get:80 http://archive.ubuntu.com/ubuntu bionic-updates/main amd64 libpython3-all-dbg amd64 3.6.5-3ubuntu1 [1,092 B]\n",
      "Get:81 http://archive.ubuntu.com/ubuntu bionic-updates/main amd64 python3.6-dbg amd64 3.6.6-1~18.04 [14.9 MB]\n",
      "Get:82 http://archive.ubuntu.com/ubuntu bionic-updates/main amd64 python3-dbg amd64 3.6.5-3ubuntu1 [1,332 B]\n",
      "Get:83 http://archive.ubuntu.com/ubuntu bionic-updates/main amd64 python3-all-dbg amd64 3.6.5-3ubuntu1 [1,096 B]\n",
      "Get:84 http://archive.ubuntu.com/ubuntu bionic-updates/main amd64 python3-all-dev amd64 3.6.5-3ubuntu1 [1,100 B]\n",
      "Get:85 http://archive.ubuntu.com/ubuntu bionic/universe amd64 python3-flaky all 3.3.0-1 [19.7 kB]\n",
      "Get:86 http://archive.ubuntu.com/ubuntu bionic/main amd64 libpython2.7-dbg amd64 2.7.15~rc1-1 [4,640 kB]\n",
      "Get:87 http://archive.ubuntu.com/ubuntu bionic/main amd64 libpython-dbg amd64 2.7.15~rc1-1 [7,632 B]\n",
      "Get:88 http://archive.ubuntu.com/ubuntu bionic/main amd64 libpython-all-dbg amd64 2.7.15~rc1-1 [1,212 B]\n",
      "Get:89 http://archive.ubuntu.com/ubuntu bionic/main amd64 python2.7-dbg amd64 2.7.15~rc1-1 [7,441 kB]\n",
      "Get:90 http://archive.ubuntu.com/ubuntu bionic/main amd64 python-dbg amd64 2.7.15~rc1-1 [1,340 B]\n",
      "Get:91 http://archive.ubuntu.com/ubuntu bionic/main amd64 python-all-dbg amd64 2.7.15~rc1-1 [1,096 B]\n",
      "Fetched 55.0 MB in 4s (13.7 MB/s)\n",
      "Extracting templates from packages: 100%\n",
      "Preconfiguring packages ...\n",
      "Selecting previously unselected package bsdmainutils.\n",
      "(Reading database ... 22487 files and directories currently installed.)\n",
      "Preparing to unpack .../00-bsdmainutils_11.1.2ubuntu1_amd64.deb ...\n",
      "Unpacking bsdmainutils (11.1.2ubuntu1) ...\n",
      "Selecting previously unselected package groff-base.\n",
      "Preparing to unpack .../01-groff-base_1.22.3-10_amd64.deb ...\n",
      "Unpacking groff-base (1.22.3-10) ...\n",
      "Selecting previously unselected package libpipeline1:amd64.\n",
      "Preparing to unpack .../02-libpipeline1_1.5.0-1_amd64.deb ...\n",
      "Unpacking libpipeline1:amd64 (1.5.0-1) ...\n",
      "Selecting previously unselected package man-db.\n",
      "Preparing to unpack .../03-man-db_2.8.3-2ubuntu0.1_amd64.deb ...\n",
      "Unpacking man-db (2.8.3-2ubuntu0.1) ...\n",
      "Selecting previously unselected package sgml-base.\n",
      "Preparing to unpack .../04-sgml-base_1.29_all.deb ...\n",
      "Unpacking sgml-base (1.29) ...\n",
      "Selecting previously unselected package libmagic-mgc.\n",
      "Preparing to unpack .../05-libmagic-mgc_1%3a5.32-2ubuntu0.1_amd64.deb ...\n",
      "Unpacking libmagic-mgc (1:5.32-2ubuntu0.1) ...\n",
      "Selecting previously unselected package libmagic1:amd64.\n",
      "Preparing to unpack .../06-libmagic1_1%3a5.32-2ubuntu0.1_amd64.deb ...\n",
      "Unpacking libmagic1:amd64 (1:5.32-2ubuntu0.1) ...\n",
      "Selecting previously unselected package file.\n",
      "Preparing to unpack .../07-file_1%3a5.32-2ubuntu0.1_amd64.deb ...\n",
      "Unpacking file (1:5.32-2ubuntu0.1) ...\n",
      "Selecting previously unselected package gettext-base.\n",
      "Preparing to unpack .../08-gettext-base_0.19.8.1-6_amd64.deb ...\n",
      "Unpacking gettext-base (0.19.8.1-6) ...\n",
      "Selecting previously unselected package libsigsegv2:amd64.\n",
      "Preparing to unpack .../09-libsigsegv2_2.12-1_amd64.deb ...\n",
      "Unpacking libsigsegv2:amd64 (2.12-1) ...\n",
      "Selecting previously unselected package m4.\n",
      "Preparing to unpack .../10-m4_1.4.18-1_amd64.deb ...\n",
      "Unpacking m4 (1.4.18-1) ...\n",
      "Selecting previously unselected package autoconf.\n",
      "Preparing to unpack .../11-autoconf_2.69-11_all.deb ...\n",
      "Unpacking autoconf (2.69-11) ...\n",
      "Selecting previously unselected package autotools-dev.\n",
      "Preparing to unpack .../12-autotools-dev_20180224.1_all.deb ...\n",
      "Unpacking autotools-dev (20180224.1) ...\n",
      "Selecting previously unselected package automake.\n",
      "Preparing to unpack .../13-automake_1%3a1.15.1-3ubuntu2_all.deb ...\n",
      "Unpacking automake (1:1.15.1-3ubuntu2) ...\n",
      "Selecting previously unselected package autopoint.\n",
      "Preparing to unpack .../14-autopoint_0.19.8.1-6_all.deb ...\n",
      "Unpacking autopoint (0.19.8.1-6) ...\n",
      "Selecting previously unselected package libtool.\n",
      "Preparing to unpack .../15-libtool_2.4.6-2_all.deb ...\n",
      "Unpacking libtool (2.4.6-2) ...\n",
      "Selecting previously unselected package dh-autoreconf.\n",
      "Preparing to unpack .../16-dh-autoreconf_17_all.deb ...\n",
      "Unpacking dh-autoreconf (17) ...\n",
      "Selecting previously unselected package libarchive-zip-perl.\n",
      "Preparing to unpack .../17-libarchive-zip-perl_1.60-1ubuntu0.1_all.deb ...\n",
      "Unpacking libarchive-zip-perl (1.60-1ubuntu0.1) ...\n",
      "Selecting previously unselected package libfile-stripnondeterminism-perl.\n",
      "Preparing to unpack .../18-libfile-stripnondeterminism-perl_0.040-1.1~build1_all.deb ...\n",
      "Unpacking libfile-stripnondeterminism-perl (0.040-1.1~build1) ...\n",
      "Selecting previously unselected package libtimedate-perl.\n",
      "Preparing to unpack .../19-libtimedate-perl_2.3000-2_all.deb ...\n",
      "Unpacking libtimedate-perl (2.3000-2) ...\n",
      "Selecting previously unselected package dh-strip-nondeterminism.\n",
      "Preparing to unpack .../20-dh-strip-nondeterminism_0.040-1.1~build1_all.deb ...\n",
      "Unpacking dh-strip-nondeterminism (0.040-1.1~build1) ...\n",
      "Selecting previously unselected package libcroco3:amd64.\n",
      "Preparing to unpack .../21-libcroco3_0.6.12-2_amd64.deb ...\n",
      "Unpacking libcroco3:amd64 (0.6.12-2) ...\n",
      "Selecting previously unselected package gettext.\n",
      "Preparing to unpack .../22-gettext_0.19.8.1-6_amd64.deb ...\n",
      "Unpacking gettext (0.19.8.1-6) ...\n",
      "Selecting previously unselected package intltool-debian.\n",
      "Preparing to unpack .../23-intltool-debian_0.35.0+20060710.4_all.deb ...\n",
      "Unpacking intltool-debian (0.35.0+20060710.4) ...\n",
      "Selecting previously unselected package po-debconf.\n",
      "Preparing to unpack .../24-po-debconf_1.0.20_all.deb ...\n",
      "Unpacking po-debconf (1.0.20) ...\n",
      "Selecting previously unselected package debhelper.\n",
      "Preparing to unpack .../25-debhelper_11.1.6ubuntu2_all.deb ...\n",
      "Unpacking debhelper (11.1.6ubuntu2) ...\n",
      "Selecting previously unselected package xml-core.\n",
      "Preparing to unpack .../26-xml-core_0.18_all.deb ...\n",
      "Unpacking xml-core (0.18) ...\n",
      "Selecting previously unselected package docutils-common.\n",
      "Preparing to unpack .../27-docutils-common_0.14+dfsg-3_all.deb ...\n",
      "Unpacking docutils-common (0.14+dfsg-3) ...\n",
      "Selecting previously unselected package libcurl4-gnutls-dev:amd64.\n",
      "Preparing to unpack .../28-libcurl4-gnutls-dev_7.58.0-2ubuntu3.5_amd64.deb ...\n",
      "Unpacking libcurl4-gnutls-dev:amd64 (7.58.0-2ubuntu3.5) ...\n",
      "Selecting previously unselected package libevent-2.1-6:amd64.\n",
      "Preparing to unpack .../29-libevent-2.1-6_2.1.8-stable-4build1_amd64.deb ...\n",
      "Unpacking libevent-2.1-6:amd64 (2.1.8-stable-4build1) ...\n",
      "Selecting previously unselected package libgpg-error-dev.\n",
      "Preparing to unpack .../30-libgpg-error-dev_1.27-6_amd64.deb ...\n",
      "Unpacking libgpg-error-dev (1.27-6) ...\n",
      "Selecting previously unselected package libgcrypt20-dev.\n",
      "Preparing to unpack .../31-libgcrypt20-dev_1.8.1-4ubuntu1.1_amd64.deb ...\n",
      "Unpacking libgcrypt20-dev (1.8.1-4ubuntu1.1) ...\n",
      "Selecting previously unselected package libgmpxx4ldbl:amd64.\n",
      "Preparing to unpack .../32-libgmpxx4ldbl_2%3a6.1.2+dfsg-2_amd64.deb ...\n",
      "Unpacking libgmpxx4ldbl:amd64 (2:6.1.2+dfsg-2) ...\n",
      "Selecting previously unselected package libgmp-dev:amd64.\n",
      "Preparing to unpack .../33-libgmp-dev_2%3a6.1.2+dfsg-2_amd64.deb ...\n",
      "Unpacking libgmp-dev:amd64 (2:6.1.2+dfsg-2) ...\n",
      "Selecting previously unselected package libgnutls-openssl27:amd64.\n",
      "Preparing to unpack .../34-libgnutls-openssl27_3.5.18-1ubuntu1_amd64.deb ...\n",
      "Unpacking libgnutls-openssl27:amd64 (3.5.18-1ubuntu1) ...\n",
      "Selecting previously unselected package libgnutlsxx28:amd64.\n",
      "Preparing to unpack .../35-libgnutlsxx28_3.5.18-1ubuntu1_amd64.deb ...\n",
      "Unpacking libgnutlsxx28:amd64 (3.5.18-1ubuntu1) ...\n",
      "Selecting previously unselected package libunbound2:amd64.\n",
      "Preparing to unpack .../36-libunbound2_1.6.7-1ubuntu2.2_amd64.deb ...\n",
      "Unpacking libunbound2:amd64 (1.6.7-1ubuntu2.2) ...\n",
      "Selecting previously unselected package libgnutls-dane0:amd64.\n",
      "Preparing to unpack .../37-libgnutls-dane0_3.5.18-1ubuntu1_amd64.deb ...\n",
      "Unpacking libgnutls-dane0:amd64 (3.5.18-1ubuntu1) ...\n",
      "Selecting previously unselected package nettle-dev:amd64.\n",
      "Preparing to unpack .../38-nettle-dev_3.4-1_amd64.deb ...\n",
      "Unpacking nettle-dev:amd64 (3.4-1) ...\n",
      "Selecting previously unselected package libtasn1-6-dev:amd64.\n",
      "Preparing to unpack .../39-libtasn1-6-dev_4.13-2_amd64.deb ...\n",
      "Unpacking libtasn1-6-dev:amd64 (4.13-2) ...\n",
      "Selecting previously unselected package libp11-kit-dev:amd64.\n",
      "Preparing to unpack .../40-libp11-kit-dev_0.23.9-2_amd64.deb ...\n",
      "Unpacking libp11-kit-dev:amd64 (0.23.9-2) ...\n",
      "Selecting previously unselected package libidn2-dev:amd64.\n",
      "Preparing to unpack .../41-libidn2-dev_2.0.4-1.1build2_amd64.deb ...\n",
      "Unpacking libidn2-dev:amd64 (2.0.4-1.1build2) ...\n",
      "Selecting previously unselected package libidn2-0-dev.\n",
      "Preparing to unpack .../42-libidn2-0-dev_2.0.4-1.1build2_amd64.deb ...\n",
      "Unpacking libidn2-0-dev (2.0.4-1.1build2) ...\n",
      "Selecting previously unselected package libgnutls28-dev:amd64.\n",
      "Preparing to unpack .../43-libgnutls28-dev_3.5.18-1ubuntu1_amd64.deb ...\n",
      "Unpacking libgnutls28-dev:amd64 (3.5.18-1ubuntu1) ...\n",
      "Selecting previously unselected package libjs-jquery.\n",
      "Preparing to unpack .../44-libjs-jquery_3.2.1-1_all.deb ...\n",
      "Unpacking libjs-jquery (3.2.1-1) ...\n",
      "Selecting previously unselected package libjs-underscore.\n",
      "Preparing to unpack .../45-libjs-underscore_1.8.3~dfsg-1_all.deb ...\n",
      "Unpacking libjs-underscore (1.8.3~dfsg-1) ...\n",
      "Selecting previously unselected package libjs-sphinxdoc.\n",
      "Preparing to unpack .../46-libjs-sphinxdoc_1.6.7-1ubuntu1_all.deb ...\n",
      "Unpacking libjs-sphinxdoc (1.6.7-1ubuntu1) ...\n",
      "Selecting previously unselected package libpython-all-dev:amd64.\n",
      "Preparing to unpack .../47-libpython-all-dev_2.7.15~rc1-1_amd64.deb ...\n",
      "Unpacking libpython-all-dev:amd64 (2.7.15~rc1-1) ...\n",
      "Selecting previously unselected package libpython3-all-dev:amd64.\n",
      "Preparing to unpack .../48-libpython3-all-dev_3.6.5-3ubuntu1_amd64.deb ...\n",
      "Unpacking libpython3-all-dev:amd64 (3.6.5-3ubuntu1) ...\n",
      "Selecting previously unselected package libssh2-1:amd64.\n",
      "Preparing to unpack .../49-libssh2-1_1.8.0-1_amd64.deb ...\n",
      "Unpacking libssh2-1:amd64 (1.8.0-1) ...\n",
      "Selecting previously unselected package libssh2-1-dev:amd64.\n",
      "Preparing to unpack .../50-libssh2-1-dev_1.8.0-1_amd64.deb ...\n",
      "Unpacking libssh2-1-dev:amd64 (1.8.0-1) ...\n",
      "Selecting previously unselected package python-all.\n",
      "Preparing to unpack .../51-python-all_2.7.15~rc1-1_amd64.deb ...\n",
      "Unpacking python-all (2.7.15~rc1-1) ...\n",
      "Selecting previously unselected package python-all-dev.\n",
      "Preparing to unpack .../52-python-all-dev_2.7.15~rc1-1_amd64.deb ...\n",
      "Unpacking python-all-dev (2.7.15~rc1-1) ...\n",
      "Selecting previously unselected package python-babel-localedata.\n",
      "Preparing to unpack .../53-python-babel-localedata_2.4.0+dfsg.1-2ubuntu1_all.deb ...\n",
      "Unpacking python-babel-localedata (2.4.0+dfsg.1-2ubuntu1) ...\n",
      "Selecting previously unselected package python-pkg-resources.\n",
      "Preparing to unpack .../54-python-pkg-resources_39.0.1-2_all.deb ...\n",
      "Unpacking python-pkg-resources (39.0.1-2) ...\n",
      "Selecting previously unselected package python-tz.\n",
      "Preparing to unpack .../55-python-tz_2018.3-2_all.deb ...\n",
      "Unpacking python-tz (2018.3-2) ...\n",
      "Selecting previously unselected package python-babel.\n",
      "Preparing to unpack .../56-python-babel_2.4.0+dfsg.1-2ubuntu1_all.deb ...\n",
      "Unpacking python-babel (2.4.0+dfsg.1-2ubuntu1) ...\n",
      "Selecting previously unselected package python-bottle.\n",
      "Preparing to unpack .../57-python-bottle_0.12.13-1_all.deb ...\n",
      "Unpacking python-bottle (0.12.13-1) ...\n",
      "Selecting previously unselected package python-certifi.\n",
      "Preparing to unpack .../58-python-certifi_2018.1.18-2_all.deb ...\n",
      "Unpacking python-certifi (2018.1.18-2) ...\n",
      "Selecting previously unselected package python-chardet.\n",
      "Preparing to unpack .../59-python-chardet_3.0.4-1_all.deb ...\n",
      "Unpacking python-chardet (3.0.4-1) ...\n",
      "Selecting previously unselected package python-roman.\n",
      "Preparing to unpack .../60-python-roman_2.0.0-3_all.deb ...\n",
      "Unpacking python-roman (2.0.0-3) ...\n",
      "Selecting previously unselected package python-docutils.\n",
      "Preparing to unpack .../61-python-docutils_0.14+dfsg-3_all.deb ...\n",
      "Unpacking python-docutils (0.14+dfsg-3) ...\n",
      "Selecting previously unselected package python-flaky.\n",
      "Preparing to unpack .../62-python-flaky_3.3.0-1_all.deb ...\n",
      "Unpacking python-flaky (3.3.0-1) ...\n",
      "Selecting previously unselected package python-idna.\n",
      "Preparing to unpack .../63-python-idna_2.6-1_all.deb ...\n",
      "Unpacking python-idna (2.6-1) ...\n",
      "Selecting previously unselected package python-imagesize.\n",
      "Preparing to unpack .../64-python-imagesize_0.7.1-1_all.deb ...\n",
      "Unpacking python-imagesize (0.7.1-1) ...\n",
      "Selecting previously unselected package python-markupsafe.\n",
      "Preparing to unpack .../65-python-markupsafe_1.0-1build1_amd64.deb ...\n",
      "Unpacking python-markupsafe (1.0-1build1) ...\n",
      "Selecting previously unselected package python-jinja2.\n",
      "Preparing to unpack .../66-python-jinja2_2.10-1_all.deb ...\n",
      "Unpacking python-jinja2 (2.10-1) ...\n",
      "Selecting previously unselected package python-nose.\n",
      "Preparing to unpack .../67-python-nose_1.3.7-3_all.deb ...\n",
      "Unpacking python-nose (1.3.7-3) ...\n",
      "Selecting previously unselected package python-pygments.\n",
      "Preparing to unpack .../68-python-pygments_2.2.0+dfsg-1_all.deb ...\n",
      "Unpacking python-pygments (2.2.0+dfsg-1) ...\n",
      "Selecting previously unselected package python-six.\n",
      "Preparing to unpack .../69-python-six_1.11.0-2_all.deb ...\n",
      "Unpacking python-six (1.11.0-2) ...\n",
      "Selecting previously unselected package python-urllib3.\n",
      "Preparing to unpack .../70-python-urllib3_1.22-1_all.deb ...\n",
      "Unpacking python-urllib3 (1.22-1) ...\n",
      "Selecting previously unselected package python-requests.\n",
      "Preparing to unpack .../71-python-requests_2.18.4-2ubuntu0.1_all.deb ...\n",
      "Unpacking python-requests (2.18.4-2ubuntu0.1) ...\n",
      "Selecting previously unselected package python-alabaster.\n",
      "Preparing to unpack .../72-python-alabaster_0.7.8-1_all.deb ...\n",
      "Unpacking python-alabaster (0.7.8-1) ...\n",
      "Selecting previously unselected package python-typing.\n",
      "Preparing to unpack .../73-python-typing_3.6.2-1_all.deb ...\n",
      "Unpacking python-typing (3.6.2-1) ...\n",
      "Selecting previously unselected package sphinx-common.\n",
      "Preparing to unpack .../74-sphinx-common_1.6.7-1ubuntu1_all.deb ...\n",
      "Unpacking sphinx-common (1.6.7-1ubuntu1) ...\n",
      "Selecting previously unselected package python-sphinx.\n",
      "Preparing to unpack .../75-python-sphinx_1.6.7-1ubuntu1_all.deb ...\n",
      "Unpacking python-sphinx (1.6.7-1ubuntu1) ...\n",
      "Selecting previously unselected package python3-all.\n",
      "Preparing to unpack .../76-python3-all_3.6.5-3ubuntu1_amd64.deb ...\n",
      "Unpacking python3-all (3.6.5-3ubuntu1) ...\n",
      "Selecting previously unselected package libpython3.6-dbg:amd64.\n",
      "Preparing to unpack .../77-libpython3.6-dbg_3.6.6-1~18.04_amd64.deb ...\n",
      "Unpacking libpython3.6-dbg:amd64 (3.6.6-1~18.04) ...\n",
      "Selecting previously unselected package libpython3-dbg:amd64.\n",
      "Preparing to unpack .../78-libpython3-dbg_3.6.5-3ubuntu1_amd64.deb ...\n",
      "Unpacking libpython3-dbg:amd64 (3.6.5-3ubuntu1) ...\n",
      "Selecting previously unselected package libpython3-all-dbg:amd64.\n",
      "Preparing to unpack .../79-libpython3-all-dbg_3.6.5-3ubuntu1_amd64.deb ...\n",
      "Unpacking libpython3-all-dbg:amd64 (3.6.5-3ubuntu1) ...\n",
      "Selecting previously unselected package python3.6-dbg.\n",
      "Preparing to unpack .../80-python3.6-dbg_3.6.6-1~18.04_amd64.deb ...\n",
      "Unpacking python3.6-dbg (3.6.6-1~18.04) ...\n",
      "Selecting previously unselected package python3-dbg.\n",
      "Preparing to unpack .../81-python3-dbg_3.6.5-3ubuntu1_amd64.deb ...\n",
      "Unpacking python3-dbg (3.6.5-3ubuntu1) ...\n",
      "Selecting previously unselected package python3-all-dbg.\n",
      "Preparing to unpack .../82-python3-all-dbg_3.6.5-3ubuntu1_amd64.deb ...\n",
      "Unpacking python3-all-dbg (3.6.5-3ubuntu1) ...\n",
      "Selecting previously unselected package python3-all-dev.\n",
      "Preparing to unpack .../83-python3-all-dev_3.6.5-3ubuntu1_amd64.deb ...\n",
      "Unpacking python3-all-dev (3.6.5-3ubuntu1) ...\n",
      "Selecting previously unselected package python3-flaky.\n",
      "Preparing to unpack .../84-python3-flaky_3.3.0-1_all.deb ...\n",
      "Unpacking python3-flaky (3.3.0-1) ...\n",
      "Selecting previously unselected package libpython2.7-dbg:amd64.\n",
      "Preparing to unpack .../85-libpython2.7-dbg_2.7.15~rc1-1_amd64.deb ...\n",
      "Unpacking libpython2.7-dbg:amd64 (2.7.15~rc1-1) ...\n",
      "Selecting previously unselected package libpython-dbg:amd64.\n",
      "Preparing to unpack .../86-libpython-dbg_2.7.15~rc1-1_amd64.deb ...\n",
      "Unpacking libpython-dbg:amd64 (2.7.15~rc1-1) ...\n",
      "Selecting previously unselected package libpython-all-dbg:amd64.\n",
      "Preparing to unpack .../87-libpython-all-dbg_2.7.15~rc1-1_amd64.deb ...\n",
      "Unpacking libpython-all-dbg:amd64 (2.7.15~rc1-1) ...\n",
      "Selecting previously unselected package python2.7-dbg.\n",
      "Preparing to unpack .../88-python2.7-dbg_2.7.15~rc1-1_amd64.deb ...\n",
      "Unpacking python2.7-dbg (2.7.15~rc1-1) ...\n",
      "Selecting previously unselected package python-dbg.\n",
      "Preparing to unpack .../89-python-dbg_2.7.15~rc1-1_amd64.deb ...\n",
      "Unpacking python-dbg (2.7.15~rc1-1) ...\n",
      "Selecting previously unselected package python-all-dbg.\n",
      "Preparing to unpack .../90-python-all-dbg_2.7.15~rc1-1_amd64.deb ...\n",
      "Unpacking python-all-dbg (2.7.15~rc1-1) ...\n",
      "Setting up python-idna (2.6-1) ...\n",
      "Setting up libjs-jquery (3.2.1-1) ...\n",
      "Setting up libevent-2.1-6:amd64 (2.1.8-stable-4build1) ...\n",
      "Setting up libarchive-zip-perl (1.60-1ubuntu0.1) ...\n",
      "Setting up libjs-underscore (1.8.3~dfsg-1) ...\n",
      "Processing triggers for mime-support (3.60ubuntu1) ...\n",
      "Setting up python-flaky (3.3.0-1) ...\n",
      "Setting up libtimedate-perl (2.3000-2) ...\n",
      "Setting up libsigsegv2:amd64 (2.12-1) ...\n",
      "Setting up groff-base (1.22.3-10) ...\n",
      "Setting up libgpg-error-dev (1.27-6) ...\n",
      "Setting up python-certifi (2018.1.18-2) ...\n",
      "Setting up python-tz (2018.3-2) ...\n",
      "Setting up libpython-all-dev:amd64 (2.7.15~rc1-1) ...\n",
      "Setting up python-imagesize (0.7.1-1) ...\n",
      "Setting up libjs-sphinxdoc (1.6.7-1ubuntu1) ...\n",
      "Setting up libp11-kit-dev:amd64 (0.23.9-2) ...\n",
      "Setting up libtasn1-6-dev:amd64 (4.13-2) ...\n",
      "Setting up gettext-base (0.19.8.1-6) ...\n",
      "Setting up libpython2.7-dbg:amd64 (2.7.15~rc1-1) ...\n",
      "Setting up libpipeline1:amd64 (1.5.0-1) ...\n",
      "Setting up python-alabaster (0.7.8-1) ...\n",
      "Setting up m4 (1.4.18-1) ...\n",
      "Setting up sgml-base (1.29) ...\n",
      "Setting up python-pkg-resources (39.0.1-2) ...\n",
      "Setting up python-roman (2.0.0-3) ...\n",
      "Setting up python-markupsafe (1.0-1build1) ...\n",
      "Setting up libmagic-mgc (1:5.32-2ubuntu0.1) ...\n",
      "Setting up python3-flaky (3.3.0-1) ...\n",
      "Setting up libmagic1:amd64 (1:5.32-2ubuntu0.1) ...\n",
      "Setting up libcroco3:amd64 (0.6.12-2) ...\n",
      "Setting up python-bottle (0.12.13-1) ...\n",
      "Setting up python-six (1.11.0-2) ...\n",
      "Setting up libssh2-1:amd64 (1.8.0-1) ...\n",
      "Setting up libgnutlsxx28:amd64 (3.5.18-1ubuntu1) ...\n",
      "Setting up python-pygments (2.2.0+dfsg-1) ...\n",
      "Processing triggers for libc-bin (2.27-3ubuntu1) ...\n",
      "Setting up libpython3-all-dev:amd64 (3.6.5-3ubuntu1) ...\n",
      "Setting up libgcrypt20-dev (1.8.1-4ubuntu1.1) ...\n",
      "Setting up autotools-dev (20180224.1) ...\n",
      "Setting up python3-all (3.6.5-3ubuntu1) ...\n",
      "Setting up python-babel-localedata (2.4.0+dfsg.1-2ubuntu1) ...\n",
      "Setting up libgnutls-openssl27:amd64 (3.5.18-1ubuntu1) ...\n",
      "Setting up python2.7-dbg (2.7.15~rc1-1) ...\n",
      "Setting up sphinx-common (1.6.7-1ubuntu1) ...\n",
      "Setting up libpython-dbg:amd64 (2.7.15~rc1-1) ...\n",
      "Setting up xml-core (0.18) ...\n",
      "Setting up bsdmainutils (11.1.2ubuntu1) ...\n",
      "update-alternatives: using /usr/bin/bsd-write to provide /usr/bin/write (write) in auto mode\n",
      "update-alternatives: warning: skip creation of /usr/share/man/man1/write.1.gz because associated file /usr/share/man/man1/bsd-write.1.gz (of link group write) doesn't exist\n",
      "update-alternatives: using /usr/bin/bsd-from to provide /usr/bin/from (from) in auto mode\n",
      "update-alternatives: warning: skip creation of /usr/share/man/man1/from.1.gz because associated file /usr/share/man/man1/bsd-from.1.gz (of link group from) doesn't exist\n",
      "Setting up libgmpxx4ldbl:amd64 (2:6.1.2+dfsg-2) ...\n",
      "Setting up libidn2-dev:amd64 (2.0.4-1.1build2) ...\n",
      "Setting up libcurl4-gnutls-dev:amd64 (7.58.0-2ubuntu3.5) ...\n",
      "Setting up python-nose (1.3.7-3) ...\n",
      "Setting up python-all (2.7.15~rc1-1) ...\n",
      "Setting up libidn2-0-dev (2.0.4-1.1build2) ...\n",
      "Setting up libpython-all-dbg:amd64 (2.7.15~rc1-1) ...\n",
      "Setting up libpython3.6-dbg:amd64 (3.6.6-1~18.04) ...\n",
      "Setting up autopoint (0.19.8.1-6) ...\n",
      "Setting up python-typing (3.6.2-1) ...\n",
      "Setting up libfile-stripnondeterminism-perl (0.040-1.1~build1) ...\n",
      "Setting up libgmp-dev:amd64 (2:6.1.2+dfsg-2) ...\n",
      "Setting up python-urllib3 (1.22-1) ...\n",
      "Setting up libunbound2:amd64 (1.6.7-1ubuntu2.2) ...\n",
      "Setting up python-chardet (3.0.4-1) ...\n",
      "Setting up gettext (0.19.8.1-6) ...\n",
      "Setting up python-jinja2 (2.10-1) ...\n",
      "Setting up python3-all-dev (3.6.5-3ubuntu1) ...\n",
      "Setting up python-babel (2.4.0+dfsg.1-2ubuntu1) ...\n",
      "update-alternatives: using /usr/bin/pybabel-python2 to provide /usr/bin/pybabel (pybabel) in auto mode\n",
      "Setting up python3.6-dbg (3.6.6-1~18.04) ...\n",
      "Setting up autoconf (2.69-11) ...\n",
      "Setting up libssh2-1-dev:amd64 (1.8.0-1) ...\n",
      "Setting up libpython3-dbg:amd64 (3.6.5-3ubuntu1) ...\n",
      "Setting up file (1:5.32-2ubuntu0.1) ...\n",
      "Setting up libpython3-all-dbg:amd64 (3.6.5-3ubuntu1) ...\n",
      "Setting up intltool-debian (0.35.0+20060710.4) ...\n",
      "Setting up python-all-dev (2.7.15~rc1-1) ...\n",
      "Setting up libgnutls-dane0:amd64 (3.5.18-1ubuntu1) ...\n",
      "Setting up automake (1:1.15.1-3ubuntu2) ...\n",
      "update-alternatives: using /usr/bin/automake-1.15 to provide /usr/bin/automake (automake) in auto mode\n",
      "update-alternatives: warning: skip creation of /usr/share/man/man1/automake.1.gz because associated file /usr/share/man/man1/automake-1.15.1.gz (of link group automake) doesn't exist\n",
      "update-alternatives: warning: skip creation of /usr/share/man/man1/aclocal.1.gz because associated file /usr/share/man/man1/aclocal-1.15.1.gz (of link group automake) doesn't exist\n",
      "Setting up python-dbg (2.7.15~rc1-1) ...\n",
      "Setting up python-requests (2.18.4-2ubuntu0.1) ...\n",
      "Setting up man-db (2.8.3-2ubuntu0.1) ...\n",
      "Building database of manual pages ...\n",
      "Setting up python3-dbg (3.6.5-3ubuntu1) ...\n",
      "Setting up nettle-dev:amd64 (3.4-1) ...\n",
      "Setting up libtool (2.4.6-2) ...\n",
      "Setting up po-debconf (1.0.20) ...\n",
      "Setting up python3-all-dbg (3.6.5-3ubuntu1) ...\n",
      "Setting up libgnutls28-dev:amd64 (3.5.18-1ubuntu1) ...\n",
      "Setting up python-all-dbg (2.7.15~rc1-1) ...\n",
      "Processing triggers for sgml-base (1.29) ...\n",
      "Setting up docutils-common (0.14+dfsg-3) ...\n",
      "Processing triggers for sgml-base (1.29) ...\n",
      "Setting up python-docutils (0.14+dfsg-3) ...\n",
      "update-alternatives: using /usr/share/docutils/scripts/python2/rst-buildhtml to provide /usr/bin/rst-buildhtml (rst-buildhtml) in auto mode\n",
      "update-alternatives: using /usr/share/docutils/scripts/python2/rst2html to provide /usr/bin/rst2html (rst2html) in auto mode\n",
      "update-alternatives: using /usr/share/docutils/scripts/python2/rst2html4 to provide /usr/bin/rst2html4 (rst2html4) in auto mode\n",
      "update-alternatives: using /usr/share/docutils/scripts/python2/rst2html5 to provide /usr/bin/rst2html5 (rst2html5) in auto mode\n",
      "update-alternatives: using /usr/share/docutils/scripts/python2/rst2latex to provide /usr/bin/rst2latex (rst2latex) in auto mode\n",
      "update-alternatives: using /usr/share/docutils/scripts/python2/rst2man to provide /usr/bin/rst2man (rst2man) in auto mode\n",
      "update-alternatives: using /usr/share/docutils/scripts/python2/rst2odt to provide /usr/bin/rst2odt (rst2odt) in auto mode\n",
      "update-alternatives: using /usr/share/docutils/scripts/python2/rst2odt_prepstyles to provide /usr/bin/rst2odt_prepstyles (rst2odt_prepstyles) in auto mode\n",
      "update-alternatives: using /usr/share/docutils/scripts/python2/rst2pseudoxml to provide /usr/bin/rst2pseudoxml (rst2pseudoxml) in auto mode\n",
      "update-alternatives: using /usr/share/docutils/scripts/python2/rst2s5 to provide /usr/bin/rst2s5 (rst2s5) in auto mode\n",
      "update-alternatives: using /usr/share/docutils/scripts/python2/rst2xetex to provide /usr/bin/rst2xetex (rst2xetex) in auto mode\n",
      "update-alternatives: using /usr/share/docutils/scripts/python2/rst2xml to provide /usr/bin/rst2xml (rst2xml) in auto mode\n",
      "update-alternatives: using /usr/share/docutils/scripts/python2/rstpep2html to provide /usr/bin/rstpep2html (rstpep2html) in auto mode\n",
      "Setting up python-sphinx (1.6.7-1ubuntu1) ...\n",
      "Setting up dh-autoreconf (17) ...\n",
      "Setting up debhelper (11.1.6ubuntu2) ...\n",
      "Setting up dh-strip-nondeterminism (0.040-1.1~build1) ...\n",
      "Processing triggers for libc-bin (2.27-3ubuntu1) ...\n"
     ]
    }
   ],
   "source": [
    "!apt-get build-dep python-pycurl"
   ]
  },
  {
   "cell_type": "code",
   "execution_count": 33,
   "metadata": {
    "colab": {
     "base_uri": "https://localhost:8080/",
     "height": 391
    },
    "colab_type": "code",
    "id": "d2lfpGpgRcQz",
    "outputId": "511fca45-2c14-4101-9a88-f0e07868bbcc"
   },
   "outputs": [
    {
     "name": "stdout",
     "output_type": "stream",
     "text": [
      "Reading package lists... Done\n",
      "Building dependency tree       \n",
      "Reading state information... Done\n",
      "Suggested packages:\n",
      "  libcurl4-doc libidn11-dev libkrb5-dev libldap2-dev librtmp-dev libssl-dev\n",
      "The following packages will be REMOVED:\n",
      "  libcurl4-gnutls-dev\n",
      "The following NEW packages will be installed:\n",
      "  libcurl4-openssl-dev\n",
      "0 upgraded, 1 newly installed, 1 to remove and 3 not upgraded.\n",
      "Need to get 294 kB of archives.\n",
      "After this operation, 6,144 B of additional disk space will be used.\n",
      "Get:1 http://archive.ubuntu.com/ubuntu bionic-updates/main amd64 libcurl4-openssl-dev amd64 7.58.0-2ubuntu3.5 [294 kB]\n",
      "Fetched 294 kB in 0s (4,014 kB/s)\n",
      "(Reading database ... 27777 files and directories currently installed.)\n",
      "Removing libcurl4-gnutls-dev:amd64 (7.58.0-2ubuntu3.5) ...\n",
      "Selecting previously unselected package libcurl4-openssl-dev:amd64.\n",
      "(Reading database ... 27754 files and directories currently installed.)\n",
      "Preparing to unpack .../libcurl4-openssl-dev_7.58.0-2ubuntu3.5_amd64.deb ...\n",
      "Unpacking libcurl4-openssl-dev:amd64 (7.58.0-2ubuntu3.5) ...\n",
      "Processing triggers for man-db (2.8.3-2ubuntu0.1) ...\n",
      "Setting up libcurl4-openssl-dev:amd64 (7.58.0-2ubuntu3.5) ...\n"
     ]
    }
   ],
   "source": [
    "!apt-get install libcurl4-openssl-dev"
   ]
  },
  {
   "cell_type": "code",
   "execution_count": 35,
   "metadata": {
    "colab": {
     "base_uri": "https://localhost:8080/",
     "height": 51
    },
    "colab_type": "code",
    "id": "5MUKuRPIR1_4",
    "outputId": "cbfa4537-c92a-4d31-eabe-c94a0f3e4c95"
   },
   "outputs": [
    {
     "name": "stdout",
     "output_type": "stream",
     "text": [
      "pycurl-7.43.0.1\t\t\t   pycurl_7.43.0.1-0.2.dsc\n",
      "pycurl_7.43.0.1-0.2.debian.tar.xz  pycurl_7.43.0.1.orig.tar.gz\n"
     ]
    }
   ],
   "source": [
    "!ls"
   ]
  },
  {
   "cell_type": "code",
   "execution_count": 37,
   "metadata": {
    "colab": {
     "base_uri": "https://localhost:8080/",
     "height": 102
    },
    "colab_type": "code",
    "id": "pgLHMlucSKvh",
    "outputId": "61417287-66de-4bcc-b8a7-e94535a017bd"
   },
   "outputs": [
    {
     "name": "stdout",
     "output_type": "stream",
     "text": [
      "Reading package lists... Done\n",
      "Building dependency tree       \n",
      "Reading state information... Done\n",
      "dpkg-dev is already the newest version (1.19.0.5ubuntu2.1).\n",
      "0 upgraded, 0 newly installed, 0 to remove and 3 not upgraded.\n"
     ]
    }
   ],
   "source": [
    "!apt-get install dpkg-dev"
   ]
  },
  {
   "cell_type": "code",
   "execution_count": 38,
   "metadata": {
    "colab": {
     "base_uri": "https://localhost:8080/",
     "height": 119
    },
    "colab_type": "code",
    "id": "Jrc4RpcuRySh",
    "outputId": "c74eb311-1e38-497c-81ac-18bb5a05d5a0"
   },
   "outputs": [
    {
     "name": "stdout",
     "output_type": "stream",
     "text": [
      "gpgv: Signature made Thu 01 Feb 2018 09:12:45 PM UTC\n",
      "gpgv:                using RSA key 7C610494944FC81DA6485696D2179D5B8A1ED011\n",
      "gpgv: Can't check signature: No public key\n",
      "\u001b[1mdpkg-source: \u001b[0m\u001b[1;33mwarning\u001b[0m: failed to verify signature on ./pycurl_7.43.0.1-0.2.dsc\n",
      "\u001b[1mdpkg-source: \u001b[0m\u001b[32minfo\u001b[0m: extracting pycurl in pycurl-7.43.0.1\n",
      "\u001b[1mdpkg-source: \u001b[0m\u001b[1;31merror\u001b[0m: unpack target exists: pycurl-7.43.0.1\n"
     ]
    }
   ],
   "source": [
    "!dpkg-source -x pycurl_7.43.0.1-0.2.dsc"
   ]
  },
  {
   "cell_type": "code",
   "execution_count": 39,
   "metadata": {
    "colab": {
     "base_uri": "https://localhost:8080/",
     "height": 224
    },
    "colab_type": "code",
    "id": "QU61JTR6R6jp",
    "outputId": "21b2f8a2-1f31-4701-dd50-7fcacdcc1527"
   },
   "outputs": [
    {
     "name": "stdout",
     "output_type": "stream",
     "text": [
      "--2018-11-05 14:34:50--  https://gist.githubusercontent.com/flaschbier/88218c8b02e422b1852c/raw/b9f2a1fd5d8b6f536490b771692e0ca67282d559/mkpycurl.py\n",
      "Resolving gist.githubusercontent.com (gist.githubusercontent.com)... 151.101.0.133, 151.101.64.133, 151.101.128.133, ...\n",
      "Connecting to gist.githubusercontent.com (gist.githubusercontent.com)|151.101.0.133|:443... connected.\n",
      "HTTP request sent, awaiting response... 200 OK\n",
      "Length: 2604 (2.5K) [text/plain]\n",
      "Saving to: ‘mkpycurl.py’\n",
      "\n",
      "\r",
      "mkpycurl.py           0%[                    ]       0  --.-KB/s               \r",
      "mkpycurl.py         100%[===================>]   2.54K  --.-KB/s    in 0s      \n",
      "\n",
      "2018-11-05 14:34:50 (50.0 MB/s) - ‘mkpycurl.py’ saved [2604/2604]\n",
      "\n"
     ]
    }
   ],
   "source": [
    "!wget https://gist.githubusercontent.com/flaschbier/88218c8b02e422b1852c/raw/b9f2a1fd5d8b6f536490b771692e0ca67282d559/mkpycurl.py"
   ]
  },
  {
   "cell_type": "code",
   "execution_count": 0,
   "metadata": {
    "colab": {},
    "colab_type": "code",
    "id": "ZHwyYGrATCqp"
   },
   "outputs": [],
   "source": [
    "!mv mkpycurl.py mkpycurl.sh"
   ]
  },
  {
   "cell_type": "code",
   "execution_count": 44,
   "metadata": {
    "colab": {
     "base_uri": "https://localhost:8080/",
     "height": 51
    },
    "colab_type": "code",
    "id": "NfFZEpJPVcI9",
    "outputId": "d7d24a3c-3f97-42dc-8218-68995e82520e"
   },
   "outputs": [
    {
     "name": "stdout",
     "output_type": "stream",
     "text": [
      "mkpycurl.sh\t pycurl_7.43.0.1-0.2.debian.tar.xz  pycurl_7.43.0.1.orig.tar.gz\n",
      "pycurl-7.43.0.1  pycurl_7.43.0.1-0.2.dsc\n"
     ]
    }
   ],
   "source": [
    "!ls"
   ]
  },
  {
   "cell_type": "code",
   "execution_count": 47,
   "metadata": {
    "colab": {
     "base_uri": "https://localhost:8080/",
     "height": 34
    },
    "colab_type": "code",
    "id": "wEU0Rh9lVif8",
    "outputId": "0cb66142-e82e-4735-8bf8-da2d358d13b1"
   },
   "outputs": [
    {
     "data": {
      "text/plain": [
       "0"
      ]
     },
     "execution_count": 47,
     "metadata": {
      "tags": []
     },
     "output_type": "execute_result"
    }
   ],
   "source": [
    "#!/usr/bin/env python\n",
    "import subprocess\n",
    " \n",
    "# Call a bash script\n",
    "subprocess.call(['./mkpycurl.sh'])"
   ]
  },
  {
   "cell_type": "code",
   "execution_count": 48,
   "metadata": {
    "colab": {
     "base_uri": "https://localhost:8080/",
     "height": 119
    },
    "colab_type": "code",
    "id": "4OvscYVEVn0U",
    "outputId": "a49d63f5-708e-44fa-d609-f8f93aed33ee"
   },
   "outputs": [
    {
     "name": "stdout",
     "output_type": "stream",
     "text": [
      "gpgv: Signature made Thu 01 Feb 2018 09:12:45 PM UTC\n",
      "gpgv:                using RSA key 7C610494944FC81DA6485696D2179D5B8A1ED011\n",
      "gpgv: Can't check signature: No public key\n",
      "\u001b[1mdpkg-source: \u001b[0m\u001b[1;33mwarning\u001b[0m: failed to verify signature on ./pycurl_7.43.0.1-0.2.dsc\n",
      "\u001b[1mdpkg-source: \u001b[0m\u001b[32minfo\u001b[0m: extracting pycurl in pycurl-7.43.0.1\n",
      "\u001b[1mdpkg-source: \u001b[0m\u001b[1;31merror\u001b[0m: unpack target exists: pycurl-7.43.0.1\n"
     ]
    }
   ],
   "source": [
    "!dpkg-source -x pycurl_7.43.0.1-0.2.dsc"
   ]
  },
  {
   "cell_type": "code",
   "execution_count": 49,
   "metadata": {
    "colab": {
     "base_uri": "https://localhost:8080/",
     "height": 34
    },
    "colab_type": "code",
    "id": "d9-q-VtBVy3L",
    "outputId": "39063514-73c0-47a6-a1fe-96cf83532b98"
   },
   "outputs": [
    {
     "name": "stdout",
     "output_type": "stream",
     "text": [
      "/content/tippecanoe/python-pycurl-openssl/pycurl-7.43.0.1\n"
     ]
    }
   ],
   "source": [
    "%cd pycurl-7.43.0.1/"
   ]
  },
  {
   "cell_type": "code",
   "execution_count": 50,
   "metadata": {
    "colab": {
     "base_uri": "https://localhost:8080/",
     "height": 374
    },
    "colab_type": "code",
    "id": "-x1kafaKWerz",
    "outputId": "eaf6fc19-bf45-4d4d-aecc-308b065845dd"
   },
   "outputs": [
    {
     "name": "stdout",
     "output_type": "stream",
     "text": [
      "Reading package lists... Done\n",
      "Picking 'pycurl' as source package instead of 'python-pycurl'\n",
      "Building dependency tree       \n",
      "Reading state information... Done\n",
      "The following packages will be REMOVED:\n",
      "  libcurl4-openssl-dev\n",
      "The following NEW packages will be installed:\n",
      "  libcurl4-gnutls-dev\n",
      "0 upgraded, 1 newly installed, 1 to remove and 3 not upgraded.\n",
      "Need to get 293 kB of archives.\n",
      "After this operation, 6,144 B disk space will be freed.\n",
      "Get:1 http://archive.ubuntu.com/ubuntu bionic-updates/main amd64 libcurl4-gnutls-dev amd64 7.58.0-2ubuntu3.5 [293 kB]\n",
      "Fetched 293 kB in 0s (3,077 kB/s)\n",
      "(Reading database ... 27774 files and directories currently installed.)\n",
      "Removing libcurl4-openssl-dev:amd64 (7.58.0-2ubuntu3.5) ...\n",
      "Selecting previously unselected package libcurl4-gnutls-dev:amd64.\n",
      "(Reading database ... 27754 files and directories currently installed.)\n",
      "Preparing to unpack .../libcurl4-gnutls-dev_7.58.0-2ubuntu3.5_amd64.deb ...\n",
      "Unpacking libcurl4-gnutls-dev:amd64 (7.58.0-2ubuntu3.5) ...\n",
      "Processing triggers for man-db (2.8.3-2ubuntu0.1) ...\n",
      "Setting up libcurl4-gnutls-dev:amd64 (7.58.0-2ubuntu3.5) ...\n"
     ]
    }
   ],
   "source": [
    "!apt-get build-dep python-pycurl"
   ]
  },
  {
   "cell_type": "code",
   "execution_count": 51,
   "metadata": {
    "colab": {
     "base_uri": "https://localhost:8080/",
     "height": 595
    },
    "colab_type": "code",
    "id": "CsT2wqJQWiNr",
    "outputId": "63188938-36af-43db-9c4f-8e6b9496a940"
   },
   "outputs": [
    {
     "name": "stdout",
     "output_type": "stream",
     "text": [
      "Reading package lists... Done\n",
      "Building dependency tree       \n",
      "Reading state information... Done\n",
      "The following additional packages will be installed:\n",
      "  libssl-doc\n",
      "Suggested packages:\n",
      "  libcurl4-doc libidn11-dev libkrb5-dev libldap2-dev librtmp-dev\n",
      "The following packages will be REMOVED:\n",
      "  libcurl4-gnutls-dev\n",
      "The following NEW packages will be installed:\n",
      "  libcurl4-openssl-dev libssl-dev libssl-doc\n",
      "0 upgraded, 3 newly installed, 1 to remove and 3 not upgraded.\n",
      "Need to get 2,922 kB of archives.\n",
      "After this operation, 11.5 MB of additional disk space will be used.\n",
      "Get:1 http://archive.ubuntu.com/ubuntu bionic-updates/main amd64 libcurl4-openssl-dev amd64 7.58.0-2ubuntu3.5 [294 kB]\n",
      "Get:2 http://archive.ubuntu.com/ubuntu bionic-updates/main amd64 libssl-dev amd64 1.1.0g-2ubuntu4.1 [1,372 kB]\n",
      "Get:3 http://archive.ubuntu.com/ubuntu bionic-updates/main amd64 libssl-doc all 1.1.0g-2ubuntu4.1 [1,255 kB]\n",
      "Fetched 2,922 kB in 0s (23.2 MB/s)\n",
      "(Reading database ... 27777 files and directories currently installed.)\n",
      "Removing libcurl4-gnutls-dev:amd64 (7.58.0-2ubuntu3.5) ...\n",
      "Selecting previously unselected package libcurl4-openssl-dev:amd64.\n",
      "(Reading database ... 27754 files and directories currently installed.)\n",
      "Preparing to unpack .../libcurl4-openssl-dev_7.58.0-2ubuntu3.5_amd64.deb ...\n",
      "Unpacking libcurl4-openssl-dev:amd64 (7.58.0-2ubuntu3.5) ...\n",
      "Selecting previously unselected package libssl-dev:amd64.\n",
      "Preparing to unpack .../libssl-dev_1.1.0g-2ubuntu4.1_amd64.deb ...\n",
      "Unpacking libssl-dev:amd64 (1.1.0g-2ubuntu4.1) ...\n",
      "Selecting previously unselected package libssl-doc.\n",
      "Preparing to unpack .../libssl-doc_1.1.0g-2ubuntu4.1_all.deb ...\n",
      "Unpacking libssl-doc (1.1.0g-2ubuntu4.1) ...\n",
      "Setting up libssl-dev:amd64 (1.1.0g-2ubuntu4.1) ...\n",
      "Processing triggers for man-db (2.8.3-2ubuntu0.1) ...\n",
      "Setting up libssl-doc (1.1.0g-2ubuntu4.1) ...\n",
      "Setting up libcurl4-openssl-dev:amd64 (7.58.0-2ubuntu3.5) ...\n"
     ]
    }
   ],
   "source": [
    "!apt-get install libcurl4-openssl-dev libssl-dev"
   ]
  },
  {
   "cell_type": "code",
   "execution_count": 52,
   "metadata": {
    "colab": {
     "base_uri": "https://localhost:8080/",
     "height": 187
    },
    "colab_type": "code",
    "id": "n2mzhHqMWoVV",
    "outputId": "9699788d-f999-4ef7-a33b-7a94842cb9c0"
   },
   "outputs": [
    {
     "name": "stdout",
     "output_type": "stream",
     "text": [
      "\u001b[1mdpkg-buildpackage: \u001b[0m\u001b[1;33mwarning\u001b[0m: using a gain-root-command while being root\n",
      "\u001b[1mdpkg-buildpackage: \u001b[0m\u001b[32minfo\u001b[0m: source package pycurl\n",
      "\u001b[1mdpkg-buildpackage: \u001b[0m\u001b[32minfo\u001b[0m: source version 7.43.0.1-0.2\n",
      "\u001b[1mdpkg-buildpackage: \u001b[0m\u001b[32minfo\u001b[0m: source distribution unstable\n",
      "\u001b[1mdpkg-buildpackage: \u001b[0m\u001b[32minfo\u001b[0m: source changed by Iain R. Learmonth <irl@debian.org>\n",
      "\u001b[1mdpkg-buildpackage: \u001b[0m\u001b[32minfo\u001b[0m: host architecture amd64\n",
      "\u001b[1;35m dpkg-source --before-build pycurl-7.43.0.1\n",
      "\u001b[0m\u001b[1mdpkg-checkbuilddeps: \u001b[0m\u001b[1;31merror\u001b[0m: Unmet build dependencies: libcurl4-gnutls-dev (>= 7.57.0)\n",
      "\u001b[1mdpkg-buildpackage: \u001b[0m\u001b[1;33mwarning\u001b[0m: build dependencies/conflicts unsatisfied; aborting\n",
      "\u001b[1mdpkg-buildpackage: \u001b[0m\u001b[1;33mwarning\u001b[0m: (Use -d flag to override.)\n"
     ]
    }
   ],
   "source": [
    "!PYCURL_SSL_LIBRARY=openssl dpkg-buildpackage -rfakeroot -b"
   ]
  },
  {
   "cell_type": "code",
   "execution_count": 54,
   "metadata": {
    "colab": {
     "base_uri": "https://localhost:8080/",
     "height": 119
    },
    "colab_type": "code",
    "id": "C5BW5gD6Wtia",
    "outputId": "4a0612f3-d44c-437e-cd49-c51d9f9f8e72"
   },
   "outputs": [
    {
     "name": "stdout",
     "output_type": "stream",
     "text": [
      "AUTHORS       examples\t   README.rst\t\t     tests\n",
      "ChangeLog     INSTALL.rst  RELEASE-NOTES.rst\t     winbuild\n",
      "COPYING-LGPL  Makefile\t   requirements-dev-3.1.txt  winbuild.py\n",
      "COPYING-MIT   MANIFEST.in  requirements-dev.txt\n",
      "debian\t      PKG-INFO\t   setup.py\n",
      "doc\t      python\t   src\n"
     ]
    }
   ],
   "source": [
    "!ls"
   ]
  },
  {
   "cell_type": "code",
   "execution_count": 55,
   "metadata": {
    "colab": {
     "base_uri": "https://localhost:8080/",
     "height": 34
    },
    "colab_type": "code",
    "id": "K76CY75zW3zg",
    "outputId": "db3ed7e3-b985-483f-df76-d9987ac3a34f"
   },
   "outputs": [
    {
     "name": "stdout",
     "output_type": "stream",
     "text": [
      "/content/tippecanoe/python-pycurl-openssl\n"
     ]
    }
   ],
   "source": [
    "%cd .."
   ]
  },
  {
   "cell_type": "code",
   "execution_count": 56,
   "metadata": {
    "colab": {
     "base_uri": "https://localhost:8080/",
     "height": 51
    },
    "colab_type": "code",
    "id": "ovmdv2R6W_yI",
    "outputId": "60d5b988-d9e8-4d61-df9c-1af102020bd1"
   },
   "outputs": [
    {
     "name": "stdout",
     "output_type": "stream",
     "text": [
      "mkpycurl.sh\t pycurl_7.43.0.1-0.2.debian.tar.xz  pycurl_7.43.0.1.orig.tar.gz\n",
      "pycurl-7.43.0.1  pycurl_7.43.0.1-0.2.dsc\n"
     ]
    }
   ],
   "source": [
    "!ls"
   ]
  },
  {
   "cell_type": "code",
   "execution_count": 57,
   "metadata": {
    "colab": {
     "base_uri": "https://localhost:8080/",
     "height": 1805
    },
    "colab_type": "code",
    "id": "_E7jdozgKe-G",
    "outputId": "cf9f0837-2c63-4d48-e05f-477386fd4dd4"
   },
   "outputs": [
    {
     "name": "stdout",
     "output_type": "stream",
     "text": [
      "Collecting label-maker\n",
      "  Using cached https://files.pythonhosted.org/packages/ef/4a/bf329edb690cc46f00db7ecf9d0a213892b30e86b1e5615e8a70f8c94e47/label-maker-0.4.0.tar.gz\n",
      "Collecting Cerberus==1.1 (from label-maker)\n",
      "  Using cached https://files.pythonhosted.org/packages/e0/7e/3949c86f4e60bc2b3d24ebc94af55ffaf9d62ad221f47c194edc9bd7fa94/Cerberus-1.1.tar.gz\n",
      "Collecting click==6.7 (from label-maker)\n",
      "  Using cached https://files.pythonhosted.org/packages/34/c1/8806f99713ddb993c5366c362b2f908f18269f8d792aff1abfd700775a77/click-6.7-py2.py3-none-any.whl\n",
      "Collecting geojson==2.3.0 (from label-maker)\n",
      "  Using cached https://files.pythonhosted.org/packages/1c/59/5d8f40aa03591d68fa6bf99268810c66a0fbc82b9598e40822f3fd9149d2/geojson-2.3.0-py2.py3-none-any.whl\n",
      "Collecting homura==0.1.5 (from label-maker)\n",
      "  Using cached https://files.pythonhosted.org/packages/cd/e9/00b0f83afdc44c0e53a0d583419b94c55fc210eb85a77db2ca431929fe25/homura-0.1.5.tar.gz\n",
      "Collecting humanize==0.5.1 (from label-maker)\n",
      "  Using cached https://files.pythonhosted.org/packages/8c/e0/e512e4ac6d091fc990bbe13f9e0378f34cf6eecd1c6c268c9e598dcf5bb9/humanize-0.5.1.tar.gz\n",
      "Collecting mapbox-vector-tile==1.2.0 (from label-maker)\n",
      "  Using cached https://files.pythonhosted.org/packages/9a/e7/6fd66a84b1c85a16b7246de0636eee41f06b00fa34147c607df18e0df4fa/mapbox-vector-tile-1.2.0.tar.gz\n",
      "Collecting mbutil==0.3.0 (from label-maker)\n",
      "  Using cached https://files.pythonhosted.org/packages/b2/e1/0f3b74ba4d44cbeb9b95fc69c64157c9e5670fabbe3e584487244421f782/mbutil-0.3.0-py2.py3-none-any.whl\n",
      "Collecting mercantile==1.0.0 (from label-maker)\n",
      "  Using cached https://files.pythonhosted.org/packages/28/3b/5fd34a31d569d52012975d94c8ca43ae9bb86ca638c1308b620eb2f904ad/mercantile-1.0.0-py3-none-any.whl\n",
      "Collecting numpy==1.13.3 (from label-maker)\n",
      "  Using cached https://files.pythonhosted.org/packages/57/a7/e3e6bd9d595125e1abbe162e323fd2d06f6f6683185294b79cd2cdb190d5/numpy-1.13.3-cp36-cp36m-manylinux1_x86_64.whl\n",
      "Collecting olefile==0.44 (from label-maker)\n",
      "  Using cached https://files.pythonhosted.org/packages/35/17/c15d41d5a8f8b98cc3df25eb00c5cee76193114c78e5674df6ef4ac92647/olefile-0.44.zip\n",
      "Collecting Pillow==4.3.0 (from label-maker)\n",
      "  Using cached https://files.pythonhosted.org/packages/3c/5c/44a8f05da34cbb495e5330825c2204b9fa761357c87bc0bc1785b1d76e41/Pillow-4.3.0-cp36-cp36m-manylinux1_x86_64.whl\n",
      "Collecting protobuf==3.5.0.post1 (from label-maker)\n",
      "  Using cached https://files.pythonhosted.org/packages/98/74/0df1aeb6fdda6a62ebd2f73bdb622683f5a31701ea0935db7699e0d42b09/protobuf-3.5.0.post1-cp36-cp36m-manylinux1_x86_64.whl\n",
      "Collecting pyclipper==1.0.6 (from label-maker)\n",
      "  Using cached https://files.pythonhosted.org/packages/c2/b0/fa8c06e893d7466f89a83456231f1ec3b6d68b94adefebb874676ac431c7/pyclipper-1.0.6-cp36-cp36m-manylinux1_x86_64.whl\n",
      "Collecting pycurl==7.43.0.1 (from label-maker)\n",
      "  Using cached https://files.pythonhosted.org/packages/77/d9/d272b38e6e25d2686e22f6058820298dadead69340b1c57ff84c87ef81f0/pycurl-7.43.0.1.tar.gz\n",
      "Collecting pyproj==1.9.5.1 (from label-maker)\n",
      "\u001b[?25l  Downloading https://files.pythonhosted.org/packages/29/72/5c1888c4948a0c7b736d10e0f0f69966e7c0874a660222ed0a2c2c6daa9f/pyproj-1.9.5.1.tar.gz (4.4MB)\n",
      "\u001b[K    100% |████████████████████████████████| 4.4MB 7.3MB/s \n",
      "\u001b[?25hCollecting rasterio==1.0a12 (from label-maker)\n",
      "\u001b[?25l  Downloading https://files.pythonhosted.org/packages/15/96/09b3abc74dea884442a06b1eeb4a6b0fdafdd237cb1cabb88a25c988334a/rasterio-1.0a12-cp36-cp36m-manylinux1_x86_64.whl (15.8MB)\n",
      "\u001b[K    100% |████████████████████████████████| 15.8MB 3.1MB/s \n",
      "\u001b[?25hCollecting requests==2.11.0 (from label-maker)\n",
      "\u001b[?25l  Downloading https://files.pythonhosted.org/packages/f8/90/42d5e0d9b5c4c3629a3d99823bbc3748fb85616f0f7a45e79ba7908d4642/requests-2.11.0-py2.py3-none-any.whl (514kB)\n",
      "\u001b[K    100% |████████████████████████████████| 522kB 14.4MB/s \n",
      "\u001b[?25hCollecting Shapely>=1.6.3 (from label-maker)\n",
      "\u001b[?25l  Downloading https://files.pythonhosted.org/packages/38/b6/b53f19062afd49bb5abd049aeed36f13bf8d57ef8f3fa07a5203531a0252/Shapely-1.6.4.post2-cp36-cp36m-manylinux1_x86_64.whl (1.5MB)\n",
      "\u001b[K    100% |████████████████████████████████| 1.5MB 14.2MB/s \n",
      "\u001b[?25hCollecting six==1.10.0 (from label-maker)\n",
      "  Downloading https://files.pythonhosted.org/packages/c8/0a/b6723e1bc4c516cb687841499455a8505b44607ab535be01091c0f24f079/six-1.10.0-py2.py3-none-any.whl\n",
      "Collecting tilepie==0.2.1 (from label-maker)\n",
      "  Downloading https://files.pythonhosted.org/packages/41/10/500b096b32d8f4741339b0d2e263a0a7c65d272eea2a0003a56868715c0c/tilepie-0.2.1-py2.py3-none-any.whl\n",
      "Requirement already satisfied: certifi in /usr/local/lib/python3.6/dist-packages (from homura==0.1.5->label-maker) (2018.10.15)\n",
      "Requirement already satisfied: setuptools in /usr/local/lib/python3.6/dist-packages (from mapbox-vector-tile==1.2.0->label-maker) (40.5.0)\n",
      "Requirement already satisfied: future in /usr/local/lib/python3.6/dist-packages (from mapbox-vector-tile==1.2.0->label-maker) (0.16.0)\n",
      "Collecting affine (from rasterio==1.0a12->label-maker)\n",
      "  Downloading https://files.pythonhosted.org/packages/6b/5d/23bf1095d39da067de3dc8d3fdda2c043023cce63285ccfc907a157019a4/affine-2.2.1-py2.py3-none-any.whl\n",
      "Collecting snuggs>=1.4.1 (from rasterio==1.0a12->label-maker)\n",
      "  Downloading https://files.pythonhosted.org/packages/53/af/e6c28e9062894e1115f629ed43c8a7a8ea285ede2901d56424faf42ae1d0/snuggs-1.4.2-py3-none-any.whl\n",
      "Collecting attrs (from rasterio==1.0a12->label-maker)\n",
      "  Downloading https://files.pythonhosted.org/packages/3a/e1/5f9023cc983f1a628a8c2fd051ad19e76ff7b142a0faf329336f9a62a514/attrs-18.2.0-py2.py3-none-any.whl\n",
      "Collecting cligj (from rasterio==1.0a12->label-maker)\n",
      "  Downloading https://files.pythonhosted.org/packages/e4/be/30a58b4b0733850280d01f8bd132591b4668ed5c7046761098d665ac2174/cligj-0.5.0-py3-none-any.whl\n",
      "Collecting click-plugins (from rasterio==1.0a12->label-maker)\n",
      "  Downloading https://files.pythonhosted.org/packages/95/dd/fef84cf1678418f241ef542c0288bdf215bdd3e35f1fe03dc5223a2e80ba/click_plugins-1.0.4-py2.py3-none-any.whl\n",
      "Requirement already satisfied: pyparsing in /usr/local/lib/python3.6/dist-packages (from snuggs>=1.4.1->rasterio==1.0a12->label-maker) (2.3.0)\n",
      "Building wheels for collected packages: label-maker, Cerberus, homura, humanize, mapbox-vector-tile, olefile, pycurl, pyproj\n",
      "  Running setup.py bdist_wheel for label-maker ... \u001b[?25l-\b \b\\\b \bdone\n",
      "\u001b[?25h  Stored in directory: /root/.cache/pip/wheels/ba/ad/13/23af9f9928a411844f68451eaa1b79d0fa051fec913ae661ea\n",
      "  Running setup.py bdist_wheel for Cerberus ... \u001b[?25l-\b \b\\\b \bdone\n",
      "\u001b[?25h  Stored in directory: /root/.cache/pip/wheels/39/43/40/d02a59fe375fc6a32da6d049a5af4d9c166f44b5903d5afcae\n",
      "  Running setup.py bdist_wheel for homura ... \u001b[?25l-\b \bdone\n",
      "\u001b[?25h  Stored in directory: /root/.cache/pip/wheels/66/da/cc/3e6424310048e35a80059e932cef0b2ab92afbabc858dd063e\n",
      "  Running setup.py bdist_wheel for humanize ... \u001b[?25l-\b \bdone\n",
      "\u001b[?25h  Stored in directory: /root/.cache/pip/wheels/69/86/6c/f8b8593bc273ec4b0c653d3827f7482bb2001a2781a73b7f44\n",
      "  Running setup.py bdist_wheel for mapbox-vector-tile ... \u001b[?25l-\b \bdone\n",
      "\u001b[?25h  Stored in directory: /root/.cache/pip/wheels/0d/b4/99/ed2f12dbcb0f8b036a4bfb0439f4609ca5399415386815aa3d\n",
      "  Running setup.py bdist_wheel for olefile ... \u001b[?25l-\b \b\\\b \bdone\n",
      "\u001b[?25h  Stored in directory: /root/.cache/pip/wheels/c4/19/76/61fc7929d808e51567aff23036ca5fe6ba8336ad0559ca6a27\n",
      "  Running setup.py bdist_wheel for pycurl ... \u001b[?25l-\b \b\\\b \b|\b \b/\b \b-\b \b\\\b \b|\b \b/\b \b-\b \b\\\b \b|\b \b/\b \bdone\n",
      "\u001b[?25h  Stored in directory: /root/.cache/pip/wheels/77/c8/b6/bed2606b4ae3cf738c99c111d88ce33d8ae82171c40cbddbf0\n",
      "  Running setup.py bdist_wheel for pyproj ... \u001b[?25l-\b \b\\\b \b|\b \b/\b \b-\b \b\\\b \b|\b \b/\b \b-\b \b\\\b \b|\b \b/\b \b-\b \b\\\b \b|\b \b/\b \b-\b \b\\\b \b|\b \b/\b \b-\b \b\\\b \b|\b \b/\b \b-\b \b\\\b \b|\b \b/\b \b-\b \b\\\b \b|\b \b/\b \b-\b \b\\\b \b|\b \b/\b \b-\b \b\\\b \b|\b \b/\b \b-\b \b\\\b \b|\b \b/\b \b-\b \b\\\b \b|\b \b/\b \b-\b \b\\\b \b|\b \b/\b \b-\b \b\\\b \b|\b \b/\b \b-\b \b\\\b \b|\b \b/\b \b-\b \b\\\b \b|\b \b/\b \b-\b \b\\\b \b|\b \b/\b \b-\b \b\\\b \b|\b \b/\b \b-\b \b\\\b \b|\b \b/\b \b-\b \b\\\b \b|\b \b/\b \b-\b \b\\\b \b|\b \b/\b \b-\b \b\\\b \b|\b \b/\b \b-\b \b\\\b \b|\b \b/\b \b-\b \b\\\b \b|\b \b/\b \b-\b \b\\\b \b|\b \b/\b \bdone\n",
      "\u001b[?25h  Stored in directory: /root/.cache/pip/wheels/89/77/ec/a537585d1022dafde0317dd19d33c4a30d4ee61e19f25ebd8e\n",
      "Successfully built label-maker Cerberus homura humanize mapbox-vector-tile olefile pycurl pyproj\n",
      "\u001b[31mtensorflow 1.12.0rc2 has requirement protobuf>=3.6.1, but you'll have protobuf 3.5.0.post1 which is incompatible.\u001b[0m\n",
      "\u001b[31mspacy 2.0.16 has requirement numpy>=1.15.0, but you'll have numpy 1.13.3 which is incompatible.\u001b[0m\n",
      "\u001b[31mspacy 2.0.16 has requirement requests<3.0.0,>=2.13.0, but you'll have requests 2.11.0 which is incompatible.\u001b[0m\n",
      "\u001b[31mgoogle-colab 0.0.1a1 has requirement requests~=2.18.0, but you'll have requests 2.11.0 which is incompatible.\u001b[0m\n",
      "\u001b[31mgoogle-colab 0.0.1a1 has requirement six~=1.11.0, but you'll have six 1.10.0 which is incompatible.\u001b[0m\n",
      "\u001b[31mgoogle-api-core 1.5.1 has requirement requests<3.0.0dev,>=2.18.0, but you'll have requests 2.11.0 which is incompatible.\u001b[0m\n",
      "Installing collected packages: Cerberus, click, geojson, humanize, six, pycurl, homura, protobuf, Shapely, pyclipper, mapbox-vector-tile, mbutil, mercantile, numpy, olefile, Pillow, pyproj, affine, snuggs, attrs, cligj, click-plugins, rasterio, requests, tilepie, label-maker\n",
      "  Found existing installation: six 1.11.0\n",
      "    Uninstalling six-1.11.0:\n",
      "      Successfully uninstalled six-1.11.0\n",
      "  Found existing installation: protobuf 3.6.1\n",
      "    Uninstalling protobuf-3.6.1:\n",
      "      Successfully uninstalled protobuf-3.6.1\n",
      "  Found existing installation: numpy 1.14.6\n",
      "    Uninstalling numpy-1.14.6:\n",
      "      Successfully uninstalled numpy-1.14.6\n",
      "  Found existing installation: olefile 0.46\n",
      "    Uninstalling olefile-0.46:\n",
      "      Successfully uninstalled olefile-0.46\n",
      "  Found existing installation: Pillow 4.0.0\n",
      "    Uninstalling Pillow-4.0.0:\n",
      "      Successfully uninstalled Pillow-4.0.0\n",
      "  Found existing installation: requests 2.18.4\n",
      "    Uninstalling requests-2.18.4:\n",
      "      Successfully uninstalled requests-2.18.4\n",
      "Successfully installed Cerberus-1.1 Pillow-4.3.0 Shapely-1.6.4.post2 affine-2.2.1 attrs-18.2.0 click-6.7 click-plugins-1.0.4 cligj-0.5.0 geojson-2.3.0 homura-0.1.5 humanize-0.5.1 label-maker-0.4.0 mapbox-vector-tile-1.2.0 mbutil-0.3.0 mercantile-1.0.0 numpy-1.13.3 olefile-0.44 protobuf-3.5.0.post1 pyclipper-1.0.6 pycurl-7.43.0.1 pyproj-1.9.5.1 rasterio-1.0a12 requests-2.11.0 six-1.10.0 snuggs-1.4.2 tilepie-0.2.1\n"
     ]
    }
   ],
   "source": [
    "!pip install label-maker"
   ]
  },
  {
   "cell_type": "code",
   "execution_count": 0,
   "metadata": {
    "colab": {
     "base_uri": "https://localhost:8080/",
     "height": 165
    },
    "colab_type": "code",
    "id": "YjAaFS08XA3P",
    "outputId": "44a3f7e5-d73e-464b-b99f-cadc2830d959"
   },
   "outputs": [
    {
     "name": "stdout",
     "output_type": "stream",
     "text": [
      "--2018-11-05 14:55:22--  https://s3.amazonaws.com/mapbox/osm-qa-tiles-production/latest.planet.mbtiles.gz\n",
      "Resolving s3.amazonaws.com (s3.amazonaws.com)... 52.216.16.99\n",
      "Connecting to s3.amazonaws.com (s3.amazonaws.com)|52.216.16.99|:443... connected.\n",
      "HTTP request sent, awaiting response... 200 OK\n",
      "Length: 36950608541 (34G) [binary/octet-stream]\n",
      "Saving to: ‘latest.planet.mbtiles.gz’\n",
      "\n",
      "latest.planet.mbtil  73%[=============>      ]  25.23G  27.1MB/s    eta 6m 1s  "
     ]
    }
   ],
   "source": [
    "!wget https://s3.amazonaws.com/mapbox/osm-qa-tiles-production/latest.planet.mbtiles.gz"
   ]
  },
  {
   "cell_type": "code",
   "execution_count": 0,
   "metadata": {
    "colab": {},
    "colab_type": "code",
    "id": "QivDUUjIXvSZ"
   },
   "outputs": [],
   "source": []
  }
 ],
 "metadata": {
  "accelerator": "GPU",
  "colab": {
   "include_colab_link": true,
   "name": "install LabelMaker.ipynb",
   "provenance": [],
   "version": "0.3.2"
  },
  "kernelspec": {
   "display_name": "Python 3",
   "language": "python",
   "name": "python3"
  },
  "language_info": {
   "codemirror_mode": {
    "name": "ipython",
    "version": 3
   },
   "file_extension": ".py",
   "mimetype": "text/x-python",
   "name": "python",
   "nbconvert_exporter": "python",
   "pygments_lexer": "ipython3",
   "version": "3.5.2"
  }
 },
 "nbformat": 4,
 "nbformat_minor": 1
}
