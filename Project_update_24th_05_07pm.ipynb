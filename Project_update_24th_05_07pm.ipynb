{
 "cells": [
  {
   "cell_type": "markdown",
   "metadata": {
    "colab_type": "text",
    "id": "view-in-github"
   },
   "source": [
    "<a href=\"https://colab.research.google.com/github/Prady96/Pothole-Detection/blob/avi_testing/Project_update_24th_05_07pm.ipynb\" target=\"_parent\"><img src=\"https://colab.research.google.com/assets/colab-badge.svg\" alt=\"Open In Colab\"/></a>"
   ]
  },
  {
   "cell_type": "code",
   "execution_count": 1,
   "metadata": {
    "colab": {
     "base_uri": "https://localhost:8080/",
     "height": 127
    },
    "colab_type": "code",
    "id": "8hMrfhC9z0y0",
    "outputId": "c5263815-1098-401e-d34e-7d0a3692ef8e"
   },
   "outputs": [
    {
     "name": "stdout",
     "output_type": "stream",
     "text": [
      "Go to this URL in a browser: https://accounts.google.com/o/oauth2/auth?client_id=947318989803-6bn6qk8qdgf4n4g3pfee6491hc0brc4i.apps.googleusercontent.com&redirect_uri=urn%3Aietf%3Awg%3Aoauth%3A2.0%3Aoob&scope=email%20https%3A%2F%2Fwww.googleapis.com%2Fauth%2Fdocs.test%20https%3A%2F%2Fwww.googleapis.com%2Fauth%2Fdrive%20https%3A%2F%2Fwww.googleapis.com%2Fauth%2Fdrive.photos.readonly%20https%3A%2F%2Fwww.googleapis.com%2Fauth%2Fpeopleapi.readonly&response_type=code\n",
      "\n",
      "Enter your authorization code:\n",
      "··········\n",
      "Mounted at /content/drive\n"
     ]
    }
   ],
   "source": [
    "# Load the Drive helper and mount\n",
    "from google.colab import drive\n",
    "\n",
    "# This will prompt for authorization.\n",
    "drive.mount(\"/content/drive\", force_remount=True)"
   ]
  },
  {
   "cell_type": "code",
   "execution_count": 2,
   "metadata": {
    "colab": {
     "base_uri": "https://localhost:8080/",
     "height": 35
    },
    "colab_type": "code",
    "id": "qc8_xZys0aR6",
    "outputId": "475d4d71-d8c5-45c7-85b5-1f45eefbe37d"
   },
   "outputs": [
    {
     "name": "stdout",
     "output_type": "stream",
     "text": [
      "main_DataSETS_TRAIN.zip  main_DATASET_VAL.zip\n"
     ]
    }
   ],
   "source": [
    "#lists the content of your google drive\n",
    "!ls \"/content/drive/My Drive/Potholes_tataInnoverse/mainFile/train_val_22ndFeb/\""
   ]
  },
  {
   "cell_type": "code",
   "execution_count": 3,
   "metadata": {
    "colab": {
     "base_uri": "https://localhost:8080/",
     "height": 35
    },
    "colab_type": "code",
    "id": "uPeNUHsq09-7",
    "outputId": "91967e0b-8a38-4c5b-95c3-322af724ff9d"
   },
   "outputs": [
    {
     "data": {
      "text/plain": [
       "'/content/val.zip'"
      ]
     },
     "execution_count": 3,
     "metadata": {
      "tags": []
     },
     "output_type": "execute_result"
    }
   ],
   "source": [
    "import shutil\n",
    "shutil.copy('/content/drive/My Drive/Potholes_tataInnoverse/mainFile/train_val_22ndFeb/main_DATASET_VAL.zip', '/content/val.zip')"
   ]
  },
  {
   "cell_type": "code",
   "execution_count": 4,
   "metadata": {
    "colab": {
     "base_uri": "https://localhost:8080/",
     "height": 35
    },
    "colab_type": "code",
    "id": "ddhHxneE1B7S",
    "outputId": "96803a02-5b7a-4cec-8bf4-dfe9b308e200"
   },
   "outputs": [
    {
     "data": {
      "text/plain": [
       "'/content/train.zip'"
      ]
     },
     "execution_count": 4,
     "metadata": {
      "tags": []
     },
     "output_type": "execute_result"
    }
   ],
   "source": [
    "import shutil\n",
    "shutil.copy('/content/drive/My Drive/Potholes_tataInnoverse/mainFile/train_val_22ndFeb/main_DataSETS_TRAIN.zip', '/content/train.zip')"
   ]
  },
  {
   "cell_type": "code",
   "execution_count": 0,
   "metadata": {
    "colab": {},
    "colab_type": "code",
    "id": "uJTn8nXR1Dm5"
   },
   "outputs": [],
   "source": [
    "!mkdir customImages"
   ]
  },
  {
   "cell_type": "code",
   "execution_count": 0,
   "metadata": {
    "colab": {},
    "colab_type": "code",
    "id": "ZdCbaoTy1FbK"
   },
   "outputs": [],
   "source": [
    "!mv train.zip customImages/"
   ]
  },
  {
   "cell_type": "code",
   "execution_count": 0,
   "metadata": {
    "colab": {},
    "colab_type": "code",
    "id": "c0Y0exfi1Gpa"
   },
   "outputs": [],
   "source": [
    "!mv val.zip customImages/"
   ]
  },
  {
   "cell_type": "code",
   "execution_count": 8,
   "metadata": {
    "colab": {
     "base_uri": "https://localhost:8080/",
     "height": 35
    },
    "colab_type": "code",
    "id": "__DOX3_j1H0q",
    "outputId": "7e03eda8-cca7-4e34-f81e-ed638c21d9d1"
   },
   "outputs": [
    {
     "name": "stdout",
     "output_type": "stream",
     "text": [
      "/content/customImages\n"
     ]
    }
   ],
   "source": [
    "%cd customImages/"
   ]
  },
  {
   "cell_type": "code",
   "execution_count": 0,
   "metadata": {
    "colab": {},
    "colab_type": "code",
    "id": "kGE0S45D1Jn6"
   },
   "outputs": [],
   "source": [
    "!unzip train.zip"
   ]
  },
  {
   "cell_type": "code",
   "execution_count": 0,
   "metadata": {
    "colab": {},
    "colab_type": "code",
    "id": "0WSxrwzX1LQJ"
   },
   "outputs": [],
   "source": [
    "!unzip val.zip"
   ]
  },
  {
   "cell_type": "code",
   "execution_count": 0,
   "metadata": {
    "colab": {},
    "colab_type": "code",
    "id": "x0pQ834t1NL6"
   },
   "outputs": [],
   "source": [
    "!rm -rf __MACOSX"
   ]
  },
  {
   "cell_type": "code",
   "execution_count": 12,
   "metadata": {
    "colab": {
     "base_uri": "https://localhost:8080/",
     "height": 35
    },
    "colab_type": "code",
    "id": "YwZrDqpeEE5k",
    "outputId": "6fed3288-86e2-40e5-d0c8-2a2863accdd5"
   },
   "outputs": [
    {
     "name": "stdout",
     "output_type": "stream",
     "text": [
      "main_DataSETS_TRAIN  main_DATASET_VAL  train.zip  val.zip\n"
     ]
    }
   ],
   "source": [
    "!ls"
   ]
  },
  {
   "cell_type": "code",
   "execution_count": 0,
   "metadata": {
    "colab": {},
    "colab_type": "code",
    "id": "Xl0MP82j1PUC"
   },
   "outputs": [],
   "source": [
    "!mv main_DataSETS_TRAIN/ train"
   ]
  },
  {
   "cell_type": "code",
   "execution_count": 0,
   "metadata": {
    "colab": {},
    "colab_type": "code",
    "id": "MFmvnXzh1RR4"
   },
   "outputs": [],
   "source": [
    "!mv main_DATASET_VAL/ val"
   ]
  },
  {
   "cell_type": "code",
   "execution_count": 0,
   "metadata": {
    "colab": {},
    "colab_type": "code",
    "id": "XTu-BzXG1SnQ"
   },
   "outputs": [],
   "source": [
    "!rm -rf train.zip"
   ]
  },
  {
   "cell_type": "code",
   "execution_count": 0,
   "metadata": {
    "colab": {},
    "colab_type": "code",
    "id": "s3M2DmbW1Tq4"
   },
   "outputs": [],
   "source": [
    "!rm -rf val.zip"
   ]
  },
  {
   "cell_type": "code",
   "execution_count": 17,
   "metadata": {
    "colab": {
     "base_uri": "https://localhost:8080/",
     "height": 35
    },
    "colab_type": "code",
    "id": "bMz2tYbB1UmP",
    "outputId": "dd27c284-9415-45b9-f56b-b9facb2effbd"
   },
   "outputs": [
    {
     "name": "stdout",
     "output_type": "stream",
     "text": [
      "train  val\n"
     ]
    }
   ],
   "source": [
    "!ls"
   ]
  },
  {
   "cell_type": "code",
   "execution_count": 0,
   "metadata": {
    "colab": {},
    "colab_type": "code",
    "id": "olp_AHcE1lQ0"
   },
   "outputs": [],
   "source": [
    "!rm -rf __MACOSX"
   ]
  },
  {
   "cell_type": "code",
   "execution_count": 19,
   "metadata": {
    "colab": {
     "base_uri": "https://localhost:8080/",
     "height": 35
    },
    "colab_type": "code",
    "id": "qeEDTIFm1dXA",
    "outputId": "e881c5ba-3076-42c8-a824-8eb5ddaaf427"
   },
   "outputs": [
    {
     "name": "stdout",
     "output_type": "stream",
     "text": [
      "/content\n"
     ]
    }
   ],
   "source": [
    "%cd .."
   ]
  },
  {
   "cell_type": "code",
   "execution_count": 20,
   "metadata": {
    "colab": {
     "base_uri": "https://localhost:8080/",
     "height": 35
    },
    "colab_type": "code",
    "id": "5Kie9w5M1nze",
    "outputId": "d8d7b9a9-f8d0-4d9e-d132-b3dae7263951"
   },
   "outputs": [
    {
     "name": "stdout",
     "output_type": "stream",
     "text": [
      "train  val\n"
     ]
    }
   ],
   "source": [
    "!ls customImages"
   ]
  },
  {
   "cell_type": "code",
   "execution_count": 21,
   "metadata": {
    "colab": {
     "base_uri": "https://localhost:8080/",
     "height": 107
    },
    "colab_type": "code",
    "id": "qsyBuFtZ1qyG",
    "outputId": "7b1f7759-571c-42ab-ec26-5dd6234d3dbe"
   },
   "outputs": [
    {
     "name": "stdout",
     "output_type": "stream",
     "text": [
      "Cloning into 'Mask_RCNN'...\n",
      "remote: Enumerating objects: 956, done.\u001b[K\n",
      "remote: Total 956 (delta 0), reused 0 (delta 0), pack-reused 956\u001b[K\n",
      "Receiving objects: 100% (956/956), 119.70 MiB | 40.28 MiB/s, done.\n",
      "Resolving deltas: 100% (555/555), done.\n"
     ]
    }
   ],
   "source": [
    "!git clone https://github.com/matterport/Mask_RCNN.git"
   ]
  },
  {
   "cell_type": "code",
   "execution_count": 0,
   "metadata": {
    "colab": {},
    "colab_type": "code",
    "id": "6mG8l5mo1xw1"
   },
   "outputs": [],
   "source": [
    "!mv customImages Mask_RCNN/"
   ]
  },
  {
   "cell_type": "code",
   "execution_count": 23,
   "metadata": {
    "colab": {
     "base_uri": "https://localhost:8080/",
     "height": 35
    },
    "colab_type": "code",
    "id": "bvef7cFw1z_G",
    "outputId": "3b5b541e-0d2b-4425-b84e-788a7353d098"
   },
   "outputs": [
    {
     "name": "stdout",
     "output_type": "stream",
     "text": [
      "/content/Mask_RCNN\n"
     ]
    }
   ],
   "source": [
    "%cd Mask_RCNN/"
   ]
  },
  {
   "cell_type": "code",
   "execution_count": 0,
   "metadata": {
    "colab": {},
    "colab_type": "code",
    "id": "c6nZhRBj11WM"
   },
   "outputs": [],
   "source": [
    "!pip install -r requirements.txt"
   ]
  },
  {
   "cell_type": "code",
   "execution_count": 0,
   "metadata": {
    "colab": {},
    "colab_type": "code",
    "id": "NSjJmWPv18Ay"
   },
   "outputs": [],
   "source": [
    "# python setup install\n",
    "%run setup.py install"
   ]
  },
  {
   "cell_type": "code",
   "execution_count": 26,
   "metadata": {
    "colab": {
     "base_uri": "https://localhost:8080/",
     "height": 71
    },
    "colab_type": "code",
    "id": "Y6nksAQf18sF",
    "outputId": "fe4f8911-daa5-490d-f03f-88221b46c40d"
   },
   "outputs": [
    {
     "name": "stdout",
     "output_type": "stream",
     "text": [
      "assets\t      dist     MANIFEST.in\t   README.md\t     setup.cfg\n",
      "build\t      images   mask_rcnn.egg-info  requirements.txt  setup.py\n",
      "customImages  LICENSE  mrcnn\t\t   samples\n"
     ]
    }
   ],
   "source": [
    "!ls"
   ]
  },
  {
   "cell_type": "code",
   "execution_count": 27,
   "metadata": {
    "colab": {
     "base_uri": "https://localhost:8080/",
     "height": 215
    },
    "colab_type": "code",
    "id": "yHX311Vu1-88",
    "outputId": "45a49675-c98c-4ef3-e54d-e4a1114613c4"
   },
   "outputs": [
    {
     "name": "stdout",
     "output_type": "stream",
     "text": [
      "--2019-04-23 09:41:27--  https://raw.githubusercontent.com/priya-dwivedi/Deep-Learning/master/mask_rcnn_damage_detection/custom.py\n",
      "Resolving raw.githubusercontent.com (raw.githubusercontent.com)... 151.101.0.133, 151.101.64.133, 151.101.128.133, ...\n",
      "Connecting to raw.githubusercontent.com (raw.githubusercontent.com)|151.101.0.133|:443... connected.\n",
      "HTTP request sent, awaiting response... 200 OK\n",
      "Length: 13885 (14K) [text/plain]\n",
      "Saving to: ‘custom.py’\n",
      "\n",
      "\r",
      "custom.py             0%[                    ]       0  --.-KB/s               \r",
      "custom.py           100%[===================>]  13.56K  --.-KB/s    in 0.01s   \n",
      "\n",
      "2019-04-23 09:41:28 (1.34 MB/s) - ‘custom.py’ saved [13885/13885]\n",
      "\n"
     ]
    }
   ],
   "source": [
    "!wget https://raw.githubusercontent.com/priya-dwivedi/Deep-Learning/master/mask_rcnn_damage_detection/custom.py"
   ]
  },
  {
   "cell_type": "code",
   "execution_count": 0,
   "metadata": {
    "colab": {},
    "colab_type": "code",
    "id": "b9y2BKXY2Cbc"
   },
   "outputs": [],
   "source": [
    "!mkdir logs"
   ]
  },
  {
   "cell_type": "code",
   "execution_count": 29,
   "metadata": {
    "colab": {
     "base_uri": "https://localhost:8080/",
     "height": 89
    },
    "colab_type": "code",
    "id": "wZIZUHXJ2lPW",
    "outputId": "f0217eba-cc1e-4930-e692-fedc6eea9623"
   },
   "outputs": [
    {
     "name": "stdout",
     "output_type": "stream",
     "text": [
      "assets\t      dist     MANIFEST.in\t   requirements.txt\n",
      "build\t      images   mask_rcnn.egg-info  samples\n",
      "customImages  LICENSE  mrcnn\t\t   setup.cfg\n",
      "custom.py     logs     README.md\t   setup.py\n"
     ]
    }
   ],
   "source": [
    "!ls"
   ]
  },
  {
   "cell_type": "code",
   "execution_count": 30,
   "metadata": {
    "colab": {
     "base_uri": "https://localhost:8080/",
     "height": 35
    },
    "colab_type": "code",
    "id": "IDTrbYCH2mkv",
    "outputId": "dd67d011-7811-420a-94b0-0f9a9fe15df6"
   },
   "outputs": [
    {
     "name": "stderr",
     "output_type": "stream",
     "text": [
      "Using TensorFlow backend.\n"
     ]
    }
   ],
   "source": [
    "import os\n",
    "import sys\n",
    "import itertools\n",
    "import math\n",
    "import logging\n",
    "import json\n",
    "import re\n",
    "import random\n",
    "from collections import OrderedDict\n",
    "import numpy as np\n",
    "import matplotlib\n",
    "import matplotlib.pyplot as plt\n",
    "import matplotlib.patches as patches\n",
    "import matplotlib.lines as lines\n",
    "from matplotlib.patches import Polygon\n",
    "\n",
    "# Root directory of the project\n",
    "ROOT_DIR = os.getcwd()\n",
    "\n",
    "# Import Mask RCNN\n",
    "sys.path.append(ROOT_DIR)  # To find local version of the library\n",
    "from mrcnn import utils\n",
    "from mrcnn import visualize\n",
    "from mrcnn.visualize import display_images\n",
    "import mrcnn.model as modellib\n",
    "from mrcnn.model import log\n",
    "\n",
    "MODEL_DIR = os.path.join(ROOT_DIR, \"logs\")\n",
    "\n",
    "import custom\n",
    "\n",
    "%matplotlib inline"
   ]
  },
  {
   "cell_type": "code",
   "execution_count": 31,
   "metadata": {
    "colab": {
     "base_uri": "https://localhost:8080/",
     "height": 35
    },
    "colab_type": "code",
    "id": "-v-bMZaP2pL2",
    "outputId": "752591db-953b-44b1-c969-6143889a4e84"
   },
   "outputs": [
    {
     "name": "stdout",
     "output_type": "stream",
     "text": [
      "/content/Mask_RCNN/customImages\n"
     ]
    }
   ],
   "source": [
    "config = custom.CustomConfig()\n",
    "CUSTOM_DIR = os.path.join(ROOT_DIR, \"customImages\")\n",
    "print(CUSTOM_DIR)"
   ]
  },
  {
   "cell_type": "code",
   "execution_count": 32,
   "metadata": {
    "colab": {
     "base_uri": "https://localhost:8080/",
     "height": 89
    },
    "colab_type": "code",
    "id": "bOFXAxgk2q5G",
    "outputId": "2e3a2f2f-8b0c-467c-f6bc-8ee195b19222"
   },
   "outputs": [
    {
     "name": "stdout",
     "output_type": "stream",
     "text": [
      "Image Count: 1457\n",
      "Class Count: 2\n",
      "  0. BG                                                \n",
      "  1. damage                                            \n"
     ]
    }
   ],
   "source": [
    "# Load dataset\n",
    "# Get the dataset from the releases page\n",
    "# https://github.com/matterport/Mask_RCNN/releases\n",
    "dataset = custom.CustomDataset()\n",
    "dataset.load_custom(CUSTOM_DIR, \"train\")\n",
    "\n",
    "# Must call before using the dataset\n",
    "dataset.prepare()\n",
    "\n",
    "print(\"Image Count: {}\".format(len(dataset.image_ids)))\n",
    "print(\"Class Count: {}\".format(dataset.num_classes))\n",
    "for i, info in enumerate(dataset.class_info):\n",
    "    print(\"{:3}. {:50}\".format(i, info['name']))"
   ]
  },
  {
   "cell_type": "code",
   "execution_count": 33,
   "metadata": {
    "colab": {
     "base_uri": "https://localhost:8080/",
     "height": 953
    },
    "colab_type": "code",
    "id": "3tKLWt0i2uA2",
    "outputId": "579955cb-3a93-40d1-c8c1-520e83468f73"
   },
   "outputs": [
    {
     "name": "stdout",
     "output_type": "stream",
     "text": [
      "\n",
      "Configurations:\n",
      "BACKBONE                       resnet101\n",
      "BACKBONE_STRIDES               [4, 8, 16, 32, 64]\n",
      "BATCH_SIZE                     1\n",
      "BBOX_STD_DEV                   [0.1 0.1 0.2 0.2]\n",
      "COMPUTE_BACKBONE_SHAPE         None\n",
      "DETECTION_MAX_INSTANCES        100\n",
      "DETECTION_MIN_CONFIDENCE       0.9\n",
      "DETECTION_NMS_THRESHOLD        0.3\n",
      "FPN_CLASSIF_FC_LAYERS_SIZE     1024\n",
      "GPU_COUNT                      1\n",
      "GRADIENT_CLIP_NORM             5.0\n",
      "IMAGES_PER_GPU                 1\n",
      "IMAGE_CHANNEL_COUNT            3\n",
      "IMAGE_MAX_DIM                  1024\n",
      "IMAGE_META_SIZE                14\n",
      "IMAGE_MIN_DIM                  800\n",
      "IMAGE_MIN_SCALE                0\n",
      "IMAGE_RESIZE_MODE              square\n",
      "IMAGE_SHAPE                    [1024 1024    3]\n",
      "LEARNING_MOMENTUM              0.9\n",
      "LEARNING_RATE                  0.001\n",
      "LOSS_WEIGHTS                   {'rpn_class_loss': 1.0, 'rpn_bbox_loss': 1.0, 'mrcnn_class_loss': 1.0, 'mrcnn_bbox_loss': 1.0, 'mrcnn_mask_loss': 1.0}\n",
      "MASK_POOL_SIZE                 14\n",
      "MASK_SHAPE                     [28, 28]\n",
      "MAX_GT_INSTANCES               100\n",
      "MEAN_PIXEL                     [123.7 116.8 103.9]\n",
      "MINI_MASK_SHAPE                (56, 56)\n",
      "NAME                           damage\n",
      "NUM_CLASSES                    2\n",
      "POOL_SIZE                      7\n",
      "POST_NMS_ROIS_INFERENCE        1000\n",
      "POST_NMS_ROIS_TRAINING         2000\n",
      "PRE_NMS_LIMIT                  6000\n",
      "ROI_POSITIVE_RATIO             0.33\n",
      "RPN_ANCHOR_RATIOS              [0.5, 1, 2]\n",
      "RPN_ANCHOR_SCALES              (32, 64, 128, 256, 512)\n",
      "RPN_ANCHOR_STRIDE              1\n",
      "RPN_BBOX_STD_DEV               [0.1 0.1 0.2 0.2]\n",
      "RPN_NMS_THRESHOLD              0.7\n",
      "RPN_TRAIN_ANCHORS_PER_IMAGE    256\n",
      "STEPS_PER_EPOCH                100\n",
      "TOP_DOWN_PYRAMID_SIZE          256\n",
      "TRAIN_BN                       False\n",
      "TRAIN_ROIS_PER_IMAGE           200\n",
      "USE_MINI_MASK                  True\n",
      "USE_RPN_ROIS                   True\n",
      "VALIDATION_STEPS               50\n",
      "WEIGHT_DECAY                   0.0001\n",
      "\n",
      "\n"
     ]
    }
   ],
   "source": [
    "class InferenceConfig(custom.CustomConfig):\n",
    "    # Set batch size to 1 since we'll be running inference on\n",
    "    # one image at a time. Batch size = GPU_COUNT * IMAGES_PER_GPU\n",
    "    GPU_COUNT = 1\n",
    "    IMAGES_PER_GPU = 1\n",
    "\n",
    "config = InferenceConfig()\n",
    "config.display()"
   ]
  },
  {
   "cell_type": "code",
   "execution_count": 0,
   "metadata": {
    "colab": {},
    "colab_type": "code",
    "id": "NLEPCnHo2yBY"
   },
   "outputs": [],
   "source": [
    "#lists the content of your google drive\n",
    "# !ls \"/content/drive/My Drive/Potholes_tataInnoverse/30\""
   ]
  },
  {
   "cell_type": "code",
   "execution_count": 35,
   "metadata": {
    "colab": {
     "base_uri": "https://localhost:8080/",
     "height": 35
    },
    "colab_type": "code",
    "id": "iVzzkk3e2vak",
    "outputId": "494bf70c-84fa-4507-ee2e-9aa5fc8e9b25"
   },
   "outputs": [
    {
     "data": {
      "text/plain": [
       "'/content/mask_rcnn_damage_0594.h5'"
      ]
     },
     "execution_count": 35,
     "metadata": {
      "tags": []
     },
     "output_type": "execute_result"
    }
   ],
   "source": [
    "import shutil\n",
    "shutil.copy('/content/drive/My Drive/Potholes_tataInnoverse/model_maskRCNN/mask_rcnn_damage_0594.h5', '/content/mask_rcnn_damage_0594.h5')"
   ]
  },
  {
   "cell_type": "code",
   "execution_count": 0,
   "metadata": {
    "colab": {},
    "colab_type": "code",
    "id": "c0fll8CIHE0S"
   },
   "outputs": [],
   "source": [
    "!mv /content/mask_rcnn_damage_0594.h5 /content/Mask_RCNN/logs/"
   ]
  },
  {
   "cell_type": "code",
   "execution_count": 37,
   "metadata": {
    "colab": {
     "base_uri": "https://localhost:8080/",
     "height": 35
    },
    "colab_type": "code",
    "id": "NWyHrgb5HIHp",
    "outputId": "562f0f2d-babd-4292-d994-05e869f54756"
   },
   "outputs": [
    {
     "name": "stdout",
     "output_type": "stream",
     "text": [
      "/content/Mask_RCNN\n"
     ]
    }
   ],
   "source": [
    "!pwd"
   ]
  },
  {
   "cell_type": "code",
   "execution_count": 38,
   "metadata": {
    "colab": {
     "base_uri": "https://localhost:8080/",
     "height": 35
    },
    "colab_type": "code",
    "id": "A9iyj43LHQGY",
    "outputId": "47cd9a98-5c28-42e3-986e-681b7ba1d2a8"
   },
   "outputs": [
    {
     "name": "stdout",
     "output_type": "stream",
     "text": [
      "mask_rcnn_damage_0594.h5\n"
     ]
    }
   ],
   "source": [
    "!ls logs"
   ]
  },
  {
   "cell_type": "code",
   "execution_count": 39,
   "metadata": {
    "colab": {
     "base_uri": "https://localhost:8080/",
     "height": 145
    },
    "colab_type": "code",
    "id": "FQZScwkK3Tmg",
    "outputId": "1ed61a54-442c-49f9-c889-de73703f8ef2"
   },
   "outputs": [
    {
     "name": "stderr",
     "output_type": "stream",
     "text": [
      "WARNING:tensorflow:From /usr/local/lib/python3.6/dist-packages/tensorflow/python/framework/op_def_library.py:263: colocate_with (from tensorflow.python.framework.ops) is deprecated and will be removed in a future version.\n",
      "Instructions for updating:\n",
      "Colocations handled automatically by placer.\n",
      "WARNING:tensorflow:From /content/Mask_RCNN/mrcnn/model.py:772: to_float (from tensorflow.python.ops.math_ops) is deprecated and will be removed in a future version.\n",
      "Instructions for updating:\n",
      "Use tf.cast instead.\n"
     ]
    }
   ],
   "source": [
    "# Create model object in inference mode.\n",
    "model = modellib.MaskRCNN(mode=\"inference\", model_dir=MODEL_DIR, config=config)\n",
    "\n",
    "# Load weights trained on MS-COCO\n",
    "model.load_weights(\"logs/mask_rcnn_damage_0594.h5\", by_name=True)"
   ]
  },
  {
   "cell_type": "code",
   "execution_count": 0,
   "metadata": {
    "colab": {},
    "colab_type": "code",
    "id": "6CDWTAz93bqP"
   },
   "outputs": [],
   "source": [
    "class_names = ['BG', 'damage']"
   ]
  },
  {
   "cell_type": "code",
   "execution_count": 41,
   "metadata": {
    "colab": {
     "base_uri": "https://localhost:8080/",
     "height": 89
    },
    "colab_type": "code",
    "id": "wT5JTqeA3ibb",
    "outputId": "23faaf36-3d62-4efb-db6e-470935559fb8"
   },
   "outputs": [
    {
     "name": "stdout",
     "output_type": "stream",
     "text": [
      "Collecting utils\n",
      "  Downloading https://files.pythonhosted.org/packages/9b/de/9ffaf89be661b32d1e0cff05e1af5e4fc2d608c47498975e94aca219aed4/utils-0.9.0-py2.py3-none-any.whl\n",
      "Installing collected packages: utils\n",
      "Successfully installed utils-0.9.0\n"
     ]
    }
   ],
   "source": [
    "!pip install utils"
   ]
  },
  {
   "cell_type": "code",
   "execution_count": 0,
   "metadata": {
    "colab": {},
    "colab_type": "code",
    "id": "U_Qbcc103fem"
   },
   "outputs": [],
   "source": [
    "import os\n",
    "import sys\n",
    "import custom\n",
    "import utils"
   ]
  },
  {
   "cell_type": "code",
   "execution_count": 43,
   "metadata": {
    "colab": {
     "base_uri": "https://localhost:8080/",
     "height": 35
    },
    "colab_type": "code",
    "id": "LECDso3y3g3P",
    "outputId": "ac80b94e-9e49-4159-82a2-a5ca3e230199"
   },
   "outputs": [
    {
     "name": "stdout",
     "output_type": "stream",
     "text": [
      "/content/Mask_RCNN/mrcnn\n"
     ]
    }
   ],
   "source": [
    "%cd mrcnn"
   ]
  },
  {
   "cell_type": "code",
   "execution_count": 0,
   "metadata": {
    "colab": {},
    "colab_type": "code",
    "id": "AoxG4eTN3oEG"
   },
   "outputs": [],
   "source": [
    "import model as modellib"
   ]
  },
  {
   "cell_type": "code",
   "execution_count": 45,
   "metadata": {
    "colab": {
     "base_uri": "https://localhost:8080/",
     "height": 35
    },
    "colab_type": "code",
    "id": "eIBiOOJL3pX9",
    "outputId": "e6df7f19-7c4c-4785-ee2d-972a822c9896"
   },
   "outputs": [
    {
     "name": "stdout",
     "output_type": "stream",
     "text": [
      "/content/Mask_RCNN\n"
     ]
    }
   ],
   "source": [
    "%cd .."
   ]
  },
  {
   "cell_type": "code",
   "execution_count": 0,
   "metadata": {
    "colab": {},
    "colab_type": "code",
    "id": "3LyqChWD3qRm"
   },
   "outputs": [],
   "source": [
    "import cv2\n",
    "import numpy as np"
   ]
  },
  {
   "cell_type": "code",
   "execution_count": 0,
   "metadata": {
    "colab": {},
    "colab_type": "code",
    "id": "A9oddVsZ3rjd"
   },
   "outputs": [],
   "source": [
    "## Testing\n",
    "from PIL import Image, ImageDraw, ImageFont"
   ]
  },
  {
   "cell_type": "markdown",
   "metadata": {
    "colab_type": "text",
    "id": "JdF0Vs1t7iLO"
   },
   "source": [
    "#### MoveOver for Getting Testing Images Similar to S3 Bucket"
   ]
  },
  {
   "cell_type": "code",
   "execution_count": 0,
   "metadata": {
    "colab": {},
    "colab_type": "code",
    "id": "DrvYh7qh3s_N"
   },
   "outputs": [],
   "source": [
    "#start\n",
    "## Folder for the S3 Bucket\n",
    "#lists the content of your google drive\n",
    "# !ls \"/content/drive/My Drive/Potholes_tataInnoverse/S3/\"\n",
    "# !wget https://pradyumgupta.me/Downloads/images.zip\n",
    "!wget https://github.com/Prady96/Pothole-Detection/blob/avi_testing/test_dataset/images_800.tar.gz?raw=true"
   ]
  },
  {
   "cell_type": "code",
   "execution_count": 76,
   "metadata": {
    "colab": {
     "base_uri": "https://localhost:8080/",
     "height": 143
    },
    "colab_type": "code",
    "id": "qZLW3u2jH9Sg",
    "outputId": "15ad0e48-84cd-45ed-8221-2c2870450a45"
   },
   "outputs": [
    {
     "name": "stdout",
     "output_type": "stream",
     "text": [
      " assets\t\t\t       LICENSE\t\t\t     README.md\n",
      " build\t\t\t       logs\t\t\t     requirements.txt\n",
      " customImages\t\t       MANIFEST.in\t\t     S3_Images\n",
      " custom.py\t\t       mask_rcnn.egg-info\t     samples\n",
      " dist\t\t\t       mrcnn\t\t\t     setup.cfg\n",
      " images\t\t\t      'OpenSans-Bold.ttf?raw=true'   setup.py\n",
      "'images_800.tar.gz?raw=true'   __pycache__\n"
     ]
    }
   ],
   "source": [
    "!ls"
   ]
  },
  {
   "cell_type": "code",
   "execution_count": 0,
   "metadata": {
    "colab": {},
    "colab_type": "code",
    "id": "3fOD0cD05Svp"
   },
   "outputs": [],
   "source": [
    "!mkdir S3_Images"
   ]
  },
  {
   "cell_type": "code",
   "execution_count": 73,
   "metadata": {
    "colab": {
     "base_uri": "https://localhost:8080/",
     "height": 107
    },
    "colab_type": "code",
    "id": "tTHxSoRdP-Ha",
    "outputId": "5e3799d3-2d2a-4372-8a93-f4e1989faba8"
   },
   "outputs": [
    {
     "name": "stdout",
     "output_type": "stream",
     "text": [
      " assets         images\t\t     mrcnn\t\t\t   S3_Images\n",
      " build\t        LICENSE\t\t    'OpenSans-Bold.ttf?raw=true'   samples\n",
      " customImages   logs\t\t     __pycache__\t\t   setup.cfg\n",
      " custom.py      MANIFEST.in\t     README.md\t\t\t   setup.py\n",
      " dist\t        mask_rcnn.egg-info   requirements.txt\n"
     ]
    }
   ],
   "source": [
    "!ls"
   ]
  },
  {
   "cell_type": "code",
   "execution_count": 0,
   "metadata": {
    "colab": {},
    "colab_type": "code",
    "id": "PHe_H50T5A_P"
   },
   "outputs": [],
   "source": [
    "!mv images_800.tar.gz?raw=true S3_Images/"
   ]
  },
  {
   "cell_type": "code",
   "execution_count": 78,
   "metadata": {
    "colab": {
     "base_uri": "https://localhost:8080/",
     "height": 35
    },
    "colab_type": "code",
    "id": "nUIbLDsS5dME",
    "outputId": "9f4f444c-d290-4471-bd30-9243a6b68c46"
   },
   "outputs": [
    {
     "name": "stdout",
     "output_type": "stream",
     "text": [
      "/content/Mask_RCNN/S3_Images\n"
     ]
    }
   ],
   "source": [
    "%cd S3_Images/"
   ]
  },
  {
   "cell_type": "code",
   "execution_count": 79,
   "metadata": {
    "colab": {
     "base_uri": "https://localhost:8080/",
     "height": 35
    },
    "colab_type": "code",
    "id": "Ft9VaFzzQpsZ",
    "outputId": "d6ba9426-e87a-4ef8-bb94-eee44ed49527"
   },
   "outputs": [
    {
     "name": "stdout",
     "output_type": "stream",
     "text": [
      "'images_800.tar.gz?raw=true'\n"
     ]
    }
   ],
   "source": [
    "!ls"
   ]
  },
  {
   "cell_type": "code",
   "execution_count": 0,
   "metadata": {
    "colab": {},
    "colab_type": "code",
    "id": "Y3kC3L116MCa"
   },
   "outputs": [],
   "source": [
    "# !unzip images.zip\n",
    "!mv images_800.tar.gz?raw=true images.tar.gz"
   ]
  },
  {
   "cell_type": "code",
   "execution_count": 81,
   "metadata": {
    "colab": {
     "base_uri": "https://localhost:8080/",
     "height": 629
    },
    "colab_type": "code",
    "id": "GTiJdfwoQ2G-",
    "outputId": "97d1c026-9f3e-4e74-f206-920a8e17e3bf"
   },
   "outputs": [
    {
     "name": "stdout",
     "output_type": "stream",
     "text": [
      "images_800/5587.jpg\n",
      "tar: images_800/5587.jpg: time stamp 2019-04-24 16:27:24 is 110205.442510586 s in the future\n",
      "images_800/\n",
      "images_800/4173.jpg\n",
      "tar: images_800/4173.jpg: time stamp 2019-04-24 16:27:24 is 110205.442016066 s in the future\n",
      "images_800/IMG_6746.jpg\n",
      "tar: images_800/IMG_6746.jpg: time stamp 2019-04-24 16:27:24 is 110205.441132193 s in the future\n",
      "images_800/pgm-bw-112-_98.jpg\n",
      "tar: images_800/pgm-bw-112-_98.jpg: time stamp 2019-04-24 16:27:24 is 110205.440823635 s in the future\n",
      "images_800/BulkResizePhotos.html\n",
      "tar: images_800/BulkResizePhotos.html: time stamp 2019-04-24 16:27:24 is 110205.440765112 s in the future\n",
      "images_800/IMG_4991.jpg\n",
      "tar: images_800/IMG_4991.jpg: time stamp 2019-04-24 16:27:24 is 110205.440232562 s in the future\n",
      "images_800/IMG_4453.jpg\n",
      "tar: images_800/IMG_4453.jpg: time stamp 2019-04-24 16:27:24 is 110205.439470784 s in the future\n",
      "images_800/frame3.jpg\n",
      "tar: images_800/frame3.jpg: time stamp 2019-04-24 16:27:24 is 110205.438790144 s in the future\n",
      "images_800/171.jpg\n",
      "tar: images_800/171.jpg: time stamp 2019-04-24 16:27:24 is 110205.438293831 s in the future\n",
      "images_800/351.jpg\n",
      "tar: images_800/351.jpg: time stamp 2019-04-24 16:27:24 is 110205.437836052 s in the future\n",
      "images_800/Muroran_20170921100101.jpg\n",
      "tar: images_800/Muroran_20170921100101.jpg: time stamp 2019-04-24 16:27:24 is 110205.436826279 s in the future\n",
      "images_800/test_275.jpg\n",
      "tar: images_800/test_275.jpg: time stamp 2019-04-24 16:27:24 is 110205.436345157 s in the future\n",
      "images_800/Adachi_20170911112605.jpg\n",
      "tar: images_800/Adachi_20170911112605.jpg: time stamp 2019-04-24 16:27:24 is 110205.435272187 s in the future\n",
      "images_800/Muroran_20170920113720.jpg\n",
      "tar: images_800/Muroran_20170920113720.jpg: time stamp 2019-04-24 16:27:24 is 110205.434631745 s in the future\n",
      "images_800/IMG_9567.jpg\n",
      "tar: images_800/IMG_9567.jpg: time stamp 2019-04-24 16:27:24 is 110205.433633492 s in the future\n",
      "images_800/pgm-bw-115-_145.jpg\n",
      "tar: images_800/pgm-bw-115-_145.jpg: time stamp 2019-04-24 16:27:24 is 110205.433513624 s in the future\n",
      "tar: images_800: time stamp 2019-04-24 16:28:24 is 110265.433353712 s in the future\n"
     ]
    }
   ],
   "source": [
    "!tar xvzf images.tar.gz"
   ]
  },
  {
   "cell_type": "code",
   "execution_count": 85,
   "metadata": {
    "colab": {
     "base_uri": "https://localhost:8080/",
     "height": 161
    },
    "colab_type": "code",
    "id": "r2Pv53TyRC4w",
    "outputId": "2da9d82e-7f4e-46f0-babf-32f8f52420ec"
   },
   "outputs": [
    {
     "name": "stdout",
     "output_type": "stream",
     "text": [
      "171.jpg\t\t\t   IMG_4991.jpg\n",
      "351.jpg\t\t\t   IMG_6746.jpg\n",
      "4173.jpg\t\t   IMG_9567.jpg\n",
      "5587.jpg\t\t   Muroran_20170920113720.jpg\n",
      "Adachi_20170911112605.jpg  Muroran_20170921100101.jpg\n",
      "BulkResizePhotos.html\t   pgm-bw-112-_98.jpg\n",
      "frame3.jpg\t\t   pgm-bw-115-_145.jpg\n",
      "IMG_4453.jpg\t\t   test_275.jpg\n"
     ]
    }
   ],
   "source": [
    "!ls images_800 #/content/Mask_RCNN/S3_Images/images_800"
   ]
  },
  {
   "cell_type": "code",
   "execution_count": 86,
   "metadata": {
    "colab": {
     "base_uri": "https://localhost:8080/",
     "height": 35
    },
    "colab_type": "code",
    "id": "sOSQ2l0ZREr_",
    "outputId": "b2de0f6f-fea9-446a-b45e-2f19a07572fe"
   },
   "outputs": [
    {
     "name": "stdout",
     "output_type": "stream",
     "text": [
      "/content/Mask_RCNN/S3_Images\n"
     ]
    }
   ],
   "source": [
    "!pwd"
   ]
  },
  {
   "cell_type": "code",
   "execution_count": 0,
   "metadata": {
    "colab": {},
    "colab_type": "code",
    "id": "iuO17URuIRGa"
   },
   "outputs": [],
   "source": [
    "# !rm -rf __MACOSX"
   ]
  },
  {
   "cell_type": "code",
   "execution_count": 87,
   "metadata": {
    "colab": {
     "base_uri": "https://localhost:8080/",
     "height": 35
    },
    "colab_type": "code",
    "id": "1uUJ4N_N6SlR",
    "outputId": "047ff76a-f0c8-4520-8448-8e1334d35ada"
   },
   "outputs": [
    {
     "name": "stdout",
     "output_type": "stream",
     "text": [
      "images_800  images.tar.gz\n"
     ]
    }
   ],
   "source": [
    "!ls"
   ]
  },
  {
   "cell_type": "code",
   "execution_count": 0,
   "metadata": {
    "colab": {},
    "colab_type": "code",
    "id": "K2UelXYZ6VfA"
   },
   "outputs": [],
   "source": [
    "!rm -rf images.tar.gz"
   ]
  },
  {
   "cell_type": "code",
   "execution_count": 89,
   "metadata": {
    "colab": {
     "base_uri": "https://localhost:8080/",
     "height": 35
    },
    "colab_type": "code",
    "id": "3q7LH3SuIhqv",
    "outputId": "2639309c-8d9f-4328-d596-e49f1168982e"
   },
   "outputs": [
    {
     "name": "stdout",
     "output_type": "stream",
     "text": [
      "/content/Mask_RCNN/S3_Images\n"
     ]
    }
   ],
   "source": [
    "!pwd"
   ]
  },
  {
   "cell_type": "code",
   "execution_count": 90,
   "metadata": {
    "colab": {
     "base_uri": "https://localhost:8080/",
     "height": 35
    },
    "colab_type": "code",
    "id": "7048oUalIjSx",
    "outputId": "c5861769-763e-4341-f9d8-5e75db0668bf"
   },
   "outputs": [
    {
     "name": "stdout",
     "output_type": "stream",
     "text": [
      "/content/Mask_RCNN\n"
     ]
    }
   ],
   "source": [
    "%cd .."
   ]
  },
  {
   "cell_type": "code",
   "execution_count": 91,
   "metadata": {
    "colab": {
     "base_uri": "https://localhost:8080/",
     "height": 35
    },
    "colab_type": "code",
    "id": "-PXrwM5f61OB",
    "outputId": "db45d363-1845-431f-fdb5-dea9e91467cc"
   },
   "outputs": [
    {
     "name": "stdout",
     "output_type": "stream",
     "text": [
      "/content/Mask_RCNN\n"
     ]
    }
   ],
   "source": [
    "#end\n",
    "%cd /content/Mask_RCNN/"
   ]
  },
  {
   "cell_type": "code",
   "execution_count": 92,
   "metadata": {
    "colab": {
     "base_uri": "https://localhost:8080/",
     "height": 107
    },
    "colab_type": "code",
    "id": "Oov5XIGI7LEU",
    "outputId": "11aec7f2-4050-49db-8d04-d717ec73053a"
   },
   "outputs": [
    {
     "name": "stdout",
     "output_type": "stream",
     "text": [
      " assets         images\t\t     mrcnn\t\t\t   S3_Images\n",
      " build\t        LICENSE\t\t    'OpenSans-Bold.ttf?raw=true'   samples\n",
      " customImages   logs\t\t     __pycache__\t\t   setup.cfg\n",
      " custom.py      MANIFEST.in\t     README.md\t\t\t   setup.py\n",
      " dist\t        mask_rcnn.egg-info   requirements.txt\n"
     ]
    }
   ],
   "source": [
    "!ls"
   ]
  },
  {
   "cell_type": "code",
   "execution_count": 93,
   "metadata": {
    "colab": {
     "base_uri": "https://localhost:8080/",
     "height": 35
    },
    "colab_type": "code",
    "id": "yXsOv5dSzGHX",
    "outputId": "faa5ddad-bc31-4899-89e1-b923f93c0401"
   },
   "outputs": [
    {
     "name": "stdout",
     "output_type": "stream",
     "text": [
      "images_800\n"
     ]
    }
   ],
   "source": [
    "!ls S3_Images"
   ]
  },
  {
   "cell_type": "code",
   "execution_count": 94,
   "metadata": {
    "colab": {
     "base_uri": "https://localhost:8080/",
     "height": 35
    },
    "colab_type": "code",
    "id": "e4s_BG267MLY",
    "outputId": "64875203-ea58-4d97-b8e6-969f3dcabd8c"
   },
   "outputs": [
    {
     "name": "stdout",
     "output_type": "stream",
     "text": [
      "/content/Mask_RCNN/S3_Images/images_800\n"
     ]
    }
   ],
   "source": [
    "%cd /content/Mask_RCNN/S3_Images/images_800"
   ]
  },
  {
   "cell_type": "code",
   "execution_count": 0,
   "metadata": {
    "colab": {},
    "colab_type": "code",
    "id": "vpC9qedd7tWQ"
   },
   "outputs": [],
   "source": [
    "!pip install python-resize-image"
   ]
  },
  {
   "cell_type": "code",
   "execution_count": 0,
   "metadata": {
    "colab": {},
    "colab_type": "code",
    "id": "XDaoNkf27u39"
   },
   "outputs": [],
   "source": [
    "from PIL import Image\n",
    "import os\n",
    "from resizeimage import resizeimage\n",
    "\n",
    "count = 0\n",
    "\n",
    "for f in os.listdir(os.getcwd()):\n",
    "    f_name, f_ext = os.path.splitext(f)\n",
    "#     f_random, f_lat_name,f_lat_val,f_long_name,f_long_val = f_name.split('-')\n",
    "#     f_lat_val = f_lat_val.strip() ##removing the white Space\n",
    "#     f_long_val = f_long_val.strip()\n",
    "#     new_name = '{}-{}-{}.jpg'.format(f_lat_val,f_long_val,count)\n",
    "    try:\n",
    "        with Image.open(f) as image:\n",
    "            count +=1\n",
    "            cover = resizeimage.resize_cover(image, [600,600])\n",
    "            cover.save('{}{}'.format(f_name,f_ext),image.format)\n",
    "            #os.remove(f)\n",
    "            print(count)\n",
    "    except(OSError) as e:\n",
    "        print('Bad Image {}{}'.format(f,count))"
   ]
  },
  {
   "cell_type": "code",
   "execution_count": 97,
   "metadata": {
    "colab": {
     "base_uri": "https://localhost:8080/",
     "height": 35
    },
    "colab_type": "code",
    "id": "xd45YnP67x8a",
    "outputId": "036b47d3-035c-44c2-d936-0fa3e83d87bb"
   },
   "outputs": [
    {
     "name": "stdout",
     "output_type": "stream",
     "text": [
      "/content/Mask_RCNN\n"
     ]
    }
   ],
   "source": [
    "%cd /content/Mask_RCNN/"
   ]
  },
  {
   "cell_type": "code",
   "execution_count": 0,
   "metadata": {
    "colab": {},
    "colab_type": "code",
    "id": "GGSnxX5RD-a7"
   },
   "outputs": [],
   "source": [
    "!wget https://github.com/Prady96/IITM_PythonTraining/blob/master/ImageWorking_add_textInImage/fonts_Dir/OpenSans-Bold.ttf?raw=true"
   ]
  },
  {
   "cell_type": "code",
   "execution_count": 0,
   "metadata": {
    "colab": {},
    "colab_type": "code",
    "id": "yOJngNydECb4"
   },
   "outputs": [],
   "source": [
    "!mv OpenSans-Bold.ttf?raw=true OpenSans-Bold.ttf"
   ]
  },
  {
   "cell_type": "code",
   "execution_count": 100,
   "metadata": {
    "colab": {
     "base_uri": "https://localhost:8080/",
     "height": 143
    },
    "colab_type": "code",
    "id": "a9JAjqyeEpbM",
    "outputId": "23513c67-ae11-4edd-e735-f3e145d87095"
   },
   "outputs": [
    {
     "name": "stdout",
     "output_type": "stream",
     "text": [
      " assets         logs\t\t\t        README.md\n",
      " build\t        MANIFEST.in\t\t        requirements.txt\n",
      " customImages   mask_rcnn.egg-info\t        S3_Images\n",
      " custom.py      mrcnn\t\t\t        samples\n",
      " dist\t        OpenSans-Bold.ttf\t        setup.cfg\n",
      " images        'OpenSans-Bold.ttf?raw=true.1'   setup.py\n",
      " LICENSE        __pycache__\n"
     ]
    }
   ],
   "source": [
    "!ls"
   ]
  },
  {
   "cell_type": "code",
   "execution_count": 0,
   "metadata": {
    "colab": {},
    "colab_type": "code",
    "id": "Alkluh9k8ca1"
   },
   "outputs": [],
   "source": [
    "# Main file for the file iteration\n",
    "import cv2\n",
    "import numpy as np\n",
    "from PIL import Image, ImageDraw, ImageFont\n",
    "myList = [] ## area list\n",
    "classList = [] ##class Id List\n",
    "\n",
    "def random_colors(N):\n",
    "    np.random.seed(1)\n",
    "    colors = [tuple(255 * np.random.rand(3)) for _ in range(N)]\n",
    "    return colors\n",
    "\n",
    "\n",
    "def apply_mask(image, mask, color, alpha=0.5):\n",
    "    \"\"\"apply mask to image\"\"\"\n",
    "    for n, c in enumerate(color):\n",
    "        image[:, :, n] = np.where(\n",
    "            mask == 1,\n",
    "            image[:, :, n] * (1 - alpha) + alpha * c,\n",
    "            image[:, :, n]\n",
    "        )\n",
    "    return image\n",
    "\n",
    "\n",
    "def display_instances(image, boxes, masks, ids, names, scores):\n",
    "    \"\"\"\n",
    "        take the image and results and apply the mask, box, and Label\n",
    "    \"\"\"\n",
    "    n_instances = boxes.shape[0]\n",
    "    colors = random_colors(n_instances)\n",
    "\n",
    "    if not n_instances:\n",
    "        print('NO INSTANCES TO DISPLAY')\n",
    "    else:\n",
    "        assert boxes.shape[0] == masks.shape[-1] == ids.shape[0]\n",
    "\n",
    "    for i, color in enumerate(colors):\n",
    "        if not np.any(boxes[i]):\n",
    "            continue\n",
    "\n",
    "        y1, x1, y2, x2 = boxes[i]\n",
    "        label = names[ids[i]]\n",
    "        score = scores[i] if scores is not None else None\n",
    "        caption = '{} {:.2f}'.format(label, score) if score else label\n",
    "        mask = masks[:, :, i]\n",
    "\n",
    "        image = apply_mask(image, mask, color)\n",
    "        image = cv2.rectangle(image, (x1, y1), (x2, y2), color, 2)\n",
    "        image = cv2.putText(\n",
    "            image, caption, (x1, y1), cv2.FONT_HERSHEY_COMPLEX, 0.7, color, 2\n",
    "        )\n",
    "\n",
    "    return image\n",
    "\n",
    "\n",
    "def save_image(image, image_name, boxes, masks, class_ids, scores, class_names, filter_classs_names=None,\n",
    "               scores_thresh=0.1, save_dir=None, mode=0):\n",
    "    \"\"\"\n",
    "        image: image array\n",
    "        image_name: image name\n",
    "        boxes: [num_instance, (y1, x1, y2, x2, class_id)] in image coordinates.\n",
    "        masks: [num_instances, height, width]\n",
    "        class_ids: [num_instances]\n",
    "        scores: confidence scores for each box\n",
    "        class_names: list of class names of the dataset\n",
    "        filter_classs_names: (optional) list of class names we want to draw\n",
    "        scores_thresh: (optional) threshold of confidence scores\n",
    "        save_dir: (optional) the path to store image\n",
    "        mode: (optional) select the result which you want\n",
    "                mode = 0 , save image with bbox,class_name,score and mask;\n",
    "                mode = 1 , save image with bbox,class_name and score;\n",
    "                mode = 2 , save image with class_name,score and mask;\n",
    "                mode = 3 , save mask with black background;\n",
    "    \"\"\"\n",
    "    mode_list = [0, 1, 2, 3]\n",
    "    assert mode in mode_list, \"mode's value should in mode_list %s\" % str(mode_list)\n",
    "\n",
    "    if save_dir is None:\n",
    "        save_dir = os.path.join(os.getcwd(), \"output\")\n",
    "        if not os.path.exists(save_dir):\n",
    "            os.makedirs(save_dir)\n",
    "\n",
    "    useful_mask_indices = []\n",
    "\n",
    "    N = boxes.shape[0]\n",
    "    if not N:\n",
    "        print(\"\\n*** No instances in image %s to draw *** \\n\" % (image_name))\n",
    "        return\n",
    "    else:\n",
    "        assert boxes.shape[0] == masks.shape[-1] == class_ids.shape[0]\n",
    "\n",
    "    for i in range(N):\n",
    "        # filter\n",
    "        class_id = class_ids[i]\n",
    "        score = scores[i] if scores is not None else None\n",
    "        if score is None or score < scores_thresh:\n",
    "            continue\n",
    "\n",
    "        label = class_names[class_id]\n",
    "        if (filter_classs_names is not None) and (label not in filter_classs_names):\n",
    "            continue\n",
    "\n",
    "        if not np.any(boxes[i]):\n",
    "            # Skip this instance. Has no bbox. Likely lost in image cropping.\n",
    "            continue\n",
    "\n",
    "        useful_mask_indices.append(i)\n",
    "\n",
    "    if len(useful_mask_indices) == 0:\n",
    "        print(\"\\n*** No instances in image %s to draw *** \\n\" % (image_name))\n",
    "        return\n",
    "\n",
    "    colors = random_colors(len(useful_mask_indices))\n",
    "\n",
    "    if mode != 3:\n",
    "        masked_image = image.astype(np.uint8).copy()\n",
    "    else:\n",
    "        masked_image = np.zeros(image.shape).astype(np.uint8)\n",
    "\n",
    "    if mode != 1:\n",
    "        for index, value in enumerate(useful_mask_indices):\n",
    "            masked_image = apply_mask(masked_image, masks[:, :, value], colors[index])\n",
    "\n",
    "    masked_image = Image.fromarray(masked_image)\n",
    "\n",
    "    if mode == 3:\n",
    "        masked_image.save(os.path.join(save_dir, '%s.jpg' % (image_name)))\n",
    "        return\n",
    "\n",
    "    draw = ImageDraw.Draw(masked_image)\n",
    "    colors = np.array(colors).astype(int) * 255\n",
    "\n",
    "    myList = []\n",
    "    countClassIds = 0\n",
    "    \n",
    "    for index, value in enumerate(useful_mask_indices):\n",
    "        class_id = class_ids[value]\n",
    "        print('class_id value is {}'.format(class_id))\n",
    "        if class_id == 1:\n",
    "          countClassIds += 1\n",
    "        print('counter for the class ID {}'.format(countClassIds))\n",
    "        \n",
    "        \n",
    "        score = scores[value]\n",
    "        label = class_names[class_id]\n",
    "\n",
    "        y1, x1, y2, x2 = boxes[value]\n",
    "        \n",
    "#         myList = []\n",
    "        \n",
    "        ## area of the rectangle\n",
    "        yVal = y2 - y1\n",
    "        xVal = x2 - x1\n",
    "        area = xVal * yVal\n",
    "        print('area is {}'.format(area))\n",
    "        myList.append(area)\n",
    "        \n",
    "        if mode != 2:\n",
    "            color = tuple(colors[index])\n",
    "            draw.rectangle((x1, y1, x2, y2), outline=color)\n",
    "\n",
    "        # Label\n",
    "#         font = ImageFont.load('/usr/share/fonts/truetype/ttf-bitstream-vera/Vera.ttf')\n",
    "        font = ImageFont.truetype('OpenSans-Bold.ttf', 15)\n",
    "        draw.text((x1, y1), \"%s %f\" % (label, score), (255, 255, 255), font)\n",
    "\n",
    "    print(r['class_ids'], r['scores'])\n",
    "    print(myList)\n",
    "#     print('value of r is {}'.format(r))\n",
    "    print('image_name is {}'.format(image_name))\n",
    "\n",
    "    image_name = os.path.basename(image_name)\n",
    "    print('image name is {}'.format(image_name))\n",
    "\n",
    "    f_name, f_ext = os.path.splitext(image_name)\n",
    "    #f_lat_val,f_long_val,f_count = f_name.split('-')\n",
    "\n",
    "    #f_lat_val = f_lat_val.strip() ##removing the white Space\n",
    "    #f_long_val = f_long_val.strip()\n",
    "\n",
    "#     new_name = '{}-{}-{}.jpg'.format(f_lat_val,f_long_val,count)\n",
    "#     print([area for area in myList if ])\n",
    "#       print([i for i in range(countClassIds) ])\n",
    "      \n",
    "    print(\"avi96 {}\".format(myList[:countClassIds]))\n",
    "#     myList.pop(countClassIds - 1)\n",
    "    \n",
    "    new_name = '{}-{}.jpg'.format(myList, r['scores'])\n",
    "#     masked_image.save(os.path.join(save_dir, '%s.jpg' % (image_name)))\n",
    "    print(\"New Name file is {}\".format(new_name))\n",
    "    print('save_dir is {}'.format(save_dir))\n",
    "    masked_image.save(os.path.join(save_dir, '%s' % (new_name)))\n",
    "    print('file Saved {}'.format(new_name))\n",
    "#     os.rename(image_name, new_name)\n",
    "\n",
    "\n",
    "\n",
    "if __name__ == '__main__':\n",
    "    \"\"\"\n",
    "        test everything\n",
    "    \"\"\"\n",
    "    import os\n",
    "    import sys\n",
    "    import custom\n",
    "    import utils\n",
    "    import model as modellib\n",
    "    #import visualize\n",
    "\n",
    "    # We use a K80 GPU with 24GB memory, which can fit 3 images.\n",
    "    batch_size = 3\n",
    "\n",
    "    ROOT_DIR = os.getcwd()\n",
    "    MODEL_DIR = os.path.join(ROOT_DIR, \"logs\")\n",
    "    VIDEO_DIR = os.path.join(ROOT_DIR, \"videos\")\n",
    "    VIDEO_SAVE_DIR = os.path.join(VIDEO_DIR, \"save\")\n",
    "#     COCO_MODEL_PATH = os.path.join(ROOT_DIR, \"mask_rcnn_damage_0010.h5\")\n",
    "#     if not os.path.exists(COCO_MODEL_PATH):\n",
    "#         utils.download_trained_weights(COCO_MODEL_PATH)\n",
    "\n",
    "    class InferenceConfig(custom.CustomConfig):\n",
    "        GPU_COUNT = 1\n",
    "        IMAGES_PER_GPU = batch_size\n",
    "\n",
    "    config = InferenceConfig()\n",
    "    config.display()\n",
    "\n",
    "    model = modellib.MaskRCNN(\n",
    "        mode=\"inference\", model_dir=MODEL_DIR, config=config\n",
    "    )\n",
    "    model.load_weights(\"logs/mask_rcnn_damage_0594.h5\", by_name=True)\n",
    "    class_names = [\n",
    "        'BG', 'damage'\n",
    "    ]\n",
    "\n",
    "#     capture = cv2.VideoCapture(os.path.join(VIDEO_DIR, 'trailer1.mp4'))\n",
    "    try:\n",
    "        if not os.path.exists(VIDEO_SAVE_DIR):\n",
    "            os.makedirs(VIDEO_SAVE_DIR)\n",
    "    except OSError:\n",
    "        print ('Error: Creating directory of data')\n",
    "\n",
    "    # points to be done before final coding\n",
    "    \"\"\"\n",
    "    path_for_image_dir\n",
    "    list for the image array\n",
    "    resolve for naming convention for location basis\n",
    "    passing image in model\n",
    "    \"\"\"\n",
    "\n",
    "    # path for the data files\n",
    "    data_path = '/content/Mask_RCNN/S3_Images/images_800/'\n",
    "    onlyfiles = [f for f in os.listdir(data_path) if os.path.isfile(os.path.join(data_path, f))]\n",
    "\n",
    "    # empty list for the training data\n",
    "    frames = []\n",
    "    frame_count = 0\n",
    "    batch_count = 1\n",
    "\n",
    "    # enumerate the iteration with number of files\n",
    "    for j, files in enumerate(onlyfiles):\n",
    "        image_path = data_path + onlyfiles[j]\n",
    "#         print(\"image Path {}\".format(image_path))\n",
    "#         print(\"Only Files {}\".format(onlyfiles[j]))\n",
    "#         print('j is {}'.format(j))\n",
    "#         print('files is {}'.format(files))\n",
    "        try:\n",
    "            images = cv2.imread(image_path).astype(np.uint8)\n",
    "#             print(\"images {}\".format(images))\n",
    "            frames.append(np.asarray(images, dtype=np.uint8))\n",
    "  #         frames.append(images)\n",
    "            frame_count += 1\n",
    "            print('frame_count :{0}'.format(frame_count))\n",
    "            if len(frames) == batch_size:\n",
    "                results = model.detect(frames, verbose=0)\n",
    "                print('Predicted')\n",
    "                for i, item in enumerate(zip(frames, results)):\n",
    "#                     print('i is {}'.format(i))\n",
    "#                     print('item is {}'.format(item))\n",
    "                    frame = item[0]\n",
    "                    r = item[1]\n",
    "                    frame = display_instances(\n",
    "                      frame, r['rois'], r['masks'], r['class_ids'], class_names, r['scores']\n",
    "                    )\n",
    "                    name = '{}'.format(files)\n",
    "                    name = os.path.join(VIDEO_SAVE_DIR, name)\n",
    "#                     name = '{0}.jpg'.format(frame_count + i - batch_size)\n",
    "#                     name = os.path.join(VIDEO_SAVE_DIR, name)\n",
    "#                   cv2.imwrite(name, frame)\n",
    "#                     print(name)\n",
    "                    print('writing to file:{0}'.format(name))\n",
    "#                     print(name)\n",
    "                    save_image(images, name, r['rois'], r['masks'], r['class_ids'],\n",
    "                             r['scores'], class_names, save_dir=VIDEO_SAVE_DIR, mode=0)\n",
    "                frames = []\n",
    "                print('clear')\n",
    "              # clear the frames here\n",
    "\n",
    "        except(AttributeError) as e:\n",
    "            print('Bad Image {}'.format(image_path))\n",
    "\n",
    "    print(\"Success, check the folder\")\n",
    "\n",
    "\n",
    "\"\"\"\n",
    "    ## Code for the video section\n",
    "    frames = []\n",
    "    frame_count = 0\n",
    "    # these 2 lines can be removed if you dont have a 1080p camera.\n",
    "    capture.set(cv2.CAP_PROP_FRAME_WIDTH, 1920)\n",
    "    capture.set(cv2.CAP_PROP_FRAME_HEIGHT, 1080)\n",
    "\n",
    "\n",
    "    while True:\n",
    "        ret, frame = capture.read()\n",
    "        # Bail out when the video file ends\n",
    "        if not ret:\n",
    "            break\n",
    "\n",
    "        # Save each frame of the video to a list\n",
    "        frame_count += 1\n",
    "        frames.append(frame)\n",
    "        print('frame_count :{0}'.format(frame_count))\n",
    "        if len(frames) == batch_size:\n",
    "            results = model.detect(frames, verbose=0)\n",
    "            print('Predicted')\n",
    "            for i, item in enumerate(zip(frames, results)):\n",
    "                frame = item[0]\n",
    "                r = item[1]\n",
    "                frame = display_instances(\n",
    "                    frame, r['rois'], r['masks'], r['class_ids'], class_names, r['scores']\n",
    "                )\n",
    "#                 name = '{0}.jpg'.format(frame_count + i - batch_size)\n",
    "#                 name = os.path.join(VIDEO_SAVE_DIR, name)\n",
    "#                 cv2.imwrite(name, frame)\n",
    "#                 print('writing to file:{0}'.format(name))\n",
    "                ## add visualise files\n",
    "#                 visualize.display_instances(image, r['rois'], r['masks'], r['class_ids'],\n",
    "#                             class_names, r['scores'])\n",
    "                save_image(image, name, r['rois'], r['masks'], r['class_ids'],\n",
    "                                     r['scores'],class_names, save_dir=VIDEO_SAVE_DIR, mode=0)\n",
    "#                 print(r['class_ids'], r['scores'])\n",
    "\n",
    "            # Clear the frames array to start the next batch\n",
    "            frames = []\n",
    "\n",
    "    capture.release()\n",
    "\"\"\"\n"
   ]
  },
  {
   "cell_type": "code",
   "execution_count": 107,
   "metadata": {
    "colab": {
     "base_uri": "https://localhost:8080/",
     "height": 125
    },
    "colab_type": "code",
    "id": "85-4lWjl8kAd",
    "outputId": "d87f22a3-cb8c-45dd-8afc-453aad303143"
   },
   "outputs": [
    {
     "name": "stdout",
     "output_type": "stream",
     "text": [
      " assets         LICENSE\t\t    'OpenSans-Bold.ttf?raw=true.1'   save.zip\n",
      " build\t        logs\t\t     __pycache__\t\t     setup.cfg\n",
      " customImages   MANIFEST.in\t     README.md\t\t\t     setup.py\n",
      " custom.py      mask_rcnn.egg-info   requirements.txt\t\t     videos\n",
      " dist\t        mrcnn\t\t     S3_Images\n",
      " images         OpenSans-Bold.ttf    samples\n"
     ]
    }
   ],
   "source": [
    "!ls"
   ]
  },
  {
   "cell_type": "code",
   "execution_count": 108,
   "metadata": {
    "colab": {
     "base_uri": "https://localhost:8080/",
     "height": 215
    },
    "colab_type": "code",
    "id": "F8MRF4Bx8meE",
    "outputId": "8507bda7-9f44-4b2e-b1bd-511c07480c3c"
   },
   "outputs": [
    {
     "name": "stdout",
     "output_type": "stream",
     "text": [
      "'[1080, 24640, 1225, 8330]-[0.9986259 0.9895922 0.9852962 0.9636315].jpg'\n",
      "'[1440, 1210]-[0.9954249 0.9007975].jpg'\n",
      "'[1640, 1431, 2849, 429, 364, 1083, 1430]-[0.9984597  0.9945833  0.98443395 0.963473   0.95023036 0.9433006'$'\\n'' 0.9117861 ].jpg'\n",
      "'[168, 270, 105, 3276]-[0.9946531  0.9654704  0.96345556 0.91592526].jpg'\n",
      "'[2700, 540]-[0.99903727 0.9369877 ].jpg'\n",
      "'[2781, 518]-[0.99927026 0.90588623].jpg'\n",
      "'[32844, 11781, 1378, 18204]-[0.9984633  0.9945661  0.94000345 0.93494743].jpg'\n",
      "'[4176]-[0.9218931].jpg'\n",
      "'[5355, 598]-[0.9951043 0.979298 ].jpg'\n",
      "'[585]-[0.99658173].jpg'\n",
      "'[8549, 12648, 10249, 9207]-[0.99725014 0.98441595 0.96100074 0.91744643].jpg'\n"
     ]
    }
   ],
   "source": [
    "!ls /content/Mask_RCNN/videos/save/"
   ]
  },
  {
   "cell_type": "code",
   "execution_count": 109,
   "metadata": {
    "colab": {
     "base_uri": "https://localhost:8080/",
     "height": 253
    },
    "colab_type": "code",
    "id": "EZh7pPxb_Kl_",
    "outputId": "f48ec4c9-ecd7-4d9f-c654-79e281903e9c"
   },
   "outputs": [
    {
     "name": "stdout",
     "output_type": "stream",
     "text": [
      "updating: content/Mask_RCNN/videos/save/ (stored 0%)\n",
      "  adding: content/Mask_RCNN/videos/save/[2700, 540]-[0.99903727 0.9369877 ].jpg (deflated 1%)\n",
      "  adding: content/Mask_RCNN/videos/save/[4176]-[0.9218931].jpg (deflated 0%)\n",
      "  adding: content/Mask_RCNN/videos/save/[32844, 11781, 1378, 18204]-[0.9984633  0.9945661  0.94000345 0.93494743].jpg (deflated 0%)\n",
      "  adding: content/Mask_RCNN/videos/save/[5355, 598]-[0.9951043 0.979298 ].jpg (deflated 2%)\n",
      "  adding: content/Mask_RCNN/videos/save/[585]-[0.99658173].jpg (deflated 2%)\n",
      "  adding: content/Mask_RCNN/videos/save/[1440, 1210]-[0.9954249 0.9007975].jpg (deflated 1%)\n",
      "  adding: content/Mask_RCNN/videos/save/[1080, 24640, 1225, 8330]-[0.9986259 0.9895922 0.9852962 0.9636315].jpg (deflated 1%)\n",
      "  adding: content/Mask_RCNN/videos/save/[168, 270, 105, 3276]-[0.9946531  0.9654704  0.96345556 0.91592526].jpg (deflated 0%)\n",
      "  adding: content/Mask_RCNN/videos/save/[8549, 12648, 10249, 9207]-[0.99725014 0.98441595 0.96100074 0.91744643].jpg (deflated 1%)\n",
      "  adding: content/Mask_RCNN/videos/save/[2781, 518]-[0.99927026 0.90588623].jpg (deflated 0%)\n",
      "  adding: content/Mask_RCNN/videos/save/[1640, 1431, 2849, 429, 364, 1083, 1430]-[0.9984597  0.9945833  0.98443395 0.963473   0.95023036 0.9433006^J 0.9117861 ].jpg (deflated 0%)\n"
     ]
    }
   ],
   "source": [
    "!zip -r save.zip /content/Mask_RCNN/videos/save/"
   ]
  },
  {
   "cell_type": "code",
   "execution_count": 0,
   "metadata": {
    "colab": {},
    "colab_type": "code",
    "id": "acdqgs2tJ3u7"
   },
   "outputs": [],
   "source": []
  }
 ],
 "metadata": {
  "accelerator": "GPU",
  "colab": {
   "include_colab_link": true,
   "name": "TechFest Project 2019 PSA.ipynb",
   "provenance": [],
   "version": "0.3.2"
  },
  "kernelspec": {
   "display_name": "Python 3",
   "language": "python",
   "name": "python3"
  },
  "language_info": {
   "codemirror_mode": {
    "name": "ipython",
    "version": 3
   },
   "file_extension": ".py",
   "mimetype": "text/x-python",
   "name": "python",
   "nbconvert_exporter": "python",
   "pygments_lexer": "ipython3",
   "version": "3.5.2"
  }
 },
 "nbformat": 4,
 "nbformat_minor": 1
}
