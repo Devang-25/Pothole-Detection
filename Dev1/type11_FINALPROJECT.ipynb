{
  "nbformat": 4,
  "nbformat_minor": 0,
  "metadata": {
    "colab": {
      "name": "type11_FINALPROJECT.ipynb",
      "version": "0.3.2",
      "provenance": [],
      "include_colab_link": true
    },
    "kernelspec": {
      "name": "python3",
      "display_name": "Python 3"
    },
    "accelerator": "GPU"
  },
  "cells": [
    {
      "cell_type": "markdown",
      "metadata": {
        "id": "view-in-github",
        "colab_type": "text"
      },
      "source": [
        "<a href=\"https://colab.research.google.com/github/Prady96/Pothole-Detection/blob/develop/type11_FINALPROJECT.ipynb\" target=\"_parent\"><img src=\"https://colab.research.google.com/assets/colab-badge.svg\" alt=\"Open In Colab\"/></a>"
      ]
    },
    {
      "metadata": {
        "id": "8hMrfhC9z0y0",
        "colab_type": "code",
        "outputId": "01ca983b-d826-4f08-f708-8f6bccfa7402",
        "colab": {
          "base_uri": "https://localhost:8080/",
          "height": 1031
        }
      },
      "cell_type": "code",
      "source": [
        "# Load the Drive helper and mount\n",
        "from google.colab import drive\n",
        "\n",
        "# This will prompt for authorization.\n",
        "drive.mount(\"/content/drive\", force_remount=True)"
      ],
      "execution_count": 0,
      "outputs": [
        {
          "output_type": "error",
          "ename": "KeyboardInterrupt",
          "evalue": "ignored",
          "traceback": [
            "\u001b[0;31m---------------------------------------------------------------------------\u001b[0m",
            "\u001b[0;31mKeyboardInterrupt\u001b[0m                         Traceback (most recent call last)",
            "\u001b[0;32m/usr/local/lib/python3.6/dist-packages/ipykernel/kernelbase.py\u001b[0m in \u001b[0;36m_input_request\u001b[0;34m(self, prompt, ident, parent, password)\u001b[0m\n\u001b[1;32m    729\u001b[0m             \u001b[0;32mtry\u001b[0m\u001b[0;34m:\u001b[0m\u001b[0;34m\u001b[0m\u001b[0;34m\u001b[0m\u001b[0m\n\u001b[0;32m--> 730\u001b[0;31m                 \u001b[0mident\u001b[0m\u001b[0;34m,\u001b[0m \u001b[0mreply\u001b[0m \u001b[0;34m=\u001b[0m \u001b[0mself\u001b[0m\u001b[0;34m.\u001b[0m\u001b[0msession\u001b[0m\u001b[0;34m.\u001b[0m\u001b[0mrecv\u001b[0m\u001b[0;34m(\u001b[0m\u001b[0mself\u001b[0m\u001b[0;34m.\u001b[0m\u001b[0mstdin_socket\u001b[0m\u001b[0;34m,\u001b[0m \u001b[0;36m0\u001b[0m\u001b[0;34m)\u001b[0m\u001b[0;34m\u001b[0m\u001b[0;34m\u001b[0m\u001b[0m\n\u001b[0m\u001b[1;32m    731\u001b[0m             \u001b[0;32mexcept\u001b[0m \u001b[0mException\u001b[0m\u001b[0;34m:\u001b[0m\u001b[0;34m\u001b[0m\u001b[0;34m\u001b[0m\u001b[0m\n",
            "\u001b[0;32m/usr/local/lib/python3.6/dist-packages/jupyter_client/session.py\u001b[0m in \u001b[0;36mrecv\u001b[0;34m(self, socket, mode, content, copy)\u001b[0m\n\u001b[1;32m    802\u001b[0m         \u001b[0;32mtry\u001b[0m\u001b[0;34m:\u001b[0m\u001b[0;34m\u001b[0m\u001b[0;34m\u001b[0m\u001b[0m\n\u001b[0;32m--> 803\u001b[0;31m             \u001b[0mmsg_list\u001b[0m \u001b[0;34m=\u001b[0m \u001b[0msocket\u001b[0m\u001b[0;34m.\u001b[0m\u001b[0mrecv_multipart\u001b[0m\u001b[0;34m(\u001b[0m\u001b[0mmode\u001b[0m\u001b[0;34m,\u001b[0m \u001b[0mcopy\u001b[0m\u001b[0;34m=\u001b[0m\u001b[0mcopy\u001b[0m\u001b[0;34m)\u001b[0m\u001b[0;34m\u001b[0m\u001b[0;34m\u001b[0m\u001b[0m\n\u001b[0m\u001b[1;32m    804\u001b[0m         \u001b[0;32mexcept\u001b[0m \u001b[0mzmq\u001b[0m\u001b[0;34m.\u001b[0m\u001b[0mZMQError\u001b[0m \u001b[0;32mas\u001b[0m \u001b[0me\u001b[0m\u001b[0;34m:\u001b[0m\u001b[0;34m\u001b[0m\u001b[0;34m\u001b[0m\u001b[0m\n",
            "\u001b[0;32m/usr/local/lib/python3.6/dist-packages/zmq/sugar/socket.py\u001b[0m in \u001b[0;36mrecv_multipart\u001b[0;34m(self, flags, copy, track)\u001b[0m\n\u001b[1;32m    465\u001b[0m         \"\"\"\n\u001b[0;32m--> 466\u001b[0;31m         \u001b[0mparts\u001b[0m \u001b[0;34m=\u001b[0m \u001b[0;34m[\u001b[0m\u001b[0mself\u001b[0m\u001b[0;34m.\u001b[0m\u001b[0mrecv\u001b[0m\u001b[0;34m(\u001b[0m\u001b[0mflags\u001b[0m\u001b[0;34m,\u001b[0m \u001b[0mcopy\u001b[0m\u001b[0;34m=\u001b[0m\u001b[0mcopy\u001b[0m\u001b[0;34m,\u001b[0m \u001b[0mtrack\u001b[0m\u001b[0;34m=\u001b[0m\u001b[0mtrack\u001b[0m\u001b[0;34m)\u001b[0m\u001b[0;34m]\u001b[0m\u001b[0;34m\u001b[0m\u001b[0;34m\u001b[0m\u001b[0m\n\u001b[0m\u001b[1;32m    467\u001b[0m         \u001b[0;31m# have first part already, only loop while more to receive\u001b[0m\u001b[0;34m\u001b[0m\u001b[0;34m\u001b[0m\u001b[0;34m\u001b[0m\u001b[0m\n",
            "\u001b[0;32mzmq/backend/cython/socket.pyx\u001b[0m in \u001b[0;36mzmq.backend.cython.socket.Socket.recv\u001b[0;34m()\u001b[0m\n",
            "\u001b[0;32mzmq/backend/cython/socket.pyx\u001b[0m in \u001b[0;36mzmq.backend.cython.socket.Socket.recv\u001b[0;34m()\u001b[0m\n",
            "\u001b[0;32mzmq/backend/cython/socket.pyx\u001b[0m in \u001b[0;36mzmq.backend.cython.socket._recv_copy\u001b[0;34m()\u001b[0m\n",
            "\u001b[0;32m/usr/local/lib/python3.6/dist-packages/zmq/backend/cython/checkrc.pxd\u001b[0m in \u001b[0;36mzmq.backend.cython.checkrc._check_rc\u001b[0;34m()\u001b[0m\n",
            "\u001b[0;31mKeyboardInterrupt\u001b[0m: ",
            "\nDuring handling of the above exception, another exception occurred:\n",
            "\u001b[0;31mKeyboardInterrupt\u001b[0m                         Traceback (most recent call last)",
            "\u001b[0;32m<ipython-input-1-704160ba7dde>\u001b[0m in \u001b[0;36m<module>\u001b[0;34m()\u001b[0m\n\u001b[1;32m      2\u001b[0m \u001b[0;34m\u001b[0m\u001b[0m\n\u001b[1;32m      3\u001b[0m \u001b[0;31m# This will prompt for authorization.\u001b[0m\u001b[0;34m\u001b[0m\u001b[0;34m\u001b[0m\u001b[0;34m\u001b[0m\u001b[0m\n\u001b[0;32m----> 4\u001b[0;31m \u001b[0mdrive\u001b[0m\u001b[0;34m.\u001b[0m\u001b[0mmount\u001b[0m\u001b[0;34m(\u001b[0m\u001b[0;34m\"/content/drive\"\u001b[0m\u001b[0;34m,\u001b[0m \u001b[0mforce_remount\u001b[0m\u001b[0;34m=\u001b[0m\u001b[0;32mTrue\u001b[0m\u001b[0;34m)\u001b[0m\u001b[0;34m\u001b[0m\u001b[0;34m\u001b[0m\u001b[0m\n\u001b[0m",
            "\u001b[0;32m/usr/local/lib/python3.6/dist-packages/google/colab/drive.py\u001b[0m in \u001b[0;36mmount\u001b[0;34m(mountpoint, force_remount, timeout_ms)\u001b[0m\n\u001b[1;32m    150\u001b[0m       \u001b[0;31m# Not already authorized, so do the authorization dance.\u001b[0m\u001b[0;34m\u001b[0m\u001b[0;34m\u001b[0m\u001b[0;34m\u001b[0m\u001b[0m\n\u001b[1;32m    151\u001b[0m       \u001b[0mauth_prompt\u001b[0m \u001b[0;34m=\u001b[0m \u001b[0md\u001b[0m\u001b[0;34m.\u001b[0m\u001b[0mmatch\u001b[0m\u001b[0;34m.\u001b[0m\u001b[0mgroup\u001b[0m\u001b[0;34m(\u001b[0m\u001b[0;36m1\u001b[0m\u001b[0;34m)\u001b[0m \u001b[0;34m+\u001b[0m \u001b[0;34m'\\n\\nEnter your authorization code:\\n'\u001b[0m\u001b[0;34m\u001b[0m\u001b[0;34m\u001b[0m\u001b[0m\n\u001b[0;32m--> 152\u001b[0;31m       \u001b[0md\u001b[0m\u001b[0;34m.\u001b[0m\u001b[0msend\u001b[0m\u001b[0;34m(\u001b[0m\u001b[0m_getpass\u001b[0m\u001b[0;34m.\u001b[0m\u001b[0mgetpass\u001b[0m\u001b[0;34m(\u001b[0m\u001b[0mauth_prompt\u001b[0m\u001b[0;34m)\u001b[0m \u001b[0;34m+\u001b[0m \u001b[0;34m'\\n'\u001b[0m\u001b[0;34m)\u001b[0m\u001b[0;34m\u001b[0m\u001b[0;34m\u001b[0m\u001b[0m\n\u001b[0m\u001b[1;32m    153\u001b[0m   \u001b[0md\u001b[0m\u001b[0;34m.\u001b[0m\u001b[0msendcontrol\u001b[0m\u001b[0;34m(\u001b[0m\u001b[0;34m'z'\u001b[0m\u001b[0;34m)\u001b[0m\u001b[0;34m\u001b[0m\u001b[0;34m\u001b[0m\u001b[0m\n\u001b[1;32m    154\u001b[0m   \u001b[0md\u001b[0m\u001b[0;34m.\u001b[0m\u001b[0mexpect\u001b[0m\u001b[0;34m(\u001b[0m\u001b[0;34mu'Stopped'\u001b[0m\u001b[0;34m)\u001b[0m\u001b[0;34m\u001b[0m\u001b[0;34m\u001b[0m\u001b[0m\n",
            "\u001b[0;32m/usr/local/lib/python3.6/dist-packages/ipykernel/kernelbase.py\u001b[0m in \u001b[0;36mgetpass\u001b[0;34m(self, prompt, stream)\u001b[0m\n\u001b[1;32m    686\u001b[0m             \u001b[0mself\u001b[0m\u001b[0;34m.\u001b[0m\u001b[0m_parent_ident\u001b[0m\u001b[0;34m,\u001b[0m\u001b[0;34m\u001b[0m\u001b[0;34m\u001b[0m\u001b[0m\n\u001b[1;32m    687\u001b[0m             \u001b[0mself\u001b[0m\u001b[0;34m.\u001b[0m\u001b[0m_parent_header\u001b[0m\u001b[0;34m,\u001b[0m\u001b[0;34m\u001b[0m\u001b[0;34m\u001b[0m\u001b[0m\n\u001b[0;32m--> 688\u001b[0;31m             \u001b[0mpassword\u001b[0m\u001b[0;34m=\u001b[0m\u001b[0;32mTrue\u001b[0m\u001b[0;34m,\u001b[0m\u001b[0;34m\u001b[0m\u001b[0;34m\u001b[0m\u001b[0m\n\u001b[0m\u001b[1;32m    689\u001b[0m         )\n\u001b[1;32m    690\u001b[0m \u001b[0;34m\u001b[0m\u001b[0m\n",
            "\u001b[0;32m/usr/local/lib/python3.6/dist-packages/ipykernel/kernelbase.py\u001b[0m in \u001b[0;36m_input_request\u001b[0;34m(self, prompt, ident, parent, password)\u001b[0m\n\u001b[1;32m    733\u001b[0m             \u001b[0;32mexcept\u001b[0m \u001b[0mKeyboardInterrupt\u001b[0m\u001b[0;34m:\u001b[0m\u001b[0;34m\u001b[0m\u001b[0;34m\u001b[0m\u001b[0m\n\u001b[1;32m    734\u001b[0m                 \u001b[0;31m# re-raise KeyboardInterrupt, to truncate traceback\u001b[0m\u001b[0;34m\u001b[0m\u001b[0;34m\u001b[0m\u001b[0;34m\u001b[0m\u001b[0m\n\u001b[0;32m--> 735\u001b[0;31m                 \u001b[0;32mraise\u001b[0m \u001b[0mKeyboardInterrupt\u001b[0m\u001b[0;34m\u001b[0m\u001b[0;34m\u001b[0m\u001b[0m\n\u001b[0m\u001b[1;32m    736\u001b[0m             \u001b[0;32melse\u001b[0m\u001b[0;34m:\u001b[0m\u001b[0;34m\u001b[0m\u001b[0;34m\u001b[0m\u001b[0m\n\u001b[1;32m    737\u001b[0m                 \u001b[0;32mbreak\u001b[0m\u001b[0;34m\u001b[0m\u001b[0;34m\u001b[0m\u001b[0m\n",
            "\u001b[0;31mKeyboardInterrupt\u001b[0m: "
          ]
        }
      ]
    },
    {
      "metadata": {
        "id": "qc8_xZys0aR6",
        "colab_type": "code",
        "outputId": "8d9525a5-dae7-42bb-9eef-d7144e4d310e",
        "colab": {
          "base_uri": "https://localhost:8080/",
          "height": 34
        }
      },
      "cell_type": "code",
      "source": [
        "#lists the content of your google drive\n",
        "!ls \"/content/drive/My Drive/Potholes_tataInnoverse/mainFile\""
      ],
      "execution_count": 0,
      "outputs": [
        {
          "output_type": "stream",
          "text": [
            "main_DataSETS_withoutSunny.zip\tmodels\ttrain.zip  val_all.zip\n"
          ],
          "name": "stdout"
        }
      ]
    },
    {
      "metadata": {
        "id": "uPeNUHsq09-7",
        "colab_type": "code",
        "outputId": "29158245-3177-4a7f-d88d-fc00abe6ea43",
        "colab": {
          "base_uri": "https://localhost:8080/",
          "height": 34
        }
      },
      "cell_type": "code",
      "source": [
        "import shutil\n",
        "shutil.copy('/content/drive/My Drive/Potholes_tataInnoverse/mainFile/val_all.zip', '/content/val.zip')"
      ],
      "execution_count": 0,
      "outputs": [
        {
          "output_type": "execute_result",
          "data": {
            "text/plain": [
              "'/content/val.zip'"
            ]
          },
          "metadata": {
            "tags": []
          },
          "execution_count": 4
        }
      ]
    },
    {
      "metadata": {
        "id": "ddhHxneE1B7S",
        "colab_type": "code",
        "outputId": "071a8fc1-631e-4dcb-b647-6ada7c517e7b",
        "colab": {
          "base_uri": "https://localhost:8080/",
          "height": 34
        }
      },
      "cell_type": "code",
      "source": [
        "import shutil\n",
        "shutil.copy('/content/drive/My Drive/Potholes_tataInnoverse/mainFile/train.zip', '/content/train.zip')"
      ],
      "execution_count": 0,
      "outputs": [
        {
          "output_type": "execute_result",
          "data": {
            "text/plain": [
              "'/content/train.zip'"
            ]
          },
          "metadata": {
            "tags": []
          },
          "execution_count": 5
        }
      ]
    },
    {
      "metadata": {
        "id": "uJTn8nXR1Dm5",
        "colab_type": "code",
        "colab": {}
      },
      "cell_type": "code",
      "source": [
        "!mkdir customImages"
      ],
      "execution_count": 0,
      "outputs": []
    },
    {
      "metadata": {
        "id": "ZdCbaoTy1FbK",
        "colab_type": "code",
        "colab": {}
      },
      "cell_type": "code",
      "source": [
        "!mv train.zip customImages/"
      ],
      "execution_count": 0,
      "outputs": []
    },
    {
      "metadata": {
        "id": "c0Y0exfi1Gpa",
        "colab_type": "code",
        "colab": {}
      },
      "cell_type": "code",
      "source": [
        "!mv val.zip customImages/"
      ],
      "execution_count": 0,
      "outputs": []
    },
    {
      "metadata": {
        "id": "__DOX3_j1H0q",
        "colab_type": "code",
        "outputId": "922c887b-85f0-43c4-b87b-c7f8978bbecd",
        "colab": {
          "base_uri": "https://localhost:8080/",
          "height": 34
        }
      },
      "cell_type": "code",
      "source": [
        "%cd customImages/"
      ],
      "execution_count": 0,
      "outputs": [
        {
          "output_type": "stream",
          "text": [
            "/content/customImages\n"
          ],
          "name": "stdout"
        }
      ]
    },
    {
      "metadata": {
        "id": "kGE0S45D1Jn6",
        "colab_type": "code",
        "colab": {}
      },
      "cell_type": "code",
      "source": [
        "!unzip train.zip"
      ],
      "execution_count": 0,
      "outputs": []
    },
    {
      "metadata": {
        "id": "0WSxrwzX1LQJ",
        "colab_type": "code",
        "colab": {}
      },
      "cell_type": "code",
      "source": [
        "!unzip val.zip"
      ],
      "execution_count": 0,
      "outputs": []
    },
    {
      "metadata": {
        "id": "x0pQ834t1NL6",
        "colab_type": "code",
        "colab": {}
      },
      "cell_type": "code",
      "source": [
        "!rm -rf __MACOSX"
      ],
      "execution_count": 0,
      "outputs": []
    },
    {
      "metadata": {
        "id": "Xl0MP82j1PUC",
        "colab_type": "code",
        "colab": {}
      },
      "cell_type": "code",
      "source": [
        "!mv main_DataSETS/ train"
      ],
      "execution_count": 0,
      "outputs": []
    },
    {
      "metadata": {
        "id": "MFmvnXzh1RR4",
        "colab_type": "code",
        "colab": {}
      },
      "cell_type": "code",
      "source": [
        "!mv val_all/ val"
      ],
      "execution_count": 0,
      "outputs": []
    },
    {
      "metadata": {
        "id": "XTu-BzXG1SnQ",
        "colab_type": "code",
        "colab": {}
      },
      "cell_type": "code",
      "source": [
        "!rm -rf train.zip"
      ],
      "execution_count": 0,
      "outputs": []
    },
    {
      "metadata": {
        "id": "s3M2DmbW1Tq4",
        "colab_type": "code",
        "colab": {}
      },
      "cell_type": "code",
      "source": [
        "!rm -rf val.zip"
      ],
      "execution_count": 0,
      "outputs": []
    },
    {
      "metadata": {
        "id": "bMz2tYbB1UmP",
        "colab_type": "code",
        "outputId": "49528fcc-dc42-4014-9c9a-0a74dfaea34c",
        "colab": {
          "base_uri": "https://localhost:8080/",
          "height": 34
        }
      },
      "cell_type": "code",
      "source": [
        "!ls"
      ],
      "execution_count": 0,
      "outputs": [
        {
          "output_type": "stream",
          "text": [
            "__MACOSX  train  val\n"
          ],
          "name": "stdout"
        }
      ]
    },
    {
      "metadata": {
        "id": "olp_AHcE1lQ0",
        "colab_type": "code",
        "colab": {}
      },
      "cell_type": "code",
      "source": [
        "!rm -rf __MACOSX"
      ],
      "execution_count": 0,
      "outputs": []
    },
    {
      "metadata": {
        "id": "qeEDTIFm1dXA",
        "colab_type": "code",
        "outputId": "67c38344-a1f4-4d37-c3f9-cfca3c26db3c",
        "colab": {
          "base_uri": "https://localhost:8080/",
          "height": 34
        }
      },
      "cell_type": "code",
      "source": [
        "%cd .."
      ],
      "execution_count": 0,
      "outputs": [
        {
          "output_type": "stream",
          "text": [
            "/content\n"
          ],
          "name": "stdout"
        }
      ]
    },
    {
      "metadata": {
        "id": "5Kie9w5M1nze",
        "colab_type": "code",
        "outputId": "4992c83a-8e4a-4a06-cf4e-d0bd0d0c2da1",
        "colab": {
          "base_uri": "https://localhost:8080/",
          "height": 34
        }
      },
      "cell_type": "code",
      "source": [
        "!ls customImages"
      ],
      "execution_count": 0,
      "outputs": [
        {
          "output_type": "stream",
          "text": [
            "train  val\n"
          ],
          "name": "stdout"
        }
      ]
    },
    {
      "metadata": {
        "id": "qsyBuFtZ1qyG",
        "colab_type": "code",
        "outputId": "34b12dff-12be-4fcb-8f15-dce0330bdc24",
        "colab": {
          "base_uri": "https://localhost:8080/",
          "height": 102
        }
      },
      "cell_type": "code",
      "source": [
        "!git clone https://github.com/matterport/Mask_RCNN.git"
      ],
      "execution_count": 0,
      "outputs": [
        {
          "output_type": "stream",
          "text": [
            "Cloning into 'Mask_RCNN'...\n",
            "remote: Enumerating objects: 943, done.\u001b[K\n",
            "remote: Total 943 (delta 0), reused 0 (delta 0), pack-reused 943\u001b[K\n",
            "Receiving objects: 100% (943/943), 139.81 MiB | 34.28 MiB/s, done.\n",
            "Resolving deltas: 100% (534/534), done.\n"
          ],
          "name": "stdout"
        }
      ]
    },
    {
      "metadata": {
        "id": "6mG8l5mo1xw1",
        "colab_type": "code",
        "colab": {}
      },
      "cell_type": "code",
      "source": [
        "!mv customImages Mask_RCNN/"
      ],
      "execution_count": 0,
      "outputs": []
    },
    {
      "metadata": {
        "id": "bvef7cFw1z_G",
        "colab_type": "code",
        "outputId": "fd6dcdec-b66e-4b52-f244-c6ee807e16e7",
        "colab": {
          "base_uri": "https://localhost:8080/",
          "height": 34
        }
      },
      "cell_type": "code",
      "source": [
        "%cd Mask_RCNN/"
      ],
      "execution_count": 0,
      "outputs": [
        {
          "output_type": "stream",
          "text": [
            "/content/Mask_RCNN\n"
          ],
          "name": "stdout"
        }
      ]
    },
    {
      "metadata": {
        "id": "c6nZhRBj11WM",
        "colab_type": "code",
        "colab": {}
      },
      "cell_type": "code",
      "source": [
        "!pip install -r requirements.txt"
      ],
      "execution_count": 0,
      "outputs": []
    },
    {
      "metadata": {
        "id": "NSjJmWPv18Ay",
        "colab_type": "code",
        "colab": {}
      },
      "cell_type": "code",
      "source": [
        "# python setup install\n",
        "%run setup.py install"
      ],
      "execution_count": 0,
      "outputs": []
    },
    {
      "metadata": {
        "id": "Y6nksAQf18sF",
        "colab_type": "code",
        "outputId": "f5b0d4c3-cae5-4362-c450-f4350a287b43",
        "colab": {
          "base_uri": "https://localhost:8080/",
          "height": 68
        }
      },
      "cell_type": "code",
      "source": [
        "!ls"
      ],
      "execution_count": 0,
      "outputs": [
        {
          "output_type": "stream",
          "text": [
            "assets\t      dist     MANIFEST.in\t   README.md\t     setup.cfg\n",
            "build\t      images   mask_rcnn.egg-info  requirements.txt  setup.py\n",
            "customImages  LICENSE  mrcnn\t\t   samples\n"
          ],
          "name": "stdout"
        }
      ]
    },
    {
      "metadata": {
        "id": "yHX311Vu1-88",
        "colab_type": "code",
        "outputId": "e8610cea-0d42-4b35-f2d0-9cedf9d8fabf",
        "colab": {
          "base_uri": "https://localhost:8080/",
          "height": 204
        }
      },
      "cell_type": "code",
      "source": [
        "!wget https://raw.githubusercontent.com/priya-dwivedi/Deep-Learning/master/mask_rcnn_damage_detection/custom.py"
      ],
      "execution_count": 0,
      "outputs": [
        {
          "output_type": "stream",
          "text": [
            "--2019-02-20 12:18:53--  https://raw.githubusercontent.com/priya-dwivedi/Deep-Learning/master/mask_rcnn_damage_detection/custom.py\n",
            "Resolving raw.githubusercontent.com (raw.githubusercontent.com)... 151.101.0.133, 151.101.64.133, 151.101.128.133, ...\n",
            "Connecting to raw.githubusercontent.com (raw.githubusercontent.com)|151.101.0.133|:443... connected.\n",
            "HTTP request sent, awaiting response... 200 OK\n",
            "Length: 13885 (14K) [text/plain]\n",
            "Saving to: ‘custom.py’\n",
            "\n",
            "\rcustom.py             0%[                    ]       0  --.-KB/s               \rcustom.py           100%[===================>]  13.56K  --.-KB/s    in 0.007s  \n",
            "\n",
            "2019-02-20 12:18:53 (1.89 MB/s) - ‘custom.py’ saved [13885/13885]\n",
            "\n"
          ],
          "name": "stdout"
        }
      ]
    },
    {
      "metadata": {
        "id": "b9y2BKXY2Cbc",
        "colab_type": "code",
        "colab": {}
      },
      "cell_type": "code",
      "source": [
        "!mkdir logs"
      ],
      "execution_count": 0,
      "outputs": []
    },
    {
      "metadata": {
        "id": "wZIZUHXJ2lPW",
        "colab_type": "code",
        "outputId": "9d0114a7-96e8-4c94-90fd-741c12090ca5",
        "colab": {
          "base_uri": "https://localhost:8080/",
          "height": 85
        }
      },
      "cell_type": "code",
      "source": [
        "!ls"
      ],
      "execution_count": 0,
      "outputs": [
        {
          "output_type": "stream",
          "text": [
            "assets\t      dist     MANIFEST.in\t   requirements.txt\n",
            "build\t      images   mask_rcnn.egg-info  samples\n",
            "customImages  LICENSE  mrcnn\t\t   setup.cfg\n",
            "custom.py     logs     README.md\t   setup.py\n"
          ],
          "name": "stdout"
        }
      ]
    },
    {
      "metadata": {
        "id": "IDTrbYCH2mkv",
        "colab_type": "code",
        "outputId": "15f5d2e8-6433-4dc4-a99b-a9d5b7d31831",
        "colab": {
          "base_uri": "https://localhost:8080/",
          "height": 34
        }
      },
      "cell_type": "code",
      "source": [
        "import os\n",
        "import sys\n",
        "import itertools\n",
        "import math\n",
        "import logging\n",
        "import json\n",
        "import re\n",
        "import random\n",
        "from collections import OrderedDict\n",
        "import numpy as np\n",
        "import matplotlib\n",
        "import matplotlib.pyplot as plt\n",
        "import matplotlib.patches as patches\n",
        "import matplotlib.lines as lines\n",
        "from matplotlib.patches import Polygon\n",
        "\n",
        "# Root directory of the project\n",
        "ROOT_DIR = os.getcwd()\n",
        "\n",
        "# Import Mask RCNN\n",
        "sys.path.append(ROOT_DIR)  # To find local version of the library\n",
        "from mrcnn import utils\n",
        "from mrcnn import visualize\n",
        "from mrcnn.visualize import display_images\n",
        "import mrcnn.model as modellib\n",
        "from mrcnn.model import log\n",
        "\n",
        "MODEL_DIR = os.path.join(ROOT_DIR, \"logs\")\n",
        "\n",
        "import custom\n",
        "\n",
        "%matplotlib inline"
      ],
      "execution_count": 0,
      "outputs": [
        {
          "output_type": "stream",
          "text": [
            "Using TensorFlow backend.\n"
          ],
          "name": "stderr"
        }
      ]
    },
    {
      "metadata": {
        "id": "-v-bMZaP2pL2",
        "colab_type": "code",
        "outputId": "f79f6f0b-7560-4e06-be25-471471855391",
        "colab": {
          "base_uri": "https://localhost:8080/",
          "height": 34
        }
      },
      "cell_type": "code",
      "source": [
        "config = custom.CustomConfig()\n",
        "CUSTOM_DIR = os.path.join(ROOT_DIR, \"customImages\")\n",
        "print(CUSTOM_DIR)"
      ],
      "execution_count": 0,
      "outputs": [
        {
          "output_type": "stream",
          "text": [
            "/content/Mask_RCNN/customImages\n"
          ],
          "name": "stdout"
        }
      ]
    },
    {
      "metadata": {
        "id": "bOFXAxgk2q5G",
        "colab_type": "code",
        "outputId": "7f003885-0319-484e-f9b3-60c23f85c82a",
        "colab": {
          "base_uri": "https://localhost:8080/",
          "height": 85
        }
      },
      "cell_type": "code",
      "source": [
        "# Load dataset\n",
        "# Get the dataset from the releases page\n",
        "# https://github.com/matterport/Mask_RCNN/releases\n",
        "dataset = custom.CustomDataset()\n",
        "dataset.load_custom(CUSTOM_DIR, \"train\")\n",
        "\n",
        "# Must call before using the dataset\n",
        "dataset.prepare()\n",
        "\n",
        "print(\"Image Count: {}\".format(len(dataset.image_ids)))\n",
        "print(\"Class Count: {}\".format(dataset.num_classes))\n",
        "for i, info in enumerate(dataset.class_info):\n",
        "    print(\"{:3}. {:50}\".format(i, info['name']))"
      ],
      "execution_count": 0,
      "outputs": [
        {
          "output_type": "stream",
          "text": [
            "Image Count: 1457\n",
            "Class Count: 2\n",
            "  0. BG                                                \n",
            "  1. damage                                            \n"
          ],
          "name": "stdout"
        }
      ]
    },
    {
      "metadata": {
        "id": "3tKLWt0i2uA2",
        "colab_type": "code",
        "outputId": "ef368bda-807d-4cab-d21a-427efee0d8b6",
        "colab": {
          "base_uri": "https://localhost:8080/",
          "height": 921
        }
      },
      "cell_type": "code",
      "source": [
        "class InferenceConfig(custom.CustomConfig):\n",
        "    # Set batch size to 1 since we'll be running inference on\n",
        "    # one image at a time. Batch size = GPU_COUNT * IMAGES_PER_GPU\n",
        "    GPU_COUNT = 1\n",
        "    IMAGES_PER_GPU = 1\n",
        "\n",
        "config = InferenceConfig()\n",
        "config.display()"
      ],
      "execution_count": 0,
      "outputs": [
        {
          "output_type": "stream",
          "text": [
            "\n",
            "Configurations:\n",
            "BACKBONE                       resnet101\n",
            "BACKBONE_STRIDES               [4, 8, 16, 32, 64]\n",
            "BATCH_SIZE                     1\n",
            "BBOX_STD_DEV                   [0.1 0.1 0.2 0.2]\n",
            "COMPUTE_BACKBONE_SHAPE         None\n",
            "DETECTION_MAX_INSTANCES        100\n",
            "DETECTION_MIN_CONFIDENCE       0.9\n",
            "DETECTION_NMS_THRESHOLD        0.3\n",
            "FPN_CLASSIF_FC_LAYERS_SIZE     1024\n",
            "GPU_COUNT                      1\n",
            "GRADIENT_CLIP_NORM             5.0\n",
            "IMAGES_PER_GPU                 1\n",
            "IMAGE_CHANNEL_COUNT            3\n",
            "IMAGE_MAX_DIM                  1024\n",
            "IMAGE_META_SIZE                14\n",
            "IMAGE_MIN_DIM                  800\n",
            "IMAGE_MIN_SCALE                0\n",
            "IMAGE_RESIZE_MODE              square\n",
            "IMAGE_SHAPE                    [1024 1024    3]\n",
            "LEARNING_MOMENTUM              0.9\n",
            "LEARNING_RATE                  0.001\n",
            "LOSS_WEIGHTS                   {'rpn_class_loss': 1.0, 'rpn_bbox_loss': 1.0, 'mrcnn_class_loss': 1.0, 'mrcnn_bbox_loss': 1.0, 'mrcnn_mask_loss': 1.0}\n",
            "MASK_POOL_SIZE                 14\n",
            "MASK_SHAPE                     [28, 28]\n",
            "MAX_GT_INSTANCES               100\n",
            "MEAN_PIXEL                     [123.7 116.8 103.9]\n",
            "MINI_MASK_SHAPE                (56, 56)\n",
            "NAME                           damage\n",
            "NUM_CLASSES                    2\n",
            "POOL_SIZE                      7\n",
            "POST_NMS_ROIS_INFERENCE        1000\n",
            "POST_NMS_ROIS_TRAINING         2000\n",
            "PRE_NMS_LIMIT                  6000\n",
            "ROI_POSITIVE_RATIO             0.33\n",
            "RPN_ANCHOR_RATIOS              [0.5, 1, 2]\n",
            "RPN_ANCHOR_SCALES              (32, 64, 128, 256, 512)\n",
            "RPN_ANCHOR_STRIDE              1\n",
            "RPN_BBOX_STD_DEV               [0.1 0.1 0.2 0.2]\n",
            "RPN_NMS_THRESHOLD              0.7\n",
            "RPN_TRAIN_ANCHORS_PER_IMAGE    256\n",
            "STEPS_PER_EPOCH                100\n",
            "TOP_DOWN_PYRAMID_SIZE          256\n",
            "TRAIN_BN                       False\n",
            "TRAIN_ROIS_PER_IMAGE           200\n",
            "USE_MINI_MASK                  True\n",
            "USE_RPN_ROIS                   True\n",
            "VALIDATION_STEPS               50\n",
            "WEIGHT_DECAY                   0.0001\n",
            "\n",
            "\n"
          ],
          "name": "stdout"
        }
      ]
    },
    {
      "metadata": {
        "id": "NLEPCnHo2yBY",
        "colab_type": "code",
        "outputId": "69b0d414-b7de-4f4d-b430-1ba246f8950d",
        "colab": {
          "base_uri": "https://localhost:8080/",
          "height": 34
        }
      },
      "cell_type": "code",
      "source": [
        "#lists the content of your google drive\n",
        "# !ls \"/content/drive/My Drive/Potholes_tataInnoverse/30\""
      ],
      "execution_count": 0,
      "outputs": [
        {
          "output_type": "stream",
          "text": [
            "mask_rcnn_damage_0010.h5\n"
          ],
          "name": "stdout"
        }
      ]
    },
    {
      "metadata": {
        "id": "iVzzkk3e2vak",
        "colab_type": "code",
        "outputId": "0d0d8d53-5273-4c0e-f343-9b987c190e9e",
        "colab": {
          "base_uri": "https://localhost:8080/",
          "height": 34
        }
      },
      "cell_type": "code",
      "source": [
        "import shutil\n",
        "shutil.copy('/content/drive/My Drive/Potholes_tataInnoverse/model_maskRCNN/mask_rcnn_damage_0124.h5', '/content/mask_rcnn_damage_0124.h5')"
      ],
      "execution_count": 0,
      "outputs": [
        {
          "output_type": "execute_result",
          "data": {
            "text/plain": [
              "'/content/Mask_RCNN/logs/mask_rcnn_damage_0030.h5'"
            ]
          },
          "metadata": {
            "tags": []
          },
          "execution_count": 39
        }
      ]
    },
    {
      "metadata": {
        "id": "FQZScwkK3Tmg",
        "colab_type": "code",
        "outputId": "8b41a1d4-ab20-430c-aeec-9405dfdcb2c9",
        "colab": {
          "base_uri": "https://localhost:8080/",
          "height": 139
        }
      },
      "cell_type": "code",
      "source": [
        "# Create model object in inference mode.\n",
        "model = modellib.MaskRCNN(mode=\"inference\", model_dir=MODEL_DIR, config=config)\n",
        "\n",
        "# Load weights trained on MS-COCO\n",
        "model.load_weights(\"logs/mask_rcnn_damage_0124.h5\", by_name=True)"
      ],
      "execution_count": 0,
      "outputs": [
        {
          "output_type": "stream",
          "text": [
            "WARNING:tensorflow:From /usr/local/lib/python3.6/dist-packages/tensorflow/python/framework/op_def_library.py:263: colocate_with (from tensorflow.python.framework.ops) is deprecated and will be removed in a future version.\n",
            "Instructions for updating:\n",
            "Colocations handled automatically by placer.\n",
            "WARNING:tensorflow:From /content/Mask_RCNN/mrcnn/model.py:772: to_float (from tensorflow.python.ops.math_ops) is deprecated and will be removed in a future version.\n",
            "Instructions for updating:\n",
            "Use tf.cast instead.\n"
          ],
          "name": "stderr"
        }
      ]
    },
    {
      "metadata": {
        "id": "6CDWTAz93bqP",
        "colab_type": "code",
        "colab": {}
      },
      "cell_type": "code",
      "source": [
        "class_names = ['BG', 'damage']"
      ],
      "execution_count": 0,
      "outputs": []
    },
    {
      "metadata": {
        "id": "wT5JTqeA3ibb",
        "colab_type": "code",
        "outputId": "62b6cd36-7b63-4884-9f9e-b9ce389d322e",
        "colab": {
          "base_uri": "https://localhost:8080/",
          "height": 105
        }
      },
      "cell_type": "code",
      "source": [
        "!pip install utils"
      ],
      "execution_count": 0,
      "outputs": [
        {
          "output_type": "stream",
          "text": [
            "Collecting utils\n",
            "  Downloading https://files.pythonhosted.org/packages/9b/de/9ffaf89be661b32d1e0cff05e1af5e4fc2d608c47498975e94aca219aed4/utils-0.9.0-py2.py3-none-any.whl\n",
            "Installing collected packages: utils\n",
            "Successfully installed utils-0.9.0\n"
          ],
          "name": "stdout"
        }
      ]
    },
    {
      "metadata": {
        "id": "U_Qbcc103fem",
        "colab_type": "code",
        "colab": {}
      },
      "cell_type": "code",
      "source": [
        "import os\n",
        "import sys\n",
        "import custom\n",
        "import utils"
      ],
      "execution_count": 0,
      "outputs": []
    },
    {
      "metadata": {
        "id": "LECDso3y3g3P",
        "colab_type": "code",
        "outputId": "0bfc43f8-a8a7-49c0-dc87-9bdb690af131",
        "colab": {
          "base_uri": "https://localhost:8080/",
          "height": 34
        }
      },
      "cell_type": "code",
      "source": [
        "%cd mrcnn"
      ],
      "execution_count": 0,
      "outputs": [
        {
          "output_type": "stream",
          "text": [
            "/content/Mask_RCNN/mrcnn\n"
          ],
          "name": "stdout"
        }
      ]
    },
    {
      "metadata": {
        "id": "AoxG4eTN3oEG",
        "colab_type": "code",
        "colab": {}
      },
      "cell_type": "code",
      "source": [
        "import model as modellib"
      ],
      "execution_count": 0,
      "outputs": []
    },
    {
      "metadata": {
        "id": "eIBiOOJL3pX9",
        "colab_type": "code",
        "outputId": "ff973f9a-410d-4518-f3d2-9ad95ebec338",
        "colab": {
          "base_uri": "https://localhost:8080/",
          "height": 34
        }
      },
      "cell_type": "code",
      "source": [
        "%cd .."
      ],
      "execution_count": 0,
      "outputs": [
        {
          "output_type": "stream",
          "text": [
            "/content/Mask_RCNN\n"
          ],
          "name": "stdout"
        }
      ]
    },
    {
      "metadata": {
        "id": "3LyqChWD3qRm",
        "colab_type": "code",
        "colab": {}
      },
      "cell_type": "code",
      "source": [
        "import cv2\n",
        "import numpy as np"
      ],
      "execution_count": 0,
      "outputs": []
    },
    {
      "metadata": {
        "id": "A9oddVsZ3rjd",
        "colab_type": "code",
        "colab": {}
      },
      "cell_type": "code",
      "source": [
        "## Testing\n",
        "from PIL import Image, ImageDraw, ImageFont"
      ],
      "execution_count": 0,
      "outputs": []
    },
    {
      "metadata": {
        "id": "JdF0Vs1t7iLO",
        "colab_type": "text"
      },
      "cell_type": "markdown",
      "source": [
        "#### MoveOver for Getting Testing Images Similar to S3 Bucket"
      ]
    },
    {
      "metadata": {
        "id": "DrvYh7qh3s_N",
        "colab_type": "code",
        "outputId": "ba8df2ce-77ee-4bc4-f608-8932314d7abf",
        "colab": {
          "base_uri": "https://localhost:8080/",
          "height": 34
        }
      },
      "cell_type": "code",
      "source": [
        "#start\n",
        "## Folder for the S3 Bucket\n",
        "#lists the content of your google drive\n",
        "!ls \"/content/drive/My Drive/Potholes_tataInnoverse/S3/\""
      ],
      "execution_count": 0,
      "outputs": [
        {
          "output_type": "stream",
          "text": [
            "avi_TestingImage  combined.zip\tDU_testingImage  DU_testingImage.zip\n"
          ],
          "name": "stdout"
        }
      ]
    },
    {
      "metadata": {
        "id": "3fOD0cD05Svp",
        "colab_type": "code",
        "colab": {}
      },
      "cell_type": "code",
      "source": [
        "!mkdir ../S3_Images"
      ],
      "execution_count": 0,
      "outputs": []
    },
    {
      "metadata": {
        "id": "PHe_H50T5A_P",
        "colab_type": "code",
        "outputId": "aa3fee0a-cbb2-4368-9b85-5ad38b686876",
        "colab": {
          "base_uri": "https://localhost:8080/",
          "height": 34
        }
      },
      "cell_type": "code",
      "source": [
        "import shutil\n",
        "shutil.copy('/content/drive/My Drive/Potholes_tataInnoverse/S3/combined.zip', '/content/S3_Images/')"
      ],
      "execution_count": 0,
      "outputs": [
        {
          "output_type": "execute_result",
          "data": {
            "text/plain": [
              "'/content/S3_Images/combined.zip'"
            ]
          },
          "metadata": {
            "tags": []
          },
          "execution_count": 64
        }
      ]
    },
    {
      "metadata": {
        "id": "nUIbLDsS5dME",
        "colab_type": "code",
        "colab": {}
      },
      "cell_type": "code",
      "source": [
        "!unzip /content/S3_Images/combined.zip"
      ],
      "execution_count": 0,
      "outputs": []
    },
    {
      "metadata": {
        "id": "Y3kC3L116MCa",
        "colab_type": "code",
        "outputId": "37ac5620-c404-4964-8707-d4a85aba531f",
        "colab": {
          "base_uri": "https://localhost:8080/",
          "height": 34
        }
      },
      "cell_type": "code",
      "source": [
        "\n",
        "%cd /content/S3_Images/"
      ],
      "execution_count": 0,
      "outputs": [
        {
          "output_type": "stream",
          "text": [
            "/content/S3_Images\n"
          ],
          "name": "stdout"
        }
      ]
    },
    {
      "metadata": {
        "id": "1uUJ4N_N6SlR",
        "colab_type": "code",
        "outputId": "3d00ab5b-d4f2-4c48-832c-e105ef9f5e27",
        "colab": {
          "base_uri": "https://localhost:8080/",
          "height": 34
        }
      },
      "cell_type": "code",
      "source": [
        "!ls"
      ],
      "execution_count": 0,
      "outputs": [
        {
          "output_type": "stream",
          "text": [
            "combined.zip\n"
          ],
          "name": "stdout"
        }
      ]
    },
    {
      "metadata": {
        "id": "K2UelXYZ6VfA",
        "colab_type": "code",
        "colab": {}
      },
      "cell_type": "code",
      "source": [
        "!unzip combined.zip"
      ],
      "execution_count": 0,
      "outputs": []
    },
    {
      "metadata": {
        "id": "vdhLidBt6Xuo",
        "colab_type": "code",
        "outputId": "e37ce072-a8f5-428f-b3e7-5536ddbbd4f7",
        "colab": {
          "base_uri": "https://localhost:8080/",
          "height": 34
        }
      },
      "cell_type": "code",
      "source": [
        "!ls"
      ],
      "execution_count": 0,
      "outputs": [
        {
          "output_type": "stream",
          "text": [
            "combined  combined.zip\t__MACOSX\n"
          ],
          "name": "stdout"
        }
      ]
    },
    {
      "metadata": {
        "id": "zAZK4HXp6u1r",
        "colab_type": "code",
        "colab": {}
      },
      "cell_type": "code",
      "source": [
        "!rm -rf __MACOSX"
      ],
      "execution_count": 0,
      "outputs": []
    },
    {
      "metadata": {
        "id": "celXTAS76x8p",
        "colab_type": "code",
        "colab": {}
      },
      "cell_type": "code",
      "source": [
        "!rm -rf combined.zip"
      ],
      "execution_count": 0,
      "outputs": []
    },
    {
      "metadata": {
        "id": "iHXWmcux60Ia",
        "colab_type": "code",
        "outputId": "cbafd4cd-0905-4911-b038-db171b604fe9",
        "colab": {
          "base_uri": "https://localhost:8080/",
          "height": 272
        }
      },
      "cell_type": "code",
      "source": [
        "!ls combined/"
      ],
      "execution_count": 0,
      "outputs": [
        {
          "output_type": "stream",
          "text": [
            " 130th-pothole.jpg\n",
            " 1508JS02.transformed.jpg\n",
            " 2015Potholes2.jpg\n",
            " 4J9JC0TD-TpnvvbCLmcSUAf-ZdQ7c6bVdHvFK4OoAfzlG8oGYhuAcN74NstgGjQ55FCl4mscYmvWMNQAGNAIWnHX9Y4fP8dS_flGQaIB_Buw.jpg\n",
            " 65220341.jpg\n",
            " 920x920.jpg\n",
            " A-car-passes-a-pothole-on-001.jpg\n",
            "'images (1).jpg'\n",
            " images.jpg\n",
            " IMG_4453.JPG\n",
            " IMG_4991.JPG\n",
            " IMG_6746.JPG\n",
            " IMG_9567.JPG\n",
            " p04y8h27.jpg\n",
            " vancouver-potholes.png\n"
          ],
          "name": "stdout"
        }
      ]
    },
    {
      "metadata": {
        "id": "-PXrwM5f61OB",
        "colab_type": "code",
        "outputId": "5153a638-fe21-4633-e41f-4dbdef0b3a10",
        "colab": {
          "base_uri": "https://localhost:8080/",
          "height": 34
        }
      },
      "cell_type": "code",
      "source": [
        "#end\n",
        "%cd /content/Mask_RCNN/"
      ],
      "execution_count": 0,
      "outputs": [
        {
          "output_type": "stream",
          "text": [
            "/content/Mask_RCNN\n"
          ],
          "name": "stdout"
        }
      ]
    },
    {
      "metadata": {
        "id": "Oov5XIGI7LEU",
        "colab_type": "code",
        "outputId": "8f6bc2d2-97fe-4fb1-fbe6-eeb33ce34a72",
        "colab": {
          "base_uri": "https://localhost:8080/",
          "height": 85
        }
      },
      "cell_type": "code",
      "source": [
        "!ls"
      ],
      "execution_count": 0,
      "outputs": [
        {
          "output_type": "stream",
          "text": [
            "assets\t      custom.py  logs\t\t     mrcnn\t       samples\n",
            "build\t      dist\t __MACOSX\t     __pycache__       setup.cfg\n",
            "combined      images\t MANIFEST.in\t     README.md\t       setup.py\n",
            "customImages  LICENSE\t mask_rcnn.egg-info  requirements.txt\n"
          ],
          "name": "stdout"
        }
      ]
    },
    {
      "metadata": {
        "id": "e4s_BG267MLY",
        "colab_type": "code",
        "outputId": "6a647ead-fcc2-4685-d96b-bcb0875070a0",
        "colab": {
          "base_uri": "https://localhost:8080/",
          "height": 34
        }
      },
      "cell_type": "code",
      "source": [
        "%cd /content/S3_Images/combined"
      ],
      "execution_count": 0,
      "outputs": [
        {
          "output_type": "stream",
          "text": [
            "/content/S3_Images/combined\n"
          ],
          "name": "stdout"
        }
      ]
    },
    {
      "metadata": {
        "id": "vpC9qedd7tWQ",
        "colab_type": "code",
        "outputId": "708c972b-635f-4dfb-e4f4-61041c7d864f",
        "colab": {
          "base_uri": "https://localhost:8080/",
          "height": 531
        }
      },
      "cell_type": "code",
      "source": [
        "!pip install python-resize-image"
      ],
      "execution_count": 0,
      "outputs": [
        {
          "output_type": "stream",
          "text": [
            "Collecting python-resize-image\n",
            "  Downloading https://files.pythonhosted.org/packages/c7/b5/01e49796187415278796d5c64f8fff750a2e27765155be20876dffaabce3/python_resize_image-1.1.18-py2.py3-none-any.whl\n",
            "Collecting Pillow>=5.1.0 (from python-resize-image)\n",
            "\u001b[?25l  Downloading https://files.pythonhosted.org/packages/85/5e/e91792f198bbc5a0d7d3055ad552bc4062942d27eaf75c3e2783cf64eae5/Pillow-5.4.1-cp36-cp36m-manylinux1_x86_64.whl (2.0MB)\n",
            "\u001b[K    100% |████████████████████████████████| 2.0MB 14.1MB/s \n",
            "\u001b[?25hCollecting requests>=2.19.1 (from python-resize-image)\n",
            "\u001b[?25l  Downloading https://files.pythonhosted.org/packages/7d/e3/20f3d364d6c8e5d2353c72a67778eb189176f08e873c9900e10c0287b84b/requests-2.21.0-py2.py3-none-any.whl (57kB)\n",
            "\u001b[K    100% |████████████████████████████████| 61kB 26.3MB/s \n",
            "\u001b[?25hRequirement already satisfied: urllib3<1.25,>=1.21.1 in /usr/local/lib/python3.6/dist-packages (from requests>=2.19.1->python-resize-image) (1.22)\n",
            "Requirement already satisfied: idna<2.9,>=2.5 in /usr/local/lib/python3.6/dist-packages (from requests>=2.19.1->python-resize-image) (2.6)\n",
            "Requirement already satisfied: chardet<3.1.0,>=3.0.2 in /usr/local/lib/python3.6/dist-packages (from requests>=2.19.1->python-resize-image) (3.0.4)\n",
            "Requirement already satisfied: certifi>=2017.4.17 in /usr/local/lib/python3.6/dist-packages (from requests>=2.19.1->python-resize-image) (2018.11.29)\n",
            "\u001b[31mspacy 2.0.18 has requirement numpy>=1.15.0, but you'll have numpy 1.14.6 which is incompatible.\u001b[0m\n",
            "\u001b[31mimgaug 0.2.8 has requirement numpy>=1.15.0, but you'll have numpy 1.14.6 which is incompatible.\u001b[0m\n",
            "\u001b[31mgoogle-colab 0.0.1a1 has requirement requests~=2.18.0, but you'll have requests 2.21.0 which is incompatible.\u001b[0m\n",
            "\u001b[31malbumentations 0.1.12 has requirement imgaug<0.2.7,>=0.2.5, but you'll have imgaug 0.2.8 which is incompatible.\u001b[0m\n",
            "Installing collected packages: Pillow, requests, python-resize-image\n",
            "  Found existing installation: Pillow 4.0.0\n",
            "    Uninstalling Pillow-4.0.0:\n",
            "      Successfully uninstalled Pillow-4.0.0\n",
            "  Found existing installation: requests 2.18.4\n",
            "    Uninstalling requests-2.18.4:\n",
            "      Successfully uninstalled requests-2.18.4\n",
            "Successfully installed Pillow-5.4.1 python-resize-image-1.1.18 requests-2.21.0\n"
          ],
          "name": "stdout"
        },
        {
          "output_type": "display_data",
          "data": {
            "application/vnd.colab-display-data+json": {
              "pip_warning": {
                "packages": [
                  "PIL",
                  "requests"
                ]
              }
            }
          },
          "metadata": {
            "tags": []
          }
        }
      ]
    },
    {
      "metadata": {
        "id": "XDaoNkf27u39",
        "colab_type": "code",
        "outputId": "1d63579c-66c5-4e8e-cf65-fb0ac122cace",
        "colab": {
          "base_uri": "https://localhost:8080/",
          "height": 153
        }
      },
      "cell_type": "code",
      "source": [
        "from PIL import Image\n",
        "import os\n",
        "from resizeimage import resizeimage\n",
        "\n",
        "count = 0\n",
        "\n",
        "for f in os.listdir(os.getcwd()):\n",
        "    f_name, f_ext = os.path.splitext(f)\n",
        "#     f_random, f_lat_name,f_lat_val,f_long_name,f_long_val = f_name.split('-')\n",
        "#     f_lat_val = f_lat_val.strip() ##removing the white Space\n",
        "#     f_long_val = f_long_val.strip()\n",
        "#     new_name = '{}-{}-{}.jpg'.format(f_lat_val,f_long_val,count)\n",
        "    try:\n",
        "        with Image.open(f) as image:\n",
        "            count +=1\n",
        "            cover = resizeimage.resize_cover(image, [600,600])\n",
        "            cover.save('{}{}'.format(f_name,f_ext),image.format)\n",
        "            #os.remove(f)\n",
        "            print(count)\n",
        "    except(OSError) as e:\n",
        "        print('Bad Image {}{}'.format(f,count))"
      ],
      "execution_count": 0,
      "outputs": [
        {
          "output_type": "stream",
          "text": [
            "1\n",
            "2\n",
            "3\n",
            "4\n",
            "5\n",
            "6\n",
            "7\n",
            "8\n"
          ],
          "name": "stdout"
        }
      ]
    },
    {
      "metadata": {
        "id": "xd45YnP67x8a",
        "colab_type": "code",
        "outputId": "c169381c-c24a-4e40-fe5a-009fd1238760",
        "colab": {
          "base_uri": "https://localhost:8080/",
          "height": 34
        }
      },
      "cell_type": "code",
      "source": [
        "%cd /content/Mask_RCNN/"
      ],
      "execution_count": 0,
      "outputs": [
        {
          "output_type": "stream",
          "text": [
            "/content/Mask_RCNN\n"
          ],
          "name": "stdout"
        }
      ]
    },
    {
      "metadata": {
        "id": "GGSnxX5RD-a7",
        "colab_type": "code",
        "outputId": "5cfdfd49-993c-48f0-d003-11fe70b37df7",
        "colab": {
          "base_uri": "https://localhost:8080/",
          "height": 377
        }
      },
      "cell_type": "code",
      "source": [
        "!wget https://github.com/Prady96/IITM_PythonTraining/blob/master/ImageWorking_add_textInImage/fonts_Dir/OpenSans-Bold.ttf?raw=true"
      ],
      "execution_count": 0,
      "outputs": [
        {
          "output_type": "stream",
          "text": [
            "--2019-02-20 13:22:09--  https://github.com/Prady96/IITM_PythonTraining/blob/master/ImageWorking_add_textInImage/fonts_Dir/OpenSans-Bold.ttf?raw=true\n",
            "Resolving github.com (github.com)... 192.30.255.113, 192.30.255.112\n",
            "Connecting to github.com (github.com)|192.30.255.113|:443... connected.\n",
            "HTTP request sent, awaiting response... 302 Found\n",
            "Location: https://github.com/Prady96/IITM_PythonTraining/raw/master/ImageWorking_add_textInImage/fonts_Dir/OpenSans-Bold.ttf [following]\n",
            "--2019-02-20 13:22:09--  https://github.com/Prady96/IITM_PythonTraining/raw/master/ImageWorking_add_textInImage/fonts_Dir/OpenSans-Bold.ttf\n",
            "Reusing existing connection to github.com:443.\n",
            "HTTP request sent, awaiting response... 302 Found\n",
            "Location: https://raw.githubusercontent.com/Prady96/IITM_PythonTraining/master/ImageWorking_add_textInImage/fonts_Dir/OpenSans-Bold.ttf [following]\n",
            "--2019-02-20 13:22:09--  https://raw.githubusercontent.com/Prady96/IITM_PythonTraining/master/ImageWorking_add_textInImage/fonts_Dir/OpenSans-Bold.ttf\n",
            "Resolving raw.githubusercontent.com (raw.githubusercontent.com)... 151.101.0.133, 151.101.64.133, 151.101.128.133, ...\n",
            "Connecting to raw.githubusercontent.com (raw.githubusercontent.com)|151.101.0.133|:443... connected.\n",
            "HTTP request sent, awaiting response... 200 OK\n",
            "Length: 224592 (219K) [application/octet-stream]\n",
            "Saving to: ‘OpenSans-Bold.ttf?raw=true’\n",
            "\n",
            "\r          OpenSans-   0%[                    ]       0  --.-KB/s               \rOpenSans-Bold.ttf?r 100%[===================>] 219.33K  --.-KB/s    in 0.03s   \n",
            "\n",
            "2019-02-20 13:22:10 (7.59 MB/s) - ‘OpenSans-Bold.ttf?raw=true’ saved [224592/224592]\n",
            "\n"
          ],
          "name": "stdout"
        }
      ]
    },
    {
      "metadata": {
        "id": "yOJngNydECb4",
        "colab_type": "code",
        "colab": {}
      },
      "cell_type": "code",
      "source": [
        "!mv OpenSans-Bold.ttf?raw=true OpenSans-Bold.ttf"
      ],
      "execution_count": 0,
      "outputs": []
    },
    {
      "metadata": {
        "id": "a9JAjqyeEpbM",
        "colab_type": "code",
        "outputId": "ff76a0ba-834e-4c51-d7d1-c6af52eadc6b",
        "colab": {
          "base_uri": "https://localhost:8080/",
          "height": 102
        }
      },
      "cell_type": "code",
      "source": [
        "!ls"
      ],
      "execution_count": 0,
      "outputs": [
        {
          "output_type": "stream",
          "text": [
            "assets\t      dist\tMANIFEST.in\t    README.md\t      videos\n",
            "build\t      images\tmask_rcnn.egg-info  requirements.txt\n",
            "combined      LICENSE\tmrcnn\t\t    samples\n",
            "customImages  logs\tOpenSans-Bold.ttf   setup.cfg\n",
            "custom.py     __MACOSX\t__pycache__\t    setup.py\n"
          ],
          "name": "stdout"
        }
      ]
    },
    {
      "metadata": {
        "id": "Alkluh9k8ca1",
        "colab_type": "code",
        "outputId": "a7eabab1-f872-41ef-999a-5ed23c84953c",
        "colab": {
          "base_uri": "https://localhost:8080/",
          "height": 2247
        }
      },
      "cell_type": "code",
      "source": [
        "# Main file for the file iteration\n",
        "import cv2\n",
        "import numpy as np\n",
        "from PIL import Image, ImageDraw, ImageFont\n",
        "myList = [] ## area list\n",
        "classList = [] ##class Id List\n",
        "\n",
        "def random_colors(N):\n",
        "    np.random.seed(1)\n",
        "    colors = [tuple(255 * np.random.rand(3)) for _ in range(N)]\n",
        "    return colors\n",
        "\n",
        "\n",
        "def apply_mask(image, mask, color, alpha=0.5):\n",
        "    \"\"\"apply mask to image\"\"\"\n",
        "    for n, c in enumerate(color):\n",
        "        image[:, :, n] = np.where(\n",
        "            mask == 1,\n",
        "            image[:, :, n] * (1 - alpha) + alpha * c,\n",
        "            image[:, :, n]\n",
        "        )\n",
        "    return image\n",
        "\n",
        "\n",
        "def display_instances(image, boxes, masks, ids, names, scores):\n",
        "    \"\"\"\n",
        "        take the image and results and apply the mask, box, and Label\n",
        "    \"\"\"\n",
        "    n_instances = boxes.shape[0]\n",
        "    colors = random_colors(n_instances)\n",
        "\n",
        "    if not n_instances:\n",
        "        print('NO INSTANCES TO DISPLAY')\n",
        "    else:\n",
        "        assert boxes.shape[0] == masks.shape[-1] == ids.shape[0]\n",
        "\n",
        "    for i, color in enumerate(colors):\n",
        "        if not np.any(boxes[i]):\n",
        "            continue\n",
        "\n",
        "        y1, x1, y2, x2 = boxes[i]\n",
        "        label = names[ids[i]]\n",
        "        score = scores[i] if scores is not None else None\n",
        "        caption = '{} {:.2f}'.format(label, score) if score else label\n",
        "        mask = masks[:, :, i]\n",
        "\n",
        "        image = apply_mask(image, mask, color)\n",
        "        image = cv2.rectangle(image, (x1, y1), (x2, y2), color, 2)\n",
        "        image = cv2.putText(\n",
        "            image, caption, (x1, y1), cv2.FONT_HERSHEY_COMPLEX, 0.7, color, 2\n",
        "        )\n",
        "\n",
        "    return image\n",
        "\n",
        "\n",
        "def save_image(image, image_name, boxes, masks, class_ids, scores, class_names, filter_classs_names=None,\n",
        "               scores_thresh=0.1, save_dir=None, mode=0):\n",
        "    \"\"\"\n",
        "        image: image array\n",
        "        image_name: image name\n",
        "        boxes: [num_instance, (y1, x1, y2, x2, class_id)] in image coordinates.\n",
        "        masks: [num_instances, height, width]\n",
        "        class_ids: [num_instances]\n",
        "        scores: confidence scores for each box\n",
        "        class_names: list of class names of the dataset\n",
        "        filter_classs_names: (optional) list of class names we want to draw\n",
        "        scores_thresh: (optional) threshold of confidence scores\n",
        "        save_dir: (optional) the path to store image\n",
        "        mode: (optional) select the result which you want\n",
        "                mode = 0 , save image with bbox,class_name,score and mask;\n",
        "                mode = 1 , save image with bbox,class_name and score;\n",
        "                mode = 2 , save image with class_name,score and mask;\n",
        "                mode = 3 , save mask with black background;\n",
        "    \"\"\"\n",
        "    mode_list = [0, 1, 2, 3]\n",
        "    assert mode in mode_list, \"mode's value should in mode_list %s\" % str(mode_list)\n",
        "\n",
        "    if save_dir is None:\n",
        "        save_dir = os.path.join(os.getcwd(), \"output\")\n",
        "        if not os.path.exists(save_dir):\n",
        "            os.makedirs(save_dir)\n",
        "\n",
        "    useful_mask_indices = []\n",
        "\n",
        "    N = boxes.shape[0]\n",
        "    if not N:\n",
        "        print(\"\\n*** No instances in image %s to draw *** \\n\" % (image_name))\n",
        "        return\n",
        "    else:\n",
        "        assert boxes.shape[0] == masks.shape[-1] == class_ids.shape[0]\n",
        "\n",
        "    for i in range(N):\n",
        "        # filter\n",
        "        class_id = class_ids[i]\n",
        "        score = scores[i] if scores is not None else None\n",
        "        if score is None or score < scores_thresh:\n",
        "            continue\n",
        "\n",
        "        label = class_names[class_id]\n",
        "        if (filter_classs_names is not None) and (label not in filter_classs_names):\n",
        "            continue\n",
        "\n",
        "        if not np.any(boxes[i]):\n",
        "            # Skip this instance. Has no bbox. Likely lost in image cropping.\n",
        "            continue\n",
        "\n",
        "        useful_mask_indices.append(i)\n",
        "\n",
        "    if len(useful_mask_indices) == 0:\n",
        "        print(\"\\n*** No instances in image %s to draw *** \\n\" % (image_name))\n",
        "        return\n",
        "\n",
        "    colors = random_colors(len(useful_mask_indices))\n",
        "\n",
        "    if mode != 3:\n",
        "        masked_image = image.astype(np.uint8).copy()\n",
        "    else:\n",
        "        masked_image = np.zeros(image.shape).astype(np.uint8)\n",
        "\n",
        "    if mode != 1:\n",
        "        for index, value in enumerate(useful_mask_indices):\n",
        "            masked_image = apply_mask(masked_image, masks[:, :, value], colors[index])\n",
        "\n",
        "    masked_image = Image.fromarray(masked_image)\n",
        "\n",
        "    if mode == 3:\n",
        "        masked_image.save(os.path.join(save_dir, '%s.jpg' % (image_name)))\n",
        "        return\n",
        "\n",
        "    draw = ImageDraw.Draw(masked_image)\n",
        "    colors = np.array(colors).astype(int) * 255\n",
        "\n",
        "    myList = []\n",
        "    countClassIds = 0\n",
        "    \n",
        "    for index, value in enumerate(useful_mask_indices):\n",
        "        class_id = class_ids[value]\n",
        "        print('class_id value is {}'.format(class_id))\n",
        "        if class_id == 1:\n",
        "          countClassIds += 1\n",
        "        print('counter for the class ID {}'.format(countClassIds))\n",
        "        \n",
        "        \n",
        "        score = scores[value]\n",
        "        label = class_names[class_id]\n",
        "\n",
        "        y1, x1, y2, x2 = boxes[value]\n",
        "        \n",
        "#         myList = []\n",
        "        \n",
        "        ## area of the rectangle\n",
        "        yVal = y2 - y1\n",
        "        xVal = x2 - x1\n",
        "        area = xVal * yVal\n",
        "        print('area is {}'.format(area))\n",
        "        myList.append(area)\n",
        "        \n",
        "        if mode != 2:\n",
        "            color = tuple(colors[index])\n",
        "            draw.rectangle((x1, y1, x2, y2), outline=color)\n",
        "\n",
        "        # Label\n",
        "#         font = ImageFont.load('/usr/share/fonts/truetype/ttf-bitstream-vera/Vera.ttf')\n",
        "        font = ImageFont.truetype('OpenSans-Bold.ttf', 15)\n",
        "        draw.text((x1, y1), \"%s %f\" % (label, score), (255, 255, 255), font)\n",
        "\n",
        "    print(r['class_ids'], r['scores'])\n",
        "    print(myList)\n",
        "#     print('value of r is {}'.format(r))\n",
        "    print('image_name is {}'.format(image_name))\n",
        "\n",
        "    image_name = os.path.basename(image_name)\n",
        "    print('image name is {}'.format(image_name))\n",
        "\n",
        "    f_name, f_ext = os.path.splitext(image_name)\n",
        "    #f_lat_val,f_long_val,f_count = f_name.split('-')\n",
        "\n",
        "    #f_lat_val = f_lat_val.strip() ##removing the white Space\n",
        "    #f_long_val = f_long_val.strip()\n",
        "\n",
        "#     new_name = '{}-{}-{}.jpg'.format(f_lat_val,f_long_val,count)\n",
        "#     print([area for area in myList if ])\n",
        "#       print([i for i in range(countClassIds) ])\n",
        "      \n",
        "    print(\"avi96 {}\".format(myList[:countClassIds]))\n",
        "#     myList.pop(countClassIds - 1)\n",
        "    \n",
        "    new_name = '{}-{}.jpg'.format(myList, r['scores'])\n",
        "#     masked_image.save(os.path.join(save_dir, '%s.jpg' % (image_name)))\n",
        "    print(\"New Name file is {}\".format(new_name))\n",
        "    print('save_dir is {}'.format(save_dir))\n",
        "    masked_image.save(os.path.join(save_dir, '%s' % (new_name)))\n",
        "    print('file Saved {}'.format(new_name))\n",
        "#     os.rename(image_name, new_name)\n",
        "\n",
        "\n",
        "\n",
        "if __name__ == '__main__':\n",
        "    \"\"\"\n",
        "        test everything\n",
        "    \"\"\"\n",
        "    import os\n",
        "    import sys\n",
        "    import custom\n",
        "    import utils\n",
        "    import model as modellib\n",
        "    #import visualize\n",
        "\n",
        "    # We use a K80 GPU with 24GB memory, which can fit 3 images.\n",
        "    batch_size = 3\n",
        "\n",
        "    ROOT_DIR = os.getcwd()\n",
        "    MODEL_DIR = os.path.join(ROOT_DIR, \"logs\")\n",
        "    VIDEO_DIR = os.path.join(ROOT_DIR, \"videos\")\n",
        "    VIDEO_SAVE_DIR = os.path.join(VIDEO_DIR, \"save\")\n",
        "#     COCO_MODEL_PATH = os.path.join(ROOT_DIR, \"mask_rcnn_damage_0010.h5\")\n",
        "#     if not os.path.exists(COCO_MODEL_PATH):\n",
        "#         utils.download_trained_weights(COCO_MODEL_PATH)\n",
        "\n",
        "    class InferenceConfig(custom.CustomConfig):\n",
        "        GPU_COUNT = 1\n",
        "        IMAGES_PER_GPU = batch_size\n",
        "\n",
        "    config = InferenceConfig()\n",
        "    config.display()\n",
        "\n",
        "    model = modellib.MaskRCNN(\n",
        "        mode=\"inference\", model_dir=MODEL_DIR, config=config\n",
        "    )\n",
        "    model.load_weights(\"logs/mask_rcnn_damage_0030.h5\", by_name=True)\n",
        "    class_names = [\n",
        "        'BG', 'damage'\n",
        "    ]\n",
        "\n",
        "#     capture = cv2.VideoCapture(os.path.join(VIDEO_DIR, 'trailer1.mp4'))\n",
        "    try:\n",
        "        if not os.path.exists(VIDEO_SAVE_DIR):\n",
        "            os.makedirs(VIDEO_SAVE_DIR)\n",
        "    except OSError:\n",
        "        print ('Error: Creating directory of data')\n",
        "\n",
        "    # points to be done before final coding\n",
        "    \"\"\"\n",
        "    path_for_image_dir\n",
        "    list for the image array\n",
        "    resolve for naming convention for location basis\n",
        "    passing image in model\n",
        "    \"\"\"\n",
        "\n",
        "    # path for the data files\n",
        "    data_path = '/content/S3_Images/combined/'\n",
        "    onlyfiles = [f for f in os.listdir(data_path) if os.path.isfile(os.path.join(data_path, f))]\n",
        "\n",
        "    # empty list for the training data\n",
        "    frames = []\n",
        "    frame_count = 0\n",
        "    batch_count = 1\n",
        "\n",
        "    # enumerate the iteration with number of files\n",
        "    for j, files in enumerate(onlyfiles):\n",
        "        image_path = data_path + onlyfiles[j]\n",
        "#         print(\"image Path {}\".format(image_path))\n",
        "#         print(\"Only Files {}\".format(onlyfiles[j]))\n",
        "#         print('j is {}'.format(j))\n",
        "#         print('files is {}'.format(files))\n",
        "        try:\n",
        "            images = cv2.imread(image_path).astype(np.uint8)\n",
        "#             print(\"images {}\".format(images))\n",
        "            frames.append(np.asarray(images, dtype=np.uint8))\n",
        "  #         frames.append(images)\n",
        "            frame_count += 1\n",
        "            print('frame_count :{0}'.format(frame_count))\n",
        "            if len(frames) == batch_size:\n",
        "                results = model.detect(frames, verbose=0)\n",
        "                print('Predicted')\n",
        "                for i, item in enumerate(zip(frames, results)):\n",
        "#                     print('i is {}'.format(i))\n",
        "#                     print('item is {}'.format(item))\n",
        "                    frame = item[0]\n",
        "                    r = item[1]\n",
        "                    frame = display_instances(\n",
        "                      frame, r['rois'], r['masks'], r['class_ids'], class_names, r['scores']\n",
        "                    )\n",
        "                    name = '{}'.format(files)\n",
        "                    name = os.path.join(VIDEO_SAVE_DIR, name)\n",
        "#                     name = '{0}.jpg'.format(frame_count + i - batch_size)\n",
        "#                     name = os.path.join(VIDEO_SAVE_DIR, name)\n",
        "#                   cv2.imwrite(name, frame)\n",
        "#                     print(name)\n",
        "                    print('writing to file:{0}'.format(name))\n",
        "#                     print(name)\n",
        "                    save_image(images, name, r['rois'], r['masks'], r['class_ids'],\n",
        "                             r['scores'], class_names, save_dir=VIDEO_SAVE_DIR, mode=0)\n",
        "                frames = []\n",
        "                print('clear')\n",
        "              # clear the frames here\n",
        "\n",
        "        except(AttributeError) as e:\n",
        "            print('Bad Image {}'.format(image_path))\n",
        "\n",
        "    print(\"Success, check the folder\")\n",
        "\n",
        "\n",
        "\"\"\"\n",
        "    ## Code for the video section\n",
        "    frames = []\n",
        "    frame_count = 0\n",
        "    # these 2 lines can be removed if you dont have a 1080p camera.\n",
        "    capture.set(cv2.CAP_PROP_FRAME_WIDTH, 1920)\n",
        "    capture.set(cv2.CAP_PROP_FRAME_HEIGHT, 1080)\n",
        "\n",
        "\n",
        "    while True:\n",
        "        ret, frame = capture.read()\n",
        "        # Bail out when the video file ends\n",
        "        if not ret:\n",
        "            break\n",
        "\n",
        "        # Save each frame of the video to a list\n",
        "        frame_count += 1\n",
        "        frames.append(frame)\n",
        "        print('frame_count :{0}'.format(frame_count))\n",
        "        if len(frames) == batch_size:\n",
        "            results = model.detect(frames, verbose=0)\n",
        "            print('Predicted')\n",
        "            for i, item in enumerate(zip(frames, results)):\n",
        "                frame = item[0]\n",
        "                r = item[1]\n",
        "                frame = display_instances(\n",
        "                    frame, r['rois'], r['masks'], r['class_ids'], class_names, r['scores']\n",
        "                )\n",
        "#                 name = '{0}.jpg'.format(frame_count + i - batch_size)\n",
        "#                 name = os.path.join(VIDEO_SAVE_DIR, name)\n",
        "#                 cv2.imwrite(name, frame)\n",
        "#                 print('writing to file:{0}'.format(name))\n",
        "                ## add visualise files\n",
        "#                 visualize.display_instances(image, r['rois'], r['masks'], r['class_ids'],\n",
        "#                             class_names, r['scores'])\n",
        "                save_image(image, name, r['rois'], r['masks'], r['class_ids'],\n",
        "                                     r['scores'],class_names, save_dir=VIDEO_SAVE_DIR, mode=0)\n",
        "#                 print(r['class_ids'], r['scores'])\n",
        "\n",
        "            # Clear the frames array to start the next batch\n",
        "            frames = []\n",
        "\n",
        "    capture.release()\n",
        "\"\"\"\n"
      ],
      "execution_count": 0,
      "outputs": [
        {
          "output_type": "stream",
          "text": [
            "\n",
            "Configurations:\n",
            "BACKBONE                       resnet101\n",
            "BACKBONE_STRIDES               [4, 8, 16, 32, 64]\n",
            "BATCH_SIZE                     3\n",
            "BBOX_STD_DEV                   [0.1 0.1 0.2 0.2]\n",
            "COMPUTE_BACKBONE_SHAPE         None\n",
            "DETECTION_MAX_INSTANCES        100\n",
            "DETECTION_MIN_CONFIDENCE       0.9\n",
            "DETECTION_NMS_THRESHOLD        0.3\n",
            "FPN_CLASSIF_FC_LAYERS_SIZE     1024\n",
            "GPU_COUNT                      1\n",
            "GRADIENT_CLIP_NORM             5.0\n",
            "IMAGES_PER_GPU                 3\n",
            "IMAGE_CHANNEL_COUNT            3\n",
            "IMAGE_MAX_DIM                  1024\n",
            "IMAGE_META_SIZE                14\n",
            "IMAGE_MIN_DIM                  800\n",
            "IMAGE_MIN_SCALE                0\n",
            "IMAGE_RESIZE_MODE              square\n",
            "IMAGE_SHAPE                    [1024 1024    3]\n",
            "LEARNING_MOMENTUM              0.9\n",
            "LEARNING_RATE                  0.001\n",
            "LOSS_WEIGHTS                   {'rpn_class_loss': 1.0, 'rpn_bbox_loss': 1.0, 'mrcnn_class_loss': 1.0, 'mrcnn_bbox_loss': 1.0, 'mrcnn_mask_loss': 1.0}\n",
            "MASK_POOL_SIZE                 14\n",
            "MASK_SHAPE                     [28, 28]\n",
            "MAX_GT_INSTANCES               100\n",
            "MEAN_PIXEL                     [123.7 116.8 103.9]\n",
            "MINI_MASK_SHAPE                (56, 56)\n",
            "NAME                           damage\n",
            "NUM_CLASSES                    2\n",
            "POOL_SIZE                      7\n",
            "POST_NMS_ROIS_INFERENCE        1000\n",
            "POST_NMS_ROIS_TRAINING         2000\n",
            "PRE_NMS_LIMIT                  6000\n",
            "ROI_POSITIVE_RATIO             0.33\n",
            "RPN_ANCHOR_RATIOS              [0.5, 1, 2]\n",
            "RPN_ANCHOR_SCALES              (32, 64, 128, 256, 512)\n",
            "RPN_ANCHOR_STRIDE              1\n",
            "RPN_BBOX_STD_DEV               [0.1 0.1 0.2 0.2]\n",
            "RPN_NMS_THRESHOLD              0.7\n",
            "RPN_TRAIN_ANCHORS_PER_IMAGE    256\n",
            "STEPS_PER_EPOCH                100\n",
            "TOP_DOWN_PYRAMID_SIZE          256\n",
            "TRAIN_BN                       False\n",
            "TRAIN_ROIS_PER_IMAGE           200\n",
            "USE_MINI_MASK                  True\n",
            "USE_RPN_ROIS                   True\n",
            "VALIDATION_STEPS               50\n",
            "WEIGHT_DECAY                   0.0001\n",
            "\n",
            "\n",
            "frame_count :1\n",
            "frame_count :2\n",
            "frame_count :3\n",
            "Predicted\n",
            "NO INSTANCES TO DISPLAY\n",
            "writing to file:/content/Mask_RCNN/videos/save/IMG_4991.JPG\n",
            "\n",
            "*** No instances in image /content/Mask_RCNN/videos/save/IMG_4991.JPG to draw *** \n",
            "\n",
            "writing to file:/content/Mask_RCNN/videos/save/IMG_4991.JPG\n",
            "class_id value is 1\n",
            "counter for the class ID 1\n",
            "area is 2782\n",
            "class_id value is 1\n",
            "counter for the class ID 2\n",
            "area is 480\n",
            "[1 1] [0.9465731 0.9083993]\n",
            "[2782, 480]\n",
            "image_name is /content/Mask_RCNN/videos/save/IMG_4991.JPG\n",
            "image name is IMG_4991.JPG\n",
            "avi96 [2782, 480]\n",
            "New Name file is [2782, 480]-[0.9465731 0.9083993].jpg\n",
            "save_dir is /content/Mask_RCNN/videos/save\n",
            "file Saved [2782, 480]-[0.9465731 0.9083993].jpg\n",
            "writing to file:/content/Mask_RCNN/videos/save/IMG_4991.JPG\n",
            "class_id value is 1\n",
            "counter for the class ID 1\n",
            "area is 7224\n",
            "[1] [0.9339031]\n",
            "[7224]\n",
            "image_name is /content/Mask_RCNN/videos/save/IMG_4991.JPG\n",
            "image name is IMG_4991.JPG\n",
            "avi96 [7224]\n",
            "New Name file is [7224]-[0.9339031].jpg\n",
            "save_dir is /content/Mask_RCNN/videos/save\n",
            "file Saved [7224]-[0.9339031].jpg\n",
            "clear\n",
            "frame_count :4\n",
            "frame_count :5\n",
            "frame_count :6\n",
            "Predicted\n",
            "writing to file:/content/Mask_RCNN/videos/save/p04y8h27.jpg\n",
            "class_id value is 1\n",
            "counter for the class ID 1\n",
            "area is 465\n",
            "class_id value is 1\n",
            "counter for the class ID 2\n",
            "area is 2673\n",
            "[1 1] [0.9494648  0.94771487]\n",
            "[465, 2673]\n",
            "image_name is /content/Mask_RCNN/videos/save/p04y8h27.jpg\n",
            "image name is p04y8h27.jpg\n",
            "avi96 [465, 2673]\n",
            "New Name file is [465, 2673]-[0.9494648  0.94771487].jpg\n",
            "save_dir is /content/Mask_RCNN/videos/save\n",
            "file Saved [465, 2673]-[0.9494648  0.94771487].jpg\n",
            "NO INSTANCES TO DISPLAY\n",
            "writing to file:/content/Mask_RCNN/videos/save/p04y8h27.jpg\n",
            "\n",
            "*** No instances in image /content/Mask_RCNN/videos/save/p04y8h27.jpg to draw *** \n",
            "\n",
            "writing to file:/content/Mask_RCNN/videos/save/p04y8h27.jpg\n",
            "class_id value is 1\n",
            "counter for the class ID 1\n",
            "area is 1768\n",
            "[1] [0.9158421]\n",
            "[1768]\n",
            "image_name is /content/Mask_RCNN/videos/save/p04y8h27.jpg\n",
            "image name is p04y8h27.jpg\n",
            "avi96 [1768]\n",
            "New Name file is [1768]-[0.9158421].jpg\n",
            "save_dir is /content/Mask_RCNN/videos/save\n",
            "file Saved [1768]-[0.9158421].jpg\n",
            "clear\n",
            "frame_count :7\n",
            "frame_count :8\n",
            "Success, check the folder\n"
          ],
          "name": "stdout"
        },
        {
          "output_type": "execute_result",
          "data": {
            "text/plain": [
              "\"\\n    ## Code for the video section\\n    frames = []\\n    frame_count = 0\\n    # these 2 lines can be removed if you dont have a 1080p camera.\\n    capture.set(cv2.CAP_PROP_FRAME_WIDTH, 1920)\\n    capture.set(cv2.CAP_PROP_FRAME_HEIGHT, 1080)\\n\\n\\n    while True:\\n        ret, frame = capture.read()\\n        # Bail out when the video file ends\\n        if not ret:\\n            break\\n\\n        # Save each frame of the video to a list\\n        frame_count += 1\\n        frames.append(frame)\\n        print('frame_count :{0}'.format(frame_count))\\n        if len(frames) == batch_size:\\n            results = model.detect(frames, verbose=0)\\n            print('Predicted')\\n            for i, item in enumerate(zip(frames, results)):\\n                frame = item[0]\\n                r = item[1]\\n                frame = display_instances(\\n                    frame, r['rois'], r['masks'], r['class_ids'], class_names, r['scores']\\n                )\\n#                 name = '{0}.jpg'.format(frame_count + i - batch_size)\\n#                 name = os.path.join(VIDEO_SAVE_DIR, name)\\n#                 cv2.imwrite(name, frame)\\n#                 print('writing to file:{0}'.format(name))\\n                ## add visualise files\\n#                 visualize.display_instances(image, r['rois'], r['masks'], r['class_ids'],\\n#                             class_names, r['scores'])\\n                save_image(image, name, r['rois'], r['masks'], r['class_ids'],\\n                                     r['scores'],class_names, save_dir=VIDEO_SAVE_DIR, mode=0)\\n#                 print(r['class_ids'], r['scores'])\\n\\n            # Clear the frames array to start the next batch\\n            frames = []\\n\\n    capture.release()\\n\""
            ]
          },
          "metadata": {
            "tags": []
          },
          "execution_count": 117
        }
      ]
    },
    {
      "metadata": {
        "id": "85-4lWjl8kAd",
        "colab_type": "code",
        "outputId": "27364f86-a3a4-4d27-f9e0-6c5bc0226865",
        "colab": {
          "base_uri": "https://localhost:8080/",
          "height": 85
        }
      },
      "cell_type": "code",
      "source": [
        "!ls"
      ],
      "execution_count": 0,
      "outputs": [
        {
          "output_type": "stream",
          "text": [
            "assets\t      custom.py  logs\t\t     mrcnn\t       samples\n",
            "build\t      dist\t __MACOSX\t     __pycache__       setup.cfg\n",
            "combined      images\t MANIFEST.in\t     README.md\t       setup.py\n",
            "customImages  LICENSE\t mask_rcnn.egg-info  requirements.txt  videos\n"
          ],
          "name": "stdout"
        }
      ]
    },
    {
      "metadata": {
        "id": "F8MRF4Bx8meE",
        "colab_type": "code",
        "outputId": "34553cf5-8ce9-431d-df78-fa6232a33434",
        "colab": {
          "base_uri": "https://localhost:8080/",
          "height": 85
        }
      },
      "cell_type": "code",
      "source": [
        "!ls /content/Mask_RCNN/videos/save/"
      ],
      "execution_count": 0,
      "outputs": [
        {
          "output_type": "stream",
          "text": [
            "'[1768]-[0.9158421].jpg'\n",
            "'[2782, 480]-[0.9465731 0.9083993].jpg'\n",
            "'[465, 2673]-[0.9494648  0.94771487].jpg'\n",
            "'[7224]-[0.9339031].jpg'\n"
          ],
          "name": "stdout"
        }
      ]
    },
    {
      "metadata": {
        "id": "EZh7pPxb_Kl_",
        "colab_type": "code",
        "colab": {}
      },
      "cell_type": "code",
      "source": [
        ""
      ],
      "execution_count": 0,
      "outputs": []
    }
  ]
}